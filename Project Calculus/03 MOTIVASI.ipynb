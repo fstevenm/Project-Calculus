{
 "cells": [
  {
   "cell_type": "code",
   "execution_count": 2,
   "id": "12a1233b",
   "metadata": {},
   "outputs": [
    {
     "data": {
      "text/html": [
       "<pre style=\"white-space:pre;overflow-x:auto;line-height:normal;font-family:Menlo,'DejaVu Sans Mono',consolas,'Courier New',monospace\">Manim Community <span style=\"color: #008000; text-decoration-color: #008000\">v0.11.0</span>\n",
       "\n",
       "</pre>\n"
      ],
      "text/plain": [
       "Manim Community \u001b[32mv0.\u001b[0m\u001b[32m11.0\u001b[0m\n",
       "\n"
      ]
     },
     "metadata": {},
     "output_type": "display_data"
    }
   ],
   "source": [
    "from manim import *\n",
    "import numpy as np"
   ]
  },
  {
   "cell_type": "code",
   "execution_count": 3,
   "id": "2f900751",
   "metadata": {},
   "outputs": [],
   "source": [
    "class motivasi_3(MovingCameraScene):\n",
    "    def construct(self):\n",
    "        axes = Axes(\n",
    "            x_range=[-3, 4],\n",
    "            y_range=[-2, 10],\n",
    "            x_length=6,\n",
    "            axis_config={\"color\": WHITE},\n",
    "        )\n",
    "        #).add_coordinates()\n",
    "#         axes_0.add_coordinates(font_size=10, num_decimal_places=1)\n",
    "        axes.add_coordinates(font_size=25)\n",
    "        labels = axes.get_axis_labels(x_label='x', y_label='y').set_color(WHITE)\n",
    "        #self.add(labels)\n",
    "\n",
    "        \n",
    "        ''''''\n",
    "        baris_ke12 = Text('Tentukan persamaan garis singgung',font = 'Arial').scale(0.5)\n",
    "        baris_ke12_samping = MathTex('y=x^2').scale(0.9)              \n",
    "        baris_ke12_samping2 = Text('di titik',font = 'Arial').scale(0.5)\n",
    "        baris_ke12_samping3 = MathTex('P(1,1)').scale(0.7)\n",
    "        penyelesaian = Text('Penyelesaian:',\n",
    "                        font = 'Arial',\n",
    "                        t2w = {'Penyelesaian:':BOLD}).scale(0.5)\n",
    "        tambahan = Text('Kita dapat menentukan persamaan garis singgung ketika kita tahu gradien dari garis',\n",
    "                        font = 'Arial').scale(0.5)\n",
    "        tambahan_2 = Text('Kesulitannya adalah kita hanya tahu satu titik P pada kurva,',\n",
    "                        font = 'Arial',\n",
    "                        t2s = {'P':ITALIC}).scale(0.5)\n",
    "        tambahan_3 = Text('sementara untuk menghitung gradien kita memerlukan dua titik',\n",
    "                        font = 'Arial').scale(0.5)\n",
    "        \n",
    "\n",
    "        baris_ke13 = Text('Berikut illustrasi grafik:',font = 'Arial').scale(0.5)\n",
    "        baris_ke14 = Text('Misalkan terdapat titik',font = 'Arial').scale(0.5)\n",
    "        baris_ke14_samping = MathTex('Q(x,x^2)').scale(0.7)\n",
    "        baris_ke15 = Text('Misalkan pula', font = 'Arial').scale(0.5)\n",
    "        baris_ke15_samping =  MathTex('x=1.5').scale(0.7)\n",
    "        baris_ke16 = MathTex('m_{PQ} =\\\\frac{2.25-1}{1.5-1}\\n=\\\\frac{1.25}{0.5}=2.5').scale(0.7)\n",
    "        selanjutnya = Text('Selanjutnya, akan diillustrasikan untuk beberapa titik mendekati titik P ',\n",
    "                           font = 'Arial',t2s = {'P':ITALIC}).scale(0.5)\n",
    "\n",
    "        \n",
    "        ''' BANGUN '''\n",
    "        kosong = Text(\"\")\n",
    "        kotak = RoundedRectangle(height = 1.2, width = 5.25 )\n",
    "        kotak.to_corner(np.array([2.4,-5.6,0]))\n",
    "        \n",
    "        f = lambda x: x**2\n",
    "        grafik = axes.get_graph(f, color = WHITE,x_range=[-3, 3])\n",
    "        grafik_label = axes.get_graph_label(grafik, label=MathTex('y=x^2'), x_val=2.7, direction=UR).scale(0.8)\n",
    "        grafik.set_stroke(width = 2)\n",
    "        \n",
    "        gs_1 = Line(axes.coords_to_point(0,-1),\n",
    "                    axes.coords_to_point(2,3),\n",
    "                    color = YELLOW, buff=2)\n",
    "        gs_1.set_stroke(width = 1.7)\n",
    "        \n",
    "        \n",
    "#         alpha = ValueTracker(1)\n",
    "#         gs_1 = (lambda: TangentLine(grafik, alpha.get_value(), color=YELLOW))\n",
    "#         gs_1 = always_redraw(gs_1)  \n",
    "\n",
    "        ''' LETAK '''\n",
    "        baris_ke12.to_corner(np.array([-1.5,5,0]))\n",
    "        baris_ke12_samping.to_corner(np.array([-12.2,4.65,0]))\n",
    "        baris_ke12_samping2.to_corner(np.array([-14.95,5,0]))\n",
    "        baris_ke12_samping3.to_corner(np.array([-16.85,4.93,0]))\n",
    "        \n",
    "        grup_12 = VGroup(baris_ke12,baris_ke12_samping,\n",
    "                         baris_ke12_samping2,baris_ke12_samping3)\n",
    "        grup_12.generate_target()\n",
    "        grup_12.target.move_to(np.array([-2.05,3.2,0]))\n",
    "        penyelesaian.to_corner(np.array([-1.5,6,0]))\n",
    "        tambahan.to_corner(np.array([-1.5,7,0]))\n",
    "        tambahan_2.to_corner(np.array([-1.5,8,0]))\n",
    "        tambahan_3.to_corner(np.array([-1.5,9,0]))\n",
    "        \n",
    "        \n",
    "        baris_ke13.to_corner(np.array([-1.5,2.5,0]))\n",
    "        baris_ke14.to_corner(np.array([-1.5,1.5,0]))\n",
    "        baris_ke14_samping.to_corner(np.array([-8.2,1.35,0]))\n",
    "        baris_ke15.to_corner(np.array([-1.5,2.5,0]))\n",
    "        baris_ke15_samping.to_corner(np.array([-5.7,2.45,0]))\n",
    "        baris_ke16.to_corner(np.array([3,-6,0]))\n",
    "        \n",
    "            \n",
    "        titik_2 = Dot(axes.coords_to_point(1,1),color = YELLOW).scale(0.4)\n",
    "        titik_3 = Dot(axes.coords_to_point(1.5,2.25),color = ORANGE).scale(0.4)\n",
    "        titik_4 = Dot(axes.coords_to_point(1.25,f(1.25)),color = WHITE).scale(0.0001)\n",
    "        nama_titik_2 = MathTex('\\\\bold P(1,1)', color = YELLOW).scale(0.5) \n",
    "        nama_titik_3 = MathTex('\\\\bold Q(1.5,2.25)', color = ORANGE).scale(0.5)\n",
    "        nama_titik_2.next_to(titik_2,RIGHT)\n",
    "        nama_titik_3.next_to(titik_3,RIGHT)\n",
    "        \n",
    "        \n",
    "        self.camera.background_color = \"#1e3264\"\n",
    "        \n",
    "        \n",
    "        '''play'''\n",
    "        self.play(Create(grup_12))\n",
    "        self.wait(1)\n",
    "        self.play(Write(penyelesaian))\n",
    "        self.play(Write(tambahan))\n",
    "        self.play(Write(tambahan_2))\n",
    "        self.play(Write(tambahan_3))\n",
    "        self.wait(2)\n",
    "        self.play(FadeOut(tambahan,penyelesaian),\n",
    "                  FadeOut(tambahan_2, tambahan_3),\n",
    "                  MoveToTarget(grup_12))\n",
    "        self.wait(0.5)\n",
    "        self.play(Write(baris_ke13))\n",
    "        self.wait(1)\n",
    "        \n",
    "        grup_G = VGroup (axes, labels, grafik, grafik_label, titik_2, nama_titik_2,\n",
    "                         titik_3, nama_titik_3,titik_4, gs_1).scale(0.9)\n",
    "        grup_G.move_to(np.array([0,-0.5,0]))\n",
    "        \n",
    "        self.play(Write(axes))\n",
    "        self.play(Create(labels))\n",
    "        self.wait(1)\n",
    "        self.play(Create(grafik))\n",
    "        self.play(Write(grafik_label))\n",
    "        self.wait(1)\n",
    "        \n",
    "        grup_T2 = VGroup(titik_2, nama_titik_2)\n",
    "        self.play(Create(grup_T2))\n",
    "        self.wait(1)\n",
    "                \n",
    "        self.play(self.camera.frame.animate.move_to(titik_2).set(width=titik_2.width*50))\n",
    "        self.wait(1)\n",
    "        \n",
    "        self.play(Create(gs_1))\n",
    "        self.wait(1)\n",
    "        \n",
    "        self.play(self.camera.frame.animate.move_to(ORIGIN).set(width=14))\n",
    "        self.wait(1)\n",
    "        \n",
    "        grup_14 = VGroup(baris_ke14, baris_ke14_samping)\n",
    "        self.play(FadeOut(grup_12, target_position = baris_ke13),\n",
    "                  ReplacementTransform(baris_ke13, grup_14))\n",
    "        self.wait(1.5)\n",
    "        \n",
    "        grup_15 = VGroup(baris_ke15, baris_ke15_samping)\n",
    "        self.wait(1)\n",
    "        self.play(Write(grup_15))\n",
    "        self.wait(1)\n",
    "        \n",
    "        grup_T3 = VGroup(titik_3, nama_titik_3)\n",
    "        self.play(Create(grup_T3), FadeOut(gs_1))\n",
    "        self.wait(1)\n",
    "        \n",
    "        \n",
    "        ''' Pindah posisi'''\n",
    "        #grup_grafik.move_to(np.array([-1,3.425,0]))\n",
    "        \n",
    "        grup_G2 = VGroup (axes, labels, grafik, grafik_label, titik_2, nama_titik_2,\n",
    "                         titik_3, nama_titik_3,titik_4).scale(1)\n",
    "        grup_G2.generate_target()\n",
    "        grup_G2.target.move_to(np.array([-2.9,0,0]))\n",
    "        \n",
    "        grup_14_15 = VGroup(grup_14,grup_15)\n",
    "        grup_14_15.generate_target()\n",
    "        grup_14_15.target.to_corner(np.array([3,4,0]))\n",
    "\n",
    "        self.play(ScaleInPlace(grup_G2, 0.7),MoveToTarget(grup_G2),MoveToTarget(grup_14_15))\n",
    "        self.wait(1)\n",
    "        \n",
    "        self.play(Write(baris_ke16))\n",
    "        self.play(Create(kotak))\n",
    "        self.wait(1)\n",
    "        \n",
    "        self.play(self.camera.frame.animate.move_to(titik_4).set(width=1.3))\n",
    "        self.wait(1)\n",
    "        \n",
    "        gs_2 = Line(axes.coords_to_point(1,f(1)),\n",
    "                    axes.coords_to_point(1.5,f(1.5)),\n",
    "                    color = YELLOW, buff=2.5).scale(2)\n",
    "        gs_2.set_stroke(width = 1.7)\n",
    "        self.play(Create(gs_2))\n",
    "        self.wait(1)\n",
    "        \n",
    "        grup_H = VGroup(grup_G2, gs_2, baris_ke16, kotak, grup_14_15)\n",
    "        self.play(ReplacementTransform(grup_H, selanjutnya),self.camera.frame.animate.move_to(ORIGIN).set(width=14))\n",
    "        self.wait(1)\n",
    "        self.play(FadeOut(selanjutnya))\n",
    "        self.wait(1)"
   ]
  },
  {
   "cell_type": "code",
   "execution_count": 4,
   "id": "811b31a7",
   "metadata": {},
   "outputs": [
    {
     "data": {
      "text/html": [
       "<pre style=\"white-space:pre;overflow-x:auto;line-height:normal;font-family:Menlo,'DejaVu Sans Mono',consolas,'Courier New',monospace\"><span style=\"color: #7fbfbf; text-decoration-color: #7fbfbf\">[11/18/21 12:17:08] </span><span style=\"color: #008000; text-decoration-color: #008000\">INFO    </span> Animation <span style=\"color: #008000; text-decoration-color: #008000\">0</span> : Using cached data <span style=\"font-weight: bold\">(</span>hash :    <a href=\"file://C:\\Users\\Zirito\\anaconda3\\envs\\manim\\lib\\site-packages\\manim\\renderer\\cairo_renderer.py\"><span style=\"color: #7f7f7f; text-decoration-color: #7f7f7f\">cairo_renderer.py</span></a><span style=\"color: #7f7f7f; text-decoration-color: #7f7f7f\">:110</span>\n",
       "                             759734782_2126487274_1240453128<span style=\"font-weight: bold\">)</span>                                \n",
       "</pre>\n"
      ],
      "text/plain": [
       "\u001b[2;36m[11/18/21 12:17:08]\u001b[0m\u001b[2;36m \u001b[0m\u001b[32mINFO    \u001b[0m Animation \u001b[32m0\u001b[0m : Using cached data \u001b[1m(\u001b[0mhash :    \u001b]8;id=674773;file://C:\\Users\\Zirito\\anaconda3\\envs\\manim\\lib\\site-packages\\manim\\renderer\\cairo_renderer.py\u001b\\\u001b[2mcairo_renderer.py\u001b[0m\u001b]8;;\u001b\\\u001b[2m:110\u001b[0m\n",
       "                             759734782_2126487274_1240453128\u001b[1m)\u001b[0m                                \n"
      ]
     },
     "metadata": {},
     "output_type": "display_data"
    },
    {
     "name": "stderr",
     "output_type": "stream",
     "text": [
      "                                                                                                                       \r"
     ]
    },
    {
     "data": {
      "text/html": [
       "<pre style=\"white-space:pre;overflow-x:auto;line-height:normal;font-family:Menlo,'DejaVu Sans Mono',consolas,'Courier New',monospace\"><span style=\"color: #7fbfbf; text-decoration-color: #7fbfbf\">[11/18/21 12:17:10] </span><span style=\"color: #008000; text-decoration-color: #008000\">INFO    </span> Animation <span style=\"color: #008000; text-decoration-color: #008000\">1</span> : Using cached data <span style=\"font-weight: bold\">(</span>hash :    <a href=\"file://C:\\Users\\Zirito\\anaconda3\\envs\\manim\\lib\\site-packages\\manim\\renderer\\cairo_renderer.py\"><span style=\"color: #7f7f7f; text-decoration-color: #7f7f7f\">cairo_renderer.py</span></a><span style=\"color: #7f7f7f; text-decoration-color: #7f7f7f\">:110</span>\n",
       "                             3930506391_2839631542_71681258<span style=\"font-weight: bold\">)</span>                                 \n",
       "</pre>\n"
      ],
      "text/plain": [
       "\u001b[2;36m[11/18/21 12:17:10]\u001b[0m\u001b[2;36m \u001b[0m\u001b[32mINFO    \u001b[0m Animation \u001b[32m1\u001b[0m : Using cached data \u001b[1m(\u001b[0mhash :    \u001b]8;id=668265;file://C:\\Users\\Zirito\\anaconda3\\envs\\manim\\lib\\site-packages\\manim\\renderer\\cairo_renderer.py\u001b\\\u001b[2mcairo_renderer.py\u001b[0m\u001b]8;;\u001b\\\u001b[2m:110\u001b[0m\n",
       "                             3930506391_2839631542_71681258\u001b[1m)\u001b[0m                                 \n"
      ]
     },
     "metadata": {},
     "output_type": "display_data"
    },
    {
     "data": {
      "text/html": [
       "<pre style=\"white-space:pre;overflow-x:auto;line-height:normal;font-family:Menlo,'DejaVu Sans Mono',consolas,'Courier New',monospace\"><span style=\"color: #7fbfbf; text-decoration-color: #7fbfbf\">[11/18/21 12:17:12] </span><span style=\"color: #008000; text-decoration-color: #008000\">INFO    </span> Animation <span style=\"color: #008000; text-decoration-color: #008000\">2</span> : Using cached data <span style=\"font-weight: bold\">(</span>hash :    <a href=\"file://C:\\Users\\Zirito\\anaconda3\\envs\\manim\\lib\\site-packages\\manim\\renderer\\cairo_renderer.py\"><span style=\"color: #7f7f7f; text-decoration-color: #7f7f7f\">cairo_renderer.py</span></a><span style=\"color: #7f7f7f; text-decoration-color: #7f7f7f\">:110</span>\n",
       "                             3930506391_3622752831_2889014989<span style=\"font-weight: bold\">)</span>                               \n",
       "</pre>\n"
      ],
      "text/plain": [
       "\u001b[2;36m[11/18/21 12:17:12]\u001b[0m\u001b[2;36m \u001b[0m\u001b[32mINFO    \u001b[0m Animation \u001b[32m2\u001b[0m : Using cached data \u001b[1m(\u001b[0mhash :    \u001b]8;id=436087;file://C:\\Users\\Zirito\\anaconda3\\envs\\manim\\lib\\site-packages\\manim\\renderer\\cairo_renderer.py\u001b\\\u001b[2mcairo_renderer.py\u001b[0m\u001b]8;;\u001b\\\u001b[2m:110\u001b[0m\n",
       "                             3930506391_3622752831_2889014989\u001b[1m)\u001b[0m                               \n"
      ]
     },
     "metadata": {},
     "output_type": "display_data"
    },
    {
     "name": "stderr",
     "output_type": "stream",
     "text": [
      "                                                                                                                       \r"
     ]
    },
    {
     "data": {
      "text/html": [
       "<pre style=\"white-space:pre;overflow-x:auto;line-height:normal;font-family:Menlo,'DejaVu Sans Mono',consolas,'Courier New',monospace\"><span style=\"color: #7fbfbf; text-decoration-color: #7fbfbf\">[11/18/21 12:17:16] </span><span style=\"color: #008000; text-decoration-color: #008000\">INFO    </span> Animation <span style=\"color: #008000; text-decoration-color: #008000\">3</span> : Using cached data <span style=\"font-weight: bold\">(</span>hash :    <a href=\"file://C:\\Users\\Zirito\\anaconda3\\envs\\manim\\lib\\site-packages\\manim\\renderer\\cairo_renderer.py\"><span style=\"color: #7f7f7f; text-decoration-color: #7f7f7f\">cairo_renderer.py</span></a><span style=\"color: #7f7f7f; text-decoration-color: #7f7f7f\">:110</span>\n",
       "                             3930506391_673558366_450684976<span style=\"font-weight: bold\">)</span>                                 \n",
       "</pre>\n"
      ],
      "text/plain": [
       "\u001b[2;36m[11/18/21 12:17:16]\u001b[0m\u001b[2;36m \u001b[0m\u001b[32mINFO    \u001b[0m Animation \u001b[32m3\u001b[0m : Using cached data \u001b[1m(\u001b[0mhash :    \u001b]8;id=58485;file://C:\\Users\\Zirito\\anaconda3\\envs\\manim\\lib\\site-packages\\manim\\renderer\\cairo_renderer.py\u001b\\\u001b[2mcairo_renderer.py\u001b[0m\u001b]8;;\u001b\\\u001b[2m:110\u001b[0m\n",
       "                             3930506391_673558366_450684976\u001b[1m)\u001b[0m                                 \n"
      ]
     },
     "metadata": {},
     "output_type": "display_data"
    },
    {
     "name": "stderr",
     "output_type": "stream",
     "text": [
      "                                                                                                                       \r"
     ]
    },
    {
     "data": {
      "text/html": [
       "<pre style=\"white-space:pre;overflow-x:auto;line-height:normal;font-family:Menlo,'DejaVu Sans Mono',consolas,'Courier New',monospace\"><span style=\"color: #7fbfbf; text-decoration-color: #7fbfbf\">[11/18/21 12:17:20] </span><span style=\"color: #008000; text-decoration-color: #008000\">INFO    </span> Animation <span style=\"color: #008000; text-decoration-color: #008000\">4</span> : Using cached data <span style=\"font-weight: bold\">(</span>hash :    <a href=\"file://C:\\Users\\Zirito\\anaconda3\\envs\\manim\\lib\\site-packages\\manim\\renderer\\cairo_renderer.py\"><span style=\"color: #7f7f7f; text-decoration-color: #7f7f7f\">cairo_renderer.py</span></a><span style=\"color: #7f7f7f; text-decoration-color: #7f7f7f\">:110</span>\n",
       "                             3930506391_1664356677_4214939495<span style=\"font-weight: bold\">)</span>                               \n",
       "</pre>\n"
      ],
      "text/plain": [
       "\u001b[2;36m[11/18/21 12:17:20]\u001b[0m\u001b[2;36m \u001b[0m\u001b[32mINFO    \u001b[0m Animation \u001b[32m4\u001b[0m : Using cached data \u001b[1m(\u001b[0mhash :    \u001b]8;id=878362;file://C:\\Users\\Zirito\\anaconda3\\envs\\manim\\lib\\site-packages\\manim\\renderer\\cairo_renderer.py\u001b\\\u001b[2mcairo_renderer.py\u001b[0m\u001b]8;;\u001b\\\u001b[2m:110\u001b[0m\n",
       "                             3930506391_1664356677_4214939495\u001b[1m)\u001b[0m                               \n"
      ]
     },
     "metadata": {},
     "output_type": "display_data"
    },
    {
     "name": "stderr",
     "output_type": "stream",
     "text": [
      "                                                                                                                       \r"
     ]
    },
    {
     "data": {
      "text/html": [
       "<pre style=\"white-space:pre;overflow-x:auto;line-height:normal;font-family:Menlo,'DejaVu Sans Mono',consolas,'Courier New',monospace\"><span style=\"color: #7fbfbf; text-decoration-color: #7fbfbf\">[11/18/21 12:17:24] </span><span style=\"color: #008000; text-decoration-color: #008000\">INFO    </span> Animation <span style=\"color: #008000; text-decoration-color: #008000\">5</span> : Using cached data <span style=\"font-weight: bold\">(</span>hash :    <a href=\"file://C:\\Users\\Zirito\\anaconda3\\envs\\manim\\lib\\site-packages\\manim\\renderer\\cairo_renderer.py\"><span style=\"color: #7f7f7f; text-decoration-color: #7f7f7f\">cairo_renderer.py</span></a><span style=\"color: #7f7f7f; text-decoration-color: #7f7f7f\">:110</span>\n",
       "                             3930506391_1938606685_3166059769<span style=\"font-weight: bold\">)</span>                               \n",
       "</pre>\n"
      ],
      "text/plain": [
       "\u001b[2;36m[11/18/21 12:17:24]\u001b[0m\u001b[2;36m \u001b[0m\u001b[32mINFO    \u001b[0m Animation \u001b[32m5\u001b[0m : Using cached data \u001b[1m(\u001b[0mhash :    \u001b]8;id=937560;file://C:\\Users\\Zirito\\anaconda3\\envs\\manim\\lib\\site-packages\\manim\\renderer\\cairo_renderer.py\u001b\\\u001b[2mcairo_renderer.py\u001b[0m\u001b]8;;\u001b\\\u001b[2m:110\u001b[0m\n",
       "                             3930506391_1938606685_3166059769\u001b[1m)\u001b[0m                               \n"
      ]
     },
     "metadata": {},
     "output_type": "display_data"
    },
    {
     "name": "stderr",
     "output_type": "stream",
     "text": [
      "                                                                                                                       \r"
     ]
    },
    {
     "data": {
      "text/html": [
       "<pre style=\"white-space:pre;overflow-x:auto;line-height:normal;font-family:Menlo,'DejaVu Sans Mono',consolas,'Courier New',monospace\"><span style=\"color: #7fbfbf; text-decoration-color: #7fbfbf\">[11/18/21 12:17:28] </span><span style=\"color: #008000; text-decoration-color: #008000\">INFO    </span> Animation <span style=\"color: #008000; text-decoration-color: #008000\">6</span> : Using cached data <span style=\"font-weight: bold\">(</span>hash :    <a href=\"file://C:\\Users\\Zirito\\anaconda3\\envs\\manim\\lib\\site-packages\\manim\\renderer\\cairo_renderer.py\"><span style=\"color: #7f7f7f; text-decoration-color: #7f7f7f\">cairo_renderer.py</span></a><span style=\"color: #7f7f7f; text-decoration-color: #7f7f7f\">:110</span>\n",
       "                             3930506391_2559461702_98702564<span style=\"font-weight: bold\">)</span>                                 \n",
       "</pre>\n"
      ],
      "text/plain": [
       "\u001b[2;36m[11/18/21 12:17:28]\u001b[0m\u001b[2;36m \u001b[0m\u001b[32mINFO    \u001b[0m Animation \u001b[32m6\u001b[0m : Using cached data \u001b[1m(\u001b[0mhash :    \u001b]8;id=980048;file://C:\\Users\\Zirito\\anaconda3\\envs\\manim\\lib\\site-packages\\manim\\renderer\\cairo_renderer.py\u001b\\\u001b[2mcairo_renderer.py\u001b[0m\u001b]8;;\u001b\\\u001b[2m:110\u001b[0m\n",
       "                             3930506391_2559461702_98702564\u001b[1m)\u001b[0m                                 \n"
      ]
     },
     "metadata": {},
     "output_type": "display_data"
    },
    {
     "data": {
      "text/html": [
       "<pre style=\"white-space:pre;overflow-x:auto;line-height:normal;font-family:Menlo,'DejaVu Sans Mono',consolas,'Courier New',monospace\"><span style=\"color: #7fbfbf; text-decoration-color: #7fbfbf\">[11/18/21 12:17:31] </span><span style=\"color: #008000; text-decoration-color: #008000\">INFO    </span> Animation <span style=\"color: #008000; text-decoration-color: #008000\">7</span> : Using cached data <span style=\"font-weight: bold\">(</span>hash :    <a href=\"file://C:\\Users\\Zirito\\anaconda3\\envs\\manim\\lib\\site-packages\\manim\\renderer\\cairo_renderer.py\"><span style=\"color: #7f7f7f; text-decoration-color: #7f7f7f\">cairo_renderer.py</span></a><span style=\"color: #7f7f7f; text-decoration-color: #7f7f7f\">:110</span>\n",
       "                             3930506391_212731607_3764927225<span style=\"font-weight: bold\">)</span>                                \n",
       "</pre>\n"
      ],
      "text/plain": [
       "\u001b[2;36m[11/18/21 12:17:31]\u001b[0m\u001b[2;36m \u001b[0m\u001b[32mINFO    \u001b[0m Animation \u001b[32m7\u001b[0m : Using cached data \u001b[1m(\u001b[0mhash :    \u001b]8;id=697729;file://C:\\Users\\Zirito\\anaconda3\\envs\\manim\\lib\\site-packages\\manim\\renderer\\cairo_renderer.py\u001b\\\u001b[2mcairo_renderer.py\u001b[0m\u001b]8;;\u001b\\\u001b[2m:110\u001b[0m\n",
       "                             3930506391_212731607_3764927225\u001b[1m)\u001b[0m                                \n"
      ]
     },
     "metadata": {},
     "output_type": "display_data"
    },
    {
     "name": "stderr",
     "output_type": "stream",
     "text": [
      "                                                                                                                       \r"
     ]
    },
    {
     "data": {
      "text/html": [
       "<pre style=\"white-space:pre;overflow-x:auto;line-height:normal;font-family:Menlo,'DejaVu Sans Mono',consolas,'Courier New',monospace\"><span style=\"color: #7fbfbf; text-decoration-color: #7fbfbf\">[11/18/21 12:17:33] </span><span style=\"color: #008000; text-decoration-color: #008000\">INFO    </span> Animation <span style=\"color: #008000; text-decoration-color: #008000\">8</span> : Using cached data <span style=\"font-weight: bold\">(</span>hash :    <a href=\"file://C:\\Users\\Zirito\\anaconda3\\envs\\manim\\lib\\site-packages\\manim\\renderer\\cairo_renderer.py\"><span style=\"color: #7f7f7f; text-decoration-color: #7f7f7f\">cairo_renderer.py</span></a><span style=\"color: #7f7f7f; text-decoration-color: #7f7f7f\">:110</span>\n",
       "                             3930506391_3233087817_3854803810<span style=\"font-weight: bold\">)</span>                               \n",
       "</pre>\n"
      ],
      "text/plain": [
       "\u001b[2;36m[11/18/21 12:17:33]\u001b[0m\u001b[2;36m \u001b[0m\u001b[32mINFO    \u001b[0m Animation \u001b[32m8\u001b[0m : Using cached data \u001b[1m(\u001b[0mhash :    \u001b]8;id=24720;file://C:\\Users\\Zirito\\anaconda3\\envs\\manim\\lib\\site-packages\\manim\\renderer\\cairo_renderer.py\u001b\\\u001b[2mcairo_renderer.py\u001b[0m\u001b]8;;\u001b\\\u001b[2m:110\u001b[0m\n",
       "                             3930506391_3233087817_3854803810\u001b[1m)\u001b[0m                               \n"
      ]
     },
     "metadata": {},
     "output_type": "display_data"
    },
    {
     "data": {
      "text/html": [
       "<pre style=\"white-space:pre;overflow-x:auto;line-height:normal;font-family:Menlo,'DejaVu Sans Mono',consolas,'Courier New',monospace\"><span style=\"color: #7fbfbf; text-decoration-color: #7fbfbf\">[11/18/21 12:17:35] </span><span style=\"color: #008000; text-decoration-color: #008000\">INFO    </span> Animation <span style=\"color: #008000; text-decoration-color: #008000\">9</span> : Using cached data <span style=\"font-weight: bold\">(</span>hash :    <a href=\"file://C:\\Users\\Zirito\\anaconda3\\envs\\manim\\lib\\site-packages\\manim\\renderer\\cairo_renderer.py\"><span style=\"color: #7f7f7f; text-decoration-color: #7f7f7f\">cairo_renderer.py</span></a><span style=\"color: #7f7f7f; text-decoration-color: #7f7f7f\">:110</span>\n",
       "                             3930506391_3235056475_4247370184<span style=\"font-weight: bold\">)</span>                               \n",
       "</pre>\n"
      ],
      "text/plain": [
       "\u001b[2;36m[11/18/21 12:17:35]\u001b[0m\u001b[2;36m \u001b[0m\u001b[32mINFO    \u001b[0m Animation \u001b[32m9\u001b[0m : Using cached data \u001b[1m(\u001b[0mhash :    \u001b]8;id=496393;file://C:\\Users\\Zirito\\anaconda3\\envs\\manim\\lib\\site-packages\\manim\\renderer\\cairo_renderer.py\u001b\\\u001b[2mcairo_renderer.py\u001b[0m\u001b]8;;\u001b\\\u001b[2m:110\u001b[0m\n",
       "                             3930506391_3235056475_4247370184\u001b[1m)\u001b[0m                               \n"
      ]
     },
     "metadata": {},
     "output_type": "display_data"
    },
    {
     "name": "stderr",
     "output_type": "stream",
     "text": [
      "                                                                                                                       \r"
     ]
    },
    {
     "data": {
      "text/html": [
       "<pre style=\"white-space:pre;overflow-x:auto;line-height:normal;font-family:Menlo,'DejaVu Sans Mono',consolas,'Courier New',monospace\"><span style=\"color: #7fbfbf; text-decoration-color: #7fbfbf\">[11/18/21 12:17:39] </span><span style=\"color: #008000; text-decoration-color: #008000\">INFO    </span> Animation <span style=\"color: #008000; text-decoration-color: #008000\">10</span> : Partial movie file       <a href=\"file://C:\\Users\\Zirito\\anaconda3\\envs\\manim\\lib\\site-packages\\manim\\scene\\scene_file_writer.py\"><span style=\"color: #7f7f7f; text-decoration-color: #7f7f7f\">scene_file_writer.py</span></a><span style=\"color: #7f7f7f; text-decoration-color: #7f7f7f\">:442</span>\n",
       "                             written in                                                      \n",
       "                             <span style=\"color: #008000; text-decoration-color: #008000\">'C:\\Users\\Zirito\\manim\\PROJEK </span>                                  \n",
       "                             <span style=\"color: #008000; text-decoration-color: #008000\">KALKULUS\\MOTIVASI FIX\\media\\videos\\moti</span>                         \n",
       "                             <span style=\"color: #008000; text-decoration-color: #008000\">vasi_3\\480p15\\partial_movie_files\\motiv</span>                         \n",
       "                             <span style=\"color: #008000; text-decoration-color: #008000\">asi_3\\3930506391_2148686299_210895277.m</span>                         \n",
       "                             <span style=\"color: #008000; text-decoration-color: #008000\">p4'</span>                                                             \n",
       "</pre>\n"
      ],
      "text/plain": [
       "\u001b[2;36m[11/18/21 12:17:39]\u001b[0m\u001b[2;36m \u001b[0m\u001b[32mINFO    \u001b[0m Animation \u001b[32m10\u001b[0m : Partial movie file       \u001b]8;id=398489;file://C:\\Users\\Zirito\\anaconda3\\envs\\manim\\lib\\site-packages\\manim\\scene\\scene_file_writer.py\u001b\\\u001b[2mscene_file_writer.py\u001b[0m\u001b]8;;\u001b\\\u001b[2m:442\u001b[0m\n",
       "                             written in                                                      \n",
       "                             \u001b[32m'C:\\Users\\Zirito\\manim\\PROJEK \u001b[0m                                  \n",
       "                             \u001b[32mKALKULUS\\MOTIVASI FIX\\media\\videos\\moti\u001b[0m                         \n",
       "                             \u001b[32mvasi_3\\480p15\\partial_movie_files\\motiv\u001b[0m                         \n",
       "                             \u001b[32masi_3\\3930506391_2148686299_210895277.m\u001b[0m                         \n",
       "                             \u001b[32mp4'\u001b[0m                                                             \n"
      ]
     },
     "metadata": {},
     "output_type": "display_data"
    },
    {
     "name": "stderr",
     "output_type": "stream",
     "text": [
      "                                                                                                                       \r"
     ]
    },
    {
     "data": {
      "text/html": [
       "<pre style=\"white-space:pre;overflow-x:auto;line-height:normal;font-family:Menlo,'DejaVu Sans Mono',consolas,'Courier New',monospace\"><span style=\"color: #7fbfbf; text-decoration-color: #7fbfbf\">[11/18/21 12:17:46] </span><span style=\"color: #008000; text-decoration-color: #008000\">INFO    </span> Animation <span style=\"color: #008000; text-decoration-color: #008000\">11</span> : Partial movie file       <a href=\"file://C:\\Users\\Zirito\\anaconda3\\envs\\manim\\lib\\site-packages\\manim\\scene\\scene_file_writer.py\"><span style=\"color: #7f7f7f; text-decoration-color: #7f7f7f\">scene_file_writer.py</span></a><span style=\"color: #7f7f7f; text-decoration-color: #7f7f7f\">:442</span>\n",
       "                             written in                                                      \n",
       "                             <span style=\"color: #008000; text-decoration-color: #008000\">'C:\\Users\\Zirito\\manim\\PROJEK </span>                                  \n",
       "                             <span style=\"color: #008000; text-decoration-color: #008000\">KALKULUS\\MOTIVASI FIX\\media\\videos\\moti</span>                         \n",
       "                             <span style=\"color: #008000; text-decoration-color: #008000\">vasi_3\\480p15\\partial_movie_files\\motiv</span>                         \n",
       "                             <span style=\"color: #008000; text-decoration-color: #008000\">asi_3\\3930506391_2279306363_227232905.m</span>                         \n",
       "                             <span style=\"color: #008000; text-decoration-color: #008000\">p4'</span>                                                             \n",
       "</pre>\n"
      ],
      "text/plain": [
       "\u001b[2;36m[11/18/21 12:17:46]\u001b[0m\u001b[2;36m \u001b[0m\u001b[32mINFO    \u001b[0m Animation \u001b[32m11\u001b[0m : Partial movie file       \u001b]8;id=660147;file://C:\\Users\\Zirito\\anaconda3\\envs\\manim\\lib\\site-packages\\manim\\scene\\scene_file_writer.py\u001b\\\u001b[2mscene_file_writer.py\u001b[0m\u001b]8;;\u001b\\\u001b[2m:442\u001b[0m\n",
       "                             written in                                                      \n",
       "                             \u001b[32m'C:\\Users\\Zirito\\manim\\PROJEK \u001b[0m                                  \n",
       "                             \u001b[32mKALKULUS\\MOTIVASI FIX\\media\\videos\\moti\u001b[0m                         \n",
       "                             \u001b[32mvasi_3\\480p15\\partial_movie_files\\motiv\u001b[0m                         \n",
       "                             \u001b[32masi_3\\3930506391_2279306363_227232905.m\u001b[0m                         \n",
       "                             \u001b[32mp4'\u001b[0m                                                             \n"
      ]
     },
     "metadata": {},
     "output_type": "display_data"
    },
    {
     "name": "stderr",
     "output_type": "stream",
     "text": [
      "                                                                                                                       \r"
     ]
    },
    {
     "data": {
      "text/html": [
       "<pre style=\"white-space:pre;overflow-x:auto;line-height:normal;font-family:Menlo,'DejaVu Sans Mono',consolas,'Courier New',monospace\"><span style=\"color: #7fbfbf; text-decoration-color: #7fbfbf\">[11/18/21 12:17:49] </span><span style=\"color: #008000; text-decoration-color: #008000\">INFO    </span> Animation <span style=\"color: #008000; text-decoration-color: #008000\">12</span> : Partial movie file       <a href=\"file://C:\\Users\\Zirito\\anaconda3\\envs\\manim\\lib\\site-packages\\manim\\scene\\scene_file_writer.py\"><span style=\"color: #7f7f7f; text-decoration-color: #7f7f7f\">scene_file_writer.py</span></a><span style=\"color: #7f7f7f; text-decoration-color: #7f7f7f\">:442</span>\n",
       "                             written in                                                      \n",
       "                             <span style=\"color: #008000; text-decoration-color: #008000\">'C:\\Users\\Zirito\\manim\\PROJEK </span>                                  \n",
       "                             <span style=\"color: #008000; text-decoration-color: #008000\">KALKULUS\\MOTIVASI FIX\\media\\videos\\moti</span>                         \n",
       "                             <span style=\"color: #008000; text-decoration-color: #008000\">vasi_3\\480p15\\partial_movie_files\\motiv</span>                         \n",
       "                             <span style=\"color: #008000; text-decoration-color: #008000\">asi_3\\3930506391_3119118709_934784442.m</span>                         \n",
       "                             <span style=\"color: #008000; text-decoration-color: #008000\">p4'</span>                                                             \n",
       "</pre>\n"
      ],
      "text/plain": [
       "\u001b[2;36m[11/18/21 12:17:49]\u001b[0m\u001b[2;36m \u001b[0m\u001b[32mINFO    \u001b[0m Animation \u001b[32m12\u001b[0m : Partial movie file       \u001b]8;id=410297;file://C:\\Users\\Zirito\\anaconda3\\envs\\manim\\lib\\site-packages\\manim\\scene\\scene_file_writer.py\u001b\\\u001b[2mscene_file_writer.py\u001b[0m\u001b]8;;\u001b\\\u001b[2m:442\u001b[0m\n",
       "                             written in                                                      \n",
       "                             \u001b[32m'C:\\Users\\Zirito\\manim\\PROJEK \u001b[0m                                  \n",
       "                             \u001b[32mKALKULUS\\MOTIVASI FIX\\media\\videos\\moti\u001b[0m                         \n",
       "                             \u001b[32mvasi_3\\480p15\\partial_movie_files\\motiv\u001b[0m                         \n",
       "                             \u001b[32masi_3\\3930506391_3119118709_934784442.m\u001b[0m                         \n",
       "                             \u001b[32mp4'\u001b[0m                                                             \n"
      ]
     },
     "metadata": {},
     "output_type": "display_data"
    },
    {
     "data": {
      "text/html": [
       "<pre style=\"white-space:pre;overflow-x:auto;line-height:normal;font-family:Menlo,'DejaVu Sans Mono',consolas,'Courier New',monospace\"><span style=\"color: #7fbfbf; text-decoration-color: #7fbfbf\">[11/18/21 12:17:51] </span><span style=\"color: #008000; text-decoration-color: #008000\">INFO    </span> Animation <span style=\"color: #008000; text-decoration-color: #008000\">13</span> : Using cached data <span style=\"font-weight: bold\">(</span>hash :   <a href=\"file://C:\\Users\\Zirito\\anaconda3\\envs\\manim\\lib\\site-packages\\manim\\renderer\\cairo_renderer.py\"><span style=\"color: #7f7f7f; text-decoration-color: #7f7f7f\">cairo_renderer.py</span></a><span style=\"color: #7f7f7f; text-decoration-color: #7f7f7f\">:110</span>\n",
       "                             3930506391_2839631542_1661301495<span style=\"font-weight: bold\">)</span>                               \n",
       "</pre>\n"
      ],
      "text/plain": [
       "\u001b[2;36m[11/18/21 12:17:51]\u001b[0m\u001b[2;36m \u001b[0m\u001b[32mINFO    \u001b[0m Animation \u001b[32m13\u001b[0m : Using cached data \u001b[1m(\u001b[0mhash :   \u001b]8;id=986644;file://C:\\Users\\Zirito\\anaconda3\\envs\\manim\\lib\\site-packages\\manim\\renderer\\cairo_renderer.py\u001b\\\u001b[2mcairo_renderer.py\u001b[0m\u001b]8;;\u001b\\\u001b[2m:110\u001b[0m\n",
       "                             3930506391_2839631542_1661301495\u001b[1m)\u001b[0m                               \n"
      ]
     },
     "metadata": {},
     "output_type": "display_data"
    },
    {
     "name": "stderr",
     "output_type": "stream",
     "text": [
      "                                                                                                                       \r"
     ]
    },
    {
     "data": {
      "text/html": [
       "<pre style=\"white-space:pre;overflow-x:auto;line-height:normal;font-family:Menlo,'DejaVu Sans Mono',consolas,'Courier New',monospace\"><span style=\"color: #7fbfbf; text-decoration-color: #7fbfbf\">[11/18/21 12:17:54] </span><span style=\"color: #008000; text-decoration-color: #008000\">INFO    </span> Animation <span style=\"color: #008000; text-decoration-color: #008000\">14</span> : Partial movie file       <a href=\"file://C:\\Users\\Zirito\\anaconda3\\envs\\manim\\lib\\site-packages\\manim\\scene\\scene_file_writer.py\"><span style=\"color: #7f7f7f; text-decoration-color: #7f7f7f\">scene_file_writer.py</span></a><span style=\"color: #7f7f7f; text-decoration-color: #7f7f7f\">:442</span>\n",
       "                             written in                                                      \n",
       "                             <span style=\"color: #008000; text-decoration-color: #008000\">'C:\\Users\\Zirito\\manim\\PROJEK </span>                                  \n",
       "                             <span style=\"color: #008000; text-decoration-color: #008000\">KALKULUS\\MOTIVASI FIX\\media\\videos\\moti</span>                         \n",
       "                             <span style=\"color: #008000; text-decoration-color: #008000\">vasi_3\\480p15\\partial_movie_files\\motiv</span>                         \n",
       "                             <span style=\"color: #008000; text-decoration-color: #008000\">asi_3\\3930506391_3672113495_3262483986.</span>                         \n",
       "                             <span style=\"color: #008000; text-decoration-color: #008000\">mp4'</span>                                                            \n",
       "</pre>\n"
      ],
      "text/plain": [
       "\u001b[2;36m[11/18/21 12:17:54]\u001b[0m\u001b[2;36m \u001b[0m\u001b[32mINFO    \u001b[0m Animation \u001b[32m14\u001b[0m : Partial movie file       \u001b]8;id=682332;file://C:\\Users\\Zirito\\anaconda3\\envs\\manim\\lib\\site-packages\\manim\\scene\\scene_file_writer.py\u001b\\\u001b[2mscene_file_writer.py\u001b[0m\u001b]8;;\u001b\\\u001b[2m:442\u001b[0m\n",
       "                             written in                                                      \n",
       "                             \u001b[32m'C:\\Users\\Zirito\\manim\\PROJEK \u001b[0m                                  \n",
       "                             \u001b[32mKALKULUS\\MOTIVASI FIX\\media\\videos\\moti\u001b[0m                         \n",
       "                             \u001b[32mvasi_3\\480p15\\partial_movie_files\\motiv\u001b[0m                         \n",
       "                             \u001b[32masi_3\\3930506391_3672113495_3262483986.\u001b[0m                         \n",
       "                             \u001b[32mmp4'\u001b[0m                                                            \n"
      ]
     },
     "metadata": {},
     "output_type": "display_data"
    },
    {
     "name": "stderr",
     "output_type": "stream",
     "text": [
      "                                                                                                                       \r"
     ]
    },
    {
     "data": {
      "text/html": [
       "<pre style=\"white-space:pre;overflow-x:auto;line-height:normal;font-family:Menlo,'DejaVu Sans Mono',consolas,'Courier New',monospace\"><span style=\"color: #7fbfbf; text-decoration-color: #7fbfbf\">[11/18/21 12:17:57] </span><span style=\"color: #008000; text-decoration-color: #008000\">INFO    </span> Animation <span style=\"color: #008000; text-decoration-color: #008000\">15</span> : Partial movie file       <a href=\"file://C:\\Users\\Zirito\\anaconda3\\envs\\manim\\lib\\site-packages\\manim\\scene\\scene_file_writer.py\"><span style=\"color: #7f7f7f; text-decoration-color: #7f7f7f\">scene_file_writer.py</span></a><span style=\"color: #7f7f7f; text-decoration-color: #7f7f7f\">:442</span>\n",
       "                             written in                                                      \n",
       "                             <span style=\"color: #008000; text-decoration-color: #008000\">'C:\\Users\\Zirito\\manim\\PROJEK </span>                                  \n",
       "                             <span style=\"color: #008000; text-decoration-color: #008000\">KALKULUS\\MOTIVASI FIX\\media\\videos\\moti</span>                         \n",
       "                             <span style=\"color: #008000; text-decoration-color: #008000\">vasi_3\\480p15\\partial_movie_files\\motiv</span>                         \n",
       "                             <span style=\"color: #008000; text-decoration-color: #008000\">asi_3\\3930506391_2579291024_1411522083.</span>                         \n",
       "                             <span style=\"color: #008000; text-decoration-color: #008000\">mp4'</span>                                                            \n",
       "</pre>\n"
      ],
      "text/plain": [
       "\u001b[2;36m[11/18/21 12:17:57]\u001b[0m\u001b[2;36m \u001b[0m\u001b[32mINFO    \u001b[0m Animation \u001b[32m15\u001b[0m : Partial movie file       \u001b]8;id=540662;file://C:\\Users\\Zirito\\anaconda3\\envs\\manim\\lib\\site-packages\\manim\\scene\\scene_file_writer.py\u001b\\\u001b[2mscene_file_writer.py\u001b[0m\u001b]8;;\u001b\\\u001b[2m:442\u001b[0m\n",
       "                             written in                                                      \n",
       "                             \u001b[32m'C:\\Users\\Zirito\\manim\\PROJEK \u001b[0m                                  \n",
       "                             \u001b[32mKALKULUS\\MOTIVASI FIX\\media\\videos\\moti\u001b[0m                         \n",
       "                             \u001b[32mvasi_3\\480p15\\partial_movie_files\\motiv\u001b[0m                         \n",
       "                             \u001b[32masi_3\\3930506391_2579291024_1411522083.\u001b[0m                         \n",
       "                             \u001b[32mmp4'\u001b[0m                                                            \n"
      ]
     },
     "metadata": {},
     "output_type": "display_data"
    },
    {
     "data": {
      "text/html": [
       "<pre style=\"white-space:pre;overflow-x:auto;line-height:normal;font-family:Menlo,'DejaVu Sans Mono',consolas,'Courier New',monospace\"><span style=\"color: #7fbfbf; text-decoration-color: #7fbfbf\">[11/18/21 12:17:59] </span><span style=\"color: #008000; text-decoration-color: #008000\">INFO    </span> Animation <span style=\"color: #008000; text-decoration-color: #008000\">16</span> : Using cached data <span style=\"font-weight: bold\">(</span>hash :   <a href=\"file://C:\\Users\\Zirito\\anaconda3\\envs\\manim\\lib\\site-packages\\manim\\renderer\\cairo_renderer.py\"><span style=\"color: #7f7f7f; text-decoration-color: #7f7f7f\">cairo_renderer.py</span></a><span style=\"color: #7f7f7f; text-decoration-color: #7f7f7f\">:110</span>\n",
       "                             3930506391_2839631542_849195129<span style=\"font-weight: bold\">)</span>                                \n",
       "</pre>\n"
      ],
      "text/plain": [
       "\u001b[2;36m[11/18/21 12:17:59]\u001b[0m\u001b[2;36m \u001b[0m\u001b[32mINFO    \u001b[0m Animation \u001b[32m16\u001b[0m : Using cached data \u001b[1m(\u001b[0mhash :   \u001b]8;id=859176;file://C:\\Users\\Zirito\\anaconda3\\envs\\manim\\lib\\site-packages\\manim\\renderer\\cairo_renderer.py\u001b\\\u001b[2mcairo_renderer.py\u001b[0m\u001b]8;;\u001b\\\u001b[2m:110\u001b[0m\n",
       "                             3930506391_2839631542_849195129\u001b[1m)\u001b[0m                                \n"
      ]
     },
     "metadata": {},
     "output_type": "display_data"
    },
    {
     "data": {
      "text/html": [
       "<pre style=\"white-space:pre;overflow-x:auto;line-height:normal;font-family:Menlo,'DejaVu Sans Mono',consolas,'Courier New',monospace\"><span style=\"color: #7fbfbf; text-decoration-color: #7fbfbf\">[11/18/21 12:18:01] </span><span style=\"color: #008000; text-decoration-color: #008000\">INFO    </span> Animation <span style=\"color: #008000; text-decoration-color: #008000\">17</span> : Using cached data <span style=\"font-weight: bold\">(</span>hash :   <a href=\"file://C:\\Users\\Zirito\\anaconda3\\envs\\manim\\lib\\site-packages\\manim\\renderer\\cairo_renderer.py\"><span style=\"color: #7f7f7f; text-decoration-color: #7f7f7f\">cairo_renderer.py</span></a><span style=\"color: #7f7f7f; text-decoration-color: #7f7f7f\">:110</span>\n",
       "                             3930506391_2232775332_3505126898<span style=\"font-weight: bold\">)</span>                               \n",
       "</pre>\n"
      ],
      "text/plain": [
       "\u001b[2;36m[11/18/21 12:18:01]\u001b[0m\u001b[2;36m \u001b[0m\u001b[32mINFO    \u001b[0m Animation \u001b[32m17\u001b[0m : Using cached data \u001b[1m(\u001b[0mhash :   \u001b]8;id=259626;file://C:\\Users\\Zirito\\anaconda3\\envs\\manim\\lib\\site-packages\\manim\\renderer\\cairo_renderer.py\u001b\\\u001b[2mcairo_renderer.py\u001b[0m\u001b]8;;\u001b\\\u001b[2m:110\u001b[0m\n",
       "                             3930506391_2232775332_3505126898\u001b[1m)\u001b[0m                               \n"
      ]
     },
     "metadata": {},
     "output_type": "display_data"
    },
    {
     "name": "stderr",
     "output_type": "stream",
     "text": [
      "                                                                                                                       \r"
     ]
    },
    {
     "data": {
      "text/html": [
       "<pre style=\"white-space:pre;overflow-x:auto;line-height:normal;font-family:Menlo,'DejaVu Sans Mono',consolas,'Courier New',monospace\"><span style=\"color: #7fbfbf; text-decoration-color: #7fbfbf\">[11/18/21 12:18:03] </span><span style=\"color: #008000; text-decoration-color: #008000\">INFO    </span> Animation <span style=\"color: #008000; text-decoration-color: #008000\">18</span> : Partial movie file       <a href=\"file://C:\\Users\\Zirito\\anaconda3\\envs\\manim\\lib\\site-packages\\manim\\scene\\scene_file_writer.py\"><span style=\"color: #7f7f7f; text-decoration-color: #7f7f7f\">scene_file_writer.py</span></a><span style=\"color: #7f7f7f; text-decoration-color: #7f7f7f\">:442</span>\n",
       "                             written in                                                      \n",
       "                             <span style=\"color: #008000; text-decoration-color: #008000\">'C:\\Users\\Zirito\\manim\\PROJEK </span>                                  \n",
       "                             <span style=\"color: #008000; text-decoration-color: #008000\">KALKULUS\\MOTIVASI FIX\\media\\videos\\moti</span>                         \n",
       "                             <span style=\"color: #008000; text-decoration-color: #008000\">vasi_3\\480p15\\partial_movie_files\\motiv</span>                         \n",
       "                             <span style=\"color: #008000; text-decoration-color: #008000\">asi_3\\3930506391_2839631542_3335288777.</span>                         \n",
       "                             <span style=\"color: #008000; text-decoration-color: #008000\">mp4'</span>                                                            \n",
       "</pre>\n"
      ],
      "text/plain": [
       "\u001b[2;36m[11/18/21 12:18:03]\u001b[0m\u001b[2;36m \u001b[0m\u001b[32mINFO    \u001b[0m Animation \u001b[32m18\u001b[0m : Partial movie file       \u001b]8;id=188460;file://C:\\Users\\Zirito\\anaconda3\\envs\\manim\\lib\\site-packages\\manim\\scene\\scene_file_writer.py\u001b\\\u001b[2mscene_file_writer.py\u001b[0m\u001b]8;;\u001b\\\u001b[2m:442\u001b[0m\n",
       "                             written in                                                      \n",
       "                             \u001b[32m'C:\\Users\\Zirito\\manim\\PROJEK \u001b[0m                                  \n",
       "                             \u001b[32mKALKULUS\\MOTIVASI FIX\\media\\videos\\moti\u001b[0m                         \n",
       "                             \u001b[32mvasi_3\\480p15\\partial_movie_files\\motiv\u001b[0m                         \n",
       "                             \u001b[32masi_3\\3930506391_2839631542_3335288777.\u001b[0m                         \n",
       "                             \u001b[32mmp4'\u001b[0m                                                            \n"
      ]
     },
     "metadata": {},
     "output_type": "display_data"
    },
    {
     "data": {
      "text/html": [
       "<pre style=\"white-space:pre;overflow-x:auto;line-height:normal;font-family:Menlo,'DejaVu Sans Mono',consolas,'Courier New',monospace\"><span style=\"color: #7fbfbf; text-decoration-color: #7fbfbf\">[11/18/21 12:18:05] </span><span style=\"color: #008000; text-decoration-color: #008000\">INFO    </span> Animation <span style=\"color: #008000; text-decoration-color: #008000\">19</span> : Using cached data <span style=\"font-weight: bold\">(</span>hash :   <a href=\"file://C:\\Users\\Zirito\\anaconda3\\envs\\manim\\lib\\site-packages\\manim\\renderer\\cairo_renderer.py\"><span style=\"color: #7f7f7f; text-decoration-color: #7f7f7f\">cairo_renderer.py</span></a><span style=\"color: #7f7f7f; text-decoration-color: #7f7f7f\">:110</span>\n",
       "                             102686301_1933207978_1357095041<span style=\"font-weight: bold\">)</span>                                \n",
       "</pre>\n"
      ],
      "text/plain": [
       "\u001b[2;36m[11/18/21 12:18:05]\u001b[0m\u001b[2;36m \u001b[0m\u001b[32mINFO    \u001b[0m Animation \u001b[32m19\u001b[0m : Using cached data \u001b[1m(\u001b[0mhash :   \u001b]8;id=830819;file://C:\\Users\\Zirito\\anaconda3\\envs\\manim\\lib\\site-packages\\manim\\renderer\\cairo_renderer.py\u001b\\\u001b[2mcairo_renderer.py\u001b[0m\u001b]8;;\u001b\\\u001b[2m:110\u001b[0m\n",
       "                             102686301_1933207978_1357095041\u001b[1m)\u001b[0m                                \n"
      ]
     },
     "metadata": {},
     "output_type": "display_data"
    },
    {
     "name": "stderr",
     "output_type": "stream",
     "text": [
      "                                                                                                                       \r"
     ]
    },
    {
     "data": {
      "text/html": [
       "<pre style=\"white-space:pre;overflow-x:auto;line-height:normal;font-family:Menlo,'DejaVu Sans Mono',consolas,'Courier New',monospace\"><span style=\"color: #7fbfbf; text-decoration-color: #7fbfbf\">[11/18/21 12:18:07] </span><span style=\"color: #008000; text-decoration-color: #008000\">INFO    </span> Animation <span style=\"color: #008000; text-decoration-color: #008000\">20</span> : Using cached data <span style=\"font-weight: bold\">(</span>hash :   <a href=\"file://C:\\Users\\Zirito\\anaconda3\\envs\\manim\\lib\\site-packages\\manim\\renderer\\cairo_renderer.py\"><span style=\"color: #7f7f7f; text-decoration-color: #7f7f7f\">cairo_renderer.py</span></a><span style=\"color: #7f7f7f; text-decoration-color: #7f7f7f\">:110</span>\n",
       "                             438082454_2839631542_4243330733<span style=\"font-weight: bold\">)</span>                                \n",
       "</pre>\n"
      ],
      "text/plain": [
       "\u001b[2;36m[11/18/21 12:18:07]\u001b[0m\u001b[2;36m \u001b[0m\u001b[32mINFO    \u001b[0m Animation \u001b[32m20\u001b[0m : Using cached data \u001b[1m(\u001b[0mhash :   \u001b]8;id=845051;file://C:\\Users\\Zirito\\anaconda3\\envs\\manim\\lib\\site-packages\\manim\\renderer\\cairo_renderer.py\u001b\\\u001b[2mcairo_renderer.py\u001b[0m\u001b]8;;\u001b\\\u001b[2m:110\u001b[0m\n",
       "                             438082454_2839631542_4243330733\u001b[1m)\u001b[0m                                \n"
      ]
     },
     "metadata": {},
     "output_type": "display_data"
    },
    {
     "data": {
      "text/html": [
       "<pre style=\"white-space:pre;overflow-x:auto;line-height:normal;font-family:Menlo,'DejaVu Sans Mono',consolas,'Courier New',monospace\"><span style=\"color: #7fbfbf; text-decoration-color: #7fbfbf\">[11/18/21 12:18:09] </span><span style=\"color: #008000; text-decoration-color: #008000\">INFO    </span> Animation <span style=\"color: #008000; text-decoration-color: #008000\">21</span> : Using cached data <span style=\"font-weight: bold\">(</span>hash :   <a href=\"file://C:\\Users\\Zirito\\anaconda3\\envs\\manim\\lib\\site-packages\\manim\\renderer\\cairo_renderer.py\"><span style=\"color: #7f7f7f; text-decoration-color: #7f7f7f\">cairo_renderer.py</span></a><span style=\"color: #7f7f7f; text-decoration-color: #7f7f7f\">:110</span>\n",
       "                             438082454_1596459010_755261491<span style=\"font-weight: bold\">)</span>                                 \n",
       "</pre>\n"
      ],
      "text/plain": [
       "\u001b[2;36m[11/18/21 12:18:09]\u001b[0m\u001b[2;36m \u001b[0m\u001b[32mINFO    \u001b[0m Animation \u001b[32m21\u001b[0m : Using cached data \u001b[1m(\u001b[0mhash :   \u001b]8;id=770364;file://C:\\Users\\Zirito\\anaconda3\\envs\\manim\\lib\\site-packages\\manim\\renderer\\cairo_renderer.py\u001b\\\u001b[2mcairo_renderer.py\u001b[0m\u001b]8;;\u001b\\\u001b[2m:110\u001b[0m\n",
       "                             438082454_1596459010_755261491\u001b[1m)\u001b[0m                                 \n"
      ]
     },
     "metadata": {},
     "output_type": "display_data"
    },
    {
     "name": "stderr",
     "output_type": "stream",
     "text": [
      "                                                                                                                       \r"
     ]
    },
    {
     "data": {
      "text/html": [
       "<pre style=\"white-space:pre;overflow-x:auto;line-height:normal;font-family:Menlo,'DejaVu Sans Mono',consolas,'Courier New',monospace\"><span style=\"color: #7fbfbf; text-decoration-color: #7fbfbf\">[11/18/21 12:18:11] </span><span style=\"color: #008000; text-decoration-color: #008000\">INFO    </span> Animation <span style=\"color: #008000; text-decoration-color: #008000\">22</span> : Using cached data <span style=\"font-weight: bold\">(</span>hash :   <a href=\"file://C:\\Users\\Zirito\\anaconda3\\envs\\manim\\lib\\site-packages\\manim\\renderer\\cairo_renderer.py\"><span style=\"color: #7f7f7f; text-decoration-color: #7f7f7f\">cairo_renderer.py</span></a><span style=\"color: #7f7f7f; text-decoration-color: #7f7f7f\">:110</span>\n",
       "                             438082454_2839631542_768757312<span style=\"font-weight: bold\">)</span>                                 \n",
       "</pre>\n"
      ],
      "text/plain": [
       "\u001b[2;36m[11/18/21 12:18:11]\u001b[0m\u001b[2;36m \u001b[0m\u001b[32mINFO    \u001b[0m Animation \u001b[32m22\u001b[0m : Using cached data \u001b[1m(\u001b[0mhash :   \u001b]8;id=249894;file://C:\\Users\\Zirito\\anaconda3\\envs\\manim\\lib\\site-packages\\manim\\renderer\\cairo_renderer.py\u001b\\\u001b[2mcairo_renderer.py\u001b[0m\u001b]8;;\u001b\\\u001b[2m:110\u001b[0m\n",
       "                             438082454_2839631542_768757312\u001b[1m)\u001b[0m                                 \n"
      ]
     },
     "metadata": {},
     "output_type": "display_data"
    },
    {
     "data": {
      "text/html": [
       "<pre style=\"white-space:pre;overflow-x:auto;line-height:normal;font-family:Menlo,'DejaVu Sans Mono',consolas,'Courier New',monospace\"><span style=\"color: #7fbfbf; text-decoration-color: #7fbfbf\">[11/18/21 12:18:13] </span><span style=\"color: #008000; text-decoration-color: #008000\">INFO    </span> Animation <span style=\"color: #008000; text-decoration-color: #008000\">23</span> : Using cached data <span style=\"font-weight: bold\">(</span>hash :   <a href=\"file://C:\\Users\\Zirito\\anaconda3\\envs\\manim\\lib\\site-packages\\manim\\renderer\\cairo_renderer.py\"><span style=\"color: #7f7f7f; text-decoration-color: #7f7f7f\">cairo_renderer.py</span></a><span style=\"color: #7f7f7f; text-decoration-color: #7f7f7f\">:110</span>\n",
       "                             3205462750_1933207978_4008936587<span style=\"font-weight: bold\">)</span>                               \n",
       "</pre>\n"
      ],
      "text/plain": [
       "\u001b[2;36m[11/18/21 12:18:13]\u001b[0m\u001b[2;36m \u001b[0m\u001b[32mINFO    \u001b[0m Animation \u001b[32m23\u001b[0m : Using cached data \u001b[1m(\u001b[0mhash :   \u001b]8;id=527082;file://C:\\Users\\Zirito\\anaconda3\\envs\\manim\\lib\\site-packages\\manim\\renderer\\cairo_renderer.py\u001b\\\u001b[2mcairo_renderer.py\u001b[0m\u001b]8;;\u001b\\\u001b[2m:110\u001b[0m\n",
       "                             3205462750_1933207978_4008936587\u001b[1m)\u001b[0m                               \n"
      ]
     },
     "metadata": {},
     "output_type": "display_data"
    },
    {
     "name": "stderr",
     "output_type": "stream",
     "text": [
      "                                                                                                                       \r"
     ]
    },
    {
     "data": {
      "text/html": [
       "<pre style=\"white-space:pre;overflow-x:auto;line-height:normal;font-family:Menlo,'DejaVu Sans Mono',consolas,'Courier New',monospace\"><span style=\"color: #7fbfbf; text-decoration-color: #7fbfbf\">[11/18/21 12:18:15] </span><span style=\"color: #008000; text-decoration-color: #008000\">INFO    </span> Animation <span style=\"color: #008000; text-decoration-color: #008000\">24</span> : Using cached data <span style=\"font-weight: bold\">(</span>hash :   <a href=\"file://C:\\Users\\Zirito\\anaconda3\\envs\\manim\\lib\\site-packages\\manim\\renderer\\cairo_renderer.py\"><span style=\"color: #7f7f7f; text-decoration-color: #7f7f7f\">cairo_renderer.py</span></a><span style=\"color: #7f7f7f; text-decoration-color: #7f7f7f\">:110</span>\n",
       "                             2867803087_2839631542_3545470686<span style=\"font-weight: bold\">)</span>                               \n",
       "</pre>\n"
      ],
      "text/plain": [
       "\u001b[2;36m[11/18/21 12:18:15]\u001b[0m\u001b[2;36m \u001b[0m\u001b[32mINFO    \u001b[0m Animation \u001b[32m24\u001b[0m : Using cached data \u001b[1m(\u001b[0mhash :   \u001b]8;id=25043;file://C:\\Users\\Zirito\\anaconda3\\envs\\manim\\lib\\site-packages\\manim\\renderer\\cairo_renderer.py\u001b\\\u001b[2mcairo_renderer.py\u001b[0m\u001b]8;;\u001b\\\u001b[2m:110\u001b[0m\n",
       "                             2867803087_2839631542_3545470686\u001b[1m)\u001b[0m                               \n"
      ]
     },
     "metadata": {},
     "output_type": "display_data"
    },
    {
     "data": {
      "text/html": [
       "<pre style=\"white-space:pre;overflow-x:auto;line-height:normal;font-family:Menlo,'DejaVu Sans Mono',consolas,'Courier New',monospace\"><span style=\"color: #7fbfbf; text-decoration-color: #7fbfbf\">[11/18/21 12:18:17] </span><span style=\"color: #008000; text-decoration-color: #008000\">INFO    </span> Animation <span style=\"color: #008000; text-decoration-color: #008000\">25</span> : Using cached data <span style=\"font-weight: bold\">(</span>hash :   <a href=\"file://C:\\Users\\Zirito\\anaconda3\\envs\\manim\\lib\\site-packages\\manim\\renderer\\cairo_renderer.py\"><span style=\"color: #7f7f7f; text-decoration-color: #7f7f7f\">cairo_renderer.py</span></a><span style=\"color: #7f7f7f; text-decoration-color: #7f7f7f\">:110</span>\n",
       "                             2867803087_3518823547_982696753<span style=\"font-weight: bold\">)</span>                                \n",
       "</pre>\n"
      ],
      "text/plain": [
       "\u001b[2;36m[11/18/21 12:18:17]\u001b[0m\u001b[2;36m \u001b[0m\u001b[32mINFO    \u001b[0m Animation \u001b[32m25\u001b[0m : Using cached data \u001b[1m(\u001b[0mhash :   \u001b]8;id=836902;file://C:\\Users\\Zirito\\anaconda3\\envs\\manim\\lib\\site-packages\\manim\\renderer\\cairo_renderer.py\u001b\\\u001b[2mcairo_renderer.py\u001b[0m\u001b]8;;\u001b\\\u001b[2m:110\u001b[0m\n",
       "                             2867803087_3518823547_982696753\u001b[1m)\u001b[0m                                \n"
      ]
     },
     "metadata": {},
     "output_type": "display_data"
    },
    {
     "name": "stderr",
     "output_type": "stream",
     "text": [
      "                                                                                                                       \r"
     ]
    },
    {
     "data": {
      "text/html": [
       "<pre style=\"white-space:pre;overflow-x:auto;line-height:normal;font-family:Menlo,'DejaVu Sans Mono',consolas,'Courier New',monospace\"><span style=\"color: #7fbfbf; text-decoration-color: #7fbfbf\">[11/18/21 12:18:34] </span><span style=\"color: #008000; text-decoration-color: #008000\">INFO    </span> Animation <span style=\"color: #008000; text-decoration-color: #008000\">26</span> : Partial movie file       <a href=\"file://C:\\Users\\Zirito\\anaconda3\\envs\\manim\\lib\\site-packages\\manim\\scene\\scene_file_writer.py\"><span style=\"color: #7f7f7f; text-decoration-color: #7f7f7f\">scene_file_writer.py</span></a><span style=\"color: #7f7f7f; text-decoration-color: #7f7f7f\">:442</span>\n",
       "                             written in                                                      \n",
       "                             <span style=\"color: #008000; text-decoration-color: #008000\">'C:\\Users\\Zirito\\manim\\PROJEK </span>                                  \n",
       "                             <span style=\"color: #008000; text-decoration-color: #008000\">KALKULUS\\MOTIVASI FIX\\media\\videos\\moti</span>                         \n",
       "                             <span style=\"color: #008000; text-decoration-color: #008000\">vasi_3\\480p15\\partial_movie_files\\motiv</span>                         \n",
       "                             <span style=\"color: #008000; text-decoration-color: #008000\">asi_3\\2867803087_2821878798_1577384810.</span>                         \n",
       "                             <span style=\"color: #008000; text-decoration-color: #008000\">mp4'</span>                                                            \n",
       "</pre>\n"
      ],
      "text/plain": [
       "\u001b[2;36m[11/18/21 12:18:34]\u001b[0m\u001b[2;36m \u001b[0m\u001b[32mINFO    \u001b[0m Animation \u001b[32m26\u001b[0m : Partial movie file       \u001b]8;id=764685;file://C:\\Users\\Zirito\\anaconda3\\envs\\manim\\lib\\site-packages\\manim\\scene\\scene_file_writer.py\u001b\\\u001b[2mscene_file_writer.py\u001b[0m\u001b]8;;\u001b\\\u001b[2m:442\u001b[0m\n",
       "                             written in                                                      \n",
       "                             \u001b[32m'C:\\Users\\Zirito\\manim\\PROJEK \u001b[0m                                  \n",
       "                             \u001b[32mKALKULUS\\MOTIVASI FIX\\media\\videos\\moti\u001b[0m                         \n",
       "                             \u001b[32mvasi_3\\480p15\\partial_movie_files\\motiv\u001b[0m                         \n",
       "                             \u001b[32masi_3\\2867803087_2821878798_1577384810.\u001b[0m                         \n",
       "                             \u001b[32mmp4'\u001b[0m                                                            \n"
      ]
     },
     "metadata": {},
     "output_type": "display_data"
    },
    {
     "data": {
      "text/html": [
       "<pre style=\"white-space:pre;overflow-x:auto;line-height:normal;font-family:Menlo,'DejaVu Sans Mono',consolas,'Courier New',monospace\"><span style=\"color: #7fbfbf; text-decoration-color: #7fbfbf\">[11/18/21 12:18:35] </span><span style=\"color: #008000; text-decoration-color: #008000\">INFO    </span> Animation <span style=\"color: #008000; text-decoration-color: #008000\">27</span> : Using cached data <span style=\"font-weight: bold\">(</span>hash :   <a href=\"file://C:\\Users\\Zirito\\anaconda3\\envs\\manim\\lib\\site-packages\\manim\\renderer\\cairo_renderer.py\"><span style=\"color: #7f7f7f; text-decoration-color: #7f7f7f\">cairo_renderer.py</span></a><span style=\"color: #7f7f7f; text-decoration-color: #7f7f7f\">:110</span>\n",
       "                             2867803087_2839631542_2358877473<span style=\"font-weight: bold\">)</span>                               \n",
       "</pre>\n"
      ],
      "text/plain": [
       "\u001b[2;36m[11/18/21 12:18:35]\u001b[0m\u001b[2;36m \u001b[0m\u001b[32mINFO    \u001b[0m Animation \u001b[32m27\u001b[0m : Using cached data \u001b[1m(\u001b[0mhash :   \u001b]8;id=690688;file://C:\\Users\\Zirito\\anaconda3\\envs\\manim\\lib\\site-packages\\manim\\renderer\\cairo_renderer.py\u001b\\\u001b[2mcairo_renderer.py\u001b[0m\u001b]8;;\u001b\\\u001b[2m:110\u001b[0m\n",
       "                             2867803087_2839631542_2358877473\u001b[1m)\u001b[0m                               \n"
      ]
     },
     "metadata": {},
     "output_type": "display_data"
    },
    {
     "data": {
      "text/html": [
       "<pre style=\"white-space:pre;overflow-x:auto;line-height:normal;font-family:Menlo,'DejaVu Sans Mono',consolas,'Courier New',monospace\"><span style=\"color: #7fbfbf; text-decoration-color: #7fbfbf\">[11/18/21 12:18:36] </span><span style=\"color: #008000; text-decoration-color: #008000\">INFO    </span> Animation <span style=\"color: #008000; text-decoration-color: #008000\">28</span> : Using cached data <span style=\"font-weight: bold\">(</span>hash :   <a href=\"file://C:\\Users\\Zirito\\anaconda3\\envs\\manim\\lib\\site-packages\\manim\\renderer\\cairo_renderer.py\"><span style=\"color: #7f7f7f; text-decoration-color: #7f7f7f\">cairo_renderer.py</span></a><span style=\"color: #7f7f7f; text-decoration-color: #7f7f7f\">:110</span>\n",
       "                             2867803087_1777498877_274197579<span style=\"font-weight: bold\">)</span>                                \n",
       "</pre>\n"
      ],
      "text/plain": [
       "\u001b[2;36m[11/18/21 12:18:36]\u001b[0m\u001b[2;36m \u001b[0m\u001b[32mINFO    \u001b[0m Animation \u001b[32m28\u001b[0m : Using cached data \u001b[1m(\u001b[0mhash :   \u001b]8;id=838620;file://C:\\Users\\Zirito\\anaconda3\\envs\\manim\\lib\\site-packages\\manim\\renderer\\cairo_renderer.py\u001b\\\u001b[2mcairo_renderer.py\u001b[0m\u001b]8;;\u001b\\\u001b[2m:110\u001b[0m\n",
       "                             2867803087_1777498877_274197579\u001b[1m)\u001b[0m                                \n"
      ]
     },
     "metadata": {},
     "output_type": "display_data"
    },
    {
     "name": "stderr",
     "output_type": "stream",
     "text": [
      "                                                                                                                       \r"
     ]
    },
    {
     "data": {
      "text/html": [
       "<pre style=\"white-space:pre;overflow-x:auto;line-height:normal;font-family:Menlo,'DejaVu Sans Mono',consolas,'Courier New',monospace\"><span style=\"color: #7fbfbf; text-decoration-color: #7fbfbf\">[11/18/21 12:18:38] </span><span style=\"color: #008000; text-decoration-color: #008000\">INFO    </span> Animation <span style=\"color: #008000; text-decoration-color: #008000\">29</span> : Partial movie file       <a href=\"file://C:\\Users\\Zirito\\anaconda3\\envs\\manim\\lib\\site-packages\\manim\\scene\\scene_file_writer.py\"><span style=\"color: #7f7f7f; text-decoration-color: #7f7f7f\">scene_file_writer.py</span></a><span style=\"color: #7f7f7f; text-decoration-color: #7f7f7f\">:442</span>\n",
       "                             written in                                                      \n",
       "                             <span style=\"color: #008000; text-decoration-color: #008000\">'C:\\Users\\Zirito\\manim\\PROJEK </span>                                  \n",
       "                             <span style=\"color: #008000; text-decoration-color: #008000\">KALKULUS\\MOTIVASI FIX\\media\\videos\\moti</span>                         \n",
       "                             <span style=\"color: #008000; text-decoration-color: #008000\">vasi_3\\480p15\\partial_movie_files\\motiv</span>                         \n",
       "                             <span style=\"color: #008000; text-decoration-color: #008000\">asi_3\\2867803087_2839631542_2170065645.</span>                         \n",
       "                             <span style=\"color: #008000; text-decoration-color: #008000\">mp4'</span>                                                            \n",
       "</pre>\n"
      ],
      "text/plain": [
       "\u001b[2;36m[11/18/21 12:18:38]\u001b[0m\u001b[2;36m \u001b[0m\u001b[32mINFO    \u001b[0m Animation \u001b[32m29\u001b[0m : Partial movie file       \u001b]8;id=247464;file://C:\\Users\\Zirito\\anaconda3\\envs\\manim\\lib\\site-packages\\manim\\scene\\scene_file_writer.py\u001b\\\u001b[2mscene_file_writer.py\u001b[0m\u001b]8;;\u001b\\\u001b[2m:442\u001b[0m\n",
       "                             written in                                                      \n",
       "                             \u001b[32m'C:\\Users\\Zirito\\manim\\PROJEK \u001b[0m                                  \n",
       "                             \u001b[32mKALKULUS\\MOTIVASI FIX\\media\\videos\\moti\u001b[0m                         \n",
       "                             \u001b[32mvasi_3\\480p15\\partial_movie_files\\motiv\u001b[0m                         \n",
       "                             \u001b[32masi_3\\2867803087_2839631542_2170065645.\u001b[0m                         \n",
       "                             \u001b[32mmp4'\u001b[0m                                                            \n"
      ]
     },
     "metadata": {},
     "output_type": "display_data"
    },
    {
     "data": {
      "text/html": [
       "<pre style=\"white-space:pre;overflow-x:auto;line-height:normal;font-family:Menlo,'DejaVu Sans Mono',consolas,'Courier New',monospace\"><span style=\"color: #7fbfbf; text-decoration-color: #7fbfbf\">[11/18/21 12:18:39] </span><span style=\"color: #008000; text-decoration-color: #008000\">INFO    </span> Animation <span style=\"color: #008000; text-decoration-color: #008000\">30</span> : Using cached data <span style=\"font-weight: bold\">(</span>hash :   <a href=\"file://C:\\Users\\Zirito\\anaconda3\\envs\\manim\\lib\\site-packages\\manim\\renderer\\cairo_renderer.py\"><span style=\"color: #7f7f7f; text-decoration-color: #7f7f7f\">cairo_renderer.py</span></a><span style=\"color: #7f7f7f; text-decoration-color: #7f7f7f\">:110</span>\n",
       "                             2867803087_803713858_329630265<span style=\"font-weight: bold\">)</span>                                 \n",
       "</pre>\n"
      ],
      "text/plain": [
       "\u001b[2;36m[11/18/21 12:18:39]\u001b[0m\u001b[2;36m \u001b[0m\u001b[32mINFO    \u001b[0m Animation \u001b[32m30\u001b[0m : Using cached data \u001b[1m(\u001b[0mhash :   \u001b]8;id=832443;file://C:\\Users\\Zirito\\anaconda3\\envs\\manim\\lib\\site-packages\\manim\\renderer\\cairo_renderer.py\u001b\\\u001b[2mcairo_renderer.py\u001b[0m\u001b]8;;\u001b\\\u001b[2m:110\u001b[0m\n",
       "                             2867803087_803713858_329630265\u001b[1m)\u001b[0m                                 \n"
      ]
     },
     "metadata": {},
     "output_type": "display_data"
    },
    {
     "name": "stderr",
     "output_type": "stream",
     "text": [
      "                                                                                                                       \r"
     ]
    },
    {
     "data": {
      "text/html": [
       "<pre style=\"white-space:pre;overflow-x:auto;line-height:normal;font-family:Menlo,'DejaVu Sans Mono',consolas,'Courier New',monospace\"><span style=\"color: #7fbfbf; text-decoration-color: #7fbfbf\">[11/18/21 12:18:40] </span><span style=\"color: #008000; text-decoration-color: #008000\">INFO    </span> Animation <span style=\"color: #008000; text-decoration-color: #008000\">31</span> : Using cached data <span style=\"font-weight: bold\">(</span>hash :   <a href=\"file://C:\\Users\\Zirito\\anaconda3\\envs\\manim\\lib\\site-packages\\manim\\renderer\\cairo_renderer.py\"><span style=\"color: #7f7f7f; text-decoration-color: #7f7f7f\">cairo_renderer.py</span></a><span style=\"color: #7f7f7f; text-decoration-color: #7f7f7f\">:110</span>\n",
       "                             2867803087_2839631542_244334357<span style=\"font-weight: bold\">)</span>                                \n",
       "</pre>\n"
      ],
      "text/plain": [
       "\u001b[2;36m[11/18/21 12:18:40]\u001b[0m\u001b[2;36m \u001b[0m\u001b[32mINFO    \u001b[0m Animation \u001b[32m31\u001b[0m : Using cached data \u001b[1m(\u001b[0mhash :   \u001b]8;id=700672;file://C:\\Users\\Zirito\\anaconda3\\envs\\manim\\lib\\site-packages\\manim\\renderer\\cairo_renderer.py\u001b\\\u001b[2mcairo_renderer.py\u001b[0m\u001b]8;;\u001b\\\u001b[2m:110\u001b[0m\n",
       "                             2867803087_2839631542_244334357\u001b[1m)\u001b[0m                                \n"
      ]
     },
     "metadata": {},
     "output_type": "display_data"
    },
    {
     "data": {
      "text/html": [
       "<pre style=\"white-space:pre;overflow-x:auto;line-height:normal;font-family:Menlo,'DejaVu Sans Mono',consolas,'Courier New',monospace\"><span style=\"color: #7fbfbf; text-decoration-color: #7fbfbf\">[11/18/21 12:18:42] </span><span style=\"color: #008000; text-decoration-color: #008000\">INFO    </span> Animation <span style=\"color: #008000; text-decoration-color: #008000\">32</span> : Using cached data <span style=\"font-weight: bold\">(</span>hash :   <a href=\"file://C:\\Users\\Zirito\\anaconda3\\envs\\manim\\lib\\site-packages\\manim\\renderer\\cairo_renderer.py\"><span style=\"color: #7f7f7f; text-decoration-color: #7f7f7f\">cairo_renderer.py</span></a><span style=\"color: #7f7f7f; text-decoration-color: #7f7f7f\">:110</span>\n",
       "                             2867803087_2462298219_3808056262<span style=\"font-weight: bold\">)</span>                               \n",
       "</pre>\n"
      ],
      "text/plain": [
       "\u001b[2;36m[11/18/21 12:18:42]\u001b[0m\u001b[2;36m \u001b[0m\u001b[32mINFO    \u001b[0m Animation \u001b[32m32\u001b[0m : Using cached data \u001b[1m(\u001b[0mhash :   \u001b]8;id=517982;file://C:\\Users\\Zirito\\anaconda3\\envs\\manim\\lib\\site-packages\\manim\\renderer\\cairo_renderer.py\u001b\\\u001b[2mcairo_renderer.py\u001b[0m\u001b]8;;\u001b\\\u001b[2m:110\u001b[0m\n",
       "                             2867803087_2462298219_3808056262\u001b[1m)\u001b[0m                               \n"
      ]
     },
     "metadata": {},
     "output_type": "display_data"
    },
    {
     "name": "stderr",
     "output_type": "stream",
     "text": [
      "                                                                                                                       \r"
     ]
    },
    {
     "data": {
      "text/html": [
       "<pre style=\"white-space:pre;overflow-x:auto;line-height:normal;font-family:Menlo,'DejaVu Sans Mono',consolas,'Courier New',monospace\"><span style=\"color: #7fbfbf; text-decoration-color: #7fbfbf\">[11/18/21 12:18:46] </span><span style=\"color: #008000; text-decoration-color: #008000\">INFO    </span> Animation <span style=\"color: #008000; text-decoration-color: #008000\">33</span> : Using cached data <span style=\"font-weight: bold\">(</span>hash :   <a href=\"file://C:\\Users\\Zirito\\anaconda3\\envs\\manim\\lib\\site-packages\\manim\\renderer\\cairo_renderer.py\"><span style=\"color: #7f7f7f; text-decoration-color: #7f7f7f\">cairo_renderer.py</span></a><span style=\"color: #7f7f7f; text-decoration-color: #7f7f7f\">:110</span>\n",
       "                             2867803087_2839631542_2685744913<span style=\"font-weight: bold\">)</span>                               \n",
       "</pre>\n"
      ],
      "text/plain": [
       "\u001b[2;36m[11/18/21 12:18:46]\u001b[0m\u001b[2;36m \u001b[0m\u001b[32mINFO    \u001b[0m Animation \u001b[32m33\u001b[0m : Using cached data \u001b[1m(\u001b[0mhash :   \u001b]8;id=27310;file://C:\\Users\\Zirito\\anaconda3\\envs\\manim\\lib\\site-packages\\manim\\renderer\\cairo_renderer.py\u001b\\\u001b[2mcairo_renderer.py\u001b[0m\u001b]8;;\u001b\\\u001b[2m:110\u001b[0m\n",
       "                             2867803087_2839631542_2685744913\u001b[1m)\u001b[0m                               \n"
      ]
     },
     "metadata": {},
     "output_type": "display_data"
    },
    {
     "data": {
      "text/html": [
       "<pre style=\"white-space:pre;overflow-x:auto;line-height:normal;font-family:Menlo,'DejaVu Sans Mono',consolas,'Courier New',monospace\"><span style=\"color: #7fbfbf; text-decoration-color: #7fbfbf\">[11/18/21 12:18:49] </span><span style=\"color: #008000; text-decoration-color: #008000\">INFO    </span> Animation <span style=\"color: #008000; text-decoration-color: #008000\">34</span> : Using cached data <span style=\"font-weight: bold\">(</span>hash :   <a href=\"file://C:\\Users\\Zirito\\anaconda3\\envs\\manim\\lib\\site-packages\\manim\\renderer\\cairo_renderer.py\"><span style=\"color: #7f7f7f; text-decoration-color: #7f7f7f\">cairo_renderer.py</span></a><span style=\"color: #7f7f7f; text-decoration-color: #7f7f7f\">:110</span>\n",
       "                             2867803087_2473000730_3800049891<span style=\"font-weight: bold\">)</span>                               \n",
       "</pre>\n"
      ],
      "text/plain": [
       "\u001b[2;36m[11/18/21 12:18:49]\u001b[0m\u001b[2;36m \u001b[0m\u001b[32mINFO    \u001b[0m Animation \u001b[32m34\u001b[0m : Using cached data \u001b[1m(\u001b[0mhash :   \u001b]8;id=123031;file://C:\\Users\\Zirito\\anaconda3\\envs\\manim\\lib\\site-packages\\manim\\renderer\\cairo_renderer.py\u001b\\\u001b[2mcairo_renderer.py\u001b[0m\u001b]8;;\u001b\\\u001b[2m:110\u001b[0m\n",
       "                             2867803087_2473000730_3800049891\u001b[1m)\u001b[0m                               \n"
      ]
     },
     "metadata": {},
     "output_type": "display_data"
    },
    {
     "name": "stderr",
     "output_type": "stream",
     "text": [
      "                                                                                                                       \r"
     ]
    },
    {
     "data": {
      "text/html": [
       "<pre style=\"white-space:pre;overflow-x:auto;line-height:normal;font-family:Menlo,'DejaVu Sans Mono',consolas,'Courier New',monospace\"><span style=\"color: #7fbfbf; text-decoration-color: #7fbfbf\">[11/18/21 12:18:51] </span><span style=\"color: #008000; text-decoration-color: #008000\">INFO    </span> Animation <span style=\"color: #008000; text-decoration-color: #008000\">35</span> : Using cached data <span style=\"font-weight: bold\">(</span>hash :   <a href=\"file://C:\\Users\\Zirito\\anaconda3\\envs\\manim\\lib\\site-packages\\manim\\renderer\\cairo_renderer.py\"><span style=\"color: #7f7f7f; text-decoration-color: #7f7f7f\">cairo_renderer.py</span></a><span style=\"color: #7f7f7f; text-decoration-color: #7f7f7f\">:110</span>\n",
       "                             2867803087_75287834_566682430<span style=\"font-weight: bold\">)</span>                                  \n",
       "</pre>\n"
      ],
      "text/plain": [
       "\u001b[2;36m[11/18/21 12:18:51]\u001b[0m\u001b[2;36m \u001b[0m\u001b[32mINFO    \u001b[0m Animation \u001b[32m35\u001b[0m : Using cached data \u001b[1m(\u001b[0mhash :   \u001b]8;id=821813;file://C:\\Users\\Zirito\\anaconda3\\envs\\manim\\lib\\site-packages\\manim\\renderer\\cairo_renderer.py\u001b\\\u001b[2mcairo_renderer.py\u001b[0m\u001b]8;;\u001b\\\u001b[2m:110\u001b[0m\n",
       "                             2867803087_75287834_566682430\u001b[1m)\u001b[0m                                  \n"
      ]
     },
     "metadata": {},
     "output_type": "display_data"
    },
    {
     "name": "stderr",
     "output_type": "stream",
     "text": [
      "                                                                                                                       \r"
     ]
    },
    {
     "data": {
      "text/html": [
       "<pre style=\"white-space:pre;overflow-x:auto;line-height:normal;font-family:Menlo,'DejaVu Sans Mono',consolas,'Courier New',monospace\"><span style=\"color: #7fbfbf; text-decoration-color: #7fbfbf\">[11/18/21 12:18:55] </span><span style=\"color: #008000; text-decoration-color: #008000\">INFO    </span> Animation <span style=\"color: #008000; text-decoration-color: #008000\">36</span> : Partial movie file       <a href=\"file://C:\\Users\\Zirito\\anaconda3\\envs\\manim\\lib\\site-packages\\manim\\scene\\scene_file_writer.py\"><span style=\"color: #7f7f7f; text-decoration-color: #7f7f7f\">scene_file_writer.py</span></a><span style=\"color: #7f7f7f; text-decoration-color: #7f7f7f\">:442</span>\n",
       "                             written in                                                      \n",
       "                             <span style=\"color: #008000; text-decoration-color: #008000\">'C:\\Users\\Zirito\\manim\\PROJEK </span>                                  \n",
       "                             <span style=\"color: #008000; text-decoration-color: #008000\">KALKULUS\\MOTIVASI FIX\\media\\videos\\moti</span>                         \n",
       "                             <span style=\"color: #008000; text-decoration-color: #008000\">vasi_3\\480p15\\partial_movie_files\\motiv</span>                         \n",
       "                             <span style=\"color: #008000; text-decoration-color: #008000\">asi_3\\2802695137_910656892_4009969802.m</span>                         \n",
       "                             <span style=\"color: #008000; text-decoration-color: #008000\">p4'</span>                                                             \n",
       "</pre>\n"
      ],
      "text/plain": [
       "\u001b[2;36m[11/18/21 12:18:55]\u001b[0m\u001b[2;36m \u001b[0m\u001b[32mINFO    \u001b[0m Animation \u001b[32m36\u001b[0m : Partial movie file       \u001b]8;id=65025;file://C:\\Users\\Zirito\\anaconda3\\envs\\manim\\lib\\site-packages\\manim\\scene\\scene_file_writer.py\u001b\\\u001b[2mscene_file_writer.py\u001b[0m\u001b]8;;\u001b\\\u001b[2m:442\u001b[0m\n",
       "                             written in                                                      \n",
       "                             \u001b[32m'C:\\Users\\Zirito\\manim\\PROJEK \u001b[0m                                  \n",
       "                             \u001b[32mKALKULUS\\MOTIVASI FIX\\media\\videos\\moti\u001b[0m                         \n",
       "                             \u001b[32mvasi_3\\480p15\\partial_movie_files\\motiv\u001b[0m                         \n",
       "                             \u001b[32masi_3\\2802695137_910656892_4009969802.m\u001b[0m                         \n",
       "                             \u001b[32mp4'\u001b[0m                                                             \n"
      ]
     },
     "metadata": {},
     "output_type": "display_data"
    },
    {
     "data": {
      "text/html": [
       "<pre style=\"white-space:pre;overflow-x:auto;line-height:normal;font-family:Menlo,'DejaVu Sans Mono',consolas,'Courier New',monospace\"><span style=\"color: #7fbfbf; text-decoration-color: #7fbfbf\">[11/18/21 12:18:58] </span><span style=\"color: #008000; text-decoration-color: #008000\">INFO    </span> Animation <span style=\"color: #008000; text-decoration-color: #008000\">37</span> : Using cached data <span style=\"font-weight: bold\">(</span>hash :   <a href=\"file://C:\\Users\\Zirito\\anaconda3\\envs\\manim\\lib\\site-packages\\manim\\renderer\\cairo_renderer.py\"><span style=\"color: #7f7f7f; text-decoration-color: #7f7f7f\">cairo_renderer.py</span></a><span style=\"color: #7f7f7f; text-decoration-color: #7f7f7f\">:110</span>\n",
       "                             457672198_1933207978_3969640922<span style=\"font-weight: bold\">)</span>                                \n",
       "</pre>\n"
      ],
      "text/plain": [
       "\u001b[2;36m[11/18/21 12:18:58]\u001b[0m\u001b[2;36m \u001b[0m\u001b[32mINFO    \u001b[0m Animation \u001b[32m37\u001b[0m : Using cached data \u001b[1m(\u001b[0mhash :   \u001b]8;id=699378;file://C:\\Users\\Zirito\\anaconda3\\envs\\manim\\lib\\site-packages\\manim\\renderer\\cairo_renderer.py\u001b\\\u001b[2mcairo_renderer.py\u001b[0m\u001b]8;;\u001b\\\u001b[2m:110\u001b[0m\n",
       "                             457672198_1933207978_3969640922\u001b[1m)\u001b[0m                                \n"
      ]
     },
     "metadata": {},
     "output_type": "display_data"
    },
    {
     "name": "stderr",
     "output_type": "stream",
     "text": [
      "                                                                                                                       \r"
     ]
    },
    {
     "data": {
      "text/html": [
       "<pre style=\"white-space:pre;overflow-x:auto;line-height:normal;font-family:Menlo,'DejaVu Sans Mono',consolas,'Courier New',monospace\"><span style=\"color: #7fbfbf; text-decoration-color: #7fbfbf\">[11/18/21 12:19:01] </span><span style=\"color: #008000; text-decoration-color: #008000\">INFO    </span> Animation <span style=\"color: #008000; text-decoration-color: #008000\">38</span> : Partial movie file       <a href=\"file://C:\\Users\\Zirito\\anaconda3\\envs\\manim\\lib\\site-packages\\manim\\scene\\scene_file_writer.py\"><span style=\"color: #7f7f7f; text-decoration-color: #7f7f7f\">scene_file_writer.py</span></a><span style=\"color: #7f7f7f; text-decoration-color: #7f7f7f\">:442</span>\n",
       "                             written in                                                      \n",
       "                             <span style=\"color: #008000; text-decoration-color: #008000\">'C:\\Users\\Zirito\\manim\\PROJEK </span>                                  \n",
       "                             <span style=\"color: #008000; text-decoration-color: #008000\">KALKULUS\\MOTIVASI FIX\\media\\videos\\moti</span>                         \n",
       "                             <span style=\"color: #008000; text-decoration-color: #008000\">vasi_3\\480p15\\partial_movie_files\\motiv</span>                         \n",
       "                             <span style=\"color: #008000; text-decoration-color: #008000\">asi_3\\793546222_2839631542_445159617.mp</span>                         \n",
       "                             <span style=\"color: #008000; text-decoration-color: #008000\">4'</span>                                                              \n",
       "</pre>\n"
      ],
      "text/plain": [
       "\u001b[2;36m[11/18/21 12:19:01]\u001b[0m\u001b[2;36m \u001b[0m\u001b[32mINFO    \u001b[0m Animation \u001b[32m38\u001b[0m : Partial movie file       \u001b]8;id=371064;file://C:\\Users\\Zirito\\anaconda3\\envs\\manim\\lib\\site-packages\\manim\\scene\\scene_file_writer.py\u001b\\\u001b[2mscene_file_writer.py\u001b[0m\u001b]8;;\u001b\\\u001b[2m:442\u001b[0m\n",
       "                             written in                                                      \n",
       "                             \u001b[32m'C:\\Users\\Zirito\\manim\\PROJEK \u001b[0m                                  \n",
       "                             \u001b[32mKALKULUS\\MOTIVASI FIX\\media\\videos\\moti\u001b[0m                         \n",
       "                             \u001b[32mvasi_3\\480p15\\partial_movie_files\\motiv\u001b[0m                         \n",
       "                             \u001b[32masi_3\\793546222_2839631542_445159617.mp\u001b[0m                         \n",
       "                             \u001b[32m4'\u001b[0m                                                              \n"
      ]
     },
     "metadata": {},
     "output_type": "display_data"
    },
    {
     "data": {
      "text/html": [
       "<pre style=\"white-space:pre;overflow-x:auto;line-height:normal;font-family:Menlo,'DejaVu Sans Mono',consolas,'Courier New',monospace\"><span style=\"color: #7fbfbf; text-decoration-color: #7fbfbf\">[11/18/21 12:19:04] </span><span style=\"color: #008000; text-decoration-color: #008000\">INFO    </span> Animation <span style=\"color: #008000; text-decoration-color: #008000\">39</span> : Using cached data <span style=\"font-weight: bold\">(</span>hash :   <a href=\"file://C:\\Users\\Zirito\\anaconda3\\envs\\manim\\lib\\site-packages\\manim\\renderer\\cairo_renderer.py\"><span style=\"color: #7f7f7f; text-decoration-color: #7f7f7f\">cairo_renderer.py</span></a><span style=\"color: #7f7f7f; text-decoration-color: #7f7f7f\">:110</span>\n",
       "                             793546222_1845010620_2363394184<span style=\"font-weight: bold\">)</span>                                \n",
       "</pre>\n"
      ],
      "text/plain": [
       "\u001b[2;36m[11/18/21 12:19:04]\u001b[0m\u001b[2;36m \u001b[0m\u001b[32mINFO    \u001b[0m Animation \u001b[32m39\u001b[0m : Using cached data \u001b[1m(\u001b[0mhash :   \u001b]8;id=402031;file://C:\\Users\\Zirito\\anaconda3\\envs\\manim\\lib\\site-packages\\manim\\renderer\\cairo_renderer.py\u001b\\\u001b[2mcairo_renderer.py\u001b[0m\u001b]8;;\u001b\\\u001b[2m:110\u001b[0m\n",
       "                             793546222_1845010620_2363394184\u001b[1m)\u001b[0m                                \n"
      ]
     },
     "metadata": {},
     "output_type": "display_data"
    },
    {
     "name": "stderr",
     "output_type": "stream",
     "text": [
      "                                                                                                                       \r"
     ]
    },
    {
     "data": {
      "text/html": [
       "<pre style=\"white-space:pre;overflow-x:auto;line-height:normal;font-family:Menlo,'DejaVu Sans Mono',consolas,'Courier New',monospace\"><span style=\"color: #7fbfbf; text-decoration-color: #7fbfbf\">[11/18/21 12:19:07] </span><span style=\"color: #008000; text-decoration-color: #008000\">INFO    </span> Animation <span style=\"color: #008000; text-decoration-color: #008000\">40</span> : Using cached data <span style=\"font-weight: bold\">(</span>hash :   <a href=\"file://C:\\Users\\Zirito\\anaconda3\\envs\\manim\\lib\\site-packages\\manim\\renderer\\cairo_renderer.py\"><span style=\"color: #7f7f7f; text-decoration-color: #7f7f7f\">cairo_renderer.py</span></a><span style=\"color: #7f7f7f; text-decoration-color: #7f7f7f\">:110</span>\n",
       "                             793546222_2839631542_3257374335<span style=\"font-weight: bold\">)</span>                                \n",
       "</pre>\n"
      ],
      "text/plain": [
       "\u001b[2;36m[11/18/21 12:19:07]\u001b[0m\u001b[2;36m \u001b[0m\u001b[32mINFO    \u001b[0m Animation \u001b[32m40\u001b[0m : Using cached data \u001b[1m(\u001b[0mhash :   \u001b]8;id=105408;file://C:\\Users\\Zirito\\anaconda3\\envs\\manim\\lib\\site-packages\\manim\\renderer\\cairo_renderer.py\u001b\\\u001b[2mcairo_renderer.py\u001b[0m\u001b]8;;\u001b\\\u001b[2m:110\u001b[0m\n",
       "                             793546222_2839631542_3257374335\u001b[1m)\u001b[0m                                \n"
      ]
     },
     "metadata": {},
     "output_type": "display_data"
    },
    {
     "name": "stderr",
     "output_type": "stream",
     "text": [
      "                                                                                                                       \r"
     ]
    },
    {
     "data": {
      "text/html": [
       "<pre style=\"white-space:pre;overflow-x:auto;line-height:normal;font-family:Menlo,'DejaVu Sans Mono',consolas,'Courier New',monospace\"><span style=\"color: #7fbfbf; text-decoration-color: #7fbfbf\">[11/18/21 12:21:01] </span><span style=\"color: #008000; text-decoration-color: #008000\">INFO    </span> Animation <span style=\"color: #008000; text-decoration-color: #008000\">41</span> : Partial movie file       <a href=\"file://C:\\Users\\Zirito\\anaconda3\\envs\\manim\\lib\\site-packages\\manim\\scene\\scene_file_writer.py\"><span style=\"color: #7f7f7f; text-decoration-color: #7f7f7f\">scene_file_writer.py</span></a><span style=\"color: #7f7f7f; text-decoration-color: #7f7f7f\">:442</span>\n",
       "                             written in                                                      \n",
       "                             <span style=\"color: #008000; text-decoration-color: #008000\">'C:\\Users\\Zirito\\manim\\PROJEK </span>                                  \n",
       "                             <span style=\"color: #008000; text-decoration-color: #008000\">KALKULUS\\MOTIVASI FIX\\media\\videos\\moti</span>                         \n",
       "                             <span style=\"color: #008000; text-decoration-color: #008000\">vasi_3\\480p15\\partial_movie_files\\motiv</span>                         \n",
       "                             <span style=\"color: #008000; text-decoration-color: #008000\">asi_3\\2665756711_2698342500_1405702727.</span>                         \n",
       "                             <span style=\"color: #008000; text-decoration-color: #008000\">mp4'</span>                                                            \n",
       "</pre>\n"
      ],
      "text/plain": [
       "\u001b[2;36m[11/18/21 12:21:01]\u001b[0m\u001b[2;36m \u001b[0m\u001b[32mINFO    \u001b[0m Animation \u001b[32m41\u001b[0m : Partial movie file       \u001b]8;id=698420;file://C:\\Users\\Zirito\\anaconda3\\envs\\manim\\lib\\site-packages\\manim\\scene\\scene_file_writer.py\u001b\\\u001b[2mscene_file_writer.py\u001b[0m\u001b]8;;\u001b\\\u001b[2m:442\u001b[0m\n",
       "                             written in                                                      \n",
       "                             \u001b[32m'C:\\Users\\Zirito\\manim\\PROJEK \u001b[0m                                  \n",
       "                             \u001b[32mKALKULUS\\MOTIVASI FIX\\media\\videos\\moti\u001b[0m                         \n",
       "                             \u001b[32mvasi_3\\480p15\\partial_movie_files\\motiv\u001b[0m                         \n",
       "                             \u001b[32masi_3\\2665756711_2698342500_1405702727.\u001b[0m                         \n",
       "                             \u001b[32mmp4'\u001b[0m                                                            \n"
      ]
     },
     "metadata": {},
     "output_type": "display_data"
    },
    {
     "data": {
      "text/html": [
       "<pre style=\"white-space:pre;overflow-x:auto;line-height:normal;font-family:Menlo,'DejaVu Sans Mono',consolas,'Courier New',monospace\"><span style=\"color: #7fbfbf; text-decoration-color: #7fbfbf\">[11/18/21 12:21:03] </span><span style=\"color: #008000; text-decoration-color: #008000\">INFO    </span> Animation <span style=\"color: #008000; text-decoration-color: #008000\">42</span> : Partial movie file       <a href=\"file://C:\\Users\\Zirito\\anaconda3\\envs\\manim\\lib\\site-packages\\manim\\scene\\scene_file_writer.py\"><span style=\"color: #7f7f7f; text-decoration-color: #7f7f7f\">scene_file_writer.py</span></a><span style=\"color: #7f7f7f; text-decoration-color: #7f7f7f\">:442</span>\n",
       "                             written in                                                      \n",
       "                             <span style=\"color: #008000; text-decoration-color: #008000\">'C:\\Users\\Zirito\\manim\\PROJEK </span>                                  \n",
       "                             <span style=\"color: #008000; text-decoration-color: #008000\">KALKULUS\\MOTIVASI FIX\\media\\videos\\moti</span>                         \n",
       "                             <span style=\"color: #008000; text-decoration-color: #008000\">vasi_3\\480p15\\partial_movie_files\\motiv</span>                         \n",
       "                             <span style=\"color: #008000; text-decoration-color: #008000\">asi_3\\2867803087_2839631542_1162039717.</span>                         \n",
       "                             <span style=\"color: #008000; text-decoration-color: #008000\">mp4'</span>                                                            \n",
       "</pre>\n"
      ],
      "text/plain": [
       "\u001b[2;36m[11/18/21 12:21:03]\u001b[0m\u001b[2;36m \u001b[0m\u001b[32mINFO    \u001b[0m Animation \u001b[32m42\u001b[0m : Partial movie file       \u001b]8;id=346017;file://C:\\Users\\Zirito\\anaconda3\\envs\\manim\\lib\\site-packages\\manim\\scene\\scene_file_writer.py\u001b\\\u001b[2mscene_file_writer.py\u001b[0m\u001b]8;;\u001b\\\u001b[2m:442\u001b[0m\n",
       "                             written in                                                      \n",
       "                             \u001b[32m'C:\\Users\\Zirito\\manim\\PROJEK \u001b[0m                                  \n",
       "                             \u001b[32mKALKULUS\\MOTIVASI FIX\\media\\videos\\moti\u001b[0m                         \n",
       "                             \u001b[32mvasi_3\\480p15\\partial_movie_files\\motiv\u001b[0m                         \n",
       "                             \u001b[32masi_3\\2867803087_2839631542_1162039717.\u001b[0m                         \n",
       "                             \u001b[32mmp4'\u001b[0m                                                            \n"
      ]
     },
     "metadata": {},
     "output_type": "display_data"
    },
    {
     "name": "stderr",
     "output_type": "stream",
     "text": [
      "                                                                                                                       \r"
     ]
    },
    {
     "data": {
      "text/html": [
       "<pre style=\"white-space:pre;overflow-x:auto;line-height:normal;font-family:Menlo,'DejaVu Sans Mono',consolas,'Courier New',monospace\"><span style=\"color: #7fbfbf; text-decoration-color: #7fbfbf\">[11/18/21 12:21:06] </span><span style=\"color: #008000; text-decoration-color: #008000\">INFO    </span> Animation <span style=\"color: #008000; text-decoration-color: #008000\">43</span> : Partial movie file       <a href=\"file://C:\\Users\\Zirito\\anaconda3\\envs\\manim\\lib\\site-packages\\manim\\scene\\scene_file_writer.py\"><span style=\"color: #7f7f7f; text-decoration-color: #7f7f7f\">scene_file_writer.py</span></a><span style=\"color: #7f7f7f; text-decoration-color: #7f7f7f\">:442</span>\n",
       "                             written in                                                      \n",
       "                             <span style=\"color: #008000; text-decoration-color: #008000\">'C:\\Users\\Zirito\\manim\\PROJEK </span>                                  \n",
       "                             <span style=\"color: #008000; text-decoration-color: #008000\">KALKULUS\\MOTIVASI FIX\\media\\videos\\moti</span>                         \n",
       "                             <span style=\"color: #008000; text-decoration-color: #008000\">vasi_3\\480p15\\partial_movie_files\\motiv</span>                         \n",
       "                             <span style=\"color: #008000; text-decoration-color: #008000\">asi_3\\2867803087_433599383_1645545590.m</span>                         \n",
       "                             <span style=\"color: #008000; text-decoration-color: #008000\">p4'</span>                                                             \n",
       "</pre>\n"
      ],
      "text/plain": [
       "\u001b[2;36m[11/18/21 12:21:06]\u001b[0m\u001b[2;36m \u001b[0m\u001b[32mINFO    \u001b[0m Animation \u001b[32m43\u001b[0m : Partial movie file       \u001b]8;id=53919;file://C:\\Users\\Zirito\\anaconda3\\envs\\manim\\lib\\site-packages\\manim\\scene\\scene_file_writer.py\u001b\\\u001b[2mscene_file_writer.py\u001b[0m\u001b]8;;\u001b\\\u001b[2m:442\u001b[0m\n",
       "                             written in                                                      \n",
       "                             \u001b[32m'C:\\Users\\Zirito\\manim\\PROJEK \u001b[0m                                  \n",
       "                             \u001b[32mKALKULUS\\MOTIVASI FIX\\media\\videos\\moti\u001b[0m                         \n",
       "                             \u001b[32mvasi_3\\480p15\\partial_movie_files\\motiv\u001b[0m                         \n",
       "                             \u001b[32masi_3\\2867803087_433599383_1645545590.m\u001b[0m                         \n",
       "                             \u001b[32mp4'\u001b[0m                                                             \n"
      ]
     },
     "metadata": {},
     "output_type": "display_data"
    },
    {
     "data": {
      "text/html": [
       "<pre style=\"white-space:pre;overflow-x:auto;line-height:normal;font-family:Menlo,'DejaVu Sans Mono',consolas,'Courier New',monospace\"><span style=\"color: #7fbfbf; text-decoration-color: #7fbfbf\">                    </span><span style=\"color: #008000; text-decoration-color: #008000\">INFO    </span> Animation <span style=\"color: #008000; text-decoration-color: #008000\">44</span> : Partial movie file       <a href=\"file://C:\\Users\\Zirito\\anaconda3\\envs\\manim\\lib\\site-packages\\manim\\scene\\scene_file_writer.py\"><span style=\"color: #7f7f7f; text-decoration-color: #7f7f7f\">scene_file_writer.py</span></a><span style=\"color: #7f7f7f; text-decoration-color: #7f7f7f\">:442</span>\n",
       "                             written in                                                      \n",
       "                             <span style=\"color: #008000; text-decoration-color: #008000\">'C:\\Users\\Zirito\\manim\\PROJEK </span>                                  \n",
       "                             <span style=\"color: #008000; text-decoration-color: #008000\">KALKULUS\\MOTIVASI FIX\\media\\videos\\moti</span>                         \n",
       "                             <span style=\"color: #008000; text-decoration-color: #008000\">vasi_3\\480p15\\partial_movie_files\\motiv</span>                         \n",
       "                             <span style=\"color: #008000; text-decoration-color: #008000\">asi_3\\2867803087_910656892_2787390221.m</span>                         \n",
       "                             <span style=\"color: #008000; text-decoration-color: #008000\">p4'</span>                                                             \n",
       "</pre>\n"
      ],
      "text/plain": [
       "\u001b[2;36m                   \u001b[0m\u001b[2;36m \u001b[0m\u001b[32mINFO    \u001b[0m Animation \u001b[32m44\u001b[0m : Partial movie file       \u001b]8;id=44390;file://C:\\Users\\Zirito\\anaconda3\\envs\\manim\\lib\\site-packages\\manim\\scene\\scene_file_writer.py\u001b\\\u001b[2mscene_file_writer.py\u001b[0m\u001b]8;;\u001b\\\u001b[2m:442\u001b[0m\n",
       "                             written in                                                      \n",
       "                             \u001b[32m'C:\\Users\\Zirito\\manim\\PROJEK \u001b[0m                                  \n",
       "                             \u001b[32mKALKULUS\\MOTIVASI FIX\\media\\videos\\moti\u001b[0m                         \n",
       "                             \u001b[32mvasi_3\\480p15\\partial_movie_files\\motiv\u001b[0m                         \n",
       "                             \u001b[32masi_3\\2867803087_910656892_2787390221.m\u001b[0m                         \n",
       "                             \u001b[32mp4'\u001b[0m                                                             \n"
      ]
     },
     "metadata": {},
     "output_type": "display_data"
    },
    {
     "data": {
      "text/html": [
       "<pre style=\"white-space:pre;overflow-x:auto;line-height:normal;font-family:Menlo,'DejaVu Sans Mono',consolas,'Courier New',monospace\"><span style=\"color: #7fbfbf; text-decoration-color: #7fbfbf\">[11/18/21 12:21:08] </span><span style=\"color: #008000; text-decoration-color: #008000\">INFO    </span>                                         <a href=\"file://C:\\Users\\Zirito\\anaconda3\\envs\\manim\\lib\\site-packages\\manim\\scene\\scene_file_writer.py\"><span style=\"color: #7f7f7f; text-decoration-color: #7f7f7f\">scene_file_writer.py</span></a><span style=\"color: #7f7f7f; text-decoration-color: #7f7f7f\">:627</span>\n",
       "                             <span style=\"color: #808000; text-decoration-color: #808000; font-weight: bold\">File</span> ready at                                                   \n",
       "                             <span style=\"color: #008000; text-decoration-color: #008000\">'C:\\Users\\Zirito\\manim\\PROJEK </span>                                  \n",
       "                             <span style=\"color: #008000; text-decoration-color: #008000\">KALKULUS\\MOTIVASI FIX\\media\\videos\\moti</span>                         \n",
       "                             <span style=\"color: #008000; text-decoration-color: #008000\">vasi_3\\480p15\\motivasi_3.mp4'</span>                                   \n",
       "                                                                                             \n",
       "</pre>\n"
      ],
      "text/plain": [
       "\u001b[2;36m[11/18/21 12:21:08]\u001b[0m\u001b[2;36m \u001b[0m\u001b[32mINFO    \u001b[0m                                         \u001b]8;id=831162;file://C:\\Users\\Zirito\\anaconda3\\envs\\manim\\lib\\site-packages\\manim\\scene\\scene_file_writer.py\u001b\\\u001b[2mscene_file_writer.py\u001b[0m\u001b]8;;\u001b\\\u001b[2m:627\u001b[0m\n",
       "                             \u001b[1;33mFile\u001b[0m ready at                                                   \n",
       "                             \u001b[32m'C:\\Users\\Zirito\\manim\\PROJEK \u001b[0m                                  \n",
       "                             \u001b[32mKALKULUS\\MOTIVASI FIX\\media\\videos\\moti\u001b[0m                         \n",
       "                             \u001b[32mvasi_3\\480p15\\motivasi_3.mp4'\u001b[0m                                   \n",
       "                                                                                             \n"
      ]
     },
     "metadata": {},
     "output_type": "display_data"
    },
    {
     "data": {
      "text/html": [
       "<pre style=\"white-space:pre;overflow-x:auto;line-height:normal;font-family:Menlo,'DejaVu Sans Mono',consolas,'Courier New',monospace\"><span style=\"color: #7fbfbf; text-decoration-color: #7fbfbf\">[11/18/21 12:21:09] </span><span style=\"color: #008000; text-decoration-color: #008000\">INFO    </span> The partial movie directory is full <span style=\"font-weight: bold\">(</span>&gt;  <a href=\"file://C:\\Users\\Zirito\\anaconda3\\envs\\manim\\lib\\site-packages\\manim\\scene\\scene_file_writer.py\"><span style=\"color: #7f7f7f; text-decoration-color: #7f7f7f\">scene_file_writer.py</span></a><span style=\"color: #7f7f7f; text-decoration-color: #7f7f7f\">:605</span>\n",
       "                             <span style=\"color: #008000; text-decoration-color: #008000\">100</span> files<span style=\"font-weight: bold\">)</span>. Therefore, manim has                                \n",
       "                             removed the <span style=\"color: #008000; text-decoration-color: #008000\">14</span> oldest <span style=\"color: #800080; text-decoration-color: #800080; font-weight: bold\">file</span><span style=\"font-weight: bold\">(</span>s<span style=\"font-weight: bold\">)</span>. You can                          \n",
       "                             change this behaviour by changing                               \n",
       "                             max_files_cached in config.                                     \n",
       "</pre>\n"
      ],
      "text/plain": [
       "\u001b[2;36m[11/18/21 12:21:09]\u001b[0m\u001b[2;36m \u001b[0m\u001b[32mINFO    \u001b[0m The partial movie directory is full \u001b[1m(\u001b[0m>  \u001b]8;id=748579;file://C:\\Users\\Zirito\\anaconda3\\envs\\manim\\lib\\site-packages\\manim\\scene\\scene_file_writer.py\u001b\\\u001b[2mscene_file_writer.py\u001b[0m\u001b]8;;\u001b\\\u001b[2m:605\u001b[0m\n",
       "                             \u001b[32m100\u001b[0m files\u001b[1m)\u001b[0m. Therefore, manim has                                \n",
       "                             removed the \u001b[32m14\u001b[0m oldest \u001b[1;35mfile\u001b[0m\u001b[1m(\u001b[0ms\u001b[1m)\u001b[0m. You can                          \n",
       "                             change this behaviour by changing                               \n",
       "                             max_files_cached in config.                                     \n"
      ]
     },
     "metadata": {},
     "output_type": "display_data"
    },
    {
     "data": {
      "text/html": [
       "<pre style=\"white-space:pre;overflow-x:auto;line-height:normal;font-family:Menlo,'DejaVu Sans Mono',consolas,'Courier New',monospace\"><span style=\"color: #7fbfbf; text-decoration-color: #7fbfbf\">                    </span><span style=\"color: #008000; text-decoration-color: #008000\">INFO    </span> <span style=\"color: #808000; text-decoration-color: #808000; font-weight: bold\">Rendered</span> motivasi_3                                 <a href=\"file://C:\\Users\\Zirito\\anaconda3\\envs\\manim\\lib\\site-packages\\manim\\scene\\scene.py\"><span style=\"color: #7f7f7f; text-decoration-color: #7f7f7f\">scene.py</span></a><span style=\"color: #7f7f7f; text-decoration-color: #7f7f7f\">:231</span>\n",
       "                             <span style=\"color: #808000; text-decoration-color: #808000; font-weight: bold\">Played</span> <span style=\"color: #008000; text-decoration-color: #008000\">45</span> <span style=\"color: #808000; text-decoration-color: #808000; font-weight: bold\">animations</span>                                            \n",
       "</pre>\n"
      ],
      "text/plain": [
       "\u001b[2;36m                   \u001b[0m\u001b[2;36m \u001b[0m\u001b[32mINFO    \u001b[0m \u001b[1;33mRendered\u001b[0m motivasi_3                                 \u001b]8;id=530642;file://C:\\Users\\Zirito\\anaconda3\\envs\\manim\\lib\\site-packages\\manim\\scene\\scene.py\u001b\\\u001b[2mscene.py\u001b[0m\u001b]8;;\u001b\\\u001b[2m:231\u001b[0m\n",
       "                             \u001b[1;33mPlayed\u001b[0m \u001b[32m45\u001b[0m \u001b[1;33manimations\u001b[0m                                            \n"
      ]
     },
     "metadata": {},
     "output_type": "display_data"
    },
    {
     "data": {
      "text/html": [
       "<pre style=\"white-space:pre;overflow-x:auto;line-height:normal;font-family:Menlo,'DejaVu Sans Mono',consolas,'Courier New',monospace\"><span style=\"color: #7fbfbf; text-decoration-color: #7fbfbf\">                    </span><span style=\"color: #008000; text-decoration-color: #008000\">INFO    </span> Previewed <span style=\"color: #808000; text-decoration-color: #808000; font-weight: bold\">File</span> at: <span style=\"color: #008000; text-decoration-color: #008000\">'C:\\Users\\Zirito\\manim\\PROJEK</span> <a href=\"file://C:\\Users\\Zirito\\anaconda3\\envs\\manim\\lib\\site-packages\\manim\\utils\\file_ops.py\"><span style=\"color: #7f7f7f; text-decoration-color: #7f7f7f\">file_ops.py</span></a><span style=\"color: #7f7f7f; text-decoration-color: #7f7f7f\">:193</span>\n",
       "                             <span style=\"color: #008000; text-decoration-color: #008000\">KALKULUS\\MOTIVASI FIX\\media\\videos\\motivasi_3\\48</span>                \n",
       "                             <span style=\"color: #008000; text-decoration-color: #008000\">0p15\\motivasi_3.mp4'</span>                                            \n",
       "</pre>\n"
      ],
      "text/plain": [
       "\u001b[2;36m                   \u001b[0m\u001b[2;36m \u001b[0m\u001b[32mINFO    \u001b[0m Previewed \u001b[1;33mFile\u001b[0m at: \u001b[32m'C:\\Users\\Zirito\\manim\\PROJEK\u001b[0m \u001b]8;id=807180;file://C:\\Users\\Zirito\\anaconda3\\envs\\manim\\lib\\site-packages\\manim\\utils\\file_ops.py\u001b\\\u001b[2mfile_ops.py\u001b[0m\u001b]8;;\u001b\\\u001b[2m:193\u001b[0m\n",
       "                             \u001b[32mKALKULUS\\MOTIVASI FIX\\media\\videos\\motivasi_3\\48\u001b[0m                \n",
       "                             \u001b[32m0p15\\motivasi_3.mp4'\u001b[0m                                            \n"
      ]
     },
     "metadata": {},
     "output_type": "display_data"
    },
    {
     "data": {
      "text/html": [
       "<video src=\"media\\jupyter\\motivasi_3@2021-11-18@12-21-09.mp4\" controls autoplay loop style=\"max-width: 25vw;\"  >\n",
       "      Your browser does not support the <code>video</code> element.\n",
       "    </video>"
      ],
      "text/plain": [
       "<IPython.core.display.Video object>"
      ]
     },
     "metadata": {},
     "output_type": "display_data"
    }
   ],
   "source": [
    "manim motivasi_3.py motivasi_3 -p -ql"
   ]
  },
  {
   "cell_type": "code",
   "execution_count": null,
   "id": "7c05d8ab",
   "metadata": {},
   "outputs": [],
   "source": []
  },
  {
   "cell_type": "code",
   "execution_count": null,
   "id": "7c7d8b7d",
   "metadata": {},
   "outputs": [],
   "source": []
  }
 ],
 "metadata": {
  "kernelspec": {
   "display_name": "Python 3 (ipykernel)",
   "language": "python",
   "name": "python3"
  },
  "language_info": {
   "codemirror_mode": {
    "name": "ipython",
    "version": 3
   },
   "file_extension": ".py",
   "mimetype": "text/x-python",
   "name": "python",
   "nbconvert_exporter": "python",
   "pygments_lexer": "ipython3",
   "version": "3.8.12"
  }
 },
 "nbformat": 4,
 "nbformat_minor": 5
}
