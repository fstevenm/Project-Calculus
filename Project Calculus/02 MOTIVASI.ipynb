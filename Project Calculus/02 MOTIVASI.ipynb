{
 "cells": [
  {
   "cell_type": "code",
   "execution_count": 1,
   "id": "3aa9e6f8",
   "metadata": {},
   "outputs": [
    {
     "data": {
      "text/html": [
       "<pre style=\"white-space:pre;overflow-x:auto;line-height:normal;font-family:Menlo,'DejaVu Sans Mono',consolas,'Courier New',monospace\">Manim Community <span style=\"color: #008000; text-decoration-color: #008000\">v0.11.0</span>\n",
       "\n",
       "</pre>\n"
      ],
      "text/plain": [
       "Manim Community \u001b[32mv0.\u001b[0m\u001b[32m11.0\u001b[0m\n",
       "\n"
      ]
     },
     "metadata": {},
     "output_type": "display_data"
    }
   ],
   "source": [
    "from manim import *"
   ]
  },
  {
   "cell_type": "code",
   "execution_count": 2,
   "id": "1f94ffd6",
   "metadata": {},
   "outputs": [],
   "source": [
    "import numpy as np\n",
    "class motivasi_2(MovingCameraScene):\n",
    "    def construct(self):\n",
    "        axes_0 = Axes(\n",
    "            x_range=[-2, 3],\n",
    "            y_range=[-2, 6],\n",
    "            x_length=6,\n",
    "            axis_config={\"color\": WHITE},\n",
    "        )\n",
    "#         axes_0.add_coordinates(font_size=10, num_decimal_places=1)\n",
    "        axes_0.add_coordinates(font_size=25)\n",
    "        labels_0 = axes_0.get_axis_labels(x_label='x', y_label='y').set_color(WHITE)\n",
    "        \n",
    "        \n",
    "        ''' LINE 2 '''\n",
    "        baris_ke10 = Text('Bagaimana dengan garis singgung kurva lain?',font = 'Arial',\n",
    "                         t2w = {'Bagaimana dengan garis singgung kurva lain?':BOLD}).scale(0.7)\n",
    "        baris_ke10[15:28].set_color(YELLOW)\n",
    "        baris_ke10.generate_target()\n",
    "        baris_ke10_2 = Text('Untuk kurva lain, definisi garis singgung sebelumnya tidak cocok karena dapat diamati',\n",
    "                            font = 'Arial').scale(0.45)\n",
    "        baris_ke10_3 = Text('pada contoh gambar dibawah garis singgung di titik P memotong kurva dua kali',\n",
    "                            font = 'Arial',\n",
    "                            t2s = {'P':ITALIC}).scale(0.45)\n",
    "        \n",
    "        f1 = lambda x: x**3 - 2*x**2 + 1\n",
    "        gambar = axes_0.get_graph(f1, color = WHITE,x_range=[-1, 2.55])\n",
    "        gambar_label = axes_0.get_graph_label(gambar, label=MathTex('y=x^3-2x^2+1'), \n",
    "                                              x_val=2.5, direction=UR).scale(0.8)\n",
    "        \n",
    "#         point_gambar = axes_0.c2p(0,1)\n",
    "#         titik_gambar = Dot((point_gambar),color = YELLOW).scale(0.8)\n",
    "#         nama_titik_gambar = MathTex('\\\\bold P(0,1)', color = YELLOW).scale(0.5) \n",
    "#         nama_titik_gambar.next_to(titik_gambar,RIGHT)\n",
    "#         nama_titik_gambar.move_to(UP*0.0001)\n",
    "        \n",
    "        t_0 = ValueTracker(0)\n",
    "        t_1 = ValueTracker(1)\n",
    "        t_gambar_0= Dot(point = axes_0.coords_to_point(t_0.get_value(),f1(t_0.get_value())), color=YELLOW).scale(0.8)\n",
    "#         t_gambar_1 = Dot(point = axes_0.coords_to_point(t_1.get_value(),f1(t_1.get_value())), color=YELLOW).scale(0.8)\n",
    "#         \n",
    "#         t_gambar_0.add_updater(lambda x: x.move_to(axes_0.c2p(t_0.get_value(),f1(t_0.get_value()))))\n",
    "#         t_gambar_1.add_updater(lambda x: x.move_to(axes_0.c2p(t_1.get_value(),f1(t_1.get_value()))))\n",
    "        \n",
    "#         garis_gambar = Line(t_gambar_0.get_center(),t_gambar_1.get_center(), color = YELLOW).scale(1.7)\n",
    "        garis_gambar = Line(axes_0.coords_to_point(-1.5,1),\n",
    "                            axes_0.coords_to_point(2.3,1),\n",
    "                            color = YELLOW).scale(1)\n",
    "        garis_gambar.set_stroke(width = 1.7)\n",
    "\n",
    "#         garis_gambar.add_updater(lambda z: z.become(Line(t_gambar_0.get_center(),t_gambar_1.get_center()).scale(2)))\n",
    "#         self.play(t_1.animate.set_value(0.5))\n",
    "#         self.play(FadeIn(t_gambar_0,t_gambar_1,garis_gambar))\n",
    "        \n",
    "        nama_titik_gambar = MathTex('\\\\bold P(0,1)', color = YELLOW).scale(0.5) \n",
    "        nama_titik_gambar.next_to(axes_0.coords_to_point(0,1.3),RIGHT)\n",
    "\n",
    "        ''''''\n",
    "        baris_ke11 = Text('Selanjutnya kita pahami garis singgung dengan contoh berikut!',\n",
    "                          font = 'Arial',\n",
    "                          t2w = {'garis singgung':BOLD}).scale(0.7)\n",
    "        baris_ke11[21:34].set_color(YELLOW)\n",
    "        \n",
    "        \n",
    "        \n",
    "        self.camera.background_color = \"#1e3264\"\n",
    "\n",
    "        \n",
    "        ''' contoh 2'''\n",
    "        self.play(Write(baris_ke10))\n",
    "        self.wait(1)\n",
    "        baris_ke10.target.move_to(np.array([0,3,0]))\n",
    "        self.play(MoveToTarget(baris_ke10))\n",
    "        self.wait(1)\n",
    "        \n",
    "        baris_ke10_2.next_to(baris_ke10, DOWN)\n",
    "        baris_ke10_3.next_to(baris_ke10_2, DOWN)\n",
    "        \n",
    "        self.play(Write(baris_ke10_2))\n",
    "        self.play(Write(baris_ke10_3))\n",
    "        self.wait(1)\n",
    "        \n",
    "        grups = VGroup(axes_0,labels_0,gambar,gambar_label,nama_titik_gambar,\n",
    "                       t_gambar_0,garis_gambar).scale(0.7)\n",
    "        grups.move_to(np.array([0,-1,0]))\n",
    "        \n",
    "        '''axes_0,labels_0,gambar,gambar_label'''\n",
    "        self.play(Write(axes_0),Create(labels_0))\n",
    "        self.play(Create(gambar))\n",
    "        self.play(Create(gambar_label))\n",
    "        self.wait(1)\n",
    "        self.play(Create(t_gambar_0))\n",
    "        self.wait(1)\n",
    "        self.play(Create(nama_titik_gambar))\n",
    "        self.play(Create(garis_gambar))\n",
    "        self.wait(2.5)\n",
    "        \n",
    "        self.play(ReplacementTransform(baris_ke10,baris_ke11),\n",
    "                  FadeOut(baris_ke10_2), FadeOut(baris_ke10_3),\n",
    "                  FadeOut(grups))\n",
    "        self.wait(2)\n",
    "        self.play(FadeOut(baris_ke11, target_position = ORIGIN))\n",
    "        self.wait(1)\n",
    "      "
   ]
  },
  {
   "cell_type": "code",
   "execution_count": 3,
   "id": "e1ba1b39",
   "metadata": {
    "scrolled": true
   },
   "outputs": [
    {
     "data": {
      "text/html": [
       "<pre style=\"white-space:pre;overflow-x:auto;line-height:normal;font-family:Menlo,'DejaVu Sans Mono',consolas,'Courier New',monospace\"><span style=\"color: #7fbfbf; text-decoration-color: #7fbfbf\">[11/18/21 12:10:52] </span><span style=\"color: #008000; text-decoration-color: #008000\">INFO    </span> Animation <span style=\"color: #008000; text-decoration-color: #008000\">0</span> : Using cached data <span style=\"font-weight: bold\">(</span>hash :    <a href=\"file://C:\\Users\\Zirito\\anaconda3\\envs\\manim\\lib\\site-packages\\manim\\renderer\\cairo_renderer.py\"><span style=\"color: #7f7f7f; text-decoration-color: #7f7f7f\">cairo_renderer.py</span></a><span style=\"color: #7f7f7f; text-decoration-color: #7f7f7f\">:110</span>\n",
       "                             759734782_1873049040_4186151691<span style=\"font-weight: bold\">)</span>                                \n",
       "</pre>\n"
      ],
      "text/plain": [
       "\u001b[2;36m[11/18/21 12:10:52]\u001b[0m\u001b[2;36m \u001b[0m\u001b[32mINFO    \u001b[0m Animation \u001b[32m0\u001b[0m : Using cached data \u001b[1m(\u001b[0mhash :    \u001b]8;id=925337;file://C:\\Users\\Zirito\\anaconda3\\envs\\manim\\lib\\site-packages\\manim\\renderer\\cairo_renderer.py\u001b\\\u001b[2mcairo_renderer.py\u001b[0m\u001b]8;;\u001b\\\u001b[2m:110\u001b[0m\n",
       "                             759734782_1873049040_4186151691\u001b[1m)\u001b[0m                                \n"
      ]
     },
     "metadata": {},
     "output_type": "display_data"
    },
    {
     "name": "stderr",
     "output_type": "stream",
     "text": [
      "                                                                                                                       \r"
     ]
    },
    {
     "data": {
      "text/html": [
       "<pre style=\"white-space:pre;overflow-x:auto;line-height:normal;font-family:Menlo,'DejaVu Sans Mono',consolas,'Courier New',monospace\"><span style=\"color: #7fbfbf; text-decoration-color: #7fbfbf\">[11/18/21 12:10:53] </span><span style=\"color: #008000; text-decoration-color: #008000\">INFO    </span> Animation <span style=\"color: #008000; text-decoration-color: #008000\">1</span> : Using cached data <span style=\"font-weight: bold\">(</span>hash :    <a href=\"file://C:\\Users\\Zirito\\anaconda3\\envs\\manim\\lib\\site-packages\\manim\\renderer\\cairo_renderer.py\"><span style=\"color: #7f7f7f; text-decoration-color: #7f7f7f\">cairo_renderer.py</span></a><span style=\"color: #7f7f7f; text-decoration-color: #7f7f7f\">:110</span>\n",
       "                             3930506391_2839631542_2633034367<span style=\"font-weight: bold\">)</span>                               \n",
       "</pre>\n"
      ],
      "text/plain": [
       "\u001b[2;36m[11/18/21 12:10:53]\u001b[0m\u001b[2;36m \u001b[0m\u001b[32mINFO    \u001b[0m Animation \u001b[32m1\u001b[0m : Using cached data \u001b[1m(\u001b[0mhash :    \u001b]8;id=364916;file://C:\\Users\\Zirito\\anaconda3\\envs\\manim\\lib\\site-packages\\manim\\renderer\\cairo_renderer.py\u001b\\\u001b[2mcairo_renderer.py\u001b[0m\u001b]8;;\u001b\\\u001b[2m:110\u001b[0m\n",
       "                             3930506391_2839631542_2633034367\u001b[1m)\u001b[0m                               \n"
      ]
     },
     "metadata": {},
     "output_type": "display_data"
    },
    {
     "data": {
      "text/html": [
       "<pre style=\"white-space:pre;overflow-x:auto;line-height:normal;font-family:Menlo,'DejaVu Sans Mono',consolas,'Courier New',monospace\"><span style=\"color: #7fbfbf; text-decoration-color: #7fbfbf\">[11/18/21 12:10:54] </span><span style=\"color: #008000; text-decoration-color: #008000\">INFO    </span> Animation <span style=\"color: #008000; text-decoration-color: #008000\">2</span> : Using cached data <span style=\"font-weight: bold\">(</span>hash :    <a href=\"file://C:\\Users\\Zirito\\anaconda3\\envs\\manim\\lib\\site-packages\\manim\\renderer\\cairo_renderer.py\"><span style=\"color: #7f7f7f; text-decoration-color: #7f7f7f\">cairo_renderer.py</span></a><span style=\"color: #7f7f7f; text-decoration-color: #7f7f7f\">:110</span>\n",
       "                             3930506391_1103067686_4227211705<span style=\"font-weight: bold\">)</span>                               \n",
       "</pre>\n"
      ],
      "text/plain": [
       "\u001b[2;36m[11/18/21 12:10:54]\u001b[0m\u001b[2;36m \u001b[0m\u001b[32mINFO    \u001b[0m Animation \u001b[32m2\u001b[0m : Using cached data \u001b[1m(\u001b[0mhash :    \u001b]8;id=736393;file://C:\\Users\\Zirito\\anaconda3\\envs\\manim\\lib\\site-packages\\manim\\renderer\\cairo_renderer.py\u001b\\\u001b[2mcairo_renderer.py\u001b[0m\u001b]8;;\u001b\\\u001b[2m:110\u001b[0m\n",
       "                             3930506391_1103067686_4227211705\u001b[1m)\u001b[0m                               \n"
      ]
     },
     "metadata": {},
     "output_type": "display_data"
    },
    {
     "name": "stderr",
     "output_type": "stream",
     "text": [
      "                                                                                                                       \r"
     ]
    },
    {
     "data": {
      "text/html": [
       "<pre style=\"white-space:pre;overflow-x:auto;line-height:normal;font-family:Menlo,'DejaVu Sans Mono',consolas,'Courier New',monospace\"><span style=\"color: #7fbfbf; text-decoration-color: #7fbfbf\">[11/18/21 12:10:56] </span><span style=\"color: #008000; text-decoration-color: #008000\">INFO    </span> Animation <span style=\"color: #008000; text-decoration-color: #008000\">3</span> : Using cached data <span style=\"font-weight: bold\">(</span>hash :    <a href=\"file://C:\\Users\\Zirito\\anaconda3\\envs\\manim\\lib\\site-packages\\manim\\renderer\\cairo_renderer.py\"><span style=\"color: #7f7f7f; text-decoration-color: #7f7f7f\">cairo_renderer.py</span></a><span style=\"color: #7f7f7f; text-decoration-color: #7f7f7f\">:110</span>\n",
       "                             3930506391_2839631542_1672296714<span style=\"font-weight: bold\">)</span>                               \n",
       "</pre>\n"
      ],
      "text/plain": [
       "\u001b[2;36m[11/18/21 12:10:56]\u001b[0m\u001b[2;36m \u001b[0m\u001b[32mINFO    \u001b[0m Animation \u001b[32m3\u001b[0m : Using cached data \u001b[1m(\u001b[0mhash :    \u001b]8;id=969067;file://C:\\Users\\Zirito\\anaconda3\\envs\\manim\\lib\\site-packages\\manim\\renderer\\cairo_renderer.py\u001b\\\u001b[2mcairo_renderer.py\u001b[0m\u001b]8;;\u001b\\\u001b[2m:110\u001b[0m\n",
       "                             3930506391_2839631542_1672296714\u001b[1m)\u001b[0m                               \n"
      ]
     },
     "metadata": {},
     "output_type": "display_data"
    },
    {
     "data": {
      "text/html": [
       "<pre style=\"white-space:pre;overflow-x:auto;line-height:normal;font-family:Menlo,'DejaVu Sans Mono',consolas,'Courier New',monospace\"><span style=\"color: #7fbfbf; text-decoration-color: #7fbfbf\">[11/18/21 12:10:59] </span><span style=\"color: #008000; text-decoration-color: #008000\">INFO    </span> Animation <span style=\"color: #008000; text-decoration-color: #008000\">4</span> : Using cached data <span style=\"font-weight: bold\">(</span>hash :    <a href=\"file://C:\\Users\\Zirito\\anaconda3\\envs\\manim\\lib\\site-packages\\manim\\renderer\\cairo_renderer.py\"><span style=\"color: #7f7f7f; text-decoration-color: #7f7f7f\">cairo_renderer.py</span></a><span style=\"color: #7f7f7f; text-decoration-color: #7f7f7f\">:110</span>\n",
       "                             3930506391_1044940448_2229004801<span style=\"font-weight: bold\">)</span>                               \n",
       "</pre>\n"
      ],
      "text/plain": [
       "\u001b[2;36m[11/18/21 12:10:59]\u001b[0m\u001b[2;36m \u001b[0m\u001b[32mINFO    \u001b[0m Animation \u001b[32m4\u001b[0m : Using cached data \u001b[1m(\u001b[0mhash :    \u001b]8;id=921212;file://C:\\Users\\Zirito\\anaconda3\\envs\\manim\\lib\\site-packages\\manim\\renderer\\cairo_renderer.py\u001b\\\u001b[2mcairo_renderer.py\u001b[0m\u001b]8;;\u001b\\\u001b[2m:110\u001b[0m\n",
       "                             3930506391_1044940448_2229004801\u001b[1m)\u001b[0m                               \n"
      ]
     },
     "metadata": {},
     "output_type": "display_data"
    },
    {
     "name": "stderr",
     "output_type": "stream",
     "text": [
      "                                                                                                                       \r"
     ]
    },
    {
     "data": {
      "text/html": [
       "<pre style=\"white-space:pre;overflow-x:auto;line-height:normal;font-family:Menlo,'DejaVu Sans Mono',consolas,'Courier New',monospace\"><span style=\"color: #7fbfbf; text-decoration-color: #7fbfbf\">[11/18/21 12:11:03] </span><span style=\"color: #008000; text-decoration-color: #008000\">INFO    </span> Animation <span style=\"color: #008000; text-decoration-color: #008000\">5</span> : Using cached data <span style=\"font-weight: bold\">(</span>hash :    <a href=\"file://C:\\Users\\Zirito\\anaconda3\\envs\\manim\\lib\\site-packages\\manim\\renderer\\cairo_renderer.py\"><span style=\"color: #7f7f7f; text-decoration-color: #7f7f7f\">cairo_renderer.py</span></a><span style=\"color: #7f7f7f; text-decoration-color: #7f7f7f\">:110</span>\n",
       "                             3930506391_2782204513_2013202368<span style=\"font-weight: bold\">)</span>                               \n",
       "</pre>\n"
      ],
      "text/plain": [
       "\u001b[2;36m[11/18/21 12:11:03]\u001b[0m\u001b[2;36m \u001b[0m\u001b[32mINFO    \u001b[0m Animation \u001b[32m5\u001b[0m : Using cached data \u001b[1m(\u001b[0mhash :    \u001b]8;id=909694;file://C:\\Users\\Zirito\\anaconda3\\envs\\manim\\lib\\site-packages\\manim\\renderer\\cairo_renderer.py\u001b\\\u001b[2mcairo_renderer.py\u001b[0m\u001b]8;;\u001b\\\u001b[2m:110\u001b[0m\n",
       "                             3930506391_2782204513_2013202368\u001b[1m)\u001b[0m                               \n"
      ]
     },
     "metadata": {},
     "output_type": "display_data"
    },
    {
     "name": "stderr",
     "output_type": "stream",
     "text": [
      "                                                                                                                       \r"
     ]
    },
    {
     "data": {
      "text/html": [
       "<pre style=\"white-space:pre;overflow-x:auto;line-height:normal;font-family:Menlo,'DejaVu Sans Mono',consolas,'Courier New',monospace\"><span style=\"color: #7fbfbf; text-decoration-color: #7fbfbf\">[11/18/21 12:11:06] </span><span style=\"color: #008000; text-decoration-color: #008000\">INFO    </span> Animation <span style=\"color: #008000; text-decoration-color: #008000\">6</span> : Using cached data <span style=\"font-weight: bold\">(</span>hash :    <a href=\"file://C:\\Users\\Zirito\\anaconda3\\envs\\manim\\lib\\site-packages\\manim\\renderer\\cairo_renderer.py\"><span style=\"color: #7f7f7f; text-decoration-color: #7f7f7f\">cairo_renderer.py</span></a><span style=\"color: #7f7f7f; text-decoration-color: #7f7f7f\">:110</span>\n",
       "                             3930506391_2839631542_593541164<span style=\"font-weight: bold\">)</span>                                \n",
       "</pre>\n"
      ],
      "text/plain": [
       "\u001b[2;36m[11/18/21 12:11:06]\u001b[0m\u001b[2;36m \u001b[0m\u001b[32mINFO    \u001b[0m Animation \u001b[32m6\u001b[0m : Using cached data \u001b[1m(\u001b[0mhash :    \u001b]8;id=650369;file://C:\\Users\\Zirito\\anaconda3\\envs\\manim\\lib\\site-packages\\manim\\renderer\\cairo_renderer.py\u001b\\\u001b[2mcairo_renderer.py\u001b[0m\u001b]8;;\u001b\\\u001b[2m:110\u001b[0m\n",
       "                             3930506391_2839631542_593541164\u001b[1m)\u001b[0m                                \n"
      ]
     },
     "metadata": {},
     "output_type": "display_data"
    },
    {
     "data": {
      "text/html": [
       "<pre style=\"white-space:pre;overflow-x:auto;line-height:normal;font-family:Menlo,'DejaVu Sans Mono',consolas,'Courier New',monospace\"><span style=\"color: #7fbfbf; text-decoration-color: #7fbfbf\">[11/18/21 12:11:09] </span><span style=\"color: #008000; text-decoration-color: #008000\">INFO    </span> Animation <span style=\"color: #008000; text-decoration-color: #008000\">7</span> : Using cached data <span style=\"font-weight: bold\">(</span>hash :    <a href=\"file://C:\\Users\\Zirito\\anaconda3\\envs\\manim\\lib\\site-packages\\manim\\renderer\\cairo_renderer.py\"><span style=\"color: #7f7f7f; text-decoration-color: #7f7f7f\">cairo_renderer.py</span></a><span style=\"color: #7f7f7f; text-decoration-color: #7f7f7f\">:110</span>\n",
       "                             3930506391_1619372381_2151227815<span style=\"font-weight: bold\">)</span>                               \n",
       "</pre>\n"
      ],
      "text/plain": [
       "\u001b[2;36m[11/18/21 12:11:09]\u001b[0m\u001b[2;36m \u001b[0m\u001b[32mINFO    \u001b[0m Animation \u001b[32m7\u001b[0m : Using cached data \u001b[1m(\u001b[0mhash :    \u001b]8;id=60177;file://C:\\Users\\Zirito\\anaconda3\\envs\\manim\\lib\\site-packages\\manim\\renderer\\cairo_renderer.py\u001b\\\u001b[2mcairo_renderer.py\u001b[0m\u001b]8;;\u001b\\\u001b[2m:110\u001b[0m\n",
       "                             3930506391_1619372381_2151227815\u001b[1m)\u001b[0m                               \n"
      ]
     },
     "metadata": {},
     "output_type": "display_data"
    },
    {
     "name": "stderr",
     "output_type": "stream",
     "text": [
      "                                                                                                                       \r"
     ]
    },
    {
     "data": {
      "text/html": [
       "<pre style=\"white-space:pre;overflow-x:auto;line-height:normal;font-family:Menlo,'DejaVu Sans Mono',consolas,'Courier New',monospace\"><span style=\"color: #7fbfbf; text-decoration-color: #7fbfbf\">[11/18/21 12:11:12] </span><span style=\"color: #008000; text-decoration-color: #008000\">INFO    </span> Animation <span style=\"color: #008000; text-decoration-color: #008000\">8</span> : Using cached data <span style=\"font-weight: bold\">(</span>hash :    <a href=\"file://C:\\Users\\Zirito\\anaconda3\\envs\\manim\\lib\\site-packages\\manim\\renderer\\cairo_renderer.py\"><span style=\"color: #7f7f7f; text-decoration-color: #7f7f7f\">cairo_renderer.py</span></a><span style=\"color: #7f7f7f; text-decoration-color: #7f7f7f\">:110</span>\n",
       "                             3930506391_3233118377_2939998543<span style=\"font-weight: bold\">)</span>                               \n",
       "</pre>\n"
      ],
      "text/plain": [
       "\u001b[2;36m[11/18/21 12:11:12]\u001b[0m\u001b[2;36m \u001b[0m\u001b[32mINFO    \u001b[0m Animation \u001b[32m8\u001b[0m : Using cached data \u001b[1m(\u001b[0mhash :    \u001b]8;id=676562;file://C:\\Users\\Zirito\\anaconda3\\envs\\manim\\lib\\site-packages\\manim\\renderer\\cairo_renderer.py\u001b\\\u001b[2mcairo_renderer.py\u001b[0m\u001b]8;;\u001b\\\u001b[2m:110\u001b[0m\n",
       "                             3930506391_3233118377_2939998543\u001b[1m)\u001b[0m                               \n"
      ]
     },
     "metadata": {},
     "output_type": "display_data"
    },
    {
     "name": "stderr",
     "output_type": "stream",
     "text": [
      "                                                                                                                       \r"
     ]
    },
    {
     "data": {
      "text/html": [
       "<pre style=\"white-space:pre;overflow-x:auto;line-height:normal;font-family:Menlo,'DejaVu Sans Mono',consolas,'Courier New',monospace\"><span style=\"color: #7fbfbf; text-decoration-color: #7fbfbf\">[11/18/21 12:11:15] </span><span style=\"color: #008000; text-decoration-color: #008000\">INFO    </span> Animation <span style=\"color: #008000; text-decoration-color: #008000\">9</span> : Using cached data <span style=\"font-weight: bold\">(</span>hash :    <a href=\"file://C:\\Users\\Zirito\\anaconda3\\envs\\manim\\lib\\site-packages\\manim\\renderer\\cairo_renderer.py\"><span style=\"color: #7f7f7f; text-decoration-color: #7f7f7f\">cairo_renderer.py</span></a><span style=\"color: #7f7f7f; text-decoration-color: #7f7f7f\">:110</span>\n",
       "                             3930506391_1421637968_3851044516<span style=\"font-weight: bold\">)</span>                               \n",
       "</pre>\n"
      ],
      "text/plain": [
       "\u001b[2;36m[11/18/21 12:11:15]\u001b[0m\u001b[2;36m \u001b[0m\u001b[32mINFO    \u001b[0m Animation \u001b[32m9\u001b[0m : Using cached data \u001b[1m(\u001b[0mhash :    \u001b]8;id=756308;file://C:\\Users\\Zirito\\anaconda3\\envs\\manim\\lib\\site-packages\\manim\\renderer\\cairo_renderer.py\u001b\\\u001b[2mcairo_renderer.py\u001b[0m\u001b]8;;\u001b\\\u001b[2m:110\u001b[0m\n",
       "                             3930506391_1421637968_3851044516\u001b[1m)\u001b[0m                               \n"
      ]
     },
     "metadata": {},
     "output_type": "display_data"
    },
    {
     "name": "stderr",
     "output_type": "stream",
     "text": [
      "                                                                                                                       \r"
     ]
    },
    {
     "data": {
      "text/html": [
       "<pre style=\"white-space:pre;overflow-x:auto;line-height:normal;font-family:Menlo,'DejaVu Sans Mono',consolas,'Courier New',monospace\"><span style=\"color: #7fbfbf; text-decoration-color: #7fbfbf\">[11/18/21 12:11:19] </span><span style=\"color: #008000; text-decoration-color: #008000\">INFO    </span> Animation <span style=\"color: #008000; text-decoration-color: #008000\">10</span> : Partial movie file       <a href=\"file://C:\\Users\\Zirito\\anaconda3\\envs\\manim\\lib\\site-packages\\manim\\scene\\scene_file_writer.py\"><span style=\"color: #7f7f7f; text-decoration-color: #7f7f7f\">scene_file_writer.py</span></a><span style=\"color: #7f7f7f; text-decoration-color: #7f7f7f\">:442</span>\n",
       "                             written in                                                      \n",
       "                             <span style=\"color: #008000; text-decoration-color: #008000\">'C:\\Users\\Zirito\\manim\\PROJEK </span>                                  \n",
       "                             <span style=\"color: #008000; text-decoration-color: #008000\">KALKULUS\\MOTIVASI FIX\\media\\videos\\moti</span>                         \n",
       "                             <span style=\"color: #008000; text-decoration-color: #008000\">vasi_2\\480p15\\partial_movie_files\\motiv</span>                         \n",
       "                             <span style=\"color: #008000; text-decoration-color: #008000\">asi_2\\3930506391_910656892_3858754289.m</span>                         \n",
       "                             <span style=\"color: #008000; text-decoration-color: #008000\">p4'</span>                                                             \n",
       "</pre>\n"
      ],
      "text/plain": [
       "\u001b[2;36m[11/18/21 12:11:19]\u001b[0m\u001b[2;36m \u001b[0m\u001b[32mINFO    \u001b[0m Animation \u001b[32m10\u001b[0m : Partial movie file       \u001b]8;id=203161;file://C:\\Users\\Zirito\\anaconda3\\envs\\manim\\lib\\site-packages\\manim\\scene\\scene_file_writer.py\u001b\\\u001b[2mscene_file_writer.py\u001b[0m\u001b]8;;\u001b\\\u001b[2m:442\u001b[0m\n",
       "                             written in                                                      \n",
       "                             \u001b[32m'C:\\Users\\Zirito\\manim\\PROJEK \u001b[0m                                  \n",
       "                             \u001b[32mKALKULUS\\MOTIVASI FIX\\media\\videos\\moti\u001b[0m                         \n",
       "                             \u001b[32mvasi_2\\480p15\\partial_movie_files\\motiv\u001b[0m                         \n",
       "                             \u001b[32masi_2\\3930506391_910656892_3858754289.m\u001b[0m                         \n",
       "                             \u001b[32mp4'\u001b[0m                                                             \n"
      ]
     },
     "metadata": {},
     "output_type": "display_data"
    },
    {
     "data": {
      "text/html": [
       "<pre style=\"white-space:pre;overflow-x:auto;line-height:normal;font-family:Menlo,'DejaVu Sans Mono',consolas,'Courier New',monospace\"><span style=\"color: #7fbfbf; text-decoration-color: #7fbfbf\">[11/18/21 12:11:21] </span><span style=\"color: #008000; text-decoration-color: #008000\">INFO    </span> Animation <span style=\"color: #008000; text-decoration-color: #008000\">11</span> : Using cached data <span style=\"font-weight: bold\">(</span>hash :   <a href=\"file://C:\\Users\\Zirito\\anaconda3\\envs\\manim\\lib\\site-packages\\manim\\renderer\\cairo_renderer.py\"><span style=\"color: #7f7f7f; text-decoration-color: #7f7f7f\">cairo_renderer.py</span></a><span style=\"color: #7f7f7f; text-decoration-color: #7f7f7f\">:110</span>\n",
       "                             3930506391_223281639_3864682798<span style=\"font-weight: bold\">)</span>                                \n",
       "</pre>\n"
      ],
      "text/plain": [
       "\u001b[2;36m[11/18/21 12:11:21]\u001b[0m\u001b[2;36m \u001b[0m\u001b[32mINFO    \u001b[0m Animation \u001b[32m11\u001b[0m : Using cached data \u001b[1m(\u001b[0mhash :   \u001b]8;id=477768;file://C:\\Users\\Zirito\\anaconda3\\envs\\manim\\lib\\site-packages\\manim\\renderer\\cairo_renderer.py\u001b\\\u001b[2mcairo_renderer.py\u001b[0m\u001b]8;;\u001b\\\u001b[2m:110\u001b[0m\n",
       "                             3930506391_223281639_3864682798\u001b[1m)\u001b[0m                                \n"
      ]
     },
     "metadata": {},
     "output_type": "display_data"
    },
    {
     "name": "stderr",
     "output_type": "stream",
     "text": [
      "                                                                                                                       \r"
     ]
    },
    {
     "data": {
      "text/html": [
       "<pre style=\"white-space:pre;overflow-x:auto;line-height:normal;font-family:Menlo,'DejaVu Sans Mono',consolas,'Courier New',monospace\"><span style=\"color: #7fbfbf; text-decoration-color: #7fbfbf\">[11/18/21 12:11:24] </span><span style=\"color: #008000; text-decoration-color: #008000\">INFO    </span> Animation <span style=\"color: #008000; text-decoration-color: #008000\">12</span> : Using cached data <span style=\"font-weight: bold\">(</span>hash :   <a href=\"file://C:\\Users\\Zirito\\anaconda3\\envs\\manim\\lib\\site-packages\\manim\\renderer\\cairo_renderer.py\"><span style=\"color: #7f7f7f; text-decoration-color: #7f7f7f\">cairo_renderer.py</span></a><span style=\"color: #7f7f7f; text-decoration-color: #7f7f7f\">:110</span>\n",
       "                             3930506391_2839631542_2437856630<span style=\"font-weight: bold\">)</span>                               \n",
       "</pre>\n"
      ],
      "text/plain": [
       "\u001b[2;36m[11/18/21 12:11:24]\u001b[0m\u001b[2;36m \u001b[0m\u001b[32mINFO    \u001b[0m Animation \u001b[32m12\u001b[0m : Using cached data \u001b[1m(\u001b[0mhash :   \u001b]8;id=243326;file://C:\\Users\\Zirito\\anaconda3\\envs\\manim\\lib\\site-packages\\manim\\renderer\\cairo_renderer.py\u001b\\\u001b[2mcairo_renderer.py\u001b[0m\u001b]8;;\u001b\\\u001b[2m:110\u001b[0m\n",
       "                             3930506391_2839631542_2437856630\u001b[1m)\u001b[0m                               \n"
      ]
     },
     "metadata": {},
     "output_type": "display_data"
    },
    {
     "name": "stderr",
     "output_type": "stream",
     "text": [
      "                                                                                                                       \r"
     ]
    },
    {
     "data": {
      "text/html": [
       "<pre style=\"white-space:pre;overflow-x:auto;line-height:normal;font-family:Menlo,'DejaVu Sans Mono',consolas,'Courier New',monospace\"><span style=\"color: #7fbfbf; text-decoration-color: #7fbfbf\">[11/18/21 12:11:29] </span><span style=\"color: #008000; text-decoration-color: #008000\">INFO    </span> Animation <span style=\"color: #008000; text-decoration-color: #008000\">13</span> : Partial movie file       <a href=\"file://C:\\Users\\Zirito\\anaconda3\\envs\\manim\\lib\\site-packages\\manim\\scene\\scene_file_writer.py\"><span style=\"color: #7f7f7f; text-decoration-color: #7f7f7f\">scene_file_writer.py</span></a><span style=\"color: #7f7f7f; text-decoration-color: #7f7f7f\">:442</span>\n",
       "                             written in                                                      \n",
       "                             <span style=\"color: #008000; text-decoration-color: #008000\">'C:\\Users\\Zirito\\manim\\PROJEK </span>                                  \n",
       "                             <span style=\"color: #008000; text-decoration-color: #008000\">KALKULUS\\MOTIVASI FIX\\media\\videos\\moti</span>                         \n",
       "                             <span style=\"color: #008000; text-decoration-color: #008000\">vasi_2\\480p15\\partial_movie_files\\motiv</span>                         \n",
       "                             <span style=\"color: #008000; text-decoration-color: #008000\">asi_2\\3930506391_2716883495_2148774948.</span>                         \n",
       "                             <span style=\"color: #008000; text-decoration-color: #008000\">mp4'</span>                                                            \n",
       "</pre>\n"
      ],
      "text/plain": [
       "\u001b[2;36m[11/18/21 12:11:29]\u001b[0m\u001b[2;36m \u001b[0m\u001b[32mINFO    \u001b[0m Animation \u001b[32m13\u001b[0m : Partial movie file       \u001b]8;id=240267;file://C:\\Users\\Zirito\\anaconda3\\envs\\manim\\lib\\site-packages\\manim\\scene\\scene_file_writer.py\u001b\\\u001b[2mscene_file_writer.py\u001b[0m\u001b]8;;\u001b\\\u001b[2m:442\u001b[0m\n",
       "                             written in                                                      \n",
       "                             \u001b[32m'C:\\Users\\Zirito\\manim\\PROJEK \u001b[0m                                  \n",
       "                             \u001b[32mKALKULUS\\MOTIVASI FIX\\media\\videos\\moti\u001b[0m                         \n",
       "                             \u001b[32mvasi_2\\480p15\\partial_movie_files\\motiv\u001b[0m                         \n",
       "                             \u001b[32masi_2\\3930506391_2716883495_2148774948.\u001b[0m                         \n",
       "                             \u001b[32mmp4'\u001b[0m                                                            \n"
      ]
     },
     "metadata": {},
     "output_type": "display_data"
    },
    {
     "name": "stderr",
     "output_type": "stream",
     "text": [
      "                                                                                                                       \r"
     ]
    },
    {
     "data": {
      "text/html": [
       "<pre style=\"white-space:pre;overflow-x:auto;line-height:normal;font-family:Menlo,'DejaVu Sans Mono',consolas,'Courier New',monospace\"><span style=\"color: #7fbfbf; text-decoration-color: #7fbfbf\">[11/18/21 12:11:33] </span><span style=\"color: #008000; text-decoration-color: #008000\">INFO    </span> Animation <span style=\"color: #008000; text-decoration-color: #008000\">14</span> : Partial movie file       <a href=\"file://C:\\Users\\Zirito\\anaconda3\\envs\\manim\\lib\\site-packages\\manim\\scene\\scene_file_writer.py\"><span style=\"color: #7f7f7f; text-decoration-color: #7f7f7f\">scene_file_writer.py</span></a><span style=\"color: #7f7f7f; text-decoration-color: #7f7f7f\">:442</span>\n",
       "                             written in                                                      \n",
       "                             <span style=\"color: #008000; text-decoration-color: #008000\">'C:\\Users\\Zirito\\manim\\PROJEK </span>                                  \n",
       "                             <span style=\"color: #008000; text-decoration-color: #008000\">KALKULUS\\MOTIVASI FIX\\media\\videos\\moti</span>                         \n",
       "                             <span style=\"color: #008000; text-decoration-color: #008000\">vasi_2\\480p15\\partial_movie_files\\motiv</span>                         \n",
       "                             <span style=\"color: #008000; text-decoration-color: #008000\">asi_2\\3930506391_3999912727_2046967554.</span>                         \n",
       "                             <span style=\"color: #008000; text-decoration-color: #008000\">mp4'</span>                                                            \n",
       "</pre>\n"
      ],
      "text/plain": [
       "\u001b[2;36m[11/18/21 12:11:33]\u001b[0m\u001b[2;36m \u001b[0m\u001b[32mINFO    \u001b[0m Animation \u001b[32m14\u001b[0m : Partial movie file       \u001b]8;id=955736;file://C:\\Users\\Zirito\\anaconda3\\envs\\manim\\lib\\site-packages\\manim\\scene\\scene_file_writer.py\u001b\\\u001b[2mscene_file_writer.py\u001b[0m\u001b]8;;\u001b\\\u001b[2m:442\u001b[0m\n",
       "                             written in                                                      \n",
       "                             \u001b[32m'C:\\Users\\Zirito\\manim\\PROJEK \u001b[0m                                  \n",
       "                             \u001b[32mKALKULUS\\MOTIVASI FIX\\media\\videos\\moti\u001b[0m                         \n",
       "                             \u001b[32mvasi_2\\480p15\\partial_movie_files\\motiv\u001b[0m                         \n",
       "                             \u001b[32masi_2\\3930506391_3999912727_2046967554.\u001b[0m                         \n",
       "                             \u001b[32mmp4'\u001b[0m                                                            \n"
      ]
     },
     "metadata": {},
     "output_type": "display_data"
    },
    {
     "data": {
      "text/html": [
       "<pre style=\"white-space:pre;overflow-x:auto;line-height:normal;font-family:Menlo,'DejaVu Sans Mono',consolas,'Courier New',monospace\"><span style=\"color: #7fbfbf; text-decoration-color: #7fbfbf\">[11/18/21 12:11:36] </span><span style=\"color: #008000; text-decoration-color: #008000\">INFO    </span> Animation <span style=\"color: #008000; text-decoration-color: #008000\">15</span> : Using cached data <span style=\"font-weight: bold\">(</span>hash :   <a href=\"file://C:\\Users\\Zirito\\anaconda3\\envs\\manim\\lib\\site-packages\\manim\\renderer\\cairo_renderer.py\"><span style=\"color: #7f7f7f; text-decoration-color: #7f7f7f\">cairo_renderer.py</span></a><span style=\"color: #7f7f7f; text-decoration-color: #7f7f7f\">:110</span>\n",
       "                             3930506391_297528263_3009739863<span style=\"font-weight: bold\">)</span>                                \n",
       "</pre>\n"
      ],
      "text/plain": [
       "\u001b[2;36m[11/18/21 12:11:36]\u001b[0m\u001b[2;36m \u001b[0m\u001b[32mINFO    \u001b[0m Animation \u001b[32m15\u001b[0m : Using cached data \u001b[1m(\u001b[0mhash :   \u001b]8;id=783929;file://C:\\Users\\Zirito\\anaconda3\\envs\\manim\\lib\\site-packages\\manim\\renderer\\cairo_renderer.py\u001b\\\u001b[2mcairo_renderer.py\u001b[0m\u001b]8;;\u001b\\\u001b[2m:110\u001b[0m\n",
       "                             3930506391_297528263_3009739863\u001b[1m)\u001b[0m                                \n"
      ]
     },
     "metadata": {},
     "output_type": "display_data"
    },
    {
     "data": {
      "text/html": [
       "<pre style=\"white-space:pre;overflow-x:auto;line-height:normal;font-family:Menlo,'DejaVu Sans Mono',consolas,'Courier New',monospace\"><span style=\"color: #7fbfbf; text-decoration-color: #7fbfbf\">[11/18/21 12:11:40] </span><span style=\"color: #008000; text-decoration-color: #008000\">INFO    </span> Animation <span style=\"color: #008000; text-decoration-color: #008000\">16</span> : Using cached data <span style=\"font-weight: bold\">(</span>hash :   <a href=\"file://C:\\Users\\Zirito\\anaconda3\\envs\\manim\\lib\\site-packages\\manim\\renderer\\cairo_renderer.py\"><span style=\"color: #7f7f7f; text-decoration-color: #7f7f7f\">cairo_renderer.py</span></a><span style=\"color: #7f7f7f; text-decoration-color: #7f7f7f\">:110</span>\n",
       "                             3930506391_4136862335_243878637<span style=\"font-weight: bold\">)</span>                                \n",
       "</pre>\n"
      ],
      "text/plain": [
       "\u001b[2;36m[11/18/21 12:11:40]\u001b[0m\u001b[2;36m \u001b[0m\u001b[32mINFO    \u001b[0m Animation \u001b[32m16\u001b[0m : Using cached data \u001b[1m(\u001b[0mhash :   \u001b]8;id=75466;file://C:\\Users\\Zirito\\anaconda3\\envs\\manim\\lib\\site-packages\\manim\\renderer\\cairo_renderer.py\u001b\\\u001b[2mcairo_renderer.py\u001b[0m\u001b]8;;\u001b\\\u001b[2m:110\u001b[0m\n",
       "                             3930506391_4136862335_243878637\u001b[1m)\u001b[0m                                \n"
      ]
     },
     "metadata": {},
     "output_type": "display_data"
    },
    {
     "name": "stderr",
     "output_type": "stream",
     "text": [
      "                                                                                                                       \r"
     ]
    },
    {
     "data": {
      "text/html": [
       "<pre style=\"white-space:pre;overflow-x:auto;line-height:normal;font-family:Menlo,'DejaVu Sans Mono',consolas,'Courier New',monospace\"><span style=\"color: #7fbfbf; text-decoration-color: #7fbfbf\">[11/18/21 12:11:45] </span><span style=\"color: #008000; text-decoration-color: #008000\">INFO    </span> Animation <span style=\"color: #008000; text-decoration-color: #008000\">17</span> : Using cached data <span style=\"font-weight: bold\">(</span>hash :   <a href=\"file://C:\\Users\\Zirito\\anaconda3\\envs\\manim\\lib\\site-packages\\manim\\renderer\\cairo_renderer.py\"><span style=\"color: #7f7f7f; text-decoration-color: #7f7f7f\">cairo_renderer.py</span></a><span style=\"color: #7f7f7f; text-decoration-color: #7f7f7f\">:110</span>\n",
       "                             3930506391_2559461702_3976314443<span style=\"font-weight: bold\">)</span>                               \n",
       "</pre>\n"
      ],
      "text/plain": [
       "\u001b[2;36m[11/18/21 12:11:45]\u001b[0m\u001b[2;36m \u001b[0m\u001b[32mINFO    \u001b[0m Animation \u001b[32m17\u001b[0m : Using cached data \u001b[1m(\u001b[0mhash :   \u001b]8;id=609447;file://C:\\Users\\Zirito\\anaconda3\\envs\\manim\\lib\\site-packages\\manim\\renderer\\cairo_renderer.py\u001b\\\u001b[2mcairo_renderer.py\u001b[0m\u001b]8;;\u001b\\\u001b[2m:110\u001b[0m\n",
       "                             3930506391_2559461702_3976314443\u001b[1m)\u001b[0m                               \n"
      ]
     },
     "metadata": {},
     "output_type": "display_data"
    },
    {
     "data": {
      "text/html": [
       "<pre style=\"white-space:pre;overflow-x:auto;line-height:normal;font-family:Menlo,'DejaVu Sans Mono',consolas,'Courier New',monospace\"><span style=\"color: #7fbfbf; text-decoration-color: #7fbfbf\">[11/18/21 12:11:46] </span><span style=\"color: #008000; text-decoration-color: #008000\">INFO    </span> Animation <span style=\"color: #008000; text-decoration-color: #008000\">18</span> : Using cached data <span style=\"font-weight: bold\">(</span>hash :   <a href=\"file://C:\\Users\\Zirito\\anaconda3\\envs\\manim\\lib\\site-packages\\manim\\renderer\\cairo_renderer.py\"><span style=\"color: #7f7f7f; text-decoration-color: #7f7f7f\">cairo_renderer.py</span></a><span style=\"color: #7f7f7f; text-decoration-color: #7f7f7f\">:110</span>\n",
       "                             3930506391_864848256_2079523838<span style=\"font-weight: bold\">)</span>                                \n",
       "</pre>\n"
      ],
      "text/plain": [
       "\u001b[2;36m[11/18/21 12:11:46]\u001b[0m\u001b[2;36m \u001b[0m\u001b[32mINFO    \u001b[0m Animation \u001b[32m18\u001b[0m : Using cached data \u001b[1m(\u001b[0mhash :   \u001b]8;id=668590;file://C:\\Users\\Zirito\\anaconda3\\envs\\manim\\lib\\site-packages\\manim\\renderer\\cairo_renderer.py\u001b\\\u001b[2mcairo_renderer.py\u001b[0m\u001b]8;;\u001b\\\u001b[2m:110\u001b[0m\n",
       "                             3930506391_864848256_2079523838\u001b[1m)\u001b[0m                                \n"
      ]
     },
     "metadata": {},
     "output_type": "display_data"
    },
    {
     "name": "stderr",
     "output_type": "stream",
     "text": [
      "                                                                                                                       \r"
     ]
    },
    {
     "data": {
      "text/html": [
       "<pre style=\"white-space:pre;overflow-x:auto;line-height:normal;font-family:Menlo,'DejaVu Sans Mono',consolas,'Courier New',monospace\"><span style=\"color: #7fbfbf; text-decoration-color: #7fbfbf\">                    </span><span style=\"color: #008000; text-decoration-color: #008000\">INFO    </span> Animation <span style=\"color: #008000; text-decoration-color: #008000\">19</span> : Using cached data <span style=\"font-weight: bold\">(</span>hash :   <a href=\"file://C:\\Users\\Zirito\\anaconda3\\envs\\manim\\lib\\site-packages\\manim\\renderer\\cairo_renderer.py\"><span style=\"color: #7f7f7f; text-decoration-color: #7f7f7f\">cairo_renderer.py</span></a><span style=\"color: #7f7f7f; text-decoration-color: #7f7f7f\">:110</span>\n",
       "                             3930506391_2839631542_3268386054<span style=\"font-weight: bold\">)</span>                               \n",
       "</pre>\n"
      ],
      "text/plain": [
       "\u001b[2;36m                   \u001b[0m\u001b[2;36m \u001b[0m\u001b[32mINFO    \u001b[0m Animation \u001b[32m19\u001b[0m : Using cached data \u001b[1m(\u001b[0mhash :   \u001b]8;id=566614;file://C:\\Users\\Zirito\\anaconda3\\envs\\manim\\lib\\site-packages\\manim\\renderer\\cairo_renderer.py\u001b\\\u001b[2mcairo_renderer.py\u001b[0m\u001b]8;;\u001b\\\u001b[2m:110\u001b[0m\n",
       "                             3930506391_2839631542_3268386054\u001b[1m)\u001b[0m                               \n"
      ]
     },
     "metadata": {},
     "output_type": "display_data"
    },
    {
     "data": {
      "text/html": [
       "<pre style=\"white-space:pre;overflow-x:auto;line-height:normal;font-family:Menlo,'DejaVu Sans Mono',consolas,'Courier New',monospace\"><span style=\"color: #7fbfbf; text-decoration-color: #7fbfbf\">[11/18/21 12:11:47] </span><span style=\"color: #008000; text-decoration-color: #008000\">INFO    </span>                                         <a href=\"file://C:\\Users\\Zirito\\anaconda3\\envs\\manim\\lib\\site-packages\\manim\\scene\\scene_file_writer.py\"><span style=\"color: #7f7f7f; text-decoration-color: #7f7f7f\">scene_file_writer.py</span></a><span style=\"color: #7f7f7f; text-decoration-color: #7f7f7f\">:627</span>\n",
       "                             <span style=\"color: #808000; text-decoration-color: #808000; font-weight: bold\">File</span> ready at                                                   \n",
       "                             <span style=\"color: #008000; text-decoration-color: #008000\">'C:\\Users\\Zirito\\manim\\PROJEK </span>                                  \n",
       "                             <span style=\"color: #008000; text-decoration-color: #008000\">KALKULUS\\MOTIVASI FIX\\media\\videos\\moti</span>                         \n",
       "                             <span style=\"color: #008000; text-decoration-color: #008000\">vasi_2\\480p15\\motivasi_2.mp4'</span>                                   \n",
       "                                                                                             \n",
       "</pre>\n"
      ],
      "text/plain": [
       "\u001b[2;36m[11/18/21 12:11:47]\u001b[0m\u001b[2;36m \u001b[0m\u001b[32mINFO    \u001b[0m                                         \u001b]8;id=276481;file://C:\\Users\\Zirito\\anaconda3\\envs\\manim\\lib\\site-packages\\manim\\scene\\scene_file_writer.py\u001b\\\u001b[2mscene_file_writer.py\u001b[0m\u001b]8;;\u001b\\\u001b[2m:627\u001b[0m\n",
       "                             \u001b[1;33mFile\u001b[0m ready at                                                   \n",
       "                             \u001b[32m'C:\\Users\\Zirito\\manim\\PROJEK \u001b[0m                                  \n",
       "                             \u001b[32mKALKULUS\\MOTIVASI FIX\\media\\videos\\moti\u001b[0m                         \n",
       "                             \u001b[32mvasi_2\\480p15\\motivasi_2.mp4'\u001b[0m                                   \n",
       "                                                                                             \n"
      ]
     },
     "metadata": {},
     "output_type": "display_data"
    },
    {
     "data": {
      "text/html": [
       "<pre style=\"white-space:pre;overflow-x:auto;line-height:normal;font-family:Menlo,'DejaVu Sans Mono',consolas,'Courier New',monospace\"><span style=\"color: #7fbfbf; text-decoration-color: #7fbfbf\">[11/18/21 12:11:48] </span><span style=\"color: #008000; text-decoration-color: #008000\">INFO    </span> The partial movie directory is full <span style=\"font-weight: bold\">(</span>&gt;  <a href=\"file://C:\\Users\\Zirito\\anaconda3\\envs\\manim\\lib\\site-packages\\manim\\scene\\scene_file_writer.py\"><span style=\"color: #7f7f7f; text-decoration-color: #7f7f7f\">scene_file_writer.py</span></a><span style=\"color: #7f7f7f; text-decoration-color: #7f7f7f\">:605</span>\n",
       "                             <span style=\"color: #008000; text-decoration-color: #008000\">100</span> files<span style=\"font-weight: bold\">)</span>. Therefore, manim has                                \n",
       "                             removed the <span style=\"color: #008000; text-decoration-color: #008000\">3</span> oldest <span style=\"color: #800080; text-decoration-color: #800080; font-weight: bold\">file</span><span style=\"font-weight: bold\">(</span>s<span style=\"font-weight: bold\">)</span>. You can                           \n",
       "                             change this behaviour by changing                               \n",
       "                             max_files_cached in config.                                     \n",
       "</pre>\n"
      ],
      "text/plain": [
       "\u001b[2;36m[11/18/21 12:11:48]\u001b[0m\u001b[2;36m \u001b[0m\u001b[32mINFO    \u001b[0m The partial movie directory is full \u001b[1m(\u001b[0m>  \u001b]8;id=206783;file://C:\\Users\\Zirito\\anaconda3\\envs\\manim\\lib\\site-packages\\manim\\scene\\scene_file_writer.py\u001b\\\u001b[2mscene_file_writer.py\u001b[0m\u001b]8;;\u001b\\\u001b[2m:605\u001b[0m\n",
       "                             \u001b[32m100\u001b[0m files\u001b[1m)\u001b[0m. Therefore, manim has                                \n",
       "                             removed the \u001b[32m3\u001b[0m oldest \u001b[1;35mfile\u001b[0m\u001b[1m(\u001b[0ms\u001b[1m)\u001b[0m. You can                           \n",
       "                             change this behaviour by changing                               \n",
       "                             max_files_cached in config.                                     \n"
      ]
     },
     "metadata": {},
     "output_type": "display_data"
    },
    {
     "data": {
      "text/html": [
       "<pre style=\"white-space:pre;overflow-x:auto;line-height:normal;font-family:Menlo,'DejaVu Sans Mono',consolas,'Courier New',monospace\"><span style=\"color: #7fbfbf; text-decoration-color: #7fbfbf\">                    </span><span style=\"color: #008000; text-decoration-color: #008000\">INFO    </span> <span style=\"color: #808000; text-decoration-color: #808000; font-weight: bold\">Rendered</span> motivasi_2                                 <a href=\"file://C:\\Users\\Zirito\\anaconda3\\envs\\manim\\lib\\site-packages\\manim\\scene\\scene.py\"><span style=\"color: #7f7f7f; text-decoration-color: #7f7f7f\">scene.py</span></a><span style=\"color: #7f7f7f; text-decoration-color: #7f7f7f\">:231</span>\n",
       "                             <span style=\"color: #808000; text-decoration-color: #808000; font-weight: bold\">Played</span> <span style=\"color: #008000; text-decoration-color: #008000\">20</span> <span style=\"color: #808000; text-decoration-color: #808000; font-weight: bold\">animations</span>                                            \n",
       "</pre>\n"
      ],
      "text/plain": [
       "\u001b[2;36m                   \u001b[0m\u001b[2;36m \u001b[0m\u001b[32mINFO    \u001b[0m \u001b[1;33mRendered\u001b[0m motivasi_2                                 \u001b]8;id=19770;file://C:\\Users\\Zirito\\anaconda3\\envs\\manim\\lib\\site-packages\\manim\\scene\\scene.py\u001b\\\u001b[2mscene.py\u001b[0m\u001b]8;;\u001b\\\u001b[2m:231\u001b[0m\n",
       "                             \u001b[1;33mPlayed\u001b[0m \u001b[32m20\u001b[0m \u001b[1;33manimations\u001b[0m                                            \n"
      ]
     },
     "metadata": {},
     "output_type": "display_data"
    },
    {
     "data": {
      "text/html": [
       "<pre style=\"white-space:pre;overflow-x:auto;line-height:normal;font-family:Menlo,'DejaVu Sans Mono',consolas,'Courier New',monospace\"><span style=\"color: #7fbfbf; text-decoration-color: #7fbfbf\">[11/18/21 12:11:49] </span><span style=\"color: #008000; text-decoration-color: #008000\">INFO    </span> Previewed <span style=\"color: #808000; text-decoration-color: #808000; font-weight: bold\">File</span> at: <span style=\"color: #008000; text-decoration-color: #008000\">'C:\\Users\\Zirito\\manim\\PROJEK</span> <a href=\"file://C:\\Users\\Zirito\\anaconda3\\envs\\manim\\lib\\site-packages\\manim\\utils\\file_ops.py\"><span style=\"color: #7f7f7f; text-decoration-color: #7f7f7f\">file_ops.py</span></a><span style=\"color: #7f7f7f; text-decoration-color: #7f7f7f\">:193</span>\n",
       "                             <span style=\"color: #008000; text-decoration-color: #008000\">KALKULUS\\MOTIVASI FIX\\media\\videos\\motivasi_2\\48</span>                \n",
       "                             <span style=\"color: #008000; text-decoration-color: #008000\">0p15\\motivasi_2.mp4'</span>                                            \n",
       "</pre>\n"
      ],
      "text/plain": [
       "\u001b[2;36m[11/18/21 12:11:49]\u001b[0m\u001b[2;36m \u001b[0m\u001b[32mINFO    \u001b[0m Previewed \u001b[1;33mFile\u001b[0m at: \u001b[32m'C:\\Users\\Zirito\\manim\\PROJEK\u001b[0m \u001b]8;id=429814;file://C:\\Users\\Zirito\\anaconda3\\envs\\manim\\lib\\site-packages\\manim\\utils\\file_ops.py\u001b\\\u001b[2mfile_ops.py\u001b[0m\u001b]8;;\u001b\\\u001b[2m:193\u001b[0m\n",
       "                             \u001b[32mKALKULUS\\MOTIVASI FIX\\media\\videos\\motivasi_2\\48\u001b[0m                \n",
       "                             \u001b[32m0p15\\motivasi_2.mp4'\u001b[0m                                            \n"
      ]
     },
     "metadata": {},
     "output_type": "display_data"
    },
    {
     "data": {
      "text/html": [
       "<video src=\"media\\jupyter\\motivasi_2@2021-11-18@12-11-49.mp4\" controls autoplay loop style=\"max-width: 25vw;\"  >\n",
       "      Your browser does not support the <code>video</code> element.\n",
       "    </video>"
      ],
      "text/plain": [
       "<IPython.core.display.Video object>"
      ]
     },
     "metadata": {},
     "output_type": "display_data"
    }
   ],
   "source": [
    "manim motivasi_2.py motivasi_2 -p -ql"
   ]
  },
  {
   "cell_type": "code",
   "execution_count": null,
   "id": "81a42f16",
   "metadata": {},
   "outputs": [],
   "source": []
  }
 ],
 "metadata": {
  "kernelspec": {
   "display_name": "Python 3 (ipykernel)",
   "language": "python",
   "name": "python3"
  },
  "language_info": {
   "codemirror_mode": {
    "name": "ipython",
    "version": 3
   },
   "file_extension": ".py",
   "mimetype": "text/x-python",
   "name": "python",
   "nbconvert_exporter": "python",
   "pygments_lexer": "ipython3",
   "version": "3.8.12"
  }
 },
 "nbformat": 4,
 "nbformat_minor": 5
}
