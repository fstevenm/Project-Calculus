{
 "cells": [
  {
   "cell_type": "code",
   "execution_count": 1,
   "id": "ae9faf07",
   "metadata": {},
   "outputs": [
    {
     "data": {
      "text/html": [
       "<pre style=\"white-space:pre;overflow-x:auto;line-height:normal;font-family:Menlo,'DejaVu Sans Mono',consolas,'Courier New',monospace\">Manim Community <span style=\"color: #008000; text-decoration-color: #008000\">v0.11.0</span>\n",
       "\n",
       "</pre>\n"
      ],
      "text/plain": [
       "Manim Community \u001b[32mv0.\u001b[0m\u001b[32m11.0\u001b[0m\n",
       "\n"
      ]
     },
     "metadata": {},
     "output_type": "display_data"
    }
   ],
   "source": [
    "from manim import *\n",
    "import numpy as np"
   ]
  },
  {
   "cell_type": "code",
   "execution_count": 6,
   "id": "39ec3d72",
   "metadata": {},
   "outputs": [],
   "source": [
    "import numpy as np\n",
    "class motivasi_4(MovingCameraScene):\n",
    "    def construct(self):\n",
    "        axes = Axes(\n",
    "            x_range=[-2.5, 3],\n",
    "            y_range=[-1, 5],\n",
    "            x_length=6,\n",
    "            axis_config={\"color\": WHITE},\n",
    "        )\n",
    "        labels = axes.get_axis_labels(x_label='x', y_label='y').set_color(WHITE)\n",
    "        #self.add(labels)\n",
    "        \n",
    "        ''' contoh 2 '''\n",
    "        perhatikan = Text(\"Perhatikan illustrasi berikut:\", font='Arial').scale(0.5)\n",
    "        perhatikan.to_corner(np.array([-2.5,2,0]))\n",
    "        \n",
    "        ''' BANGUN '''\n",
    "        kosong = Text(\"\")\n",
    "        kotak = RoundedRectangle(height = 1.2, width = 5.25 )\n",
    "        \n",
    "        f = lambda x: x**2\n",
    "        grafik = axes.get_graph(f, color = WHITE,x_range=[-2.1,2.1])\n",
    "        grafik_label = axes.get_graph_label(grafik, label=MathTex('y=x^2'), x_val=2, direction=UR).scale(0.8)\n",
    "         \n",
    "        \n",
    "        ''' LETAK '''\n",
    "#        titik_4 = Dot(axes.coords_to_point(1.5,2.25),color = YELLOW)\n",
    "        point2 = axes.c2p(1,1)\n",
    "        titik_2 = Dot((point2),color = YELLOW).scale(0.5)\n",
    "        nama_titik_2 = MathTex('\\\\bold P(1,1)', color = YELLOW).scale(0.25)\n",
    "        nama_titik_2.next_to(titik_2,RIGHT)\n",
    "        \n",
    "        ''' Tabel '''\n",
    "        t1 = \"x\"\n",
    "        t2 = \"gradien (m)\"\n",
    "        table1= Table(\n",
    "            [[t1, t2],\n",
    "            [\"1.5\",\"2.5\"],[\"1.25\",\"2.25\"],[\"1.1\",\"2.1\"],\n",
    "            [\"1.01\",\"2.01\"],[\"1.001\",\"2.001\"]],\n",
    "            include_outer_lines=True).set_row_colors(YELLOW)\n",
    "        table1.scale(0.6)\n",
    "        table1.move_to(np.array([-3.5,-0.25,0]))\n",
    "\n",
    "        \n",
    "        \n",
    "        ''' Lanjutan contoh 2'''\n",
    "        self.camera.background_color = \"#1e3264\"\n",
    "        \n",
    "#         grafik.set_stroke(width = 1)\n",
    "#         grafik.set_stroke(width = 2)\n",
    "        \n",
    "        grup_grafik2 = VGroup(axes,labels,grafik,titik_2,\n",
    "                              grafik_label,nama_titik_2).scale(0.9)\n",
    "        grup_grafik2.move_to(np.array([2.8,0,0]))\n",
    "        grup_grafik2.generate_target()\n",
    "        \n",
    "\n",
    "        ''''''\n",
    "        self.play(Write(perhatikan))\n",
    "        self.wait(1)\n",
    "        self.play(table1.create())\n",
    "        self.wait(1)\n",
    "        self.play(Write(axes))\n",
    "        self.play(Write(labels))\n",
    "        self.play(Create(grafik),FadeIn(grafik_label),FadeIn(titik_2,nama_titik_2))\n",
    "        \n",
    "#         self.play(self.camera.frame.animate.move_to(grup_table_grafik2).set(width=grup_table_grafik2.width*1.25))\n",
    "#        self.camera.frame.save_state()\n",
    "        self.wait(1)\n",
    "        \n",
    "        '''Tabel kuning'''\n",
    "#         table.add(SurroundingRectangle(table.get_rows()[1]))\n",
    "        list_kuning = []\n",
    "        for i in range(1,6):\n",
    "            list_kuning.append(SurroundingRectangle(table1.get_rows()[i]))       \n",
    "            \n",
    "        '''TITIK'''\n",
    "#         grup_grafik2.generate_target()\n",
    "#         grup_grafik2.target.move_to(np.array([0,-0.5,0]))        \n",
    "#         self.play(FadeOut(table1, target_position = ORIGIN),\n",
    "#                   ScaleInPlace(grup_grafik2, ),\n",
    "#                   MoveToTarget(perhatikan),\n",
    "#                   MoveToTarget(grup_grafik2))\n",
    "#         self.wait(1)\n",
    "#         self.play(ScaleInPlace(grup_grafik2, 2))\n",
    "    \n",
    "        point3 = axes.c2p(1.5,2.25)\n",
    "        titik_3 = Dot((point3),color = PURE_GREEN).scale(0.5)\n",
    "        nama_titik_3 = MathTex('\\\\bold Q(1.5,2.25)', color = WHITE).scale(0.25)\n",
    "        nama_titik_3.next_to(titik_3,RIGHT)\n",
    "        \n",
    "        point4= axes.c2p(1.25,1.5625)\n",
    "        titik_4 = Dot((point4),color = PURE_GREEN).scale(0.5)\n",
    "        nama_titik_4 = MathTex('\\\\bold Q(1.25,1.5625)', color = WHITE).scale(0.25)\n",
    "        nama_titik_4.next_to(titik_4,RIGHT)\n",
    "        \n",
    "        point5= axes.c2p(1.1, 1.21)\n",
    "        titik_5 = Dot((point5),color = PURE_GREEN).scale(0.5)\n",
    "        nama_titik_5 = MathTex('\\\\bold Q(1.1,1.21)', color =WHITE).scale(0.25)\n",
    "        nama_titik_5.next_to(titik_5,RIGHT)\n",
    "        \n",
    "        point6= axes.c2p(1.01, 1.0201)\n",
    "        titik_6 = Dot((point6),color = PURE_GREEN).scale(0.5)\n",
    "        nama_titik_6 = MathTex('\\\\bold Q(1.01, 1.0201)', color = WHITE).scale(0.25)\n",
    "        nama_titik_6.next_to(titik_5,RIGHT)\n",
    "        \n",
    "        point7= axes.c2p(1.001, 1.002001)\n",
    "        titik_7 = Dot((point7),color = PURE_GREEN).scale(0.5)\n",
    "        nama_titik_7 = MathTex('\\\\bold Q(1.001, 1.002001)', color = WHITE).scale(0.25)\n",
    "        nama_titik_7.next_to(titik_5,RIGHT)\n",
    "        \n",
    "        gs_1 = Line(axes.coords_to_point(0,-1),\n",
    "                    axes.coords_to_point(2,3),\n",
    "                    color = YELLOW)\n",
    "        gs_1.set_stroke(width = 0.5)\n",
    "        \n",
    "        '''LANJUT'''\n",
    "        perhatikan.generate_target()\n",
    "        perhatikan.target.move_to(np.array([-10,2,0]))\n",
    "        table1.generate_target()\n",
    "        table1.target.move_to(np.array([-10,0,0]))\n",
    "\n",
    "#         self.play(MoveToTarget(table1),MoveToTarget(perhatikan),\n",
    "#                   self.camera.frame.animate.move_to(grup_grafik2).set(width = 12))\n",
    "#         self.wait(1)\n",
    "        \n",
    "        g1 = Line(axes.coords_to_point(1,f(1)),axes.coords_to_point(1.5,f(1.5)),color = PURE_GREEN).scale(3)\n",
    "        g1.set_stroke(width = 2.5)\n",
    "        \n",
    "        g2 = Line(axes.coords_to_point(1,f(1)),axes.coords_to_point(1.25,f(1.25)),color = PURE_GREEN).scale(6)\n",
    "        g2.set_stroke(width = 2.5)\n",
    "        \n",
    "        g3 = Line(axes.coords_to_point(1,f(1)),axes.coords_to_point(1.1,f(1.1)),color = PURE_GREEN).scale(23)\n",
    "        g3.set_stroke(width = 2.5)\n",
    "        \n",
    "        g4 = Line(axes.coords_to_point(1,f(1)),axes.coords_to_point(1.01,f(1.01)),color = PURE_GREEN).scale(203)\n",
    "        g4.set_stroke(width = 2.5)\n",
    "        \n",
    "        g5 = Line(axes.coords_to_point(1,f(1)),axes.coords_to_point(1.001,f(1.001)),color = PURE_GREEN).scale(2003)\n",
    "        g5.set_stroke(width = 2.5)\n",
    "        \n",
    "        grup_1 = VGroup(titik_3, nama_titik_3)\n",
    "        grup_2 = VGroup(titik_4, nama_titik_4)\n",
    "        grup_3 = VGroup(titik_5, nama_titik_5)\n",
    "        grup_4 = VGroup(titik_6, nama_titik_6)\n",
    "        grup_5 = VGroup(titik_7, nama_titik_7)\n",
    "        \n",
    "        \n",
    "        self.play(Create(list_kuning[0]),Create(gs_1))\n",
    "        self.play(Create(grup_1), Create(g1))\n",
    "        self.wait(1)\n",
    "        \n",
    "        self.play(ReplacementTransform(list_kuning[0],list_kuning[1]),\n",
    "                  ReplacementTransform(grup_1,grup_2),ReplacementTransform(g1,g2))\n",
    "        self.wait(1)\n",
    "        \n",
    "        self.play(ReplacementTransform(list_kuning[1],list_kuning[2]),\n",
    "                  ReplacementTransform(grup_2,grup_3),ReplacementTransform(g2,g3))\n",
    "        self.wait(1)\n",
    "        \n",
    "        self.play(ReplacementTransform(list_kuning[2],list_kuning[3]),\n",
    "                  ReplacementTransform(grup_3,grup_4),ReplacementTransform(g3,g4))\n",
    "        self.wait(1)\n",
    "        \n",
    "        self.play(ReplacementTransform(list_kuning[3],list_kuning[4]),\n",
    "                  ReplacementTransform(grup_4,grup_5),ReplacementTransform(g4,g5))\n",
    "        self.wait(1)\n",
    "        \n",
    "        self.play(FadeOut(list_kuning[4]),\n",
    "                  FadeOut(grup_5, g5))\n",
    "        self.wait(1)\n",
    "        \n",
    "        \n",
    "        perhatikan.generate_target()\n",
    "        perhatikan.target.to_corner(np.array([-2.5,2,0]))\n",
    "        table1.generate_target()\n",
    "        table1.target.move_to(np.array([-3.5,-0.25,0]))\n",
    "        \n",
    "#         self.play(MoveToTarget(table1),MoveToTarget(perhatikan),\n",
    "#                   self.camera.frame.animate.move_to(ORIGIN).set(width=14))\n",
    "#         self.wait(1)\n",
    "        \n",
    "        \n",
    "        '''DARI KIRI'''\n",
    "        '''Tabel 2'''\n",
    "        t3 = \"x\"\n",
    "        t4 = \"gradien (m)\"\n",
    "        table2= Table(\n",
    "            [[t3, t4],\n",
    "            [\"0\",\"1\"],[\"0.5\",\"1.5\"],[\"0.9\",\"1.9\"],\n",
    "            [\"0.99\",\"1.99\"],[\"0.999\",\"1.999\"]],\n",
    "            include_outer_lines=True).set_row_colors(YELLOW)\n",
    "        table2.scale(0.6)\n",
    "        table2.move_to(np.array([-3.5,-0.25,0]))\n",
    "        \n",
    "        self.play(ReplacementTransform(table1, table2))\n",
    "        self.wait(1)\n",
    "        \n",
    "        '''Tabel kuning 2'''\n",
    "#         table.add(SurroundingRectangle(table.get_rows()[1]))\n",
    "        list_kuning2 = []\n",
    "        for i in range(1,6):\n",
    "            list_kuning2.append(SurroundingRectangle(table2.get_rows()[i]))\n",
    "\n",
    "        \n",
    "        '''TITIK'''\n",
    "        point8 = axes.c2p(0,0)\n",
    "        titik_8 = Dot((point8),color = PURE_RED).scale(0.5)\n",
    "        nama_titik_8 = MathTex('\\\\bold Q(0, 0)', color = WHITE).scale(0.25)\n",
    "        nama_titik_8.next_to(titik_8,RIGHT)\n",
    "        \n",
    "        point9= axes.c2p(0.5, f(0.5))\n",
    "        titik_9 = Dot((point9),color = PURE_RED).scale(0.5)\n",
    "        nama_titik_9 = MathTex('\\\\bold Q(0.5, 0.25)', color = WHITE).scale(0.25)\n",
    "        nama_titik_9.next_to(titik_9,RIGHT)\n",
    "        \n",
    "        point10= axes.c2p(0.9, f(0.9))\n",
    "        titik_10 = Dot((point10),color = PURE_RED).scale(0.5)\n",
    "        nama_titik_10 = MathTex('\\\\bold Q(0.9, 0.81)', color = WHITE).scale(0.25)\n",
    "        nama_titik_10.next_to(titik_10,RIGHT)\n",
    "        \n",
    "        point11= axes.c2p(0.99, f(0.99))\n",
    "        titik_11 = Dot((point11),color = PURE_RED).scale(0.5)\n",
    "        nama_titik_11 = MathTex('\\\\bold Q(0.99, 0.9801)', color = WHITE).scale(0.25)\n",
    "        nama_titik_11.next_to(titik_10,RIGHT)\n",
    "        \n",
    "        point12= axes.c2p(0.999, f(0.999))\n",
    "        titik_12 = Dot((point12),color = PURE_RED).scale(0.5)\n",
    "        nama_titik_12 = MathTex('\\\\bold Q(0.999, 0.998001)', color = WHITE).scale(0.25)\n",
    "        nama_titik_12.next_to(titik_10,RIGHT)\n",
    "        \n",
    "        \n",
    "        '''LANJUT'''\n",
    "        perhatikan.generate_target()\n",
    "        perhatikan.target.move_to(np.array([-10,2,0]))\n",
    "        table2.generate_target()\n",
    "        table2.target.move_to(np.array([-10,0,0]))\n",
    "\n",
    "#         self.play(MoveToTarget(table2),MoveToTarget(perhatikan),\n",
    "#                   self.camera.frame.animate.move_to(grup_grafik2).set(width = 12))\n",
    "#         self.wait(1)\n",
    "        \n",
    "        g6 = Line(axes.coords_to_point(0,f(0)),axes.coords_to_point(1,f(1)),color = ORANGE).scale(3)\n",
    "        g6.set_stroke(width = 2.5)\n",
    "        \n",
    "        g7 = Line(axes.coords_to_point(0.5,f(0.5)),axes.coords_to_point(1,f(1)),color = ORANGE).scale(5)\n",
    "        g7.set_stroke(width = 2.5)\n",
    "        \n",
    "        g8 = Line(axes.coords_to_point(0.9,f(0.9)),axes.coords_to_point(1,f(1)),color = ORANGE).scale(23)\n",
    "        g8.set_stroke(width = 2.5)\n",
    "        \n",
    "        g9 = Line(axes.coords_to_point(0.99,f(0.99)),axes.coords_to_point(1,f(1)),color = ORANGE).scale(203)\n",
    "        g9.set_stroke(width = 2.5)\n",
    "        \n",
    "        g10 = Line(axes.coords_to_point(0.999,f(0.999)),axes.coords_to_point(1,f(1)),color = ORANGE).scale(2003)\n",
    "        g10.set_stroke(width = 2.5)\n",
    "        \n",
    "        grup_6 = VGroup(titik_8, nama_titik_8)\n",
    "        grup_7 = VGroup(titik_9, nama_titik_9)\n",
    "        grup_8 = VGroup(titik_10, nama_titik_10)\n",
    "        grup_9 = VGroup(titik_11, nama_titik_11)\n",
    "        grup_10 = VGroup(titik_12, nama_titik_12)\n",
    "\n",
    "        \n",
    "        self.play(Create(list_kuning2[0]))\n",
    "        self.play(Create(grup_6), Create(g6))\n",
    "        self.wait(1)\n",
    "        \n",
    "        self.play(ReplacementTransform(list_kuning2[0],list_kuning2[1]),\n",
    "                  ReplacementTransform(grup_6,grup_7),ReplacementTransform(g6,g7))\n",
    "        self.wait(1)\n",
    "        \n",
    "        self.play(ReplacementTransform(list_kuning2[1],list_kuning2[2]),\n",
    "                  ReplacementTransform(grup_7,grup_8),ReplacementTransform(g7,g8))\n",
    "        self.wait(1)\n",
    "        \n",
    "        self.play(ReplacementTransform(list_kuning2[2],list_kuning2[3]),\n",
    "                  ReplacementTransform(grup_8,grup_9),ReplacementTransform(g8,g9))\n",
    "        self.wait(1)\n",
    "        \n",
    "        self.play(ReplacementTransform(list_kuning2[3],list_kuning2[4]),\n",
    "                  ReplacementTransform(grup_9,grup_10),ReplacementTransform(g9,g10))\n",
    "        self.wait(1)\n",
    "        \n",
    "        self.play(FadeOut(list_kuning2[4]),\n",
    "                  FadeOut(grup_10, g10))\n",
    "        self.wait(1)\n",
    "        \n",
    "        \n",
    "        perhatikan.generate_target()\n",
    "        perhatikan.target.to_corner(np.array([-2.5,2,0]))\n",
    "        table2.generate_target()\n",
    "        table2.target.move_to(np.array([-3.5,-0.25,0]))\n",
    "        \n",
    "#         self.play(MoveToTarget(table2),MoveToTarget(perhatikan),\n",
    "#                   self.camera.frame.animate.move_to(ORIGIN).set(width=14))\n",
    "        \n",
    "        \n",
    "        '''PENUTUP'''\n",
    "        gradien = Text(\"Berdasarkan illustrasi sebelumnya, maka gradien garis singgung adalah\", font='Arial').scale(0.5)\n",
    "        gradien_2 = MathTex('\\lim_{Q \\\\rightarrow P} m_{PQ}=m').scale(0.7)\n",
    "        sehingga  = Text(\"Sehingga diperoleh\", font='Arial').scale(0.5)\n",
    "        gradien_3 = MathTex('\\lim_{x \\\\rightarrow 1} \\\\frac{x^2-1}{x-1}=2').scale(0.7)\n",
    "        gradien.move_to(np.array([0,2,0]))\n",
    "        gradien_2.move_to(np.array([0,1,0]))\n",
    "        sehingga.move_to(np.array([0,-1,0]))\n",
    "        gradien_3.move_to(np.array([0,-2,0]))\n",
    "        \n",
    "        grup_L = VGroup(table2, perhatikan, grup_grafik2, gs_1)\n",
    "        self.play(ReplacementTransform(grup_L, gradien))\n",
    "        self.wait(1)\n",
    "        self.play(Write(gradien_2))\n",
    "        self.play(Write(sehingga))\n",
    "        self.play(Write(gradien_3))\n",
    "        self.wait(1)\n",
    "        \n",
    "        grup_gradien = VGroup(gradien, gradien_2, gradien_3, sehingga)\n",
    "        \n",
    "        kes = Text(\"Dengan mengasumsikan bahwa dugaan kita benar, yakni m = 2,\",\n",
    "                   font='Arial',t2s={' m ':ITALIC}).scale(0.5)\n",
    "        kes2 = Text(\"maka persamaan garis singgung yang dicari adalah\", font='Arial').scale(0.5)\n",
    "        kes3 = MathTex('y-1=2(x-1) \\\\Longleftrightarrow y=2x-1').scale(0.7)\n",
    "        kes.move_to(np.array([0,1,0]))\n",
    "        kes2.move_to(np.array([0,0,0]))\n",
    "        kes3.move_to(np.array([0,-1,0]))\n",
    "        kotak = RoundedRectangle(height = 1, width = 6.25 )\n",
    "        kotak.move_to(np.array([0,-1,0]))\n",
    "        \n",
    "        self.play(FadeOut(grup_gradien, target_position = ORIGIN))\n",
    "        self.play(Write(kes))\n",
    "        self.play(Write(kes2))\n",
    "        self.play(Write(kes3),Create(kotak))\n",
    "        self.wait(2)\n",
    "        \n",
    "        grup_Z = VGroup(kes, kes2, kes3, kotak)\n",
    "        TK = Text(\"Terima Kasih\", font='Bebas Neue', color = WHITE)\n",
    "        self.play(ReplacementTransform(grup_Z,TK))\n",
    "        self.wait(1)\n",
    "        self.play(FadeOut(TK, shift = UP))\n",
    "        self.wait(1)"
   ]
  },
  {
   "cell_type": "code",
   "execution_count": 7,
   "id": "a46774cf",
   "metadata": {},
   "outputs": [
    {
     "data": {
      "text/html": [
       "<pre style=\"white-space:pre;overflow-x:auto;line-height:normal;font-family:Menlo,'DejaVu Sans Mono',consolas,'Courier New',monospace\"><span style=\"color: #7fbfbf; text-decoration-color: #7fbfbf\">[02/18/22 11:21:17] </span><span style=\"color: #008000; text-decoration-color: #008000\">INFO    </span> Animation <span style=\"color: #008000; text-decoration-color: #008000\">0</span> : Using cached data <span style=\"font-weight: bold\">(</span>hash :    <a href=\"file://C:\\Users\\Zirito\\anaconda3\\envs\\manim\\lib\\site-packages\\manim\\renderer\\cairo_renderer.py\"><span style=\"color: #7f7f7f; text-decoration-color: #7f7f7f\">cairo_renderer.py</span></a><span style=\"color: #7f7f7f; text-decoration-color: #7f7f7f\">:110</span>\n",
       "                             759734782_3744884861_1511808204<span style=\"font-weight: bold\">)</span>                                \n",
       "</pre>\n"
      ],
      "text/plain": [
       "\u001b[2;36m[02/18/22 11:21:17]\u001b[0m\u001b[2;36m \u001b[0m\u001b[32mINFO    \u001b[0m Animation \u001b[32m0\u001b[0m : Using cached data \u001b[1m(\u001b[0mhash :    \u001b]8;id=894493;file://C:\\Users\\Zirito\\anaconda3\\envs\\manim\\lib\\site-packages\\manim\\renderer\\cairo_renderer.py\u001b\\\u001b[2mcairo_renderer.py\u001b[0m\u001b]8;;\u001b\\\u001b[2m:110\u001b[0m\n",
       "                             759734782_3744884861_1511808204\u001b[1m)\u001b[0m                                \n"
      ]
     },
     "metadata": {},
     "output_type": "display_data"
    },
    {
     "name": "stderr",
     "output_type": "stream",
     "text": [
      "                                                                                                                       \r"
     ]
    },
    {
     "data": {
      "text/html": [
       "<pre style=\"white-space:pre;overflow-x:auto;line-height:normal;font-family:Menlo,'DejaVu Sans Mono',consolas,'Courier New',monospace\"><span style=\"color: #7fbfbf; text-decoration-color: #7fbfbf\">[02/18/22 11:21:18] </span><span style=\"color: #008000; text-decoration-color: #008000\">INFO    </span> Animation <span style=\"color: #008000; text-decoration-color: #008000\">1</span> : Partial movie file        <a href=\"file://C:\\Users\\Zirito\\anaconda3\\envs\\manim\\lib\\site-packages\\manim\\scene\\scene_file_writer.py\"><span style=\"color: #7f7f7f; text-decoration-color: #7f7f7f\">scene_file_writer.py</span></a><span style=\"color: #7f7f7f; text-decoration-color: #7f7f7f\">:442</span>\n",
       "                             written in                                                      \n",
       "                             <span style=\"color: #008000; text-decoration-color: #008000\">'C:\\Users\\Zirito\\manim\\PROJEK </span>                                  \n",
       "                             <span style=\"color: #008000; text-decoration-color: #008000\">KALKULUS\\MOTIVASI FIX\\media\\videos\\moti</span>                         \n",
       "                             <span style=\"color: #008000; text-decoration-color: #008000\">vasi_4\\480p15\\partial_movie_files\\motiv</span>                         \n",
       "                             <span style=\"color: #008000; text-decoration-color: #008000\">asi_4\\3930506391_2148686299_787466720.m</span>                         \n",
       "                             <span style=\"color: #008000; text-decoration-color: #008000\">p4'</span>                                                             \n",
       "</pre>\n"
      ],
      "text/plain": [
       "\u001b[2;36m[02/18/22 11:21:18]\u001b[0m\u001b[2;36m \u001b[0m\u001b[32mINFO    \u001b[0m Animation \u001b[32m1\u001b[0m : Partial movie file        \u001b]8;id=605919;file://C:\\Users\\Zirito\\anaconda3\\envs\\manim\\lib\\site-packages\\manim\\scene\\scene_file_writer.py\u001b\\\u001b[2mscene_file_writer.py\u001b[0m\u001b]8;;\u001b\\\u001b[2m:442\u001b[0m\n",
       "                             written in                                                      \n",
       "                             \u001b[32m'C:\\Users\\Zirito\\manim\\PROJEK \u001b[0m                                  \n",
       "                             \u001b[32mKALKULUS\\MOTIVASI FIX\\media\\videos\\moti\u001b[0m                         \n",
       "                             \u001b[32mvasi_4\\480p15\\partial_movie_files\\motiv\u001b[0m                         \n",
       "                             \u001b[32masi_4\\3930506391_2148686299_787466720.m\u001b[0m                         \n",
       "                             \u001b[32mp4'\u001b[0m                                                             \n"
      ]
     },
     "metadata": {},
     "output_type": "display_data"
    },
    {
     "data": {
      "text/html": [
       "<pre style=\"white-space:pre;overflow-x:auto;line-height:normal;font-family:Menlo,'DejaVu Sans Mono',consolas,'Courier New',monospace\"><span style=\"color: #7fbfbf; text-decoration-color: #7fbfbf\">[02/18/22 11:21:19] </span><span style=\"color: #008000; text-decoration-color: #008000\">INFO    </span> Animation <span style=\"color: #008000; text-decoration-color: #008000\">2</span> : Using cached data <span style=\"font-weight: bold\">(</span>hash :    <a href=\"file://C:\\Users\\Zirito\\anaconda3\\envs\\manim\\lib\\site-packages\\manim\\renderer\\cairo_renderer.py\"><span style=\"color: #7f7f7f; text-decoration-color: #7f7f7f\">cairo_renderer.py</span></a><span style=\"color: #7f7f7f; text-decoration-color: #7f7f7f\">:110</span>\n",
       "                             3930506391_3980411466_4269190614<span style=\"font-weight: bold\">)</span>                               \n",
       "</pre>\n"
      ],
      "text/plain": [
       "\u001b[2;36m[02/18/22 11:21:19]\u001b[0m\u001b[2;36m \u001b[0m\u001b[32mINFO    \u001b[0m Animation \u001b[32m2\u001b[0m : Using cached data \u001b[1m(\u001b[0mhash :    \u001b]8;id=468089;file://C:\\Users\\Zirito\\anaconda3\\envs\\manim\\lib\\site-packages\\manim\\renderer\\cairo_renderer.py\u001b\\\u001b[2mcairo_renderer.py\u001b[0m\u001b]8;;\u001b\\\u001b[2m:110\u001b[0m\n",
       "                             3930506391_3980411466_4269190614\u001b[1m)\u001b[0m                               \n"
      ]
     },
     "metadata": {},
     "output_type": "display_data"
    },
    {
     "name": "stderr",
     "output_type": "stream",
     "text": [
      "                                                                                                                       \r"
     ]
    },
    {
     "data": {
      "text/html": [
       "<pre style=\"white-space:pre;overflow-x:auto;line-height:normal;font-family:Menlo,'DejaVu Sans Mono',consolas,'Courier New',monospace\"><span style=\"color: #7fbfbf; text-decoration-color: #7fbfbf\">[02/18/22 11:21:20] </span><span style=\"color: #008000; text-decoration-color: #008000\">INFO    </span> Animation <span style=\"color: #008000; text-decoration-color: #008000\">3</span> : Using cached data <span style=\"font-weight: bold\">(</span>hash :    <a href=\"file://C:\\Users\\Zirito\\anaconda3\\envs\\manim\\lib\\site-packages\\manim\\renderer\\cairo_renderer.py\"><span style=\"color: #7f7f7f; text-decoration-color: #7f7f7f\">cairo_renderer.py</span></a><span style=\"color: #7f7f7f; text-decoration-color: #7f7f7f\">:110</span>\n",
       "                             3930506391_2839631542_3782611294<span style=\"font-weight: bold\">)</span>                               \n",
       "</pre>\n"
      ],
      "text/plain": [
       "\u001b[2;36m[02/18/22 11:21:20]\u001b[0m\u001b[2;36m \u001b[0m\u001b[32mINFO    \u001b[0m Animation \u001b[32m3\u001b[0m : Using cached data \u001b[1m(\u001b[0mhash :    \u001b]8;id=426274;file://C:\\Users\\Zirito\\anaconda3\\envs\\manim\\lib\\site-packages\\manim\\renderer\\cairo_renderer.py\u001b\\\u001b[2mcairo_renderer.py\u001b[0m\u001b]8;;\u001b\\\u001b[2m:110\u001b[0m\n",
       "                             3930506391_2839631542_3782611294\u001b[1m)\u001b[0m                               \n"
      ]
     },
     "metadata": {},
     "output_type": "display_data"
    },
    {
     "data": {
      "text/html": [
       "<pre style=\"white-space:pre;overflow-x:auto;line-height:normal;font-family:Menlo,'DejaVu Sans Mono',consolas,'Courier New',monospace\"><span style=\"color: #7fbfbf; text-decoration-color: #7fbfbf\">[02/18/22 11:21:21] </span><span style=\"color: #008000; text-decoration-color: #008000\">INFO    </span> Animation <span style=\"color: #008000; text-decoration-color: #008000\">4</span> : Using cached data <span style=\"font-weight: bold\">(</span>hash :    <a href=\"file://C:\\Users\\Zirito\\anaconda3\\envs\\manim\\lib\\site-packages\\manim\\renderer\\cairo_renderer.py\"><span style=\"color: #7f7f7f; text-decoration-color: #7f7f7f\">cairo_renderer.py</span></a><span style=\"color: #7f7f7f; text-decoration-color: #7f7f7f\">:110</span>\n",
       "                             3930506391_313575621_3833266086<span style=\"font-weight: bold\">)</span>                                \n",
       "</pre>\n"
      ],
      "text/plain": [
       "\u001b[2;36m[02/18/22 11:21:21]\u001b[0m\u001b[2;36m \u001b[0m\u001b[32mINFO    \u001b[0m Animation \u001b[32m4\u001b[0m : Using cached data \u001b[1m(\u001b[0mhash :    \u001b]8;id=724007;file://C:\\Users\\Zirito\\anaconda3\\envs\\manim\\lib\\site-packages\\manim\\renderer\\cairo_renderer.py\u001b\\\u001b[2mcairo_renderer.py\u001b[0m\u001b]8;;\u001b\\\u001b[2m:110\u001b[0m\n",
       "                             3930506391_313575621_3833266086\u001b[1m)\u001b[0m                                \n"
      ]
     },
     "metadata": {},
     "output_type": "display_data"
    },
    {
     "name": "stderr",
     "output_type": "stream",
     "text": [
      "                                                                                                                       \r"
     ]
    },
    {
     "data": {
      "text/html": [
       "<pre style=\"white-space:pre;overflow-x:auto;line-height:normal;font-family:Menlo,'DejaVu Sans Mono',consolas,'Courier New',monospace\"><span style=\"color: #7fbfbf; text-decoration-color: #7fbfbf\">[02/18/22 11:21:23] </span><span style=\"color: #008000; text-decoration-color: #008000\">INFO    </span> Animation <span style=\"color: #008000; text-decoration-color: #008000\">5</span> : Using cached data <span style=\"font-weight: bold\">(</span>hash :    <a href=\"file://C:\\Users\\Zirito\\anaconda3\\envs\\manim\\lib\\site-packages\\manim\\renderer\\cairo_renderer.py\"><span style=\"color: #7f7f7f; text-decoration-color: #7f7f7f\">cairo_renderer.py</span></a><span style=\"color: #7f7f7f; text-decoration-color: #7f7f7f\">:110</span>\n",
       "                             3930506391_4139643323_2610811406<span style=\"font-weight: bold\">)</span>                               \n",
       "</pre>\n"
      ],
      "text/plain": [
       "\u001b[2;36m[02/18/22 11:21:23]\u001b[0m\u001b[2;36m \u001b[0m\u001b[32mINFO    \u001b[0m Animation \u001b[32m5\u001b[0m : Using cached data \u001b[1m(\u001b[0mhash :    \u001b]8;id=460949;file://C:\\Users\\Zirito\\anaconda3\\envs\\manim\\lib\\site-packages\\manim\\renderer\\cairo_renderer.py\u001b\\\u001b[2mcairo_renderer.py\u001b[0m\u001b]8;;\u001b\\\u001b[2m:110\u001b[0m\n",
       "                             3930506391_4139643323_2610811406\u001b[1m)\u001b[0m                               \n"
      ]
     },
     "metadata": {},
     "output_type": "display_data"
    },
    {
     "name": "stderr",
     "output_type": "stream",
     "text": [
      "                                                                                                                       \r"
     ]
    },
    {
     "data": {
      "text/html": [
       "<pre style=\"white-space:pre;overflow-x:auto;line-height:normal;font-family:Menlo,'DejaVu Sans Mono',consolas,'Courier New',monospace\"><span style=\"color: #7fbfbf; text-decoration-color: #7fbfbf\">[02/18/22 11:21:24] </span><span style=\"color: #008000; text-decoration-color: #008000\">INFO    </span> Animation <span style=\"color: #008000; text-decoration-color: #008000\">6</span> : Using cached data <span style=\"font-weight: bold\">(</span>hash :    <a href=\"file://C:\\Users\\Zirito\\anaconda3\\envs\\manim\\lib\\site-packages\\manim\\renderer\\cairo_renderer.py\"><span style=\"color: #7f7f7f; text-decoration-color: #7f7f7f\">cairo_renderer.py</span></a><span style=\"color: #7f7f7f; text-decoration-color: #7f7f7f\">:110</span>\n",
       "                             3930506391_504411060_789492622<span style=\"font-weight: bold\">)</span>                                 \n",
       "</pre>\n"
      ],
      "text/plain": [
       "\u001b[2;36m[02/18/22 11:21:24]\u001b[0m\u001b[2;36m \u001b[0m\u001b[32mINFO    \u001b[0m Animation \u001b[32m6\u001b[0m : Using cached data \u001b[1m(\u001b[0mhash :    \u001b]8;id=341392;file://C:\\Users\\Zirito\\anaconda3\\envs\\manim\\lib\\site-packages\\manim\\renderer\\cairo_renderer.py\u001b\\\u001b[2mcairo_renderer.py\u001b[0m\u001b]8;;\u001b\\\u001b[2m:110\u001b[0m\n",
       "                             3930506391_504411060_789492622\u001b[1m)\u001b[0m                                 \n"
      ]
     },
     "metadata": {},
     "output_type": "display_data"
    },
    {
     "name": "stderr",
     "output_type": "stream",
     "text": [
      "                                                                                                                       \r"
     ]
    },
    {
     "data": {
      "text/html": [
       "<pre style=\"white-space:pre;overflow-x:auto;line-height:normal;font-family:Menlo,'DejaVu Sans Mono',consolas,'Courier New',monospace\"><span style=\"color: #7fbfbf; text-decoration-color: #7fbfbf\">[02/18/22 11:21:25] </span><span style=\"color: #008000; text-decoration-color: #008000\">INFO    </span> Animation <span style=\"color: #008000; text-decoration-color: #008000\">7</span> : Using cached data <span style=\"font-weight: bold\">(</span>hash :    <a href=\"file://C:\\Users\\Zirito\\anaconda3\\envs\\manim\\lib\\site-packages\\manim\\renderer\\cairo_renderer.py\"><span style=\"color: #7f7f7f; text-decoration-color: #7f7f7f\">cairo_renderer.py</span></a><span style=\"color: #7f7f7f; text-decoration-color: #7f7f7f\">:110</span>\n",
       "                             3930506391_2839631542_675029093<span style=\"font-weight: bold\">)</span>                                \n",
       "</pre>\n"
      ],
      "text/plain": [
       "\u001b[2;36m[02/18/22 11:21:25]\u001b[0m\u001b[2;36m \u001b[0m\u001b[32mINFO    \u001b[0m Animation \u001b[32m7\u001b[0m : Using cached data \u001b[1m(\u001b[0mhash :    \u001b]8;id=839158;file://C:\\Users\\Zirito\\anaconda3\\envs\\manim\\lib\\site-packages\\manim\\renderer\\cairo_renderer.py\u001b\\\u001b[2mcairo_renderer.py\u001b[0m\u001b]8;;\u001b\\\u001b[2m:110\u001b[0m\n",
       "                             3930506391_2839631542_675029093\u001b[1m)\u001b[0m                                \n"
      ]
     },
     "metadata": {},
     "output_type": "display_data"
    },
    {
     "name": "stderr",
     "output_type": "stream",
     "text": [
      "                                                                                                                       \r"
     ]
    },
    {
     "data": {
      "text/html": [
       "<pre style=\"white-space:pre;overflow-x:auto;line-height:normal;font-family:Menlo,'DejaVu Sans Mono',consolas,'Courier New',monospace\"><span style=\"color: #7fbfbf; text-decoration-color: #7fbfbf\">[02/18/22 11:21:29] </span><span style=\"color: #008000; text-decoration-color: #008000\">INFO    </span> Animation <span style=\"color: #008000; text-decoration-color: #008000\">8</span> : Partial movie file        <a href=\"file://C:\\Users\\Zirito\\anaconda3\\envs\\manim\\lib\\site-packages\\manim\\scene\\scene_file_writer.py\"><span style=\"color: #7f7f7f; text-decoration-color: #7f7f7f\">scene_file_writer.py</span></a><span style=\"color: #7f7f7f; text-decoration-color: #7f7f7f\">:442</span>\n",
       "                             written in                                                      \n",
       "                             <span style=\"color: #008000; text-decoration-color: #008000\">'C:\\Users\\Zirito\\manim\\PROJEK </span>                                  \n",
       "                             <span style=\"color: #008000; text-decoration-color: #008000\">KALKULUS\\MOTIVASI FIX\\media\\videos\\moti</span>                         \n",
       "                             <span style=\"color: #008000; text-decoration-color: #008000\">vasi_4\\480p15\\partial_movie_files\\motiv</span>                         \n",
       "                             <span style=\"color: #008000; text-decoration-color: #008000\">asi_4\\3930506391_594019393_339519900.mp</span>                         \n",
       "                             <span style=\"color: #008000; text-decoration-color: #008000\">4'</span>                                                              \n",
       "</pre>\n"
      ],
      "text/plain": [
       "\u001b[2;36m[02/18/22 11:21:29]\u001b[0m\u001b[2;36m \u001b[0m\u001b[32mINFO    \u001b[0m Animation \u001b[32m8\u001b[0m : Partial movie file        \u001b]8;id=376339;file://C:\\Users\\Zirito\\anaconda3\\envs\\manim\\lib\\site-packages\\manim\\scene\\scene_file_writer.py\u001b\\\u001b[2mscene_file_writer.py\u001b[0m\u001b]8;;\u001b\\\u001b[2m:442\u001b[0m\n",
       "                             written in                                                      \n",
       "                             \u001b[32m'C:\\Users\\Zirito\\manim\\PROJEK \u001b[0m                                  \n",
       "                             \u001b[32mKALKULUS\\MOTIVASI FIX\\media\\videos\\moti\u001b[0m                         \n",
       "                             \u001b[32mvasi_4\\480p15\\partial_movie_files\\motiv\u001b[0m                         \n",
       "                             \u001b[32masi_4\\3930506391_594019393_339519900.mp\u001b[0m                         \n",
       "                             \u001b[32m4'\u001b[0m                                                              \n"
      ]
     },
     "metadata": {},
     "output_type": "display_data"
    },
    {
     "name": "stderr",
     "output_type": "stream",
     "text": [
      "                                                                                                                       \r"
     ]
    },
    {
     "data": {
      "text/html": [
       "<pre style=\"white-space:pre;overflow-x:auto;line-height:normal;font-family:Menlo,'DejaVu Sans Mono',consolas,'Courier New',monospace\"><span style=\"color: #7fbfbf; text-decoration-color: #7fbfbf\">[02/18/22 11:21:31] </span><span style=\"color: #008000; text-decoration-color: #008000\">INFO    </span> Animation <span style=\"color: #008000; text-decoration-color: #008000\">9</span> : Partial movie file        <a href=\"file://C:\\Users\\Zirito\\anaconda3\\envs\\manim\\lib\\site-packages\\manim\\scene\\scene_file_writer.py\"><span style=\"color: #7f7f7f; text-decoration-color: #7f7f7f\">scene_file_writer.py</span></a><span style=\"color: #7f7f7f; text-decoration-color: #7f7f7f\">:442</span>\n",
       "                             written in                                                      \n",
       "                             <span style=\"color: #008000; text-decoration-color: #008000\">'C:\\Users\\Zirito\\manim\\PROJEK </span>                                  \n",
       "                             <span style=\"color: #008000; text-decoration-color: #008000\">KALKULUS\\MOTIVASI FIX\\media\\videos\\moti</span>                         \n",
       "                             <span style=\"color: #008000; text-decoration-color: #008000\">vasi_4\\480p15\\partial_movie_files\\motiv</span>                         \n",
       "                             <span style=\"color: #008000; text-decoration-color: #008000\">asi_4\\3930506391_3245707316_2535502824.</span>                         \n",
       "                             <span style=\"color: #008000; text-decoration-color: #008000\">mp4'</span>                                                            \n",
       "</pre>\n"
      ],
      "text/plain": [
       "\u001b[2;36m[02/18/22 11:21:31]\u001b[0m\u001b[2;36m \u001b[0m\u001b[32mINFO    \u001b[0m Animation \u001b[32m9\u001b[0m : Partial movie file        \u001b]8;id=332553;file://C:\\Users\\Zirito\\anaconda3\\envs\\manim\\lib\\site-packages\\manim\\scene\\scene_file_writer.py\u001b\\\u001b[2mscene_file_writer.py\u001b[0m\u001b]8;;\u001b\\\u001b[2m:442\u001b[0m\n",
       "                             written in                                                      \n",
       "                             \u001b[32m'C:\\Users\\Zirito\\manim\\PROJEK \u001b[0m                                  \n",
       "                             \u001b[32mKALKULUS\\MOTIVASI FIX\\media\\videos\\moti\u001b[0m                         \n",
       "                             \u001b[32mvasi_4\\480p15\\partial_movie_files\\motiv\u001b[0m                         \n",
       "                             \u001b[32masi_4\\3930506391_3245707316_2535502824.\u001b[0m                         \n",
       "                             \u001b[32mmp4'\u001b[0m                                                            \n"
      ]
     },
     "metadata": {},
     "output_type": "display_data"
    },
    {
     "data": {
      "text/html": [
       "<pre style=\"white-space:pre;overflow-x:auto;line-height:normal;font-family:Menlo,'DejaVu Sans Mono',consolas,'Courier New',monospace\"><span style=\"color: #7fbfbf; text-decoration-color: #7fbfbf\">[02/18/22 11:21:34] </span><span style=\"color: #008000; text-decoration-color: #008000\">INFO    </span> Animation <span style=\"color: #008000; text-decoration-color: #008000\">10</span> : Partial movie file       <a href=\"file://C:\\Users\\Zirito\\anaconda3\\envs\\manim\\lib\\site-packages\\manim\\scene\\scene_file_writer.py\"><span style=\"color: #7f7f7f; text-decoration-color: #7f7f7f\">scene_file_writer.py</span></a><span style=\"color: #7f7f7f; text-decoration-color: #7f7f7f\">:442</span>\n",
       "                             written in                                                      \n",
       "                             <span style=\"color: #008000; text-decoration-color: #008000\">'C:\\Users\\Zirito\\manim\\PROJEK </span>                                  \n",
       "                             <span style=\"color: #008000; text-decoration-color: #008000\">KALKULUS\\MOTIVASI FIX\\media\\videos\\moti</span>                         \n",
       "                             <span style=\"color: #008000; text-decoration-color: #008000\">vasi_4\\480p15\\partial_movie_files\\motiv</span>                         \n",
       "                             <span style=\"color: #008000; text-decoration-color: #008000\">asi_4\\3930506391_2839631542_1705604945.</span>                         \n",
       "                             <span style=\"color: #008000; text-decoration-color: #008000\">mp4'</span>                                                            \n",
       "</pre>\n"
      ],
      "text/plain": [
       "\u001b[2;36m[02/18/22 11:21:34]\u001b[0m\u001b[2;36m \u001b[0m\u001b[32mINFO    \u001b[0m Animation \u001b[32m10\u001b[0m : Partial movie file       \u001b]8;id=951302;file://C:\\Users\\Zirito\\anaconda3\\envs\\manim\\lib\\site-packages\\manim\\scene\\scene_file_writer.py\u001b\\\u001b[2mscene_file_writer.py\u001b[0m\u001b]8;;\u001b\\\u001b[2m:442\u001b[0m\n",
       "                             written in                                                      \n",
       "                             \u001b[32m'C:\\Users\\Zirito\\manim\\PROJEK \u001b[0m                                  \n",
       "                             \u001b[32mKALKULUS\\MOTIVASI FIX\\media\\videos\\moti\u001b[0m                         \n",
       "                             \u001b[32mvasi_4\\480p15\\partial_movie_files\\motiv\u001b[0m                         \n",
       "                             \u001b[32masi_4\\3930506391_2839631542_1705604945.\u001b[0m                         \n",
       "                             \u001b[32mmp4'\u001b[0m                                                            \n"
      ]
     },
     "metadata": {},
     "output_type": "display_data"
    },
    {
     "name": "stderr",
     "output_type": "stream",
     "text": [
      "                                                                                                                       \r"
     ]
    },
    {
     "data": {
      "text/html": [
       "<pre style=\"white-space:pre;overflow-x:auto;line-height:normal;font-family:Menlo,'DejaVu Sans Mono',consolas,'Courier New',monospace\"><span style=\"color: #7fbfbf; text-decoration-color: #7fbfbf\">[02/18/22 11:21:37] </span><span style=\"color: #008000; text-decoration-color: #008000\">INFO    </span> Animation <span style=\"color: #008000; text-decoration-color: #008000\">11</span> : Partial movie file       <a href=\"file://C:\\Users\\Zirito\\anaconda3\\envs\\manim\\lib\\site-packages\\manim\\scene\\scene_file_writer.py\"><span style=\"color: #7f7f7f; text-decoration-color: #7f7f7f\">scene_file_writer.py</span></a><span style=\"color: #7f7f7f; text-decoration-color: #7f7f7f\">:442</span>\n",
       "                             written in                                                      \n",
       "                             <span style=\"color: #008000; text-decoration-color: #008000\">'C:\\Users\\Zirito\\manim\\PROJEK </span>                                  \n",
       "                             <span style=\"color: #008000; text-decoration-color: #008000\">KALKULUS\\MOTIVASI FIX\\media\\videos\\moti</span>                         \n",
       "                             <span style=\"color: #008000; text-decoration-color: #008000\">vasi_4\\480p15\\partial_movie_files\\motiv</span>                         \n",
       "                             <span style=\"color: #008000; text-decoration-color: #008000\">asi_4\\3930506391_900075303_394613656.mp</span>                         \n",
       "                             <span style=\"color: #008000; text-decoration-color: #008000\">4'</span>                                                              \n",
       "</pre>\n"
      ],
      "text/plain": [
       "\u001b[2;36m[02/18/22 11:21:37]\u001b[0m\u001b[2;36m \u001b[0m\u001b[32mINFO    \u001b[0m Animation \u001b[32m11\u001b[0m : Partial movie file       \u001b]8;id=429954;file://C:\\Users\\Zirito\\anaconda3\\envs\\manim\\lib\\site-packages\\manim\\scene\\scene_file_writer.py\u001b\\\u001b[2mscene_file_writer.py\u001b[0m\u001b]8;;\u001b\\\u001b[2m:442\u001b[0m\n",
       "                             written in                                                      \n",
       "                             \u001b[32m'C:\\Users\\Zirito\\manim\\PROJEK \u001b[0m                                  \n",
       "                             \u001b[32mKALKULUS\\MOTIVASI FIX\\media\\videos\\moti\u001b[0m                         \n",
       "                             \u001b[32mvasi_4\\480p15\\partial_movie_files\\motiv\u001b[0m                         \n",
       "                             \u001b[32masi_4\\3930506391_900075303_394613656.mp\u001b[0m                         \n",
       "                             \u001b[32m4'\u001b[0m                                                              \n"
      ]
     },
     "metadata": {},
     "output_type": "display_data"
    },
    {
     "data": {
      "text/html": [
       "<pre style=\"white-space:pre;overflow-x:auto;line-height:normal;font-family:Menlo,'DejaVu Sans Mono',consolas,'Courier New',monospace\"><span style=\"color: #7fbfbf; text-decoration-color: #7fbfbf\">[02/18/22 11:21:40] </span><span style=\"color: #008000; text-decoration-color: #008000\">INFO    </span> Animation <span style=\"color: #008000; text-decoration-color: #008000\">12</span> : Partial movie file       <a href=\"file://C:\\Users\\Zirito\\anaconda3\\envs\\manim\\lib\\site-packages\\manim\\scene\\scene_file_writer.py\"><span style=\"color: #7f7f7f; text-decoration-color: #7f7f7f\">scene_file_writer.py</span></a><span style=\"color: #7f7f7f; text-decoration-color: #7f7f7f\">:442</span>\n",
       "                             written in                                                      \n",
       "                             <span style=\"color: #008000; text-decoration-color: #008000\">'C:\\Users\\Zirito\\manim\\PROJEK </span>                                  \n",
       "                             <span style=\"color: #008000; text-decoration-color: #008000\">KALKULUS\\MOTIVASI FIX\\media\\videos\\moti</span>                         \n",
       "                             <span style=\"color: #008000; text-decoration-color: #008000\">vasi_4\\480p15\\partial_movie_files\\motiv</span>                         \n",
       "                             <span style=\"color: #008000; text-decoration-color: #008000\">asi_4\\3930506391_2839631542_528878762.m</span>                         \n",
       "                             <span style=\"color: #008000; text-decoration-color: #008000\">p4'</span>                                                             \n",
       "</pre>\n"
      ],
      "text/plain": [
       "\u001b[2;36m[02/18/22 11:21:40]\u001b[0m\u001b[2;36m \u001b[0m\u001b[32mINFO    \u001b[0m Animation \u001b[32m12\u001b[0m : Partial movie file       \u001b]8;id=554090;file://C:\\Users\\Zirito\\anaconda3\\envs\\manim\\lib\\site-packages\\manim\\scene\\scene_file_writer.py\u001b\\\u001b[2mscene_file_writer.py\u001b[0m\u001b]8;;\u001b\\\u001b[2m:442\u001b[0m\n",
       "                             written in                                                      \n",
       "                             \u001b[32m'C:\\Users\\Zirito\\manim\\PROJEK \u001b[0m                                  \n",
       "                             \u001b[32mKALKULUS\\MOTIVASI FIX\\media\\videos\\moti\u001b[0m                         \n",
       "                             \u001b[32mvasi_4\\480p15\\partial_movie_files\\motiv\u001b[0m                         \n",
       "                             \u001b[32masi_4\\3930506391_2839631542_528878762.m\u001b[0m                         \n",
       "                             \u001b[32mp4'\u001b[0m                                                             \n"
      ]
     },
     "metadata": {},
     "output_type": "display_data"
    },
    {
     "name": "stderr",
     "output_type": "stream",
     "text": [
      "                                                                                                                       \r"
     ]
    },
    {
     "data": {
      "text/html": [
       "<pre style=\"white-space:pre;overflow-x:auto;line-height:normal;font-family:Menlo,'DejaVu Sans Mono',consolas,'Courier New',monospace\"><span style=\"color: #7fbfbf; text-decoration-color: #7fbfbf\">[02/18/22 11:21:43] </span><span style=\"color: #008000; text-decoration-color: #008000\">INFO    </span> Animation <span style=\"color: #008000; text-decoration-color: #008000\">13</span> : Partial movie file       <a href=\"file://C:\\Users\\Zirito\\anaconda3\\envs\\manim\\lib\\site-packages\\manim\\scene\\scene_file_writer.py\"><span style=\"color: #7f7f7f; text-decoration-color: #7f7f7f\">scene_file_writer.py</span></a><span style=\"color: #7f7f7f; text-decoration-color: #7f7f7f\">:442</span>\n",
       "                             written in                                                      \n",
       "                             <span style=\"color: #008000; text-decoration-color: #008000\">'C:\\Users\\Zirito\\manim\\PROJEK </span>                                  \n",
       "                             <span style=\"color: #008000; text-decoration-color: #008000\">KALKULUS\\MOTIVASI FIX\\media\\videos\\moti</span>                         \n",
       "                             <span style=\"color: #008000; text-decoration-color: #008000\">vasi_4\\480p15\\partial_movie_files\\motiv</span>                         \n",
       "                             <span style=\"color: #008000; text-decoration-color: #008000\">asi_4\\3930506391_587761092_1634128499.m</span>                         \n",
       "                             <span style=\"color: #008000; text-decoration-color: #008000\">p4'</span>                                                             \n",
       "</pre>\n"
      ],
      "text/plain": [
       "\u001b[2;36m[02/18/22 11:21:43]\u001b[0m\u001b[2;36m \u001b[0m\u001b[32mINFO    \u001b[0m Animation \u001b[32m13\u001b[0m : Partial movie file       \u001b]8;id=14962;file://C:\\Users\\Zirito\\anaconda3\\envs\\manim\\lib\\site-packages\\manim\\scene\\scene_file_writer.py\u001b\\\u001b[2mscene_file_writer.py\u001b[0m\u001b]8;;\u001b\\\u001b[2m:442\u001b[0m\n",
       "                             written in                                                      \n",
       "                             \u001b[32m'C:\\Users\\Zirito\\manim\\PROJEK \u001b[0m                                  \n",
       "                             \u001b[32mKALKULUS\\MOTIVASI FIX\\media\\videos\\moti\u001b[0m                         \n",
       "                             \u001b[32mvasi_4\\480p15\\partial_movie_files\\motiv\u001b[0m                         \n",
       "                             \u001b[32masi_4\\3930506391_587761092_1634128499.m\u001b[0m                         \n",
       "                             \u001b[32mp4'\u001b[0m                                                             \n"
      ]
     },
     "metadata": {},
     "output_type": "display_data"
    },
    {
     "data": {
      "text/html": [
       "<pre style=\"white-space:pre;overflow-x:auto;line-height:normal;font-family:Menlo,'DejaVu Sans Mono',consolas,'Courier New',monospace\"><span style=\"color: #7fbfbf; text-decoration-color: #7fbfbf\">[02/18/22 11:21:45] </span><span style=\"color: #008000; text-decoration-color: #008000\">INFO    </span> Animation <span style=\"color: #008000; text-decoration-color: #008000\">14</span> : Partial movie file       <a href=\"file://C:\\Users\\Zirito\\anaconda3\\envs\\manim\\lib\\site-packages\\manim\\scene\\scene_file_writer.py\"><span style=\"color: #7f7f7f; text-decoration-color: #7f7f7f\">scene_file_writer.py</span></a><span style=\"color: #7f7f7f; text-decoration-color: #7f7f7f\">:442</span>\n",
       "                             written in                                                      \n",
       "                             <span style=\"color: #008000; text-decoration-color: #008000\">'C:\\Users\\Zirito\\manim\\PROJEK </span>                                  \n",
       "                             <span style=\"color: #008000; text-decoration-color: #008000\">KALKULUS\\MOTIVASI FIX\\media\\videos\\moti</span>                         \n",
       "                             <span style=\"color: #008000; text-decoration-color: #008000\">vasi_4\\480p15\\partial_movie_files\\motiv</span>                         \n",
       "                             <span style=\"color: #008000; text-decoration-color: #008000\">asi_4\\3930506391_2839631542_3316913490.</span>                         \n",
       "                             <span style=\"color: #008000; text-decoration-color: #008000\">mp4'</span>                                                            \n",
       "</pre>\n"
      ],
      "text/plain": [
       "\u001b[2;36m[02/18/22 11:21:45]\u001b[0m\u001b[2;36m \u001b[0m\u001b[32mINFO    \u001b[0m Animation \u001b[32m14\u001b[0m : Partial movie file       \u001b]8;id=358305;file://C:\\Users\\Zirito\\anaconda3\\envs\\manim\\lib\\site-packages\\manim\\scene\\scene_file_writer.py\u001b\\\u001b[2mscene_file_writer.py\u001b[0m\u001b]8;;\u001b\\\u001b[2m:442\u001b[0m\n",
       "                             written in                                                      \n",
       "                             \u001b[32m'C:\\Users\\Zirito\\manim\\PROJEK \u001b[0m                                  \n",
       "                             \u001b[32mKALKULUS\\MOTIVASI FIX\\media\\videos\\moti\u001b[0m                         \n",
       "                             \u001b[32mvasi_4\\480p15\\partial_movie_files\\motiv\u001b[0m                         \n",
       "                             \u001b[32masi_4\\3930506391_2839631542_3316913490.\u001b[0m                         \n",
       "                             \u001b[32mmp4'\u001b[0m                                                            \n"
      ]
     },
     "metadata": {},
     "output_type": "display_data"
    },
    {
     "name": "stderr",
     "output_type": "stream",
     "text": [
      "                                                                                                                       \r"
     ]
    },
    {
     "data": {
      "text/html": [
       "<pre style=\"white-space:pre;overflow-x:auto;line-height:normal;font-family:Menlo,'DejaVu Sans Mono',consolas,'Courier New',monospace\"><span style=\"color: #7fbfbf; text-decoration-color: #7fbfbf\">[02/18/22 11:21:47] </span><span style=\"color: #008000; text-decoration-color: #008000\">INFO    </span> Animation <span style=\"color: #008000; text-decoration-color: #008000\">15</span> : Partial movie file       <a href=\"file://C:\\Users\\Zirito\\anaconda3\\envs\\manim\\lib\\site-packages\\manim\\scene\\scene_file_writer.py\"><span style=\"color: #7f7f7f; text-decoration-color: #7f7f7f\">scene_file_writer.py</span></a><span style=\"color: #7f7f7f; text-decoration-color: #7f7f7f\">:442</span>\n",
       "                             written in                                                      \n",
       "                             <span style=\"color: #008000; text-decoration-color: #008000\">'C:\\Users\\Zirito\\manim\\PROJEK </span>                                  \n",
       "                             <span style=\"color: #008000; text-decoration-color: #008000\">KALKULUS\\MOTIVASI FIX\\media\\videos\\moti</span>                         \n",
       "                             <span style=\"color: #008000; text-decoration-color: #008000\">vasi_4\\480p15\\partial_movie_files\\motiv</span>                         \n",
       "                             <span style=\"color: #008000; text-decoration-color: #008000\">asi_4\\3930506391_2169236041_3263767227.</span>                         \n",
       "                             <span style=\"color: #008000; text-decoration-color: #008000\">mp4'</span>                                                            \n",
       "</pre>\n"
      ],
      "text/plain": [
       "\u001b[2;36m[02/18/22 11:21:47]\u001b[0m\u001b[2;36m \u001b[0m\u001b[32mINFO    \u001b[0m Animation \u001b[32m15\u001b[0m : Partial movie file       \u001b]8;id=428376;file://C:\\Users\\Zirito\\anaconda3\\envs\\manim\\lib\\site-packages\\manim\\scene\\scene_file_writer.py\u001b\\\u001b[2mscene_file_writer.py\u001b[0m\u001b]8;;\u001b\\\u001b[2m:442\u001b[0m\n",
       "                             written in                                                      \n",
       "                             \u001b[32m'C:\\Users\\Zirito\\manim\\PROJEK \u001b[0m                                  \n",
       "                             \u001b[32mKALKULUS\\MOTIVASI FIX\\media\\videos\\moti\u001b[0m                         \n",
       "                             \u001b[32mvasi_4\\480p15\\partial_movie_files\\motiv\u001b[0m                         \n",
       "                             \u001b[32masi_4\\3930506391_2169236041_3263767227.\u001b[0m                         \n",
       "                             \u001b[32mmp4'\u001b[0m                                                            \n"
      ]
     },
     "metadata": {},
     "output_type": "display_data"
    },
    {
     "data": {
      "text/html": [
       "<pre style=\"white-space:pre;overflow-x:auto;line-height:normal;font-family:Menlo,'DejaVu Sans Mono',consolas,'Courier New',monospace\"><span style=\"color: #7fbfbf; text-decoration-color: #7fbfbf\">[02/18/22 11:21:49] </span><span style=\"color: #008000; text-decoration-color: #008000\">INFO    </span> Animation <span style=\"color: #008000; text-decoration-color: #008000\">16</span> : Partial movie file       <a href=\"file://C:\\Users\\Zirito\\anaconda3\\envs\\manim\\lib\\site-packages\\manim\\scene\\scene_file_writer.py\"><span style=\"color: #7f7f7f; text-decoration-color: #7f7f7f\">scene_file_writer.py</span></a><span style=\"color: #7f7f7f; text-decoration-color: #7f7f7f\">:442</span>\n",
       "                             written in                                                      \n",
       "                             <span style=\"color: #008000; text-decoration-color: #008000\">'C:\\Users\\Zirito\\manim\\PROJEK </span>                                  \n",
       "                             <span style=\"color: #008000; text-decoration-color: #008000\">KALKULUS\\MOTIVASI FIX\\media\\videos\\moti</span>                         \n",
       "                             <span style=\"color: #008000; text-decoration-color: #008000\">vasi_4\\480p15\\partial_movie_files\\motiv</span>                         \n",
       "                             <span style=\"color: #008000; text-decoration-color: #008000\">asi_4\\2579206722_2839631542_3221121034.</span>                         \n",
       "                             <span style=\"color: #008000; text-decoration-color: #008000\">mp4'</span>                                                            \n",
       "</pre>\n"
      ],
      "text/plain": [
       "\u001b[2;36m[02/18/22 11:21:49]\u001b[0m\u001b[2;36m \u001b[0m\u001b[32mINFO    \u001b[0m Animation \u001b[32m16\u001b[0m : Partial movie file       \u001b]8;id=17257;file://C:\\Users\\Zirito\\anaconda3\\envs\\manim\\lib\\site-packages\\manim\\scene\\scene_file_writer.py\u001b\\\u001b[2mscene_file_writer.py\u001b[0m\u001b]8;;\u001b\\\u001b[2m:442\u001b[0m\n",
       "                             written in                                                      \n",
       "                             \u001b[32m'C:\\Users\\Zirito\\manim\\PROJEK \u001b[0m                                  \n",
       "                             \u001b[32mKALKULUS\\MOTIVASI FIX\\media\\videos\\moti\u001b[0m                         \n",
       "                             \u001b[32mvasi_4\\480p15\\partial_movie_files\\motiv\u001b[0m                         \n",
       "                             \u001b[32masi_4\\2579206722_2839631542_3221121034.\u001b[0m                         \n",
       "                             \u001b[32mmp4'\u001b[0m                                                            \n"
      ]
     },
     "metadata": {},
     "output_type": "display_data"
    },
    {
     "name": "stderr",
     "output_type": "stream",
     "text": [
      "                                                                                                                       \r"
     ]
    },
    {
     "data": {
      "text/html": [
       "<pre style=\"white-space:pre;overflow-x:auto;line-height:normal;font-family:Menlo,'DejaVu Sans Mono',consolas,'Courier New',monospace\"><span style=\"color: #7fbfbf; text-decoration-color: #7fbfbf\">[02/18/22 11:21:52] </span><span style=\"color: #008000; text-decoration-color: #008000\">INFO    </span> Animation <span style=\"color: #008000; text-decoration-color: #008000\">17</span> : Partial movie file       <a href=\"file://C:\\Users\\Zirito\\anaconda3\\envs\\manim\\lib\\site-packages\\manim\\scene\\scene_file_writer.py\"><span style=\"color: #7f7f7f; text-decoration-color: #7f7f7f\">scene_file_writer.py</span></a><span style=\"color: #7f7f7f; text-decoration-color: #7f7f7f\">:442</span>\n",
       "                             written in                                                      \n",
       "                             <span style=\"color: #008000; text-decoration-color: #008000\">'C:\\Users\\Zirito\\manim\\PROJEK </span>                                  \n",
       "                             <span style=\"color: #008000; text-decoration-color: #008000\">KALKULUS\\MOTIVASI FIX\\media\\videos\\moti</span>                         \n",
       "                             <span style=\"color: #008000; text-decoration-color: #008000\">vasi_4\\480p15\\partial_movie_files\\motiv</span>                         \n",
       "                             <span style=\"color: #008000; text-decoration-color: #008000\">asi_4\\3930506391_2493464627_3539341248.</span>                         \n",
       "                             <span style=\"color: #008000; text-decoration-color: #008000\">mp4'</span>                                                            \n",
       "</pre>\n"
      ],
      "text/plain": [
       "\u001b[2;36m[02/18/22 11:21:52]\u001b[0m\u001b[2;36m \u001b[0m\u001b[32mINFO    \u001b[0m Animation \u001b[32m17\u001b[0m : Partial movie file       \u001b]8;id=109334;file://C:\\Users\\Zirito\\anaconda3\\envs\\manim\\lib\\site-packages\\manim\\scene\\scene_file_writer.py\u001b\\\u001b[2mscene_file_writer.py\u001b[0m\u001b]8;;\u001b\\\u001b[2m:442\u001b[0m\n",
       "                             written in                                                      \n",
       "                             \u001b[32m'C:\\Users\\Zirito\\manim\\PROJEK \u001b[0m                                  \n",
       "                             \u001b[32mKALKULUS\\MOTIVASI FIX\\media\\videos\\moti\u001b[0m                         \n",
       "                             \u001b[32mvasi_4\\480p15\\partial_movie_files\\motiv\u001b[0m                         \n",
       "                             \u001b[32masi_4\\3930506391_2493464627_3539341248.\u001b[0m                         \n",
       "                             \u001b[32mmp4'\u001b[0m                                                            \n"
      ]
     },
     "metadata": {},
     "output_type": "display_data"
    },
    {
     "data": {
      "text/html": [
       "<pre style=\"white-space:pre;overflow-x:auto;line-height:normal;font-family:Menlo,'DejaVu Sans Mono',consolas,'Courier New',monospace\"><span style=\"color: #7fbfbf; text-decoration-color: #7fbfbf\">[02/18/22 11:21:54] </span><span style=\"color: #008000; text-decoration-color: #008000\">INFO    </span> Animation <span style=\"color: #008000; text-decoration-color: #008000\">18</span> : Partial movie file       <a href=\"file://C:\\Users\\Zirito\\anaconda3\\envs\\manim\\lib\\site-packages\\manim\\scene\\scene_file_writer.py\"><span style=\"color: #7f7f7f; text-decoration-color: #7f7f7f\">scene_file_writer.py</span></a><span style=\"color: #7f7f7f; text-decoration-color: #7f7f7f\">:442</span>\n",
       "                             written in                                                      \n",
       "                             <span style=\"color: #008000; text-decoration-color: #008000\">'C:\\Users\\Zirito\\manim\\PROJEK </span>                                  \n",
       "                             <span style=\"color: #008000; text-decoration-color: #008000\">KALKULUS\\MOTIVASI FIX\\media\\videos\\moti</span>                         \n",
       "                             <span style=\"color: #008000; text-decoration-color: #008000\">vasi_4\\480p15\\partial_movie_files\\motiv</span>                         \n",
       "                             <span style=\"color: #008000; text-decoration-color: #008000\">asi_4\\3930506391_2839631542_1879591263.</span>                         \n",
       "                             <span style=\"color: #008000; text-decoration-color: #008000\">mp4'</span>                                                            \n",
       "</pre>\n"
      ],
      "text/plain": [
       "\u001b[2;36m[02/18/22 11:21:54]\u001b[0m\u001b[2;36m \u001b[0m\u001b[32mINFO    \u001b[0m Animation \u001b[32m18\u001b[0m : Partial movie file       \u001b]8;id=239488;file://C:\\Users\\Zirito\\anaconda3\\envs\\manim\\lib\\site-packages\\manim\\scene\\scene_file_writer.py\u001b\\\u001b[2mscene_file_writer.py\u001b[0m\u001b]8;;\u001b\\\u001b[2m:442\u001b[0m\n",
       "                             written in                                                      \n",
       "                             \u001b[32m'C:\\Users\\Zirito\\manim\\PROJEK \u001b[0m                                  \n",
       "                             \u001b[32mKALKULUS\\MOTIVASI FIX\\media\\videos\\moti\u001b[0m                         \n",
       "                             \u001b[32mvasi_4\\480p15\\partial_movie_files\\motiv\u001b[0m                         \n",
       "                             \u001b[32masi_4\\3930506391_2839631542_1879591263.\u001b[0m                         \n",
       "                             \u001b[32mmp4'\u001b[0m                                                            \n"
      ]
     },
     "metadata": {},
     "output_type": "display_data"
    },
    {
     "name": "stderr",
     "output_type": "stream",
     "text": [
      "                                                                                                                       \r"
     ]
    },
    {
     "data": {
      "text/html": [
       "<pre style=\"white-space:pre;overflow-x:auto;line-height:normal;font-family:Menlo,'DejaVu Sans Mono',consolas,'Courier New',monospace\"><span style=\"color: #7fbfbf; text-decoration-color: #7fbfbf\">[02/18/22 11:21:56] </span><span style=\"color: #008000; text-decoration-color: #008000\">INFO    </span> Animation <span style=\"color: #008000; text-decoration-color: #008000\">19</span> : Partial movie file       <a href=\"file://C:\\Users\\Zirito\\anaconda3\\envs\\manim\\lib\\site-packages\\manim\\scene\\scene_file_writer.py\"><span style=\"color: #7f7f7f; text-decoration-color: #7f7f7f\">scene_file_writer.py</span></a><span style=\"color: #7f7f7f; text-decoration-color: #7f7f7f\">:442</span>\n",
       "                             written in                                                      \n",
       "                             <span style=\"color: #008000; text-decoration-color: #008000\">'C:\\Users\\Zirito\\manim\\PROJEK </span>                                  \n",
       "                             <span style=\"color: #008000; text-decoration-color: #008000\">KALKULUS\\MOTIVASI FIX\\media\\videos\\moti</span>                         \n",
       "                             <span style=\"color: #008000; text-decoration-color: #008000\">vasi_4\\480p15\\partial_movie_files\\motiv</span>                         \n",
       "                             <span style=\"color: #008000; text-decoration-color: #008000\">asi_4\\3930506391_3138640880_3091016533.</span>                         \n",
       "                             <span style=\"color: #008000; text-decoration-color: #008000\">mp4'</span>                                                            \n",
       "</pre>\n"
      ],
      "text/plain": [
       "\u001b[2;36m[02/18/22 11:21:56]\u001b[0m\u001b[2;36m \u001b[0m\u001b[32mINFO    \u001b[0m Animation \u001b[32m19\u001b[0m : Partial movie file       \u001b]8;id=150320;file://C:\\Users\\Zirito\\anaconda3\\envs\\manim\\lib\\site-packages\\manim\\scene\\scene_file_writer.py\u001b\\\u001b[2mscene_file_writer.py\u001b[0m\u001b]8;;\u001b\\\u001b[2m:442\u001b[0m\n",
       "                             written in                                                      \n",
       "                             \u001b[32m'C:\\Users\\Zirito\\manim\\PROJEK \u001b[0m                                  \n",
       "                             \u001b[32mKALKULUS\\MOTIVASI FIX\\media\\videos\\moti\u001b[0m                         \n",
       "                             \u001b[32mvasi_4\\480p15\\partial_movie_files\\motiv\u001b[0m                         \n",
       "                             \u001b[32masi_4\\3930506391_3138640880_3091016533.\u001b[0m                         \n",
       "                             \u001b[32mmp4'\u001b[0m                                                            \n"
      ]
     },
     "metadata": {},
     "output_type": "display_data"
    },
    {
     "data": {
      "text/html": [
       "<pre style=\"white-space:pre;overflow-x:auto;line-height:normal;font-family:Menlo,'DejaVu Sans Mono',consolas,'Courier New',monospace\"><span style=\"color: #7fbfbf; text-decoration-color: #7fbfbf\">[02/18/22 11:21:58] </span><span style=\"color: #008000; text-decoration-color: #008000\">INFO    </span> Animation <span style=\"color: #008000; text-decoration-color: #008000\">20</span> : Partial movie file       <a href=\"file://C:\\Users\\Zirito\\anaconda3\\envs\\manim\\lib\\site-packages\\manim\\scene\\scene_file_writer.py\"><span style=\"color: #7f7f7f; text-decoration-color: #7f7f7f\">scene_file_writer.py</span></a><span style=\"color: #7f7f7f; text-decoration-color: #7f7f7f\">:442</span>\n",
       "                             written in                                                      \n",
       "                             <span style=\"color: #008000; text-decoration-color: #008000\">'C:\\Users\\Zirito\\manim\\PROJEK </span>                                  \n",
       "                             <span style=\"color: #008000; text-decoration-color: #008000\">KALKULUS\\MOTIVASI FIX\\media\\videos\\moti</span>                         \n",
       "                             <span style=\"color: #008000; text-decoration-color: #008000\">vasi_4\\480p15\\partial_movie_files\\motiv</span>                         \n",
       "                             <span style=\"color: #008000; text-decoration-color: #008000\">asi_4\\3930506391_2839631542_583764710.m</span>                         \n",
       "                             <span style=\"color: #008000; text-decoration-color: #008000\">p4'</span>                                                             \n",
       "</pre>\n"
      ],
      "text/plain": [
       "\u001b[2;36m[02/18/22 11:21:58]\u001b[0m\u001b[2;36m \u001b[0m\u001b[32mINFO    \u001b[0m Animation \u001b[32m20\u001b[0m : Partial movie file       \u001b]8;id=90874;file://C:\\Users\\Zirito\\anaconda3\\envs\\manim\\lib\\site-packages\\manim\\scene\\scene_file_writer.py\u001b\\\u001b[2mscene_file_writer.py\u001b[0m\u001b]8;;\u001b\\\u001b[2m:442\u001b[0m\n",
       "                             written in                                                      \n",
       "                             \u001b[32m'C:\\Users\\Zirito\\manim\\PROJEK \u001b[0m                                  \n",
       "                             \u001b[32mKALKULUS\\MOTIVASI FIX\\media\\videos\\moti\u001b[0m                         \n",
       "                             \u001b[32mvasi_4\\480p15\\partial_movie_files\\motiv\u001b[0m                         \n",
       "                             \u001b[32masi_4\\3930506391_2839631542_583764710.m\u001b[0m                         \n",
       "                             \u001b[32mp4'\u001b[0m                                                             \n"
      ]
     },
     "metadata": {},
     "output_type": "display_data"
    },
    {
     "name": "stderr",
     "output_type": "stream",
     "text": [
      "                                                                                                                       \r"
     ]
    },
    {
     "data": {
      "text/html": [
       "<pre style=\"white-space:pre;overflow-x:auto;line-height:normal;font-family:Menlo,'DejaVu Sans Mono',consolas,'Courier New',monospace\"><span style=\"color: #7fbfbf; text-decoration-color: #7fbfbf\">[02/18/22 11:22:04] </span><span style=\"color: #008000; text-decoration-color: #008000\">INFO    </span> Animation <span style=\"color: #008000; text-decoration-color: #008000\">21</span> : Partial movie file       <a href=\"file://C:\\Users\\Zirito\\anaconda3\\envs\\manim\\lib\\site-packages\\manim\\scene\\scene_file_writer.py\"><span style=\"color: #7f7f7f; text-decoration-color: #7f7f7f\">scene_file_writer.py</span></a><span style=\"color: #7f7f7f; text-decoration-color: #7f7f7f\">:442</span>\n",
       "                             written in                                                      \n",
       "                             <span style=\"color: #008000; text-decoration-color: #008000\">'C:\\Users\\Zirito\\manim\\PROJEK </span>                                  \n",
       "                             <span style=\"color: #008000; text-decoration-color: #008000\">KALKULUS\\MOTIVASI FIX\\media\\videos\\moti</span>                         \n",
       "                             <span style=\"color: #008000; text-decoration-color: #008000\">vasi_4\\480p15\\partial_movie_files\\motiv</span>                         \n",
       "                             <span style=\"color: #008000; text-decoration-color: #008000\">asi_4\\3930506391_2088784186_1059132892.</span>                         \n",
       "                             <span style=\"color: #008000; text-decoration-color: #008000\">mp4'</span>                                                            \n",
       "</pre>\n"
      ],
      "text/plain": [
       "\u001b[2;36m[02/18/22 11:22:04]\u001b[0m\u001b[2;36m \u001b[0m\u001b[32mINFO    \u001b[0m Animation \u001b[32m21\u001b[0m : Partial movie file       \u001b]8;id=8696;file://C:\\Users\\Zirito\\anaconda3\\envs\\manim\\lib\\site-packages\\manim\\scene\\scene_file_writer.py\u001b\\\u001b[2mscene_file_writer.py\u001b[0m\u001b]8;;\u001b\\\u001b[2m:442\u001b[0m\n",
       "                             written in                                                      \n",
       "                             \u001b[32m'C:\\Users\\Zirito\\manim\\PROJEK \u001b[0m                                  \n",
       "                             \u001b[32mKALKULUS\\MOTIVASI FIX\\media\\videos\\moti\u001b[0m                         \n",
       "                             \u001b[32mvasi_4\\480p15\\partial_movie_files\\motiv\u001b[0m                         \n",
       "                             \u001b[32masi_4\\3930506391_2088784186_1059132892.\u001b[0m                         \n",
       "                             \u001b[32mmp4'\u001b[0m                                                            \n"
      ]
     },
     "metadata": {},
     "output_type": "display_data"
    },
    {
     "data": {
      "text/html": [
       "<pre style=\"white-space:pre;overflow-x:auto;line-height:normal;font-family:Menlo,'DejaVu Sans Mono',consolas,'Courier New',monospace\"><span style=\"color: #7fbfbf; text-decoration-color: #7fbfbf\">[02/18/22 11:22:06] </span><span style=\"color: #008000; text-decoration-color: #008000\">INFO    </span> Animation <span style=\"color: #008000; text-decoration-color: #008000\">22</span> : Partial movie file       <a href=\"file://C:\\Users\\Zirito\\anaconda3\\envs\\manim\\lib\\site-packages\\manim\\scene\\scene_file_writer.py\"><span style=\"color: #7f7f7f; text-decoration-color: #7f7f7f\">scene_file_writer.py</span></a><span style=\"color: #7f7f7f; text-decoration-color: #7f7f7f\">:442</span>\n",
       "                             written in                                                      \n",
       "                             <span style=\"color: #008000; text-decoration-color: #008000\">'C:\\Users\\Zirito\\manim\\PROJEK </span>                                  \n",
       "                             <span style=\"color: #008000; text-decoration-color: #008000\">KALKULUS\\MOTIVASI FIX\\media\\videos\\moti</span>                         \n",
       "                             <span style=\"color: #008000; text-decoration-color: #008000\">vasi_4\\480p15\\partial_movie_files\\motiv</span>                         \n",
       "                             <span style=\"color: #008000; text-decoration-color: #008000\">asi_4\\3930506391_2839631542_3503402540.</span>                         \n",
       "                             <span style=\"color: #008000; text-decoration-color: #008000\">mp4'</span>                                                            \n",
       "</pre>\n"
      ],
      "text/plain": [
       "\u001b[2;36m[02/18/22 11:22:06]\u001b[0m\u001b[2;36m \u001b[0m\u001b[32mINFO    \u001b[0m Animation \u001b[32m22\u001b[0m : Partial movie file       \u001b]8;id=705446;file://C:\\Users\\Zirito\\anaconda3\\envs\\manim\\lib\\site-packages\\manim\\scene\\scene_file_writer.py\u001b\\\u001b[2mscene_file_writer.py\u001b[0m\u001b]8;;\u001b\\\u001b[2m:442\u001b[0m\n",
       "                             written in                                                      \n",
       "                             \u001b[32m'C:\\Users\\Zirito\\manim\\PROJEK \u001b[0m                                  \n",
       "                             \u001b[32mKALKULUS\\MOTIVASI FIX\\media\\videos\\moti\u001b[0m                         \n",
       "                             \u001b[32mvasi_4\\480p15\\partial_movie_files\\motiv\u001b[0m                         \n",
       "                             \u001b[32masi_4\\3930506391_2839631542_3503402540.\u001b[0m                         \n",
       "                             \u001b[32mmp4'\u001b[0m                                                            \n"
      ]
     },
     "metadata": {},
     "output_type": "display_data"
    },
    {
     "name": "stderr",
     "output_type": "stream",
     "text": [
      "                                                                                                                       \r"
     ]
    },
    {
     "data": {
      "text/html": [
       "<pre style=\"white-space:pre;overflow-x:auto;line-height:normal;font-family:Menlo,'DejaVu Sans Mono',consolas,'Courier New',monospace\"><span style=\"color: #7fbfbf; text-decoration-color: #7fbfbf\">[02/18/22 11:22:09] </span><span style=\"color: #008000; text-decoration-color: #008000\">INFO    </span> Animation <span style=\"color: #008000; text-decoration-color: #008000\">23</span> : Partial movie file       <a href=\"file://C:\\Users\\Zirito\\anaconda3\\envs\\manim\\lib\\site-packages\\manim\\scene\\scene_file_writer.py\"><span style=\"color: #7f7f7f; text-decoration-color: #7f7f7f\">scene_file_writer.py</span></a><span style=\"color: #7f7f7f; text-decoration-color: #7f7f7f\">:442</span>\n",
       "                             written in                                                      \n",
       "                             <span style=\"color: #008000; text-decoration-color: #008000\">'C:\\Users\\Zirito\\manim\\PROJEK </span>                                  \n",
       "                             <span style=\"color: #008000; text-decoration-color: #008000\">KALKULUS\\MOTIVASI FIX\\media\\videos\\moti</span>                         \n",
       "                             <span style=\"color: #008000; text-decoration-color: #008000\">vasi_4\\480p15\\partial_movie_files\\motiv</span>                         \n",
       "                             <span style=\"color: #008000; text-decoration-color: #008000\">asi_4\\3930506391_1308172876_1983274338.</span>                         \n",
       "                             <span style=\"color: #008000; text-decoration-color: #008000\">mp4'</span>                                                            \n",
       "</pre>\n"
      ],
      "text/plain": [
       "\u001b[2;36m[02/18/22 11:22:09]\u001b[0m\u001b[2;36m \u001b[0m\u001b[32mINFO    \u001b[0m Animation \u001b[32m23\u001b[0m : Partial movie file       \u001b]8;id=607550;file://C:\\Users\\Zirito\\anaconda3\\envs\\manim\\lib\\site-packages\\manim\\scene\\scene_file_writer.py\u001b\\\u001b[2mscene_file_writer.py\u001b[0m\u001b]8;;\u001b\\\u001b[2m:442\u001b[0m\n",
       "                             written in                                                      \n",
       "                             \u001b[32m'C:\\Users\\Zirito\\manim\\PROJEK \u001b[0m                                  \n",
       "                             \u001b[32mKALKULUS\\MOTIVASI FIX\\media\\videos\\moti\u001b[0m                         \n",
       "                             \u001b[32mvasi_4\\480p15\\partial_movie_files\\motiv\u001b[0m                         \n",
       "                             \u001b[32masi_4\\3930506391_1308172876_1983274338.\u001b[0m                         \n",
       "                             \u001b[32mmp4'\u001b[0m                                                            \n"
      ]
     },
     "metadata": {},
     "output_type": "display_data"
    },
    {
     "name": "stderr",
     "output_type": "stream",
     "text": [
      "                                                                                                                       \r"
     ]
    },
    {
     "data": {
      "text/html": [
       "<pre style=\"white-space:pre;overflow-x:auto;line-height:normal;font-family:Menlo,'DejaVu Sans Mono',consolas,'Courier New',monospace\"><span style=\"color: #7fbfbf; text-decoration-color: #7fbfbf\">[02/18/22 11:22:12] </span><span style=\"color: #008000; text-decoration-color: #008000\">INFO    </span> Animation <span style=\"color: #008000; text-decoration-color: #008000\">24</span> : Partial movie file       <a href=\"file://C:\\Users\\Zirito\\anaconda3\\envs\\manim\\lib\\site-packages\\manim\\scene\\scene_file_writer.py\"><span style=\"color: #7f7f7f; text-decoration-color: #7f7f7f\">scene_file_writer.py</span></a><span style=\"color: #7f7f7f; text-decoration-color: #7f7f7f\">:442</span>\n",
       "                             written in                                                      \n",
       "                             <span style=\"color: #008000; text-decoration-color: #008000\">'C:\\Users\\Zirito\\manim\\PROJEK </span>                                  \n",
       "                             <span style=\"color: #008000; text-decoration-color: #008000\">KALKULUS\\MOTIVASI FIX\\media\\videos\\moti</span>                         \n",
       "                             <span style=\"color: #008000; text-decoration-color: #008000\">vasi_4\\480p15\\partial_movie_files\\motiv</span>                         \n",
       "                             <span style=\"color: #008000; text-decoration-color: #008000\">asi_4\\3930506391_2741105610_436142575.m</span>                         \n",
       "                             <span style=\"color: #008000; text-decoration-color: #008000\">p4'</span>                                                             \n",
       "</pre>\n"
      ],
      "text/plain": [
       "\u001b[2;36m[02/18/22 11:22:12]\u001b[0m\u001b[2;36m \u001b[0m\u001b[32mINFO    \u001b[0m Animation \u001b[32m24\u001b[0m : Partial movie file       \u001b]8;id=952239;file://C:\\Users\\Zirito\\anaconda3\\envs\\manim\\lib\\site-packages\\manim\\scene\\scene_file_writer.py\u001b\\\u001b[2mscene_file_writer.py\u001b[0m\u001b]8;;\u001b\\\u001b[2m:442\u001b[0m\n",
       "                             written in                                                      \n",
       "                             \u001b[32m'C:\\Users\\Zirito\\manim\\PROJEK \u001b[0m                                  \n",
       "                             \u001b[32mKALKULUS\\MOTIVASI FIX\\media\\videos\\moti\u001b[0m                         \n",
       "                             \u001b[32mvasi_4\\480p15\\partial_movie_files\\motiv\u001b[0m                         \n",
       "                             \u001b[32masi_4\\3930506391_2741105610_436142575.m\u001b[0m                         \n",
       "                             \u001b[32mp4'\u001b[0m                                                             \n"
      ]
     },
     "metadata": {},
     "output_type": "display_data"
    },
    {
     "data": {
      "text/html": [
       "<pre style=\"white-space:pre;overflow-x:auto;line-height:normal;font-family:Menlo,'DejaVu Sans Mono',consolas,'Courier New',monospace\"><span style=\"color: #7fbfbf; text-decoration-color: #7fbfbf\">[02/18/22 11:22:14] </span><span style=\"color: #008000; text-decoration-color: #008000\">INFO    </span> Animation <span style=\"color: #008000; text-decoration-color: #008000\">25</span> : Partial movie file       <a href=\"file://C:\\Users\\Zirito\\anaconda3\\envs\\manim\\lib\\site-packages\\manim\\scene\\scene_file_writer.py\"><span style=\"color: #7f7f7f; text-decoration-color: #7f7f7f\">scene_file_writer.py</span></a><span style=\"color: #7f7f7f; text-decoration-color: #7f7f7f\">:442</span>\n",
       "                             written in                                                      \n",
       "                             <span style=\"color: #008000; text-decoration-color: #008000\">'C:\\Users\\Zirito\\manim\\PROJEK </span>                                  \n",
       "                             <span style=\"color: #008000; text-decoration-color: #008000\">KALKULUS\\MOTIVASI FIX\\media\\videos\\moti</span>                         \n",
       "                             <span style=\"color: #008000; text-decoration-color: #008000\">vasi_4\\480p15\\partial_movie_files\\motiv</span>                         \n",
       "                             <span style=\"color: #008000; text-decoration-color: #008000\">asi_4\\3930506391_2839631542_645646603.m</span>                         \n",
       "                             <span style=\"color: #008000; text-decoration-color: #008000\">p4'</span>                                                             \n",
       "</pre>\n"
      ],
      "text/plain": [
       "\u001b[2;36m[02/18/22 11:22:14]\u001b[0m\u001b[2;36m \u001b[0m\u001b[32mINFO    \u001b[0m Animation \u001b[32m25\u001b[0m : Partial movie file       \u001b]8;id=814567;file://C:\\Users\\Zirito\\anaconda3\\envs\\manim\\lib\\site-packages\\manim\\scene\\scene_file_writer.py\u001b\\\u001b[2mscene_file_writer.py\u001b[0m\u001b]8;;\u001b\\\u001b[2m:442\u001b[0m\n",
       "                             written in                                                      \n",
       "                             \u001b[32m'C:\\Users\\Zirito\\manim\\PROJEK \u001b[0m                                  \n",
       "                             \u001b[32mKALKULUS\\MOTIVASI FIX\\media\\videos\\moti\u001b[0m                         \n",
       "                             \u001b[32mvasi_4\\480p15\\partial_movie_files\\motiv\u001b[0m                         \n",
       "                             \u001b[32masi_4\\3930506391_2839631542_645646603.m\u001b[0m                         \n",
       "                             \u001b[32mp4'\u001b[0m                                                             \n"
      ]
     },
     "metadata": {},
     "output_type": "display_data"
    },
    {
     "name": "stderr",
     "output_type": "stream",
     "text": [
      "                                                                                                                       \r"
     ]
    },
    {
     "data": {
      "text/html": [
       "<pre style=\"white-space:pre;overflow-x:auto;line-height:normal;font-family:Menlo,'DejaVu Sans Mono',consolas,'Courier New',monospace\"><span style=\"color: #7fbfbf; text-decoration-color: #7fbfbf\">[02/18/22 11:22:17] </span><span style=\"color: #008000; text-decoration-color: #008000\">INFO    </span> Animation <span style=\"color: #008000; text-decoration-color: #008000\">26</span> : Partial movie file       <a href=\"file://C:\\Users\\Zirito\\anaconda3\\envs\\manim\\lib\\site-packages\\manim\\scene\\scene_file_writer.py\"><span style=\"color: #7f7f7f; text-decoration-color: #7f7f7f\">scene_file_writer.py</span></a><span style=\"color: #7f7f7f; text-decoration-color: #7f7f7f\">:442</span>\n",
       "                             written in                                                      \n",
       "                             <span style=\"color: #008000; text-decoration-color: #008000\">'C:\\Users\\Zirito\\manim\\PROJEK </span>                                  \n",
       "                             <span style=\"color: #008000; text-decoration-color: #008000\">KALKULUS\\MOTIVASI FIX\\media\\videos\\moti</span>                         \n",
       "                             <span style=\"color: #008000; text-decoration-color: #008000\">vasi_4\\480p15\\partial_movie_files\\motiv</span>                         \n",
       "                             <span style=\"color: #008000; text-decoration-color: #008000\">asi_4\\3930506391_1659073224_3470360015.</span>                         \n",
       "                             <span style=\"color: #008000; text-decoration-color: #008000\">mp4'</span>                                                            \n",
       "</pre>\n"
      ],
      "text/plain": [
       "\u001b[2;36m[02/18/22 11:22:17]\u001b[0m\u001b[2;36m \u001b[0m\u001b[32mINFO    \u001b[0m Animation \u001b[32m26\u001b[0m : Partial movie file       \u001b]8;id=195002;file://C:\\Users\\Zirito\\anaconda3\\envs\\manim\\lib\\site-packages\\manim\\scene\\scene_file_writer.py\u001b\\\u001b[2mscene_file_writer.py\u001b[0m\u001b]8;;\u001b\\\u001b[2m:442\u001b[0m\n",
       "                             written in                                                      \n",
       "                             \u001b[32m'C:\\Users\\Zirito\\manim\\PROJEK \u001b[0m                                  \n",
       "                             \u001b[32mKALKULUS\\MOTIVASI FIX\\media\\videos\\moti\u001b[0m                         \n",
       "                             \u001b[32mvasi_4\\480p15\\partial_movie_files\\motiv\u001b[0m                         \n",
       "                             \u001b[32masi_4\\3930506391_1659073224_3470360015.\u001b[0m                         \n",
       "                             \u001b[32mmp4'\u001b[0m                                                            \n"
      ]
     },
     "metadata": {},
     "output_type": "display_data"
    },
    {
     "data": {
      "text/html": [
       "<pre style=\"white-space:pre;overflow-x:auto;line-height:normal;font-family:Menlo,'DejaVu Sans Mono',consolas,'Courier New',monospace\"><span style=\"color: #7fbfbf; text-decoration-color: #7fbfbf\">[02/18/22 11:22:19] </span><span style=\"color: #008000; text-decoration-color: #008000\">INFO    </span> Animation <span style=\"color: #008000; text-decoration-color: #008000\">27</span> : Partial movie file       <a href=\"file://C:\\Users\\Zirito\\anaconda3\\envs\\manim\\lib\\site-packages\\manim\\scene\\scene_file_writer.py\"><span style=\"color: #7f7f7f; text-decoration-color: #7f7f7f\">scene_file_writer.py</span></a><span style=\"color: #7f7f7f; text-decoration-color: #7f7f7f\">:442</span>\n",
       "                             written in                                                      \n",
       "                             <span style=\"color: #008000; text-decoration-color: #008000\">'C:\\Users\\Zirito\\manim\\PROJEK </span>                                  \n",
       "                             <span style=\"color: #008000; text-decoration-color: #008000\">KALKULUS\\MOTIVASI FIX\\media\\videos\\moti</span>                         \n",
       "                             <span style=\"color: #008000; text-decoration-color: #008000\">vasi_4\\480p15\\partial_movie_files\\motiv</span>                         \n",
       "                             <span style=\"color: #008000; text-decoration-color: #008000\">asi_4\\3930506391_2839631542_2824166462.</span>                         \n",
       "                             <span style=\"color: #008000; text-decoration-color: #008000\">mp4'</span>                                                            \n",
       "</pre>\n"
      ],
      "text/plain": [
       "\u001b[2;36m[02/18/22 11:22:19]\u001b[0m\u001b[2;36m \u001b[0m\u001b[32mINFO    \u001b[0m Animation \u001b[32m27\u001b[0m : Partial movie file       \u001b]8;id=350937;file://C:\\Users\\Zirito\\anaconda3\\envs\\manim\\lib\\site-packages\\manim\\scene\\scene_file_writer.py\u001b\\\u001b[2mscene_file_writer.py\u001b[0m\u001b]8;;\u001b\\\u001b[2m:442\u001b[0m\n",
       "                             written in                                                      \n",
       "                             \u001b[32m'C:\\Users\\Zirito\\manim\\PROJEK \u001b[0m                                  \n",
       "                             \u001b[32mKALKULUS\\MOTIVASI FIX\\media\\videos\\moti\u001b[0m                         \n",
       "                             \u001b[32mvasi_4\\480p15\\partial_movie_files\\motiv\u001b[0m                         \n",
       "                             \u001b[32masi_4\\3930506391_2839631542_2824166462.\u001b[0m                         \n",
       "                             \u001b[32mmp4'\u001b[0m                                                            \n"
      ]
     },
     "metadata": {},
     "output_type": "display_data"
    },
    {
     "name": "stderr",
     "output_type": "stream",
     "text": [
      "                                                                                                                       \r"
     ]
    },
    {
     "data": {
      "text/html": [
       "<pre style=\"white-space:pre;overflow-x:auto;line-height:normal;font-family:Menlo,'DejaVu Sans Mono',consolas,'Courier New',monospace\"><span style=\"color: #7fbfbf; text-decoration-color: #7fbfbf\">[02/18/22 11:22:22] </span><span style=\"color: #008000; text-decoration-color: #008000\">INFO    </span> Animation <span style=\"color: #008000; text-decoration-color: #008000\">28</span> : Partial movie file       <a href=\"file://C:\\Users\\Zirito\\anaconda3\\envs\\manim\\lib\\site-packages\\manim\\scene\\scene_file_writer.py\"><span style=\"color: #7f7f7f; text-decoration-color: #7f7f7f\">scene_file_writer.py</span></a><span style=\"color: #7f7f7f; text-decoration-color: #7f7f7f\">:442</span>\n",
       "                             written in                                                      \n",
       "                             <span style=\"color: #008000; text-decoration-color: #008000\">'C:\\Users\\Zirito\\manim\\PROJEK </span>                                  \n",
       "                             <span style=\"color: #008000; text-decoration-color: #008000\">KALKULUS\\MOTIVASI FIX\\media\\videos\\moti</span>                         \n",
       "                             <span style=\"color: #008000; text-decoration-color: #008000\">vasi_4\\480p15\\partial_movie_files\\motiv</span>                         \n",
       "                             <span style=\"color: #008000; text-decoration-color: #008000\">asi_4\\3930506391_1298792742_3734708405.</span>                         \n",
       "                             <span style=\"color: #008000; text-decoration-color: #008000\">mp4'</span>                                                            \n",
       "</pre>\n"
      ],
      "text/plain": [
       "\u001b[2;36m[02/18/22 11:22:22]\u001b[0m\u001b[2;36m \u001b[0m\u001b[32mINFO    \u001b[0m Animation \u001b[32m28\u001b[0m : Partial movie file       \u001b]8;id=642807;file://C:\\Users\\Zirito\\anaconda3\\envs\\manim\\lib\\site-packages\\manim\\scene\\scene_file_writer.py\u001b\\\u001b[2mscene_file_writer.py\u001b[0m\u001b]8;;\u001b\\\u001b[2m:442\u001b[0m\n",
       "                             written in                                                      \n",
       "                             \u001b[32m'C:\\Users\\Zirito\\manim\\PROJEK \u001b[0m                                  \n",
       "                             \u001b[32mKALKULUS\\MOTIVASI FIX\\media\\videos\\moti\u001b[0m                         \n",
       "                             \u001b[32mvasi_4\\480p15\\partial_movie_files\\motiv\u001b[0m                         \n",
       "                             \u001b[32masi_4\\3930506391_1298792742_3734708405.\u001b[0m                         \n",
       "                             \u001b[32mmp4'\u001b[0m                                                            \n"
      ]
     },
     "metadata": {},
     "output_type": "display_data"
    },
    {
     "data": {
      "text/html": [
       "<pre style=\"white-space:pre;overflow-x:auto;line-height:normal;font-family:Menlo,'DejaVu Sans Mono',consolas,'Courier New',monospace\"><span style=\"color: #7fbfbf; text-decoration-color: #7fbfbf\">[02/18/22 11:22:25] </span><span style=\"color: #008000; text-decoration-color: #008000\">INFO    </span> Animation <span style=\"color: #008000; text-decoration-color: #008000\">29</span> : Partial movie file       <a href=\"file://C:\\Users\\Zirito\\anaconda3\\envs\\manim\\lib\\site-packages\\manim\\scene\\scene_file_writer.py\"><span style=\"color: #7f7f7f; text-decoration-color: #7f7f7f\">scene_file_writer.py</span></a><span style=\"color: #7f7f7f; text-decoration-color: #7f7f7f\">:442</span>\n",
       "                             written in                                                      \n",
       "                             <span style=\"color: #008000; text-decoration-color: #008000\">'C:\\Users\\Zirito\\manim\\PROJEK </span>                                  \n",
       "                             <span style=\"color: #008000; text-decoration-color: #008000\">KALKULUS\\MOTIVASI FIX\\media\\videos\\moti</span>                         \n",
       "                             <span style=\"color: #008000; text-decoration-color: #008000\">vasi_4\\480p15\\partial_movie_files\\motiv</span>                         \n",
       "                             <span style=\"color: #008000; text-decoration-color: #008000\">asi_4\\3930506391_2839631542_86257664.mp</span>                         \n",
       "                             <span style=\"color: #008000; text-decoration-color: #008000\">4'</span>                                                              \n",
       "</pre>\n"
      ],
      "text/plain": [
       "\u001b[2;36m[02/18/22 11:22:25]\u001b[0m\u001b[2;36m \u001b[0m\u001b[32mINFO    \u001b[0m Animation \u001b[32m29\u001b[0m : Partial movie file       \u001b]8;id=994813;file://C:\\Users\\Zirito\\anaconda3\\envs\\manim\\lib\\site-packages\\manim\\scene\\scene_file_writer.py\u001b\\\u001b[2mscene_file_writer.py\u001b[0m\u001b]8;;\u001b\\\u001b[2m:442\u001b[0m\n",
       "                             written in                                                      \n",
       "                             \u001b[32m'C:\\Users\\Zirito\\manim\\PROJEK \u001b[0m                                  \n",
       "                             \u001b[32mKALKULUS\\MOTIVASI FIX\\media\\videos\\moti\u001b[0m                         \n",
       "                             \u001b[32mvasi_4\\480p15\\partial_movie_files\\motiv\u001b[0m                         \n",
       "                             \u001b[32masi_4\\3930506391_2839631542_86257664.mp\u001b[0m                         \n",
       "                             \u001b[32m4'\u001b[0m                                                              \n"
      ]
     },
     "metadata": {},
     "output_type": "display_data"
    },
    {
     "name": "stderr",
     "output_type": "stream",
     "text": [
      "                                                                                                                       \r"
     ]
    },
    {
     "data": {
      "text/html": [
       "<pre style=\"white-space:pre;overflow-x:auto;line-height:normal;font-family:Menlo,'DejaVu Sans Mono',consolas,'Courier New',monospace\"><span style=\"color: #7fbfbf; text-decoration-color: #7fbfbf\">[02/18/22 11:22:28] </span><span style=\"color: #008000; text-decoration-color: #008000\">INFO    </span> Animation <span style=\"color: #008000; text-decoration-color: #008000\">30</span> : Partial movie file       <a href=\"file://C:\\Users\\Zirito\\anaconda3\\envs\\manim\\lib\\site-packages\\manim\\scene\\scene_file_writer.py\"><span style=\"color: #7f7f7f; text-decoration-color: #7f7f7f\">scene_file_writer.py</span></a><span style=\"color: #7f7f7f; text-decoration-color: #7f7f7f\">:442</span>\n",
       "                             written in                                                      \n",
       "                             <span style=\"color: #008000; text-decoration-color: #008000\">'C:\\Users\\Zirito\\manim\\PROJEK </span>                                  \n",
       "                             <span style=\"color: #008000; text-decoration-color: #008000\">KALKULUS\\MOTIVASI FIX\\media\\videos\\moti</span>                         \n",
       "                             <span style=\"color: #008000; text-decoration-color: #008000\">vasi_4\\480p15\\partial_movie_files\\motiv</span>                         \n",
       "                             <span style=\"color: #008000; text-decoration-color: #008000\">asi_4\\3930506391_633107681_1420642400.m</span>                         \n",
       "                             <span style=\"color: #008000; text-decoration-color: #008000\">p4'</span>                                                             \n",
       "</pre>\n"
      ],
      "text/plain": [
       "\u001b[2;36m[02/18/22 11:22:28]\u001b[0m\u001b[2;36m \u001b[0m\u001b[32mINFO    \u001b[0m Animation \u001b[32m30\u001b[0m : Partial movie file       \u001b]8;id=102141;file://C:\\Users\\Zirito\\anaconda3\\envs\\manim\\lib\\site-packages\\manim\\scene\\scene_file_writer.py\u001b\\\u001b[2mscene_file_writer.py\u001b[0m\u001b]8;;\u001b\\\u001b[2m:442\u001b[0m\n",
       "                             written in                                                      \n",
       "                             \u001b[32m'C:\\Users\\Zirito\\manim\\PROJEK \u001b[0m                                  \n",
       "                             \u001b[32mKALKULUS\\MOTIVASI FIX\\media\\videos\\moti\u001b[0m                         \n",
       "                             \u001b[32mvasi_4\\480p15\\partial_movie_files\\motiv\u001b[0m                         \n",
       "                             \u001b[32masi_4\\3930506391_633107681_1420642400.m\u001b[0m                         \n",
       "                             \u001b[32mp4'\u001b[0m                                                             \n"
      ]
     },
     "metadata": {},
     "output_type": "display_data"
    },
    {
     "data": {
      "text/html": [
       "<pre style=\"white-space:pre;overflow-x:auto;line-height:normal;font-family:Menlo,'DejaVu Sans Mono',consolas,'Courier New',monospace\"><span style=\"color: #7fbfbf; text-decoration-color: #7fbfbf\">[02/18/22 11:22:30] </span><span style=\"color: #008000; text-decoration-color: #008000\">INFO    </span> Animation <span style=\"color: #008000; text-decoration-color: #008000\">31</span> : Partial movie file       <a href=\"file://C:\\Users\\Zirito\\anaconda3\\envs\\manim\\lib\\site-packages\\manim\\scene\\scene_file_writer.py\"><span style=\"color: #7f7f7f; text-decoration-color: #7f7f7f\">scene_file_writer.py</span></a><span style=\"color: #7f7f7f; text-decoration-color: #7f7f7f\">:442</span>\n",
       "                             written in                                                      \n",
       "                             <span style=\"color: #008000; text-decoration-color: #008000\">'C:\\Users\\Zirito\\manim\\PROJEK </span>                                  \n",
       "                             <span style=\"color: #008000; text-decoration-color: #008000\">KALKULUS\\MOTIVASI FIX\\media\\videos\\moti</span>                         \n",
       "                             <span style=\"color: #008000; text-decoration-color: #008000\">vasi_4\\480p15\\partial_movie_files\\motiv</span>                         \n",
       "                             <span style=\"color: #008000; text-decoration-color: #008000\">asi_4\\3930506391_2839631542_1911708758.</span>                         \n",
       "                             <span style=\"color: #008000; text-decoration-color: #008000\">mp4'</span>                                                            \n",
       "</pre>\n"
      ],
      "text/plain": [
       "\u001b[2;36m[02/18/22 11:22:30]\u001b[0m\u001b[2;36m \u001b[0m\u001b[32mINFO    \u001b[0m Animation \u001b[32m31\u001b[0m : Partial movie file       \u001b]8;id=495424;file://C:\\Users\\Zirito\\anaconda3\\envs\\manim\\lib\\site-packages\\manim\\scene\\scene_file_writer.py\u001b\\\u001b[2mscene_file_writer.py\u001b[0m\u001b]8;;\u001b\\\u001b[2m:442\u001b[0m\n",
       "                             written in                                                      \n",
       "                             \u001b[32m'C:\\Users\\Zirito\\manim\\PROJEK \u001b[0m                                  \n",
       "                             \u001b[32mKALKULUS\\MOTIVASI FIX\\media\\videos\\moti\u001b[0m                         \n",
       "                             \u001b[32mvasi_4\\480p15\\partial_movie_files\\motiv\u001b[0m                         \n",
       "                             \u001b[32masi_4\\3930506391_2839631542_1911708758.\u001b[0m                         \n",
       "                             \u001b[32mmp4'\u001b[0m                                                            \n"
      ]
     },
     "metadata": {},
     "output_type": "display_data"
    },
    {
     "name": "stderr",
     "output_type": "stream",
     "text": [
      "                                                                                                                       \r"
     ]
    },
    {
     "data": {
      "text/html": [
       "<pre style=\"white-space:pre;overflow-x:auto;line-height:normal;font-family:Menlo,'DejaVu Sans Mono',consolas,'Courier New',monospace\"><span style=\"color: #7fbfbf; text-decoration-color: #7fbfbf\">[02/18/22 11:22:33] </span><span style=\"color: #008000; text-decoration-color: #008000\">INFO    </span> Animation <span style=\"color: #008000; text-decoration-color: #008000\">32</span> : Partial movie file       <a href=\"file://C:\\Users\\Zirito\\anaconda3\\envs\\manim\\lib\\site-packages\\manim\\scene\\scene_file_writer.py\"><span style=\"color: #7f7f7f; text-decoration-color: #7f7f7f\">scene_file_writer.py</span></a><span style=\"color: #7f7f7f; text-decoration-color: #7f7f7f\">:442</span>\n",
       "                             written in                                                      \n",
       "                             <span style=\"color: #008000; text-decoration-color: #008000\">'C:\\Users\\Zirito\\manim\\PROJEK </span>                                  \n",
       "                             <span style=\"color: #008000; text-decoration-color: #008000\">KALKULUS\\MOTIVASI FIX\\media\\videos\\moti</span>                         \n",
       "                             <span style=\"color: #008000; text-decoration-color: #008000\">vasi_4\\480p15\\partial_movie_files\\motiv</span>                         \n",
       "                             <span style=\"color: #008000; text-decoration-color: #008000\">asi_4\\3930506391_2333535362_2574559678.</span>                         \n",
       "                             <span style=\"color: #008000; text-decoration-color: #008000\">mp4'</span>                                                            \n",
       "</pre>\n"
      ],
      "text/plain": [
       "\u001b[2;36m[02/18/22 11:22:33]\u001b[0m\u001b[2;36m \u001b[0m\u001b[32mINFO    \u001b[0m Animation \u001b[32m32\u001b[0m : Partial movie file       \u001b]8;id=15589;file://C:\\Users\\Zirito\\anaconda3\\envs\\manim\\lib\\site-packages\\manim\\scene\\scene_file_writer.py\u001b\\\u001b[2mscene_file_writer.py\u001b[0m\u001b]8;;\u001b\\\u001b[2m:442\u001b[0m\n",
       "                             written in                                                      \n",
       "                             \u001b[32m'C:\\Users\\Zirito\\manim\\PROJEK \u001b[0m                                  \n",
       "                             \u001b[32mKALKULUS\\MOTIVASI FIX\\media\\videos\\moti\u001b[0m                         \n",
       "                             \u001b[32mvasi_4\\480p15\\partial_movie_files\\motiv\u001b[0m                         \n",
       "                             \u001b[32masi_4\\3930506391_2333535362_2574559678.\u001b[0m                         \n",
       "                             \u001b[32mmp4'\u001b[0m                                                            \n"
      ]
     },
     "metadata": {},
     "output_type": "display_data"
    },
    {
     "data": {
      "text/html": [
       "<pre style=\"white-space:pre;overflow-x:auto;line-height:normal;font-family:Menlo,'DejaVu Sans Mono',consolas,'Courier New',monospace\"><span style=\"color: #7fbfbf; text-decoration-color: #7fbfbf\">[02/18/22 11:22:36] </span><span style=\"color: #008000; text-decoration-color: #008000\">INFO    </span> Animation <span style=\"color: #008000; text-decoration-color: #008000\">33</span> : Partial movie file       <a href=\"file://C:\\Users\\Zirito\\anaconda3\\envs\\manim\\lib\\site-packages\\manim\\scene\\scene_file_writer.py\"><span style=\"color: #7f7f7f; text-decoration-color: #7f7f7f\">scene_file_writer.py</span></a><span style=\"color: #7f7f7f; text-decoration-color: #7f7f7f\">:442</span>\n",
       "                             written in                                                      \n",
       "                             <span style=\"color: #008000; text-decoration-color: #008000\">'C:\\Users\\Zirito\\manim\\PROJEK </span>                                  \n",
       "                             <span style=\"color: #008000; text-decoration-color: #008000\">KALKULUS\\MOTIVASI FIX\\media\\videos\\moti</span>                         \n",
       "                             <span style=\"color: #008000; text-decoration-color: #008000\">vasi_4\\480p15\\partial_movie_files\\motiv</span>                         \n",
       "                             <span style=\"color: #008000; text-decoration-color: #008000\">asi_4\\3930506391_2839631542_3170651880.</span>                         \n",
       "                             <span style=\"color: #008000; text-decoration-color: #008000\">mp4'</span>                                                            \n",
       "</pre>\n"
      ],
      "text/plain": [
       "\u001b[2;36m[02/18/22 11:22:36]\u001b[0m\u001b[2;36m \u001b[0m\u001b[32mINFO    \u001b[0m Animation \u001b[32m33\u001b[0m : Partial movie file       \u001b]8;id=831288;file://C:\\Users\\Zirito\\anaconda3\\envs\\manim\\lib\\site-packages\\manim\\scene\\scene_file_writer.py\u001b\\\u001b[2mscene_file_writer.py\u001b[0m\u001b]8;;\u001b\\\u001b[2m:442\u001b[0m\n",
       "                             written in                                                      \n",
       "                             \u001b[32m'C:\\Users\\Zirito\\manim\\PROJEK \u001b[0m                                  \n",
       "                             \u001b[32mKALKULUS\\MOTIVASI FIX\\media\\videos\\moti\u001b[0m                         \n",
       "                             \u001b[32mvasi_4\\480p15\\partial_movie_files\\motiv\u001b[0m                         \n",
       "                             \u001b[32masi_4\\3930506391_2839631542_3170651880.\u001b[0m                         \n",
       "                             \u001b[32mmp4'\u001b[0m                                                            \n"
      ]
     },
     "metadata": {},
     "output_type": "display_data"
    },
    {
     "name": "stderr",
     "output_type": "stream",
     "text": [
      "                                                                                                                       \r"
     ]
    },
    {
     "data": {
      "text/html": [
       "<pre style=\"white-space:pre;overflow-x:auto;line-height:normal;font-family:Menlo,'DejaVu Sans Mono',consolas,'Courier New',monospace\"><span style=\"color: #7fbfbf; text-decoration-color: #7fbfbf\">[02/18/22 11:22:38] </span><span style=\"color: #008000; text-decoration-color: #008000\">INFO    </span> Animation <span style=\"color: #008000; text-decoration-color: #008000\">34</span> : Partial movie file       <a href=\"file://C:\\Users\\Zirito\\anaconda3\\envs\\manim\\lib\\site-packages\\manim\\scene\\scene_file_writer.py\"><span style=\"color: #7f7f7f; text-decoration-color: #7f7f7f\">scene_file_writer.py</span></a><span style=\"color: #7f7f7f; text-decoration-color: #7f7f7f\">:442</span>\n",
       "                             written in                                                      \n",
       "                             <span style=\"color: #008000; text-decoration-color: #008000\">'C:\\Users\\Zirito\\manim\\PROJEK </span>                                  \n",
       "                             <span style=\"color: #008000; text-decoration-color: #008000\">KALKULUS\\MOTIVASI FIX\\media\\videos\\moti</span>                         \n",
       "                             <span style=\"color: #008000; text-decoration-color: #008000\">vasi_4\\480p15\\partial_movie_files\\motiv</span>                         \n",
       "                             <span style=\"color: #008000; text-decoration-color: #008000\">asi_4\\3930506391_2007876574_3857315445.</span>                         \n",
       "                             <span style=\"color: #008000; text-decoration-color: #008000\">mp4'</span>                                                            \n",
       "</pre>\n"
      ],
      "text/plain": [
       "\u001b[2;36m[02/18/22 11:22:38]\u001b[0m\u001b[2;36m \u001b[0m\u001b[32mINFO    \u001b[0m Animation \u001b[32m34\u001b[0m : Partial movie file       \u001b]8;id=695157;file://C:\\Users\\Zirito\\anaconda3\\envs\\manim\\lib\\site-packages\\manim\\scene\\scene_file_writer.py\u001b\\\u001b[2mscene_file_writer.py\u001b[0m\u001b]8;;\u001b\\\u001b[2m:442\u001b[0m\n",
       "                             written in                                                      \n",
       "                             \u001b[32m'C:\\Users\\Zirito\\manim\\PROJEK \u001b[0m                                  \n",
       "                             \u001b[32mKALKULUS\\MOTIVASI FIX\\media\\videos\\moti\u001b[0m                         \n",
       "                             \u001b[32mvasi_4\\480p15\\partial_movie_files\\motiv\u001b[0m                         \n",
       "                             \u001b[32masi_4\\3930506391_2007876574_3857315445.\u001b[0m                         \n",
       "                             \u001b[32mmp4'\u001b[0m                                                            \n"
      ]
     },
     "metadata": {},
     "output_type": "display_data"
    },
    {
     "data": {
      "text/html": [
       "<pre style=\"white-space:pre;overflow-x:auto;line-height:normal;font-family:Menlo,'DejaVu Sans Mono',consolas,'Courier New',monospace\"><span style=\"color: #7fbfbf; text-decoration-color: #7fbfbf\">[02/18/22 11:22:41] </span><span style=\"color: #008000; text-decoration-color: #008000\">INFO    </span> Animation <span style=\"color: #008000; text-decoration-color: #008000\">35</span> : Partial movie file       <a href=\"file://C:\\Users\\Zirito\\anaconda3\\envs\\manim\\lib\\site-packages\\manim\\scene\\scene_file_writer.py\"><span style=\"color: #7f7f7f; text-decoration-color: #7f7f7f\">scene_file_writer.py</span></a><span style=\"color: #7f7f7f; text-decoration-color: #7f7f7f\">:442</span>\n",
       "                             written in                                                      \n",
       "                             <span style=\"color: #008000; text-decoration-color: #008000\">'C:\\Users\\Zirito\\manim\\PROJEK </span>                                  \n",
       "                             <span style=\"color: #008000; text-decoration-color: #008000\">KALKULUS\\MOTIVASI FIX\\media\\videos\\moti</span>                         \n",
       "                             <span style=\"color: #008000; text-decoration-color: #008000\">vasi_4\\480p15\\partial_movie_files\\motiv</span>                         \n",
       "                             <span style=\"color: #008000; text-decoration-color: #008000\">asi_4\\3930506391_2839631542_27621657.mp</span>                         \n",
       "                             <span style=\"color: #008000; text-decoration-color: #008000\">4'</span>                                                              \n",
       "</pre>\n"
      ],
      "text/plain": [
       "\u001b[2;36m[02/18/22 11:22:41]\u001b[0m\u001b[2;36m \u001b[0m\u001b[32mINFO    \u001b[0m Animation \u001b[32m35\u001b[0m : Partial movie file       \u001b]8;id=101056;file://C:\\Users\\Zirito\\anaconda3\\envs\\manim\\lib\\site-packages\\manim\\scene\\scene_file_writer.py\u001b\\\u001b[2mscene_file_writer.py\u001b[0m\u001b]8;;\u001b\\\u001b[2m:442\u001b[0m\n",
       "                             written in                                                      \n",
       "                             \u001b[32m'C:\\Users\\Zirito\\manim\\PROJEK \u001b[0m                                  \n",
       "                             \u001b[32mKALKULUS\\MOTIVASI FIX\\media\\videos\\moti\u001b[0m                         \n",
       "                             \u001b[32mvasi_4\\480p15\\partial_movie_files\\motiv\u001b[0m                         \n",
       "                             \u001b[32masi_4\\3930506391_2839631542_27621657.mp\u001b[0m                         \n",
       "                             \u001b[32m4'\u001b[0m                                                              \n"
      ]
     },
     "metadata": {},
     "output_type": "display_data"
    },
    {
     "name": "stderr",
     "output_type": "stream",
     "text": [
      "                                                                                                                       \r"
     ]
    },
    {
     "data": {
      "text/html": [
       "<pre style=\"white-space:pre;overflow-x:auto;line-height:normal;font-family:Menlo,'DejaVu Sans Mono',consolas,'Courier New',monospace\"><span style=\"color: #7fbfbf; text-decoration-color: #7fbfbf\">[02/18/22 11:24:38] </span><span style=\"color: #008000; text-decoration-color: #008000\">INFO    </span> Animation <span style=\"color: #008000; text-decoration-color: #008000\">36</span> : Partial movie file       <a href=\"file://C:\\Users\\Zirito\\anaconda3\\envs\\manim\\lib\\site-packages\\manim\\scene\\scene_file_writer.py\"><span style=\"color: #7f7f7f; text-decoration-color: #7f7f7f\">scene_file_writer.py</span></a><span style=\"color: #7f7f7f; text-decoration-color: #7f7f7f\">:442</span>\n",
       "                             written in                                                      \n",
       "                             <span style=\"color: #008000; text-decoration-color: #008000\">'C:\\Users\\Zirito\\manim\\PROJEK </span>                                  \n",
       "                             <span style=\"color: #008000; text-decoration-color: #008000\">KALKULUS\\MOTIVASI FIX\\media\\videos\\moti</span>                         \n",
       "                             <span style=\"color: #008000; text-decoration-color: #008000\">vasi_4\\480p15\\partial_movie_files\\motiv</span>                         \n",
       "                             <span style=\"color: #008000; text-decoration-color: #008000\">asi_4\\3930506391_2435540131_2522176855.</span>                         \n",
       "                             <span style=\"color: #008000; text-decoration-color: #008000\">mp4'</span>                                                            \n",
       "</pre>\n"
      ],
      "text/plain": [
       "\u001b[2;36m[02/18/22 11:24:38]\u001b[0m\u001b[2;36m \u001b[0m\u001b[32mINFO    \u001b[0m Animation \u001b[32m36\u001b[0m : Partial movie file       \u001b]8;id=171127;file://C:\\Users\\Zirito\\anaconda3\\envs\\manim\\lib\\site-packages\\manim\\scene\\scene_file_writer.py\u001b\\\u001b[2mscene_file_writer.py\u001b[0m\u001b]8;;\u001b\\\u001b[2m:442\u001b[0m\n",
       "                             written in                                                      \n",
       "                             \u001b[32m'C:\\Users\\Zirito\\manim\\PROJEK \u001b[0m                                  \n",
       "                             \u001b[32mKALKULUS\\MOTIVASI FIX\\media\\videos\\moti\u001b[0m                         \n",
       "                             \u001b[32mvasi_4\\480p15\\partial_movie_files\\motiv\u001b[0m                         \n",
       "                             \u001b[32masi_4\\3930506391_2435540131_2522176855.\u001b[0m                         \n",
       "                             \u001b[32mmp4'\u001b[0m                                                            \n"
      ]
     },
     "metadata": {},
     "output_type": "display_data"
    },
    {
     "data": {
      "text/html": [
       "<pre style=\"white-space:pre;overflow-x:auto;line-height:normal;font-family:Menlo,'DejaVu Sans Mono',consolas,'Courier New',monospace\"><span style=\"color: #7fbfbf; text-decoration-color: #7fbfbf\">[02/18/22 11:24:39] </span><span style=\"color: #008000; text-decoration-color: #008000\">INFO    </span> Animation <span style=\"color: #008000; text-decoration-color: #008000\">37</span> : Partial movie file       <a href=\"file://C:\\Users\\Zirito\\anaconda3\\envs\\manim\\lib\\site-packages\\manim\\scene\\scene_file_writer.py\"><span style=\"color: #7f7f7f; text-decoration-color: #7f7f7f\">scene_file_writer.py</span></a><span style=\"color: #7f7f7f; text-decoration-color: #7f7f7f\">:442</span>\n",
       "                             written in                                                      \n",
       "                             <span style=\"color: #008000; text-decoration-color: #008000\">'C:\\Users\\Zirito\\manim\\PROJEK </span>                                  \n",
       "                             <span style=\"color: #008000; text-decoration-color: #008000\">KALKULUS\\MOTIVASI FIX\\media\\videos\\moti</span>                         \n",
       "                             <span style=\"color: #008000; text-decoration-color: #008000\">vasi_4\\480p15\\partial_movie_files\\motiv</span>                         \n",
       "                             <span style=\"color: #008000; text-decoration-color: #008000\">asi_4\\3930506391_2839631542_3099597689.</span>                         \n",
       "                             <span style=\"color: #008000; text-decoration-color: #008000\">mp4'</span>                                                            \n",
       "</pre>\n"
      ],
      "text/plain": [
       "\u001b[2;36m[02/18/22 11:24:39]\u001b[0m\u001b[2;36m \u001b[0m\u001b[32mINFO    \u001b[0m Animation \u001b[32m37\u001b[0m : Partial movie file       \u001b]8;id=251375;file://C:\\Users\\Zirito\\anaconda3\\envs\\manim\\lib\\site-packages\\manim\\scene\\scene_file_writer.py\u001b\\\u001b[2mscene_file_writer.py\u001b[0m\u001b]8;;\u001b\\\u001b[2m:442\u001b[0m\n",
       "                             written in                                                      \n",
       "                             \u001b[32m'C:\\Users\\Zirito\\manim\\PROJEK \u001b[0m                                  \n",
       "                             \u001b[32mKALKULUS\\MOTIVASI FIX\\media\\videos\\moti\u001b[0m                         \n",
       "                             \u001b[32mvasi_4\\480p15\\partial_movie_files\\motiv\u001b[0m                         \n",
       "                             \u001b[32masi_4\\3930506391_2839631542_3099597689.\u001b[0m                         \n",
       "                             \u001b[32mmp4'\u001b[0m                                                            \n"
      ]
     },
     "metadata": {},
     "output_type": "display_data"
    },
    {
     "name": "stderr",
     "output_type": "stream",
     "text": [
      "                                                                                                                       \r"
     ]
    },
    {
     "data": {
      "text/html": [
       "<pre style=\"white-space:pre;overflow-x:auto;line-height:normal;font-family:Menlo,'DejaVu Sans Mono',consolas,'Courier New',monospace\"><span style=\"color: #7fbfbf; text-decoration-color: #7fbfbf\">[02/18/22 11:24:41] </span><span style=\"color: #008000; text-decoration-color: #008000\">INFO    </span> Animation <span style=\"color: #008000; text-decoration-color: #008000\">38</span> : Partial movie file       <a href=\"file://C:\\Users\\Zirito\\anaconda3\\envs\\manim\\lib\\site-packages\\manim\\scene\\scene_file_writer.py\"><span style=\"color: #7f7f7f; text-decoration-color: #7f7f7f\">scene_file_writer.py</span></a><span style=\"color: #7f7f7f; text-decoration-color: #7f7f7f\">:442</span>\n",
       "                             written in                                                      \n",
       "                             <span style=\"color: #008000; text-decoration-color: #008000\">'C:\\Users\\Zirito\\manim\\PROJEK </span>                                  \n",
       "                             <span style=\"color: #008000; text-decoration-color: #008000\">KALKULUS\\MOTIVASI FIX\\media\\videos\\moti</span>                         \n",
       "                             <span style=\"color: #008000; text-decoration-color: #008000\">vasi_4\\480p15\\partial_movie_files\\motiv</span>                         \n",
       "                             <span style=\"color: #008000; text-decoration-color: #008000\">asi_4\\3930506391_3666669000_2182642087.</span>                         \n",
       "                             <span style=\"color: #008000; text-decoration-color: #008000\">mp4'</span>                                                            \n",
       "</pre>\n"
      ],
      "text/plain": [
       "\u001b[2;36m[02/18/22 11:24:41]\u001b[0m\u001b[2;36m \u001b[0m\u001b[32mINFO    \u001b[0m Animation \u001b[32m38\u001b[0m : Partial movie file       \u001b]8;id=450380;file://C:\\Users\\Zirito\\anaconda3\\envs\\manim\\lib\\site-packages\\manim\\scene\\scene_file_writer.py\u001b\\\u001b[2mscene_file_writer.py\u001b[0m\u001b]8;;\u001b\\\u001b[2m:442\u001b[0m\n",
       "                             written in                                                      \n",
       "                             \u001b[32m'C:\\Users\\Zirito\\manim\\PROJEK \u001b[0m                                  \n",
       "                             \u001b[32mKALKULUS\\MOTIVASI FIX\\media\\videos\\moti\u001b[0m                         \n",
       "                             \u001b[32mvasi_4\\480p15\\partial_movie_files\\motiv\u001b[0m                         \n",
       "                             \u001b[32masi_4\\3930506391_3666669000_2182642087.\u001b[0m                         \n",
       "                             \u001b[32mmp4'\u001b[0m                                                            \n"
      ]
     },
     "metadata": {},
     "output_type": "display_data"
    },
    {
     "name": "stderr",
     "output_type": "stream",
     "text": [
      "                                                                                                                       \r"
     ]
    },
    {
     "data": {
      "text/html": [
       "<pre style=\"white-space:pre;overflow-x:auto;line-height:normal;font-family:Menlo,'DejaVu Sans Mono',consolas,'Courier New',monospace\"><span style=\"color: #7fbfbf; text-decoration-color: #7fbfbf\">[02/18/22 11:24:43] </span><span style=\"color: #008000; text-decoration-color: #008000\">INFO    </span> Animation <span style=\"color: #008000; text-decoration-color: #008000\">39</span> : Partial movie file       <a href=\"file://C:\\Users\\Zirito\\anaconda3\\envs\\manim\\lib\\site-packages\\manim\\scene\\scene_file_writer.py\"><span style=\"color: #7f7f7f; text-decoration-color: #7f7f7f\">scene_file_writer.py</span></a><span style=\"color: #7f7f7f; text-decoration-color: #7f7f7f\">:442</span>\n",
       "                             written in                                                      \n",
       "                             <span style=\"color: #008000; text-decoration-color: #008000\">'C:\\Users\\Zirito\\manim\\PROJEK </span>                                  \n",
       "                             <span style=\"color: #008000; text-decoration-color: #008000\">KALKULUS\\MOTIVASI FIX\\media\\videos\\moti</span>                         \n",
       "                             <span style=\"color: #008000; text-decoration-color: #008000\">vasi_4\\480p15\\partial_movie_files\\motiv</span>                         \n",
       "                             <span style=\"color: #008000; text-decoration-color: #008000\">asi_4\\3930506391_1231481180_2749608867.</span>                         \n",
       "                             <span style=\"color: #008000; text-decoration-color: #008000\">mp4'</span>                                                            \n",
       "</pre>\n"
      ],
      "text/plain": [
       "\u001b[2;36m[02/18/22 11:24:43]\u001b[0m\u001b[2;36m \u001b[0m\u001b[32mINFO    \u001b[0m Animation \u001b[32m39\u001b[0m : Partial movie file       \u001b]8;id=211307;file://C:\\Users\\Zirito\\anaconda3\\envs\\manim\\lib\\site-packages\\manim\\scene\\scene_file_writer.py\u001b\\\u001b[2mscene_file_writer.py\u001b[0m\u001b]8;;\u001b\\\u001b[2m:442\u001b[0m\n",
       "                             written in                                                      \n",
       "                             \u001b[32m'C:\\Users\\Zirito\\manim\\PROJEK \u001b[0m                                  \n",
       "                             \u001b[32mKALKULUS\\MOTIVASI FIX\\media\\videos\\moti\u001b[0m                         \n",
       "                             \u001b[32mvasi_4\\480p15\\partial_movie_files\\motiv\u001b[0m                         \n",
       "                             \u001b[32masi_4\\3930506391_1231481180_2749608867.\u001b[0m                         \n",
       "                             \u001b[32mmp4'\u001b[0m                                                            \n"
      ]
     },
     "metadata": {},
     "output_type": "display_data"
    },
    {
     "name": "stderr",
     "output_type": "stream",
     "text": [
      "                                                                                                                       \r"
     ]
    },
    {
     "data": {
      "text/html": [
       "<pre style=\"white-space:pre;overflow-x:auto;line-height:normal;font-family:Menlo,'DejaVu Sans Mono',consolas,'Courier New',monospace\"><span style=\"color: #7fbfbf; text-decoration-color: #7fbfbf\">[02/18/22 11:24:46] </span><span style=\"color: #008000; text-decoration-color: #008000\">INFO    </span> Animation <span style=\"color: #008000; text-decoration-color: #008000\">40</span> : Partial movie file       <a href=\"file://C:\\Users\\Zirito\\anaconda3\\envs\\manim\\lib\\site-packages\\manim\\scene\\scene_file_writer.py\"><span style=\"color: #7f7f7f; text-decoration-color: #7f7f7f\">scene_file_writer.py</span></a><span style=\"color: #7f7f7f; text-decoration-color: #7f7f7f\">:442</span>\n",
       "                             written in                                                      \n",
       "                             <span style=\"color: #008000; text-decoration-color: #008000\">'C:\\Users\\Zirito\\manim\\PROJEK </span>                                  \n",
       "                             <span style=\"color: #008000; text-decoration-color: #008000\">KALKULUS\\MOTIVASI FIX\\media\\videos\\moti</span>                         \n",
       "                             <span style=\"color: #008000; text-decoration-color: #008000\">vasi_4\\480p15\\partial_movie_files\\motiv</span>                         \n",
       "                             <span style=\"color: #008000; text-decoration-color: #008000\">asi_4\\3930506391_264073161_2483799759.m</span>                         \n",
       "                             <span style=\"color: #008000; text-decoration-color: #008000\">p4'</span>                                                             \n",
       "</pre>\n"
      ],
      "text/plain": [
       "\u001b[2;36m[02/18/22 11:24:46]\u001b[0m\u001b[2;36m \u001b[0m\u001b[32mINFO    \u001b[0m Animation \u001b[32m40\u001b[0m : Partial movie file       \u001b]8;id=407600;file://C:\\Users\\Zirito\\anaconda3\\envs\\manim\\lib\\site-packages\\manim\\scene\\scene_file_writer.py\u001b\\\u001b[2mscene_file_writer.py\u001b[0m\u001b]8;;\u001b\\\u001b[2m:442\u001b[0m\n",
       "                             written in                                                      \n",
       "                             \u001b[32m'C:\\Users\\Zirito\\manim\\PROJEK \u001b[0m                                  \n",
       "                             \u001b[32mKALKULUS\\MOTIVASI FIX\\media\\videos\\moti\u001b[0m                         \n",
       "                             \u001b[32mvasi_4\\480p15\\partial_movie_files\\motiv\u001b[0m                         \n",
       "                             \u001b[32masi_4\\3930506391_264073161_2483799759.m\u001b[0m                         \n",
       "                             \u001b[32mp4'\u001b[0m                                                             \n"
      ]
     },
     "metadata": {},
     "output_type": "display_data"
    },
    {
     "data": {
      "text/html": [
       "<pre style=\"white-space:pre;overflow-x:auto;line-height:normal;font-family:Menlo,'DejaVu Sans Mono',consolas,'Courier New',monospace\"><span style=\"color: #7fbfbf; text-decoration-color: #7fbfbf\">[02/18/22 11:24:47] </span><span style=\"color: #008000; text-decoration-color: #008000\">INFO    </span> Animation <span style=\"color: #008000; text-decoration-color: #008000\">41</span> : Partial movie file       <a href=\"file://C:\\Users\\Zirito\\anaconda3\\envs\\manim\\lib\\site-packages\\manim\\scene\\scene_file_writer.py\"><span style=\"color: #7f7f7f; text-decoration-color: #7f7f7f\">scene_file_writer.py</span></a><span style=\"color: #7f7f7f; text-decoration-color: #7f7f7f\">:442</span>\n",
       "                             written in                                                      \n",
       "                             <span style=\"color: #008000; text-decoration-color: #008000\">'C:\\Users\\Zirito\\manim\\PROJEK </span>                                  \n",
       "                             <span style=\"color: #008000; text-decoration-color: #008000\">KALKULUS\\MOTIVASI FIX\\media\\videos\\moti</span>                         \n",
       "                             <span style=\"color: #008000; text-decoration-color: #008000\">vasi_4\\480p15\\partial_movie_files\\motiv</span>                         \n",
       "                             <span style=\"color: #008000; text-decoration-color: #008000\">asi_4\\3930506391_2839631542_4171950123.</span>                         \n",
       "                             <span style=\"color: #008000; text-decoration-color: #008000\">mp4'</span>                                                            \n",
       "</pre>\n"
      ],
      "text/plain": [
       "\u001b[2;36m[02/18/22 11:24:47]\u001b[0m\u001b[2;36m \u001b[0m\u001b[32mINFO    \u001b[0m Animation \u001b[32m41\u001b[0m : Partial movie file       \u001b]8;id=739604;file://C:\\Users\\Zirito\\anaconda3\\envs\\manim\\lib\\site-packages\\manim\\scene\\scene_file_writer.py\u001b\\\u001b[2mscene_file_writer.py\u001b[0m\u001b]8;;\u001b\\\u001b[2m:442\u001b[0m\n",
       "                             written in                                                      \n",
       "                             \u001b[32m'C:\\Users\\Zirito\\manim\\PROJEK \u001b[0m                                  \n",
       "                             \u001b[32mKALKULUS\\MOTIVASI FIX\\media\\videos\\moti\u001b[0m                         \n",
       "                             \u001b[32mvasi_4\\480p15\\partial_movie_files\\motiv\u001b[0m                         \n",
       "                             \u001b[32masi_4\\3930506391_2839631542_4171950123.\u001b[0m                         \n",
       "                             \u001b[32mmp4'\u001b[0m                                                            \n"
      ]
     },
     "metadata": {},
     "output_type": "display_data"
    },
    {
     "name": "stderr",
     "output_type": "stream",
     "text": [
      "                                                                                                                       \r"
     ]
    },
    {
     "data": {
      "text/html": [
       "<pre style=\"white-space:pre;overflow-x:auto;line-height:normal;font-family:Menlo,'DejaVu Sans Mono',consolas,'Courier New',monospace\"><span style=\"color: #7fbfbf; text-decoration-color: #7fbfbf\">[02/18/22 11:24:52] </span><span style=\"color: #008000; text-decoration-color: #008000\">INFO    </span> Animation <span style=\"color: #008000; text-decoration-color: #008000\">42</span> : Partial movie file       <a href=\"file://C:\\Users\\Zirito\\anaconda3\\envs\\manim\\lib\\site-packages\\manim\\scene\\scene_file_writer.py\"><span style=\"color: #7f7f7f; text-decoration-color: #7f7f7f\">scene_file_writer.py</span></a><span style=\"color: #7f7f7f; text-decoration-color: #7f7f7f\">:442</span>\n",
       "                             written in                                                      \n",
       "                             <span style=\"color: #008000; text-decoration-color: #008000\">'C:\\Users\\Zirito\\manim\\PROJEK </span>                                  \n",
       "                             <span style=\"color: #008000; text-decoration-color: #008000\">KALKULUS\\MOTIVASI FIX\\media\\videos\\moti</span>                         \n",
       "                             <span style=\"color: #008000; text-decoration-color: #008000\">vasi_4\\480p15\\partial_movie_files\\motiv</span>                         \n",
       "                             <span style=\"color: #008000; text-decoration-color: #008000\">asi_4\\3930506391_1775788259_254541215.m</span>                         \n",
       "                             <span style=\"color: #008000; text-decoration-color: #008000\">p4'</span>                                                             \n",
       "</pre>\n"
      ],
      "text/plain": [
       "\u001b[2;36m[02/18/22 11:24:52]\u001b[0m\u001b[2;36m \u001b[0m\u001b[32mINFO    \u001b[0m Animation \u001b[32m42\u001b[0m : Partial movie file       \u001b]8;id=219466;file://C:\\Users\\Zirito\\anaconda3\\envs\\manim\\lib\\site-packages\\manim\\scene\\scene_file_writer.py\u001b\\\u001b[2mscene_file_writer.py\u001b[0m\u001b]8;;\u001b\\\u001b[2m:442\u001b[0m\n",
       "                             written in                                                      \n",
       "                             \u001b[32m'C:\\Users\\Zirito\\manim\\PROJEK \u001b[0m                                  \n",
       "                             \u001b[32mKALKULUS\\MOTIVASI FIX\\media\\videos\\moti\u001b[0m                         \n",
       "                             \u001b[32mvasi_4\\480p15\\partial_movie_files\\motiv\u001b[0m                         \n",
       "                             \u001b[32masi_4\\3930506391_1775788259_254541215.m\u001b[0m                         \n",
       "                             \u001b[32mp4'\u001b[0m                                                             \n"
      ]
     },
     "metadata": {},
     "output_type": "display_data"
    },
    {
     "name": "stderr",
     "output_type": "stream",
     "text": [
      "                                                                                                                       \r"
     ]
    },
    {
     "data": {
      "text/html": [
       "<pre style=\"white-space:pre;overflow-x:auto;line-height:normal;font-family:Menlo,'DejaVu Sans Mono',consolas,'Courier New',monospace\"><span style=\"color: #7fbfbf; text-decoration-color: #7fbfbf\">[02/18/22 11:24:55] </span><span style=\"color: #008000; text-decoration-color: #008000\">INFO    </span> Animation <span style=\"color: #008000; text-decoration-color: #008000\">43</span> : Partial movie file       <a href=\"file://C:\\Users\\Zirito\\anaconda3\\envs\\manim\\lib\\site-packages\\manim\\scene\\scene_file_writer.py\"><span style=\"color: #7f7f7f; text-decoration-color: #7f7f7f\">scene_file_writer.py</span></a><span style=\"color: #7f7f7f; text-decoration-color: #7f7f7f\">:442</span>\n",
       "                             written in                                                      \n",
       "                             <span style=\"color: #008000; text-decoration-color: #008000\">'C:\\Users\\Zirito\\manim\\PROJEK </span>                                  \n",
       "                             <span style=\"color: #008000; text-decoration-color: #008000\">KALKULUS\\MOTIVASI FIX\\media\\videos\\moti</span>                         \n",
       "                             <span style=\"color: #008000; text-decoration-color: #008000\">vasi_4\\480p15\\partial_movie_files\\motiv</span>                         \n",
       "                             <span style=\"color: #008000; text-decoration-color: #008000\">asi_4\\3930506391_2445094656_70212230.mp</span>                         \n",
       "                             <span style=\"color: #008000; text-decoration-color: #008000\">4'</span>                                                              \n",
       "</pre>\n"
      ],
      "text/plain": [
       "\u001b[2;36m[02/18/22 11:24:55]\u001b[0m\u001b[2;36m \u001b[0m\u001b[32mINFO    \u001b[0m Animation \u001b[32m43\u001b[0m : Partial movie file       \u001b]8;id=305431;file://C:\\Users\\Zirito\\anaconda3\\envs\\manim\\lib\\site-packages\\manim\\scene\\scene_file_writer.py\u001b\\\u001b[2mscene_file_writer.py\u001b[0m\u001b]8;;\u001b\\\u001b[2m:442\u001b[0m\n",
       "                             written in                                                      \n",
       "                             \u001b[32m'C:\\Users\\Zirito\\manim\\PROJEK \u001b[0m                                  \n",
       "                             \u001b[32mKALKULUS\\MOTIVASI FIX\\media\\videos\\moti\u001b[0m                         \n",
       "                             \u001b[32mvasi_4\\480p15\\partial_movie_files\\motiv\u001b[0m                         \n",
       "                             \u001b[32masi_4\\3930506391_2445094656_70212230.mp\u001b[0m                         \n",
       "                             \u001b[32m4'\u001b[0m                                                              \n"
      ]
     },
     "metadata": {},
     "output_type": "display_data"
    },
    {
     "name": "stderr",
     "output_type": "stream",
     "text": [
      "                                                                                                                       \r"
     ]
    },
    {
     "data": {
      "text/html": [
       "<pre style=\"white-space:pre;overflow-x:auto;line-height:normal;font-family:Menlo,'DejaVu Sans Mono',consolas,'Courier New',monospace\"><span style=\"color: #7fbfbf; text-decoration-color: #7fbfbf\">[02/18/22 11:24:59] </span><span style=\"color: #008000; text-decoration-color: #008000\">INFO    </span> Animation <span style=\"color: #008000; text-decoration-color: #008000\">44</span> : Partial movie file       <a href=\"file://C:\\Users\\Zirito\\anaconda3\\envs\\manim\\lib\\site-packages\\manim\\scene\\scene_file_writer.py\"><span style=\"color: #7f7f7f; text-decoration-color: #7f7f7f\">scene_file_writer.py</span></a><span style=\"color: #7f7f7f; text-decoration-color: #7f7f7f\">:442</span>\n",
       "                             written in                                                      \n",
       "                             <span style=\"color: #008000; text-decoration-color: #008000\">'C:\\Users\\Zirito\\manim\\PROJEK </span>                                  \n",
       "                             <span style=\"color: #008000; text-decoration-color: #008000\">KALKULUS\\MOTIVASI FIX\\media\\videos\\moti</span>                         \n",
       "                             <span style=\"color: #008000; text-decoration-color: #008000\">vasi_4\\480p15\\partial_movie_files\\motiv</span>                         \n",
       "                             <span style=\"color: #008000; text-decoration-color: #008000\">asi_4\\3930506391_265071234_1178202325.m</span>                         \n",
       "                             <span style=\"color: #008000; text-decoration-color: #008000\">p4'</span>                                                             \n",
       "</pre>\n"
      ],
      "text/plain": [
       "\u001b[2;36m[02/18/22 11:24:59]\u001b[0m\u001b[2;36m \u001b[0m\u001b[32mINFO    \u001b[0m Animation \u001b[32m44\u001b[0m : Partial movie file       \u001b]8;id=782970;file://C:\\Users\\Zirito\\anaconda3\\envs\\manim\\lib\\site-packages\\manim\\scene\\scene_file_writer.py\u001b\\\u001b[2mscene_file_writer.py\u001b[0m\u001b]8;;\u001b\\\u001b[2m:442\u001b[0m\n",
       "                             written in                                                      \n",
       "                             \u001b[32m'C:\\Users\\Zirito\\manim\\PROJEK \u001b[0m                                  \n",
       "                             \u001b[32mKALKULUS\\MOTIVASI FIX\\media\\videos\\moti\u001b[0m                         \n",
       "                             \u001b[32mvasi_4\\480p15\\partial_movie_files\\motiv\u001b[0m                         \n",
       "                             \u001b[32masi_4\\3930506391_265071234_1178202325.m\u001b[0m                         \n",
       "                             \u001b[32mp4'\u001b[0m                                                             \n"
      ]
     },
     "metadata": {},
     "output_type": "display_data"
    },
    {
     "name": "stderr",
     "output_type": "stream",
     "text": [
      "                                                                                                                       \r"
     ]
    },
    {
     "data": {
      "text/html": [
       "<pre style=\"white-space:pre;overflow-x:auto;line-height:normal;font-family:Menlo,'DejaVu Sans Mono',consolas,'Courier New',monospace\"><span style=\"color: #7fbfbf; text-decoration-color: #7fbfbf\">[02/18/22 11:25:02] </span><span style=\"color: #008000; text-decoration-color: #008000\">INFO    </span> Animation <span style=\"color: #008000; text-decoration-color: #008000\">45</span> : Partial movie file       <a href=\"file://C:\\Users\\Zirito\\anaconda3\\envs\\manim\\lib\\site-packages\\manim\\scene\\scene_file_writer.py\"><span style=\"color: #7f7f7f; text-decoration-color: #7f7f7f\">scene_file_writer.py</span></a><span style=\"color: #7f7f7f; text-decoration-color: #7f7f7f\">:442</span>\n",
       "                             written in                                                      \n",
       "                             <span style=\"color: #008000; text-decoration-color: #008000\">'C:\\Users\\Zirito\\manim\\PROJEK </span>                                  \n",
       "                             <span style=\"color: #008000; text-decoration-color: #008000\">KALKULUS\\MOTIVASI FIX\\media\\videos\\moti</span>                         \n",
       "                             <span style=\"color: #008000; text-decoration-color: #008000\">vasi_4\\480p15\\partial_movie_files\\motiv</span>                         \n",
       "                             <span style=\"color: #008000; text-decoration-color: #008000\">asi_4\\3930506391_1577997449_543371713.m</span>                         \n",
       "                             <span style=\"color: #008000; text-decoration-color: #008000\">p4'</span>                                                             \n",
       "</pre>\n"
      ],
      "text/plain": [
       "\u001b[2;36m[02/18/22 11:25:02]\u001b[0m\u001b[2;36m \u001b[0m\u001b[32mINFO    \u001b[0m Animation \u001b[32m45\u001b[0m : Partial movie file       \u001b]8;id=389122;file://C:\\Users\\Zirito\\anaconda3\\envs\\manim\\lib\\site-packages\\manim\\scene\\scene_file_writer.py\u001b\\\u001b[2mscene_file_writer.py\u001b[0m\u001b]8;;\u001b\\\u001b[2m:442\u001b[0m\n",
       "                             written in                                                      \n",
       "                             \u001b[32m'C:\\Users\\Zirito\\manim\\PROJEK \u001b[0m                                  \n",
       "                             \u001b[32mKALKULUS\\MOTIVASI FIX\\media\\videos\\moti\u001b[0m                         \n",
       "                             \u001b[32mvasi_4\\480p15\\partial_movie_files\\motiv\u001b[0m                         \n",
       "                             \u001b[32masi_4\\3930506391_1577997449_543371713.m\u001b[0m                         \n",
       "                             \u001b[32mp4'\u001b[0m                                                             \n"
      ]
     },
     "metadata": {},
     "output_type": "display_data"
    },
    {
     "data": {
      "text/html": [
       "<pre style=\"white-space:pre;overflow-x:auto;line-height:normal;font-family:Menlo,'DejaVu Sans Mono',consolas,'Courier New',monospace\"><span style=\"color: #7fbfbf; text-decoration-color: #7fbfbf\">[02/18/22 11:25:04] </span><span style=\"color: #008000; text-decoration-color: #008000\">INFO    </span> Animation <span style=\"color: #008000; text-decoration-color: #008000\">46</span> : Partial movie file       <a href=\"file://C:\\Users\\Zirito\\anaconda3\\envs\\manim\\lib\\site-packages\\manim\\scene\\scene_file_writer.py\"><span style=\"color: #7f7f7f; text-decoration-color: #7f7f7f\">scene_file_writer.py</span></a><span style=\"color: #7f7f7f; text-decoration-color: #7f7f7f\">:442</span>\n",
       "                             written in                                                      \n",
       "                             <span style=\"color: #008000; text-decoration-color: #008000\">'C:\\Users\\Zirito\\manim\\PROJEK </span>                                  \n",
       "                             <span style=\"color: #008000; text-decoration-color: #008000\">KALKULUS\\MOTIVASI FIX\\media\\videos\\moti</span>                         \n",
       "                             <span style=\"color: #008000; text-decoration-color: #008000\">vasi_4\\480p15\\partial_movie_files\\motiv</span>                         \n",
       "                             <span style=\"color: #008000; text-decoration-color: #008000\">asi_4\\3930506391_2559461702_477389280.m</span>                         \n",
       "                             <span style=\"color: #008000; text-decoration-color: #008000\">p4'</span>                                                             \n",
       "</pre>\n"
      ],
      "text/plain": [
       "\u001b[2;36m[02/18/22 11:25:04]\u001b[0m\u001b[2;36m \u001b[0m\u001b[32mINFO    \u001b[0m Animation \u001b[32m46\u001b[0m : Partial movie file       \u001b]8;id=887785;file://C:\\Users\\Zirito\\anaconda3\\envs\\manim\\lib\\site-packages\\manim\\scene\\scene_file_writer.py\u001b\\\u001b[2mscene_file_writer.py\u001b[0m\u001b]8;;\u001b\\\u001b[2m:442\u001b[0m\n",
       "                             written in                                                      \n",
       "                             \u001b[32m'C:\\Users\\Zirito\\manim\\PROJEK \u001b[0m                                  \n",
       "                             \u001b[32mKALKULUS\\MOTIVASI FIX\\media\\videos\\moti\u001b[0m                         \n",
       "                             \u001b[32mvasi_4\\480p15\\partial_movie_files\\motiv\u001b[0m                         \n",
       "                             \u001b[32masi_4\\3930506391_2559461702_477389280.m\u001b[0m                         \n",
       "                             \u001b[32mp4'\u001b[0m                                                             \n"
      ]
     },
     "metadata": {},
     "output_type": "display_data"
    },
    {
     "name": "stderr",
     "output_type": "stream",
     "text": [
      "                                                                                                                       \r"
     ]
    },
    {
     "data": {
      "text/html": [
       "<pre style=\"white-space:pre;overflow-x:auto;line-height:normal;font-family:Menlo,'DejaVu Sans Mono',consolas,'Courier New',monospace\"><span style=\"color: #7fbfbf; text-decoration-color: #7fbfbf\">[02/18/22 11:25:24] </span><span style=\"color: #008000; text-decoration-color: #008000\">INFO    </span> Animation <span style=\"color: #008000; text-decoration-color: #008000\">47</span> : Partial movie file       <a href=\"file://C:\\Users\\Zirito\\anaconda3\\envs\\manim\\lib\\site-packages\\manim\\scene\\scene_file_writer.py\"><span style=\"color: #7f7f7f; text-decoration-color: #7f7f7f\">scene_file_writer.py</span></a><span style=\"color: #7f7f7f; text-decoration-color: #7f7f7f\">:442</span>\n",
       "                             written in                                                      \n",
       "                             <span style=\"color: #008000; text-decoration-color: #008000\">'C:\\Users\\Zirito\\manim\\PROJEK </span>                                  \n",
       "                             <span style=\"color: #008000; text-decoration-color: #008000\">KALKULUS\\MOTIVASI FIX\\media\\videos\\moti</span>                         \n",
       "                             <span style=\"color: #008000; text-decoration-color: #008000\">vasi_4\\480p15\\partial_movie_files\\motiv</span>                         \n",
       "                             <span style=\"color: #008000; text-decoration-color: #008000\">asi_4\\3930506391_571949487_3730454532.m</span>                         \n",
       "                             <span style=\"color: #008000; text-decoration-color: #008000\">p4'</span>                                                             \n",
       "</pre>\n"
      ],
      "text/plain": [
       "\u001b[2;36m[02/18/22 11:25:24]\u001b[0m\u001b[2;36m \u001b[0m\u001b[32mINFO    \u001b[0m Animation \u001b[32m47\u001b[0m : Partial movie file       \u001b]8;id=556667;file://C:\\Users\\Zirito\\anaconda3\\envs\\manim\\lib\\site-packages\\manim\\scene\\scene_file_writer.py\u001b\\\u001b[2mscene_file_writer.py\u001b[0m\u001b]8;;\u001b\\\u001b[2m:442\u001b[0m\n",
       "                             written in                                                      \n",
       "                             \u001b[32m'C:\\Users\\Zirito\\manim\\PROJEK \u001b[0m                                  \n",
       "                             \u001b[32mKALKULUS\\MOTIVASI FIX\\media\\videos\\moti\u001b[0m                         \n",
       "                             \u001b[32mvasi_4\\480p15\\partial_movie_files\\motiv\u001b[0m                         \n",
       "                             \u001b[32masi_4\\3930506391_571949487_3730454532.m\u001b[0m                         \n",
       "                             \u001b[32mp4'\u001b[0m                                                             \n"
      ]
     },
     "metadata": {},
     "output_type": "display_data"
    },
    {
     "data": {
      "text/html": [
       "<pre style=\"white-space:pre;overflow-x:auto;line-height:normal;font-family:Menlo,'DejaVu Sans Mono',consolas,'Courier New',monospace\"><span style=\"color: #7fbfbf; text-decoration-color: #7fbfbf\">                    </span><span style=\"color: #008000; text-decoration-color: #008000\">INFO    </span> Animation <span style=\"color: #008000; text-decoration-color: #008000\">48</span> : Partial movie file       <a href=\"file://C:\\Users\\Zirito\\anaconda3\\envs\\manim\\lib\\site-packages\\manim\\scene\\scene_file_writer.py\"><span style=\"color: #7f7f7f; text-decoration-color: #7f7f7f\">scene_file_writer.py</span></a><span style=\"color: #7f7f7f; text-decoration-color: #7f7f7f\">:442</span>\n",
       "                             written in                                                      \n",
       "                             <span style=\"color: #008000; text-decoration-color: #008000\">'C:\\Users\\Zirito\\manim\\PROJEK </span>                                  \n",
       "                             <span style=\"color: #008000; text-decoration-color: #008000\">KALKULUS\\MOTIVASI FIX\\media\\videos\\moti</span>                         \n",
       "                             <span style=\"color: #008000; text-decoration-color: #008000\">vasi_4\\480p15\\partial_movie_files\\motiv</span>                         \n",
       "                             <span style=\"color: #008000; text-decoration-color: #008000\">asi_4\\3930506391_2839631542_2320202810.</span>                         \n",
       "                             <span style=\"color: #008000; text-decoration-color: #008000\">mp4'</span>                                                            \n",
       "</pre>\n"
      ],
      "text/plain": [
       "\u001b[2;36m                   \u001b[0m\u001b[2;36m \u001b[0m\u001b[32mINFO    \u001b[0m Animation \u001b[32m48\u001b[0m : Partial movie file       \u001b]8;id=641866;file://C:\\Users\\Zirito\\anaconda3\\envs\\manim\\lib\\site-packages\\manim\\scene\\scene_file_writer.py\u001b\\\u001b[2mscene_file_writer.py\u001b[0m\u001b]8;;\u001b\\\u001b[2m:442\u001b[0m\n",
       "                             written in                                                      \n",
       "                             \u001b[32m'C:\\Users\\Zirito\\manim\\PROJEK \u001b[0m                                  \n",
       "                             \u001b[32mKALKULUS\\MOTIVASI FIX\\media\\videos\\moti\u001b[0m                         \n",
       "                             \u001b[32mvasi_4\\480p15\\partial_movie_files\\motiv\u001b[0m                         \n",
       "                             \u001b[32masi_4\\3930506391_2839631542_2320202810.\u001b[0m                         \n",
       "                             \u001b[32mmp4'\u001b[0m                                                            \n"
      ]
     },
     "metadata": {},
     "output_type": "display_data"
    },
    {
     "name": "stderr",
     "output_type": "stream",
     "text": [
      "                                                                                                                       \r"
     ]
    },
    {
     "data": {
      "text/html": [
       "<pre style=\"white-space:pre;overflow-x:auto;line-height:normal;font-family:Menlo,'DejaVu Sans Mono',consolas,'Courier New',monospace\"><span style=\"color: #7fbfbf; text-decoration-color: #7fbfbf\">[02/18/22 11:25:25] </span><span style=\"color: #008000; text-decoration-color: #008000\">INFO    </span> Animation <span style=\"color: #008000; text-decoration-color: #008000\">49</span> : Partial movie file       <a href=\"file://C:\\Users\\Zirito\\anaconda3\\envs\\manim\\lib\\site-packages\\manim\\scene\\scene_file_writer.py\"><span style=\"color: #7f7f7f; text-decoration-color: #7f7f7f\">scene_file_writer.py</span></a><span style=\"color: #7f7f7f; text-decoration-color: #7f7f7f\">:442</span>\n",
       "                             written in                                                      \n",
       "                             <span style=\"color: #008000; text-decoration-color: #008000\">'C:\\Users\\Zirito\\manim\\PROJEK </span>                                  \n",
       "                             <span style=\"color: #008000; text-decoration-color: #008000\">KALKULUS\\MOTIVASI FIX\\media\\videos\\moti</span>                         \n",
       "                             <span style=\"color: #008000; text-decoration-color: #008000\">vasi_4\\480p15\\partial_movie_files\\motiv</span>                         \n",
       "                             <span style=\"color: #008000; text-decoration-color: #008000\">asi_4\\3930506391_2722072607_1461051461.</span>                         \n",
       "                             <span style=\"color: #008000; text-decoration-color: #008000\">mp4'</span>                                                            \n",
       "</pre>\n"
      ],
      "text/plain": [
       "\u001b[2;36m[02/18/22 11:25:25]\u001b[0m\u001b[2;36m \u001b[0m\u001b[32mINFO    \u001b[0m Animation \u001b[32m49\u001b[0m : Partial movie file       \u001b]8;id=462154;file://C:\\Users\\Zirito\\anaconda3\\envs\\manim\\lib\\site-packages\\manim\\scene\\scene_file_writer.py\u001b\\\u001b[2mscene_file_writer.py\u001b[0m\u001b]8;;\u001b\\\u001b[2m:442\u001b[0m\n",
       "                             written in                                                      \n",
       "                             \u001b[32m'C:\\Users\\Zirito\\manim\\PROJEK \u001b[0m                                  \n",
       "                             \u001b[32mKALKULUS\\MOTIVASI FIX\\media\\videos\\moti\u001b[0m                         \n",
       "                             \u001b[32mvasi_4\\480p15\\partial_movie_files\\motiv\u001b[0m                         \n",
       "                             \u001b[32masi_4\\3930506391_2722072607_1461051461.\u001b[0m                         \n",
       "                             \u001b[32mmp4'\u001b[0m                                                            \n"
      ]
     },
     "metadata": {},
     "output_type": "display_data"
    },
    {
     "data": {
      "text/html": [
       "<pre style=\"white-space:pre;overflow-x:auto;line-height:normal;font-family:Menlo,'DejaVu Sans Mono',consolas,'Courier New',monospace\"><span style=\"color: #7fbfbf; text-decoration-color: #7fbfbf\">                    </span><span style=\"color: #008000; text-decoration-color: #008000\">INFO    </span> Animation <span style=\"color: #008000; text-decoration-color: #008000\">50</span> : Partial movie file       <a href=\"file://C:\\Users\\Zirito\\anaconda3\\envs\\manim\\lib\\site-packages\\manim\\scene\\scene_file_writer.py\"><span style=\"color: #7f7f7f; text-decoration-color: #7f7f7f\">scene_file_writer.py</span></a><span style=\"color: #7f7f7f; text-decoration-color: #7f7f7f\">:442</span>\n",
       "                             written in                                                      \n",
       "                             <span style=\"color: #008000; text-decoration-color: #008000\">'C:\\Users\\Zirito\\manim\\PROJEK </span>                                  \n",
       "                             <span style=\"color: #008000; text-decoration-color: #008000\">KALKULUS\\MOTIVASI FIX\\media\\videos\\moti</span>                         \n",
       "                             <span style=\"color: #008000; text-decoration-color: #008000\">vasi_4\\480p15\\partial_movie_files\\motiv</span>                         \n",
       "                             <span style=\"color: #008000; text-decoration-color: #008000\">asi_4\\3930506391_2839631542_3728574324.</span>                         \n",
       "                             <span style=\"color: #008000; text-decoration-color: #008000\">mp4'</span>                                                            \n",
       "</pre>\n"
      ],
      "text/plain": [
       "\u001b[2;36m                   \u001b[0m\u001b[2;36m \u001b[0m\u001b[32mINFO    \u001b[0m Animation \u001b[32m50\u001b[0m : Partial movie file       \u001b]8;id=905489;file://C:\\Users\\Zirito\\anaconda3\\envs\\manim\\lib\\site-packages\\manim\\scene\\scene_file_writer.py\u001b\\\u001b[2mscene_file_writer.py\u001b[0m\u001b]8;;\u001b\\\u001b[2m:442\u001b[0m\n",
       "                             written in                                                      \n",
       "                             \u001b[32m'C:\\Users\\Zirito\\manim\\PROJEK \u001b[0m                                  \n",
       "                             \u001b[32mKALKULUS\\MOTIVASI FIX\\media\\videos\\moti\u001b[0m                         \n",
       "                             \u001b[32mvasi_4\\480p15\\partial_movie_files\\motiv\u001b[0m                         \n",
       "                             \u001b[32masi_4\\3930506391_2839631542_3728574324.\u001b[0m                         \n",
       "                             \u001b[32mmp4'\u001b[0m                                                            \n"
      ]
     },
     "metadata": {},
     "output_type": "display_data"
    },
    {
     "data": {
      "text/html": [
       "<pre style=\"white-space:pre;overflow-x:auto;line-height:normal;font-family:Menlo,'DejaVu Sans Mono',consolas,'Courier New',monospace\"><span style=\"color: #7fbfbf; text-decoration-color: #7fbfbf\">[02/18/22 11:25:26] </span><span style=\"color: #008000; text-decoration-color: #008000\">INFO    </span>                                         <a href=\"file://C:\\Users\\Zirito\\anaconda3\\envs\\manim\\lib\\site-packages\\manim\\scene\\scene_file_writer.py\"><span style=\"color: #7f7f7f; text-decoration-color: #7f7f7f\">scene_file_writer.py</span></a><span style=\"color: #7f7f7f; text-decoration-color: #7f7f7f\">:627</span>\n",
       "                             <span style=\"color: #808000; text-decoration-color: #808000; font-weight: bold\">File</span> ready at                                                   \n",
       "                             <span style=\"color: #008000; text-decoration-color: #008000\">'C:\\Users\\Zirito\\manim\\PROJEK </span>                                  \n",
       "                             <span style=\"color: #008000; text-decoration-color: #008000\">KALKULUS\\MOTIVASI FIX\\media\\videos\\moti</span>                         \n",
       "                             <span style=\"color: #008000; text-decoration-color: #008000\">vasi_4\\480p15\\motivasi_4.mp4'</span>                                   \n",
       "                                                                                             \n",
       "</pre>\n"
      ],
      "text/plain": [
       "\u001b[2;36m[02/18/22 11:25:26]\u001b[0m\u001b[2;36m \u001b[0m\u001b[32mINFO    \u001b[0m                                         \u001b]8;id=91472;file://C:\\Users\\Zirito\\anaconda3\\envs\\manim\\lib\\site-packages\\manim\\scene\\scene_file_writer.py\u001b\\\u001b[2mscene_file_writer.py\u001b[0m\u001b]8;;\u001b\\\u001b[2m:627\u001b[0m\n",
       "                             \u001b[1;33mFile\u001b[0m ready at                                                   \n",
       "                             \u001b[32m'C:\\Users\\Zirito\\manim\\PROJEK \u001b[0m                                  \n",
       "                             \u001b[32mKALKULUS\\MOTIVASI FIX\\media\\videos\\moti\u001b[0m                         \n",
       "                             \u001b[32mvasi_4\\480p15\\motivasi_4.mp4'\u001b[0m                                   \n",
       "                                                                                             \n"
      ]
     },
     "metadata": {},
     "output_type": "display_data"
    },
    {
     "data": {
      "text/html": [
       "<pre style=\"white-space:pre;overflow-x:auto;line-height:normal;font-family:Menlo,'DejaVu Sans Mono',consolas,'Courier New',monospace\"><span style=\"color: #7fbfbf; text-decoration-color: #7fbfbf\">                    </span><span style=\"color: #008000; text-decoration-color: #008000\">INFO    </span> The partial movie directory is full <span style=\"font-weight: bold\">(</span>&gt;  <a href=\"file://C:\\Users\\Zirito\\anaconda3\\envs\\manim\\lib\\site-packages\\manim\\scene\\scene_file_writer.py\"><span style=\"color: #7f7f7f; text-decoration-color: #7f7f7f\">scene_file_writer.py</span></a><span style=\"color: #7f7f7f; text-decoration-color: #7f7f7f\">:605</span>\n",
       "                             <span style=\"color: #008000; text-decoration-color: #008000\">100</span> files<span style=\"font-weight: bold\">)</span>. Therefore, manim has                                \n",
       "                             removed the <span style=\"color: #008000; text-decoration-color: #008000\">44</span> oldest <span style=\"color: #800080; text-decoration-color: #800080; font-weight: bold\">file</span><span style=\"font-weight: bold\">(</span>s<span style=\"font-weight: bold\">)</span>. You can                          \n",
       "                             change this behaviour by changing                               \n",
       "                             max_files_cached in config.                                     \n",
       "</pre>\n"
      ],
      "text/plain": [
       "\u001b[2;36m                   \u001b[0m\u001b[2;36m \u001b[0m\u001b[32mINFO    \u001b[0m The partial movie directory is full \u001b[1m(\u001b[0m>  \u001b]8;id=961393;file://C:\\Users\\Zirito\\anaconda3\\envs\\manim\\lib\\site-packages\\manim\\scene\\scene_file_writer.py\u001b\\\u001b[2mscene_file_writer.py\u001b[0m\u001b]8;;\u001b\\\u001b[2m:605\u001b[0m\n",
       "                             \u001b[32m100\u001b[0m files\u001b[1m)\u001b[0m. Therefore, manim has                                \n",
       "                             removed the \u001b[32m44\u001b[0m oldest \u001b[1;35mfile\u001b[0m\u001b[1m(\u001b[0ms\u001b[1m)\u001b[0m. You can                          \n",
       "                             change this behaviour by changing                               \n",
       "                             max_files_cached in config.                                     \n"
      ]
     },
     "metadata": {},
     "output_type": "display_data"
    },
    {
     "data": {
      "text/html": [
       "<pre style=\"white-space:pre;overflow-x:auto;line-height:normal;font-family:Menlo,'DejaVu Sans Mono',consolas,'Courier New',monospace\"><span style=\"color: #7fbfbf; text-decoration-color: #7fbfbf\">                    </span><span style=\"color: #008000; text-decoration-color: #008000\">INFO    </span> <span style=\"color: #808000; text-decoration-color: #808000; font-weight: bold\">Rendered</span> motivasi_4                                 <a href=\"file://C:\\Users\\Zirito\\anaconda3\\envs\\manim\\lib\\site-packages\\manim\\scene\\scene.py\"><span style=\"color: #7f7f7f; text-decoration-color: #7f7f7f\">scene.py</span></a><span style=\"color: #7f7f7f; text-decoration-color: #7f7f7f\">:231</span>\n",
       "                             <span style=\"color: #808000; text-decoration-color: #808000; font-weight: bold\">Played</span> <span style=\"color: #008000; text-decoration-color: #008000\">51</span> <span style=\"color: #808000; text-decoration-color: #808000; font-weight: bold\">animations</span>                                            \n",
       "</pre>\n"
      ],
      "text/plain": [
       "\u001b[2;36m                   \u001b[0m\u001b[2;36m \u001b[0m\u001b[32mINFO    \u001b[0m \u001b[1;33mRendered\u001b[0m motivasi_4                                 \u001b]8;id=78060;file://C:\\Users\\Zirito\\anaconda3\\envs\\manim\\lib\\site-packages\\manim\\scene\\scene.py\u001b\\\u001b[2mscene.py\u001b[0m\u001b]8;;\u001b\\\u001b[2m:231\u001b[0m\n",
       "                             \u001b[1;33mPlayed\u001b[0m \u001b[32m51\u001b[0m \u001b[1;33manimations\u001b[0m                                            \n"
      ]
     },
     "metadata": {},
     "output_type": "display_data"
    },
    {
     "data": {
      "text/html": [
       "<pre style=\"white-space:pre;overflow-x:auto;line-height:normal;font-family:Menlo,'DejaVu Sans Mono',consolas,'Courier New',monospace\"><span style=\"color: #7fbfbf; text-decoration-color: #7fbfbf\">                    </span><span style=\"color: #008000; text-decoration-color: #008000\">INFO    </span> Previewed <span style=\"color: #808000; text-decoration-color: #808000; font-weight: bold\">File</span> at: <span style=\"color: #008000; text-decoration-color: #008000\">'C:\\Users\\Zirito\\manim\\PROJEK</span> <a href=\"file://C:\\Users\\Zirito\\anaconda3\\envs\\manim\\lib\\site-packages\\manim\\utils\\file_ops.py\"><span style=\"color: #7f7f7f; text-decoration-color: #7f7f7f\">file_ops.py</span></a><span style=\"color: #7f7f7f; text-decoration-color: #7f7f7f\">:193</span>\n",
       "                             <span style=\"color: #008000; text-decoration-color: #008000\">KALKULUS\\MOTIVASI FIX\\media\\videos\\motivasi_4\\48</span>                \n",
       "                             <span style=\"color: #008000; text-decoration-color: #008000\">0p15\\motivasi_4.mp4'</span>                                            \n",
       "</pre>\n"
      ],
      "text/plain": [
       "\u001b[2;36m                   \u001b[0m\u001b[2;36m \u001b[0m\u001b[32mINFO    \u001b[0m Previewed \u001b[1;33mFile\u001b[0m at: \u001b[32m'C:\\Users\\Zirito\\manim\\PROJEK\u001b[0m \u001b]8;id=804185;file://C:\\Users\\Zirito\\anaconda3\\envs\\manim\\lib\\site-packages\\manim\\utils\\file_ops.py\u001b\\\u001b[2mfile_ops.py\u001b[0m\u001b]8;;\u001b\\\u001b[2m:193\u001b[0m\n",
       "                             \u001b[32mKALKULUS\\MOTIVASI FIX\\media\\videos\\motivasi_4\\48\u001b[0m                \n",
       "                             \u001b[32m0p15\\motivasi_4.mp4'\u001b[0m                                            \n"
      ]
     },
     "metadata": {},
     "output_type": "display_data"
    },
    {
     "data": {
      "text/html": [
       "<video src=\"media\\jupyter\\motivasi_4@2022-02-18@11-25-26.mp4\" controls autoplay loop style=\"max-width: 25vw;\"  >\n",
       "      Your browser does not support the <code>video</code> element.\n",
       "    </video>"
      ],
      "text/plain": [
       "<IPython.core.display.Video object>"
      ]
     },
     "metadata": {},
     "output_type": "display_data"
    }
   ],
   "source": [
    "manim motivasi_4.py motivasi_4 -p -ql"
   ]
  },
  {
   "cell_type": "markdown",
   "id": "f126e5ef",
   "metadata": {},
   "source": [
    "# Code asli"
   ]
  },
  {
   "cell_type": "code",
   "execution_count": null,
   "id": "2aa41f9d",
   "metadata": {},
   "outputs": [],
   "source": [
    "import numpy as np\n",
    "class motivasi_4(MovingCameraScene):\n",
    "    def construct(self):\n",
    "        axes = Axes(\n",
    "            x_range=[-2.5, 3],\n",
    "            y_range=[-1, 5],\n",
    "            x_length=6,\n",
    "            axis_config={\"color\": WHITE},\n",
    "        )\n",
    "        labels = axes.get_axis_labels(x_label='x', y_label='y').set_color(WHITE)\n",
    "        #self.add(labels)\n",
    "        \n",
    "        ''' contoh 2 '''\n",
    "        perhatikan = Text(\"Perhatikan illustrasi berikut:\", font='Arial').scale(0.5)\n",
    "        perhatikan.to_corner(np.array([-2.5,2,0]))\n",
    "        \n",
    "        ''' BANGUN '''\n",
    "        kosong = Text(\"\")\n",
    "        kotak = RoundedRectangle(height = 1.2, width = 5.25 )\n",
    "        \n",
    "        f = lambda x: x**2\n",
    "        grafik = axes.get_graph(f, color = WHITE,x_range=[-2.1,2.1])\n",
    "        grafik_label = axes.get_graph_label(grafik, label=MathTex('y=x^2'), x_val=2, direction=UR).scale(0.8)\n",
    "         \n",
    "        \n",
    "        ''' LETAK '''\n",
    "#        titik_4 = Dot(axes.coords_to_point(1.5,2.25),color = YELLOW)\n",
    "        point2 = axes.c2p(1,1)\n",
    "        titik_2 = Dot((point2),color = YELLOW).scale(0.5)\n",
    "        nama_titik_2 = MathTex('\\\\bold P(1,1)', color = YELLOW).scale(0.25)\n",
    "        nama_titik_2.next_to(titik_2,RIGHT)\n",
    "        \n",
    "        ''' Tabel '''\n",
    "        t1 = \"x\"\n",
    "        t2 = \"gradien (m)\"\n",
    "        table1= Table(\n",
    "            [[t1, t2],\n",
    "            [\"1.5\",\"2.5\"],[\"1.25\",\"2.25\"],[\"1.1\",\"2.1\"],\n",
    "            [\"1.01\",\"2.01\"],[\"1.001\",\"2.001\"]],\n",
    "            include_outer_lines=True).set_row_colors(YELLOW)\n",
    "        table1.scale(0.6)\n",
    "        table1.move_to(np.array([-3.5,-0.25,0]))\n",
    "\n",
    "        \n",
    "        \n",
    "        ''' Lanjutan contoh 2'''\n",
    "        self.camera.background_color = \"#1e3264\"\n",
    "        \n",
    "#         grafik.set_stroke(width = 1)\n",
    "#         grafik.set_stroke(width = 2)\n",
    "        \n",
    "        grup_grafik2 = VGroup(axes,labels,grafik,titik_2,\n",
    "                              grafik_label,nama_titik_2).scale(0.9)\n",
    "        grup_grafik2.move_to(np.array([2.8,0,0]))\n",
    "        grup_grafik2.generate_target()\n",
    "        \n",
    "\n",
    "        ''''''\n",
    "        self.play(Write(perhatikan))\n",
    "        self.wait(1)\n",
    "        self.play(table1.create())\n",
    "        self.wait(1)\n",
    "        self.play(Write(axes))\n",
    "        self.play(Write(labels))\n",
    "        self.play(Create(grafik),FadeIn(grafik_label),FadeIn(titik_2,nama_titik_2))\n",
    "        \n",
    "#         self.play(self.camera.frame.animate.move_to(grup_table_grafik2).set(width=grup_table_grafik2.width*1.25))\n",
    "#        self.camera.frame.save_state()\n",
    "        self.wait(1)\n",
    "        \n",
    "        '''Tabel kuning'''\n",
    "#         table.add(SurroundingRectangle(table.get_rows()[1]))\n",
    "        list_kuning = []\n",
    "        for i in range(1,6):\n",
    "            list_kuning.append(SurroundingRectangle(table1.get_rows()[i]))\n",
    "\n",
    "        self.play(Create(list_kuning[0]))\n",
    "        self.wait(0.51)\n",
    "        self.play(ReplacementTransform(list_kuning[0],\n",
    "                                       list_kuning[1]))\n",
    "        self.wait(0.5)\n",
    "        self.play(ReplacementTransform(list_kuning[1],\n",
    "                                       list_kuning[2]))\n",
    "        self.wait(0.5)\n",
    "        self.play(ReplacementTransform(list_kuning[2],\n",
    "                                       list_kuning[3]))\n",
    "        self.wait(0.5)\n",
    "        self.play(ReplacementTransform(list_kuning[3],\n",
    "                                       list_kuning[4]))\n",
    "        self.wait(0.5)\n",
    "        self.play(FadeOut(list_kuning[4]))\n",
    "        self.wait(1)\n",
    "                  \n",
    "            \n",
    "        '''TITIK'''\n",
    "#         grup_grafik2.generate_target()\n",
    "#         grup_grafik2.target.move_to(np.array([0,-0.5,0]))        \n",
    "#         self.play(FadeOut(table1, target_position = ORIGIN),\n",
    "#                   ScaleInPlace(grup_grafik2, ),\n",
    "#                   MoveToTarget(perhatikan),\n",
    "#                   MoveToTarget(grup_grafik2))\n",
    "#         self.wait(1)\n",
    "#         self.play(ScaleInPlace(grup_grafik2, 2))\n",
    "    \n",
    "        point3 = axes.c2p(1.5,2.25)\n",
    "        titik_3 = Dot((point3),color = PURE_GREEN).scale(0.5)\n",
    "        nama_titik_3 = MathTex('\\\\bold Q(1.5,2.25)', color = WHITE).scale(0.25)\n",
    "        nama_titik_3.next_to(titik_3,RIGHT)\n",
    "        \n",
    "        point4= axes.c2p(1.25,1.5625)\n",
    "        titik_4 = Dot((point4),color = PURE_GREEN).scale(0.5)\n",
    "        nama_titik_4 = MathTex('\\\\bold Q(1.25,1.5625)', color = WHITE).scale(0.25)\n",
    "        nama_titik_4.next_to(titik_4,RIGHT)\n",
    "        \n",
    "        point5= axes.c2p(1.1, 1.21)\n",
    "        titik_5 = Dot((point5),color = PURE_GREEN).scale(0.5)\n",
    "        nama_titik_5 = MathTex('\\\\bold Q(1.1,1.21)', color =WHITE).scale(0.25)\n",
    "        nama_titik_5.next_to(titik_5,RIGHT)\n",
    "        \n",
    "        point6= axes.c2p(1.01, 1.0201)\n",
    "        titik_6 = Dot((point6),color = PURE_GREEN).scale(0.5)\n",
    "        nama_titik_6 = MathTex('\\\\bold Q(1.01, 1.0201)', color = WHITE).scale(0.25)\n",
    "        nama_titik_6.next_to(titik_5,RIGHT)\n",
    "        \n",
    "        point7= axes.c2p(1.001, 1.002001)\n",
    "        titik_7 = Dot((point7),color = PURE_GREEN).scale(0.5)\n",
    "        nama_titik_7 = MathTex('\\\\bold Q(1.001, 1.002001)', color = WHITE).scale(0.25)\n",
    "        nama_titik_7.next_to(titik_5,RIGHT)\n",
    "        \n",
    "        gs_1 = Line(axes.coords_to_point(0,-1),\n",
    "                    axes.coords_to_point(2,3),\n",
    "                    color = YELLOW)\n",
    "        gs_1.set_stroke(width = 0.5)\n",
    "        \n",
    "        '''LANJUT'''\n",
    "        perhatikan.generate_target()\n",
    "        perhatikan.target.move_to(np.array([-10,2,0]))\n",
    "        table1.generate_target()\n",
    "        table1.target.move_to(np.array([-10,0,0]))\n",
    "\n",
    "        self.play(MoveToTarget(table1),MoveToTarget(perhatikan),\n",
    "                  self.camera.frame.animate.move_to(grup_grafik2).set(width = 12))\n",
    "        self.wait(1)\n",
    "        \n",
    "        g1 = Line(axes.coords_to_point(1,f(1)),axes.coords_to_point(1.5,f(1.5)),color = PURE_GREEN).scale(3)\n",
    "        g1.set_stroke(width = 2.5)\n",
    "        \n",
    "        g2 = Line(axes.coords_to_point(1,f(1)),axes.coords_to_point(1.25,f(1.25)),color = PURE_GREEN).scale(6)\n",
    "        g2.set_stroke(width = 2.5)\n",
    "        \n",
    "        g3 = Line(axes.coords_to_point(1,f(1)),axes.coords_to_point(1.1,f(1.1)),color = PURE_GREEN).scale(23)\n",
    "        g3.set_stroke(width = 2.5)\n",
    "        \n",
    "        g4 = Line(axes.coords_to_point(1,f(1)),axes.coords_to_point(1.01,f(1.01)),color = PURE_GREEN).scale(203)\n",
    "        g4.set_stroke(width = 2.5)\n",
    "        \n",
    "        g5 = Line(axes.coords_to_point(1,f(1)),axes.coords_to_point(1.001,f(1.001)),color = PURE_GREEN).scale(2003)\n",
    "        g5.set_stroke(width = 2.5)\n",
    "        \n",
    "        grup_1 = VGroup(titik_3, nama_titik_3)\n",
    "        grup_2 = VGroup(titik_4, nama_titik_4)\n",
    "        grup_3 = VGroup(titik_5, nama_titik_5)\n",
    "        grup_4 = VGroup(titik_6, nama_titik_6)\n",
    "        grup_5 = VGroup(titik_7, nama_titik_7)\n",
    "        \n",
    "        self.play(Create(gs_1))\n",
    "        self.play(Create(grup_1))\n",
    "        self.play(Create(g1))\n",
    "        self.wait(1)\n",
    "        self.play(ReplacementTransform(grup_1,grup_2),ReplacementTransform(g1,g2))\n",
    "        self.wait(1)\n",
    "        self.play(ReplacementTransform(grup_2,grup_3),ReplacementTransform(g2,g3))\n",
    "        self.wait(1)\n",
    "        self.play(ReplacementTransform(grup_3,grup_4),ReplacementTransform(g3,g4))\n",
    "        self.wait(1)\n",
    "        self.play(ReplacementTransform(grup_4,grup_5),ReplacementTransform(g4,g5))\n",
    "        self.wait(1)\n",
    "        self.play(FadeOut(grup_5, g5))\n",
    "        \n",
    "        \n",
    "        perhatikan.generate_target()\n",
    "        perhatikan.target.to_corner(np.array([-2.5,2,0]))\n",
    "        table1.generate_target()\n",
    "        table1.target.move_to(np.array([-3.5,-0.25,0]))\n",
    "        \n",
    "        self.play(MoveToTarget(table1),MoveToTarget(perhatikan),\n",
    "                  self.camera.frame.animate.move_to(ORIGIN).set(width=14))\n",
    "        self.wait(1)\n",
    "        \n",
    "        \n",
    "        '''DARI KIRI'''\n",
    "        '''Tabel 2'''\n",
    "        t3 = \"x\"\n",
    "        t4 = \"gradien (m)\"\n",
    "        table2= Table(\n",
    "            [[t3, t4],\n",
    "            [\"0\",\"1\"],[\"0.5\",\"1.5\"],[\"0.9\",\"1.9\"],\n",
    "            [\"0.99\",\"1.99\"],[\"0.999\",\"1.999\"]],\n",
    "            include_outer_lines=True).set_row_colors(YELLOW)\n",
    "        table2.scale(0.6)\n",
    "        table2.move_to(np.array([-3.5,-0.25,0]))\n",
    "        \n",
    "        self.play(ReplacementTransform(table1, table2))\n",
    "        self.wait(1)\n",
    "        \n",
    "        '''Tabel kuning 2'''\n",
    "#         table.add(SurroundingRectangle(table.get_rows()[1]))\n",
    "        list_kuning2 = []\n",
    "        for i in range(1,6):\n",
    "            list_kuning2.append(SurroundingRectangle(table2.get_rows()[i]))\n",
    "\n",
    "        self.play(Create(list_kuning2[0]))\n",
    "        self.wait(0.51)\n",
    "        \n",
    "        self.play(ReplacementTransform(list_kuning2[0],list_kuning2[1]))\n",
    "        self.wait(0.5)\n",
    "        \n",
    "        self.play(ReplacementTransform(list_kuning2[1],list_kuning2[2]))\n",
    "        self.wait(0.5)\n",
    "        \n",
    "        self.play(ReplacementTransform(list_kuning2[2],list_kuning2[3]))\n",
    "        self.wait(0.5)\n",
    "        \n",
    "        self.play(ReplacementTransform(list_kuning2[3],list_kuning2[4]))\n",
    "        self.wait(0.5)\n",
    "        \n",
    "        self.play(FadeOut(list_kuning2[4]))\n",
    "        self.wait(1)\n",
    "        \n",
    "        \n",
    "        '''TITIK'''\n",
    "        point8 = axes.c2p(0,0)\n",
    "        titik_8 = Dot((point8),color = PURE_RED).scale(0.5)\n",
    "        nama_titik_8 = MathTex('\\\\bold Q(0, 0)', color = WHITE).scale(0.25)\n",
    "        nama_titik_8.next_to(titik_8,RIGHT)\n",
    "        \n",
    "        point9= axes.c2p(0.5, f(0.5))\n",
    "        titik_9 = Dot((point9),color = PURE_RED).scale(0.5)\n",
    "        nama_titik_9 = MathTex('\\\\bold Q(0.5, 0.25)', color = WHITE).scale(0.25)\n",
    "        nama_titik_9.next_to(titik_9,RIGHT)\n",
    "        \n",
    "        point10= axes.c2p(0.9, f(0.9))\n",
    "        titik_10 = Dot((point10),color = PURE_RED).scale(0.5)\n",
    "        nama_titik_10 = MathTex('\\\\bold Q(0.9, 0.81)', color = WHITE).scale(0.25)\n",
    "        nama_titik_10.next_to(titik_10,RIGHT)\n",
    "        \n",
    "        point11= axes.c2p(0.99, f(0.99))\n",
    "        titik_11 = Dot((point11),color = PURE_RED).scale(0.5)\n",
    "        nama_titik_11 = MathTex('\\\\bold Q(0.99, 0.9801)', color = WHITE).scale(0.25)\n",
    "        nama_titik_11.next_to(titik_10,RIGHT)\n",
    "        \n",
    "        point12= axes.c2p(0.999, f(0.999))\n",
    "        titik_12 = Dot((point12),color = PURE_RED).scale(0.5)\n",
    "        nama_titik_12 = MathTex('\\\\bold Q(0.999, 0.998001)', color = WHITE).scale(0.25)\n",
    "        nama_titik_12.next_to(titik_10,RIGHT)\n",
    "        \n",
    "        \n",
    "        '''LANJUT'''\n",
    "        perhatikan.generate_target()\n",
    "        perhatikan.target.move_to(np.array([-10,2,0]))\n",
    "        table2.generate_target()\n",
    "        table2.target.move_to(np.array([-10,0,0]))\n",
    "\n",
    "        self.play(MoveToTarget(table2),MoveToTarget(perhatikan),\n",
    "                  self.camera.frame.animate.move_to(grup_grafik2).set(width = 12))\n",
    "        self.wait(1)\n",
    "        \n",
    "        g6 = Line(axes.coords_to_point(0,f(0)),axes.coords_to_point(1,f(1)),color = ORANGE).scale(3)\n",
    "        g6.set_stroke(width = 2.5)\n",
    "        \n",
    "        g7 = Line(axes.coords_to_point(0.5,f(0.5)),axes.coords_to_point(1,f(1)),color = ORANGE).scale(5)\n",
    "        g7.set_stroke(width = 2.5)\n",
    "        \n",
    "        g8 = Line(axes.coords_to_point(0.9,f(0.9)),axes.coords_to_point(1,f(1)),color = ORANGE).scale(23)\n",
    "        g8.set_stroke(width = 2.5)\n",
    "        \n",
    "        g9 = Line(axes.coords_to_point(0.99,f(0.99)),axes.coords_to_point(1,f(1)),color = ORANGE).scale(203)\n",
    "        g9.set_stroke(width = 2.5)\n",
    "        \n",
    "        g10 = Line(axes.coords_to_point(0.999,f(0.999)),axes.coords_to_point(1,f(1)),color = ORANGE).scale(2003)\n",
    "        g10.set_stroke(width = 2.5)\n",
    "        \n",
    "        grup_6 = VGroup(titik_8, nama_titik_8)\n",
    "        grup_7 = VGroup(titik_9, nama_titik_9)\n",
    "        grup_8 = VGroup(titik_10, nama_titik_10)\n",
    "        grup_9 = VGroup(titik_11, nama_titik_11)\n",
    "        grup_10 = VGroup(titik_12, nama_titik_12)\n",
    "        \n",
    "        self.play(Create(grup_6))\n",
    "        self.play(Create(g6))\n",
    "        self.wait(1)\n",
    "        self.play(ReplacementTransform(grup_6,grup_7),ReplacementTransform(g6,g7))\n",
    "        self.wait(1)\n",
    "        self.play(ReplacementTransform(grup_7,grup_8),ReplacementTransform(g7,g8))\n",
    "        self.wait(1)\n",
    "        self.play(ReplacementTransform(grup_8,grup_9),ReplacementTransform(g8,g9))\n",
    "        self.wait(1)\n",
    "        self.play(ReplacementTransform(grup_9,grup_10),ReplacementTransform(g9,g10))\n",
    "        self.wait(1)\n",
    "        self.play(FadeOut(grup_10, g10))\n",
    "        \n",
    "        \n",
    "        perhatikan.generate_target()\n",
    "        perhatikan.target.to_corner(np.array([-2.5,2,0]))\n",
    "        table2.generate_target()\n",
    "        table2.target.move_to(np.array([-3.5,-0.25,0]))\n",
    "        \n",
    "        self.play(MoveToTarget(table2),MoveToTarget(perhatikan),\n",
    "                  self.camera.frame.animate.move_to(ORIGIN).set(width=14))\n",
    "        \n",
    "        \n",
    "        '''PENUTUP'''\n",
    "        gradien = Text(\"Berdasarkan illustrasi sebelumnya, maka gradien garis singgung adalah\", font='Arial').scale(0.5)\n",
    "        gradien_2 = MathTex('\\lim_{Q \\\\rightarrow P} m_{PQ}=m').scale(0.7)\n",
    "        sehingga  = Text(\"Sehingga diperoleh\", font='Arial').scale(0.5)\n",
    "        gradien_3 = MathTex('\\lim_{x \\\\rightarrow 1} \\\\frac{x^2-1}{x-1}=2').scale(0.7)\n",
    "        gradien.move_to(np.array([0,2,0]))\n",
    "        gradien_2.move_to(np.array([0,1,0]))\n",
    "        sehingga.move_to(np.array([0,-1,0]))\n",
    "        gradien_3.move_to(np.array([0,-2,0]))\n",
    "        \n",
    "        grup_L = VGroup(table2, perhatikan, grup_grafik2, gs_1)\n",
    "        self.play(ReplacementTransform(grup_L, gradien))\n",
    "        self.wait(1)\n",
    "        self.play(Write(gradien_2))\n",
    "        self.play(Write(sehingga))\n",
    "        self.play(Write(gradien_3))\n",
    "        self.wait(1)\n",
    "        \n",
    "        grup_gradien = VGroup(gradien, gradien_2, gradien_3, sehingga)\n",
    "        \n",
    "        kes = Text(\"Dengan mengasumsikan bahwa dugaan kita benar, yakni m = 2,\",\n",
    "                   font='Arial',t2s={' m ':ITALIC}).scale(0.5)\n",
    "        kes2 = Text(\"maka persamaan garis singgung yang dicari adalah\", font='Arial').scale(0.5)\n",
    "        kes3 = MathTex('y-1=2(x-1) \\\\Longleftrightarrow y=2x-1').scale(0.7)\n",
    "        kes.move_to(np.array([0,1,0]))\n",
    "        kes2.move_to(np.array([0,0,0]))\n",
    "        kes3.move_to(np.array([0,-1,0]))\n",
    "        kotak = RoundedRectangle(height = 1, width = 6.25 )\n",
    "        kotak.move_to(np.array([0,-1,0]))\n",
    "        \n",
    "        self.play(FadeOut(grup_gradien, target_position = ORIGIN))\n",
    "        self.play(Write(kes))\n",
    "        self.play(Write(kes2))\n",
    "        self.play(Write(kes3),Create(kotak))\n",
    "        self.wait(2)\n",
    "        \n",
    "        grup_Z = VGroup(kes, kes2, kes3, kotak)\n",
    "        TK = Text(\"Terima Kasih\", font='Bebas Neue', color = WHITE)\n",
    "        self.play(ReplacementTransform(grup_Z,TK))\n",
    "        self.wait(1)\n",
    "        self.play(FadeOut(TK, shift = UP))\n",
    "        self.wait(1)"
   ]
  }
 ],
 "metadata": {
  "kernelspec": {
   "display_name": "Python 3 (ipykernel)",
   "language": "python",
   "name": "python3"
  },
  "language_info": {
   "codemirror_mode": {
    "name": "ipython",
    "version": 3
   },
   "file_extension": ".py",
   "mimetype": "text/x-python",
   "name": "python",
   "nbconvert_exporter": "python",
   "pygments_lexer": "ipython3",
   "version": "3.8.12"
  }
 },
 "nbformat": 4,
 "nbformat_minor": 5
}
