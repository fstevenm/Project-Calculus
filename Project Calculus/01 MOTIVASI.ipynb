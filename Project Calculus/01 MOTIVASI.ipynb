{
 "cells": [
  {
   "cell_type": "code",
   "execution_count": 1,
   "id": "dfefe352",
   "metadata": {},
   "outputs": [
    {
     "data": {
      "text/html": [
       "<pre style=\"white-space:pre;overflow-x:auto;line-height:normal;font-family:Menlo,'DejaVu Sans Mono',consolas,'Courier New',monospace\">Manim Community <span style=\"color: #008000; text-decoration-color: #008000\">v0.11.0</span>\n",
       "\n",
       "</pre>\n"
      ],
      "text/plain": [
       "Manim Community \u001b[32mv0.\u001b[0m\u001b[32m11.0\u001b[0m\n",
       "\n"
      ]
     },
     "metadata": {},
     "output_type": "display_data"
    }
   ],
   "source": [
    "from manim import *"
   ]
  },
  {
   "cell_type": "code",
   "execution_count": 4,
   "id": "f08e4068",
   "metadata": {},
   "outputs": [],
   "source": [
    "class motivasi_1(MovingCameraScene):\n",
    "    def construct(self):\n",
    "        axes = Axes(\n",
    "            x_range=[-10, 10],\n",
    "            y_range=[-2, 2],\n",
    "            axis_config={\"color\": BLUE},\n",
    "        ).add_coordinates()\n",
    "        \n",
    "        ''' TEKS '''\n",
    "        baris_kedua = Text('- Masalah Garis Singgung -',font = 'Bebas Neue').scale(2)\n",
    "        baris_ketiga = Text('Apa itu GARIS SINGGUNG?', font = 'Arial', t2w = {'GARIS SINGGUNG':BOLD}).scale(1)\n",
    "        baris_keempat = Text(\n",
    "            'Disini kita akan memahami pengertiannya',\n",
    "            font = 'Arial').scale(0.6)\n",
    "        baris_kelima = Text(\n",
    "            'dengan melihat beberapa kurva sederhana',\n",
    "            font = 'Arial').scale(0.6)\n",
    "        baris_keenam = Text('Perhatikan gambar lingkaran di bawah ini!',font = 'Arial',\n",
    "                           t2w = {'Perhatikan gambar lingkaran di bawah ini!':BOLD}).scale(0.7)\n",
    "        baris_ketujuh = Text('Misalkan terdapat sebuah titik pada lingkaran',font = 'Arial').scale(0.7)\n",
    "        baris_kedelapan = Text('Maka akan terdapat sebuah garis yang bersinggungan',\n",
    "                               font = 'Arial').scale(0.65)\n",
    "        baris_kedelapan_2 = Text('dengan lingkaran dan melewati titik tersebut',\n",
    "                               font = 'Arial').scale(0.65)\n",
    "        baris_kesembilan = Text('Garis singgung: garis yang memotong lingkaran di tepat satu titik (Euclid)',\n",
    "                                font = 'Arial',\n",
    "                                t2w = {'Garis singgung: garis yang memotong lingkaran di tepat satu titik (Euclid)':BOLD}).scale(0.5)\n",
    "        \n",
    "        ''' BANGUN '''\n",
    "        kosong = Text(\"\")\n",
    "        lingkaran = Circle().scale(1.7)\n",
    "        lingkaran.set_stroke(color = YELLOW)\n",
    "        garis_singgung1 = TangentLine(color = WHITE, vmob = lingkaran, alpha = 0.85, length = 6)\n",
    "        label_garis_singgung1 = MathTex('k').scale(0.8)\n",
    "        \n",
    "        \n",
    "        ''' LETAK '''\n",
    "        baris_kedua.set_color(YELLOW)\n",
    "        baris_kedua.set_stroke(color = WHITE, width = 2)\n",
    "        baris_ketiga[6:19].set_color(YELLOW)\n",
    "        baris_ketiga.move_to(UP*0.58)\n",
    "        baris_keempat.move_to(DOWN*0.45)\n",
    "        baris_kelima.next_to(baris_keempat,DOWN)\n",
    "        baris_keenam.move_to(UP*2.6)\n",
    "        baris_ketujuh.move_to(DOWN*2.6)\n",
    "        baris_kedelapan.move_to(UP*2.6)\n",
    "        baris_kesembilan.move_to(UP*2.5)\n",
    "        baris_kesembilan[0:13].set_color(YELLOW)\n",
    "        baris_kedelapan_2.next_to(baris_kedelapan,DOWN)\n",
    "        label_garis_singgung1.move_to(RIGHT*3.3)\n",
    "        \n",
    "        \n",
    "        titik_1 = Dot(axes.coords_to_point(1.6,-0.935)).scale(0.7)\n",
    "        grup_titik = VGroup(titik_1)\n",
    "        \n",
    "        #Displaying\n",
    "        self.camera.background_color = \"#1e3264\"\n",
    "        \n",
    "        self.play(Write(baris_kedua))\n",
    "        self.wait(1)\n",
    "        \n",
    "        self.play(ReplacementTransform(baris_kedua,baris_ketiga))\n",
    "        self.wait(1)\n",
    "        \n",
    "        self.play(Write(baris_keempat))\n",
    "        self.play(Write(baris_kelima))\n",
    "        self.wait(1)\n",
    "        \n",
    "        self.play(ReplacementTransform(baris_ketiga,kosong), FadeOut(baris_keempat, shift = UP),\n",
    "                  FadeOut(baris_kelima, shift = UP))\n",
    "        self.wait(0.5)\n",
    "        \n",
    "        self.play(FadeOut(kosong),Write(baris_keenam))\n",
    "        self.wait(0.5)\n",
    "        self.play(Create(lingkaran))\n",
    "        self.wait(2)\n",
    "        self.play(Write(baris_ketujuh))\n",
    "        self.wait(1)\n",
    "        self.play(Create(grup_titik))\n",
    "        self.wait(1)\n",
    "        \n",
    "        \n",
    "        grup_lingkaran = VGroup (titik_1, lingkaran)\n",
    "        grup_lingkaran.generate_target()\n",
    "        grup_lingkaran.target.move_to(np.array([0,-1,0]))\n",
    "        \n",
    "        self.play(MoveToTarget(grup_lingkaran),\n",
    "                  ReplacementTransform(baris_ketujuh,baris_kedelapan),\n",
    "                  Create(baris_kedelapan_2),\n",
    "                  FadeOut(baris_keenam, scale=0.5))\n",
    "        \n",
    "        \n",
    "        self.wait(1.5)\n",
    "        grup_lingkaran.target.move_to(np.array([0,0,0]))\n",
    "        \n",
    "        '''zoom kamera'''\n",
    "#         self.play(self.camera.frame.animate.move_to(lingkaran).set(width=12))\n",
    "        self.play(FadeOut(baris_kedelapan),FadeOut(baris_kedelapan_2),MoveToTarget(grup_lingkaran),\n",
    "                  self.camera.frame.animate.move_to(np.array([0,-0.55,0])).set(width=11.5))\n",
    "        self.wait(1)\n",
    "        \n",
    "        self.play(Create(garis_singgung1))\n",
    "        self.play(Create(label_garis_singgung1))\n",
    "        self.wait(1)\n",
    "        \n",
    "        '''balik ke asli'''\n",
    "        self.play(self.camera.frame.animate.move_to(ORIGIN).set(width=14))\n",
    "        self.play(Write(baris_kesembilan))\n",
    "        self.wait(2)\n",
    "        \n",
    "        self.play(FadeOut(lingkaran, target_position = ORIGIN),\n",
    "                  FadeOut(baris_kesembilan, target_position = ORIGIN),\n",
    "                  FadeOut(garis_singgung1, target_position = ORIGIN),\n",
    "                  FadeOut(label_garis_singgung1, target_position = ORIGIN),\n",
    "                  FadeOut(titik_1, target_position = ORIGIN))\n",
    "        self.wait(1.5)\n",
    "        "
   ]
  },
  {
   "cell_type": "code",
   "execution_count": 5,
   "id": "07b1ed7c",
   "metadata": {},
   "outputs": [
    {
     "data": {
      "text/html": [
       "<pre style=\"white-space:pre;overflow-x:auto;line-height:normal;font-family:Menlo,'DejaVu Sans Mono',consolas,'Courier New',monospace\"><span style=\"color: #7fbfbf; text-decoration-color: #7fbfbf\">[11/18/21 12:07:49] </span><span style=\"color: #008000; text-decoration-color: #008000\">INFO    </span> Animation <span style=\"color: #008000; text-decoration-color: #008000\">0</span> : Using cached data <span style=\"font-weight: bold\">(</span>hash :    <a href=\"file://C:\\Users\\Zirito\\anaconda3\\envs\\manim\\lib\\site-packages\\manim\\renderer\\cairo_renderer.py\"><span style=\"color: #7f7f7f; text-decoration-color: #7f7f7f\">cairo_renderer.py</span></a><span style=\"color: #7f7f7f; text-decoration-color: #7f7f7f\">:110</span>\n",
       "                             759734782_3876711346_2220227014<span style=\"font-weight: bold\">)</span>                                \n",
       "</pre>\n"
      ],
      "text/plain": [
       "\u001b[2;36m[11/18/21 12:07:49]\u001b[0m\u001b[2;36m \u001b[0m\u001b[32mINFO    \u001b[0m Animation \u001b[32m0\u001b[0m : Using cached data \u001b[1m(\u001b[0mhash :    \u001b]8;id=743423;file://C:\\Users\\Zirito\\anaconda3\\envs\\manim\\lib\\site-packages\\manim\\renderer\\cairo_renderer.py\u001b\\\u001b[2mcairo_renderer.py\u001b[0m\u001b]8;;\u001b\\\u001b[2m:110\u001b[0m\n",
       "                             759734782_3876711346_2220227014\u001b[1m)\u001b[0m                                \n"
      ]
     },
     "metadata": {},
     "output_type": "display_data"
    },
    {
     "name": "stderr",
     "output_type": "stream",
     "text": [
      "                                                                                                                       \r"
     ]
    },
    {
     "data": {
      "text/html": [
       "<pre style=\"white-space:pre;overflow-x:auto;line-height:normal;font-family:Menlo,'DejaVu Sans Mono',consolas,'Courier New',monospace\"><span style=\"color: #7fbfbf; text-decoration-color: #7fbfbf\">                    </span><span style=\"color: #008000; text-decoration-color: #008000\">INFO    </span> Animation <span style=\"color: #008000; text-decoration-color: #008000\">1</span> : Using cached data <span style=\"font-weight: bold\">(</span>hash :    <a href=\"file://C:\\Users\\Zirito\\anaconda3\\envs\\manim\\lib\\site-packages\\manim\\renderer\\cairo_renderer.py\"><span style=\"color: #7f7f7f; text-decoration-color: #7f7f7f\">cairo_renderer.py</span></a><span style=\"color: #7f7f7f; text-decoration-color: #7f7f7f\">:110</span>\n",
       "                             3930506391_910656892_2349754450<span style=\"font-weight: bold\">)</span>                                \n",
       "</pre>\n"
      ],
      "text/plain": [
       "\u001b[2;36m                   \u001b[0m\u001b[2;36m \u001b[0m\u001b[32mINFO    \u001b[0m Animation \u001b[32m1\u001b[0m : Using cached data \u001b[1m(\u001b[0mhash :    \u001b]8;id=957140;file://C:\\Users\\Zirito\\anaconda3\\envs\\manim\\lib\\site-packages\\manim\\renderer\\cairo_renderer.py\u001b\\\u001b[2mcairo_renderer.py\u001b[0m\u001b]8;;\u001b\\\u001b[2m:110\u001b[0m\n",
       "                             3930506391_910656892_2349754450\u001b[1m)\u001b[0m                                \n"
      ]
     },
     "metadata": {},
     "output_type": "display_data"
    },
    {
     "data": {
      "text/html": [
       "<pre style=\"white-space:pre;overflow-x:auto;line-height:normal;font-family:Menlo,'DejaVu Sans Mono',consolas,'Courier New',monospace\"><span style=\"color: #7fbfbf; text-decoration-color: #7fbfbf\">[11/18/21 12:07:50] </span><span style=\"color: #008000; text-decoration-color: #008000\">INFO    </span> Animation <span style=\"color: #008000; text-decoration-color: #008000\">2</span> : Using cached data <span style=\"font-weight: bold\">(</span>hash :    <a href=\"file://C:\\Users\\Zirito\\anaconda3\\envs\\manim\\lib\\site-packages\\manim\\renderer\\cairo_renderer.py\"><span style=\"color: #7f7f7f; text-decoration-color: #7f7f7f\">cairo_renderer.py</span></a><span style=\"color: #7f7f7f; text-decoration-color: #7f7f7f\">:110</span>\n",
       "                             3930506391_497769131_4110554859<span style=\"font-weight: bold\">)</span>                                \n",
       "</pre>\n"
      ],
      "text/plain": [
       "\u001b[2;36m[11/18/21 12:07:50]\u001b[0m\u001b[2;36m \u001b[0m\u001b[32mINFO    \u001b[0m Animation \u001b[32m2\u001b[0m : Using cached data \u001b[1m(\u001b[0mhash :    \u001b]8;id=586577;file://C:\\Users\\Zirito\\anaconda3\\envs\\manim\\lib\\site-packages\\manim\\renderer\\cairo_renderer.py\u001b\\\u001b[2mcairo_renderer.py\u001b[0m\u001b]8;;\u001b\\\u001b[2m:110\u001b[0m\n",
       "                             3930506391_497769131_4110554859\u001b[1m)\u001b[0m                                \n"
      ]
     },
     "metadata": {},
     "output_type": "display_data"
    },
    {
     "name": "stderr",
     "output_type": "stream",
     "text": [
      "                                                                                                                       \r"
     ]
    },
    {
     "data": {
      "text/html": [
       "<pre style=\"white-space:pre;overflow-x:auto;line-height:normal;font-family:Menlo,'DejaVu Sans Mono',consolas,'Courier New',monospace\"><span style=\"color: #7fbfbf; text-decoration-color: #7fbfbf\">[11/18/21 12:07:51] </span><span style=\"color: #008000; text-decoration-color: #008000\">INFO    </span> Animation <span style=\"color: #008000; text-decoration-color: #008000\">3</span> : Using cached data <span style=\"font-weight: bold\">(</span>hash :    <a href=\"file://C:\\Users\\Zirito\\anaconda3\\envs\\manim\\lib\\site-packages\\manim\\renderer\\cairo_renderer.py\"><span style=\"color: #7f7f7f; text-decoration-color: #7f7f7f\">cairo_renderer.py</span></a><span style=\"color: #7f7f7f; text-decoration-color: #7f7f7f\">:110</span>\n",
       "                             3930506391_2839631542_1528126674<span style=\"font-weight: bold\">)</span>                               \n",
       "</pre>\n"
      ],
      "text/plain": [
       "\u001b[2;36m[11/18/21 12:07:51]\u001b[0m\u001b[2;36m \u001b[0m\u001b[32mINFO    \u001b[0m Animation \u001b[32m3\u001b[0m : Using cached data \u001b[1m(\u001b[0mhash :    \u001b]8;id=591395;file://C:\\Users\\Zirito\\anaconda3\\envs\\manim\\lib\\site-packages\\manim\\renderer\\cairo_renderer.py\u001b\\\u001b[2mcairo_renderer.py\u001b[0m\u001b]8;;\u001b\\\u001b[2m:110\u001b[0m\n",
       "                             3930506391_2839631542_1528126674\u001b[1m)\u001b[0m                               \n"
      ]
     },
     "metadata": {},
     "output_type": "display_data"
    },
    {
     "name": "stderr",
     "output_type": "stream",
     "text": [
      "                                                                                                                       \r"
     ]
    },
    {
     "data": {
      "text/html": [
       "<pre style=\"white-space:pre;overflow-x:auto;line-height:normal;font-family:Menlo,'DejaVu Sans Mono',consolas,'Courier New',monospace\"><span style=\"color: #7fbfbf; text-decoration-color: #7fbfbf\">[11/18/21 12:07:55] </span><span style=\"color: #008000; text-decoration-color: #008000\">INFO    </span> Animation <span style=\"color: #008000; text-decoration-color: #008000\">4</span> : Partial movie file        <a href=\"file://C:\\Users\\Zirito\\anaconda3\\envs\\manim\\lib\\site-packages\\manim\\scene\\scene_file_writer.py\"><span style=\"color: #7f7f7f; text-decoration-color: #7f7f7f\">scene_file_writer.py</span></a><span style=\"color: #7f7f7f; text-decoration-color: #7f7f7f\">:442</span>\n",
       "                             written in                                                      \n",
       "                             <span style=\"color: #008000; text-decoration-color: #008000\">'C:\\Users\\Zirito\\manim\\PROJEK </span>                                  \n",
       "                             <span style=\"color: #008000; text-decoration-color: #008000\">KALKULUS\\MOTIVASI FIX\\media\\videos\\moti</span>                         \n",
       "                             <span style=\"color: #008000; text-decoration-color: #008000\">vasi_1\\480p15\\partial_movie_files\\motiv</span>                         \n",
       "                             <span style=\"color: #008000; text-decoration-color: #008000\">asi_1\\3930506391_3900618276_1508863299.</span>                         \n",
       "                             <span style=\"color: #008000; text-decoration-color: #008000\">mp4'</span>                                                            \n",
       "</pre>\n"
      ],
      "text/plain": [
       "\u001b[2;36m[11/18/21 12:07:55]\u001b[0m\u001b[2;36m \u001b[0m\u001b[32mINFO    \u001b[0m Animation \u001b[32m4\u001b[0m : Partial movie file        \u001b]8;id=111798;file://C:\\Users\\Zirito\\anaconda3\\envs\\manim\\lib\\site-packages\\manim\\scene\\scene_file_writer.py\u001b\\\u001b[2mscene_file_writer.py\u001b[0m\u001b]8;;\u001b\\\u001b[2m:442\u001b[0m\n",
       "                             written in                                                      \n",
       "                             \u001b[32m'C:\\Users\\Zirito\\manim\\PROJEK \u001b[0m                                  \n",
       "                             \u001b[32mKALKULUS\\MOTIVASI FIX\\media\\videos\\moti\u001b[0m                         \n",
       "                             \u001b[32mvasi_1\\480p15\\partial_movie_files\\motiv\u001b[0m                         \n",
       "                             \u001b[32masi_1\\3930506391_3900618276_1508863299.\u001b[0m                         \n",
       "                             \u001b[32mmp4'\u001b[0m                                                            \n"
      ]
     },
     "metadata": {},
     "output_type": "display_data"
    },
    {
     "name": "stderr",
     "output_type": "stream",
     "text": [
      "                                                                                                                       \r"
     ]
    },
    {
     "data": {
      "text/html": [
       "<pre style=\"white-space:pre;overflow-x:auto;line-height:normal;font-family:Menlo,'DejaVu Sans Mono',consolas,'Courier New',monospace\"><span style=\"color: #7fbfbf; text-decoration-color: #7fbfbf\">[11/18/21 12:07:59] </span><span style=\"color: #008000; text-decoration-color: #008000\">INFO    </span> Animation <span style=\"color: #008000; text-decoration-color: #008000\">5</span> : Partial movie file        <a href=\"file://C:\\Users\\Zirito\\anaconda3\\envs\\manim\\lib\\site-packages\\manim\\scene\\scene_file_writer.py\"><span style=\"color: #7f7f7f; text-decoration-color: #7f7f7f\">scene_file_writer.py</span></a><span style=\"color: #7f7f7f; text-decoration-color: #7f7f7f\">:442</span>\n",
       "                             written in                                                      \n",
       "                             <span style=\"color: #008000; text-decoration-color: #008000\">'C:\\Users\\Zirito\\manim\\PROJEK </span>                                  \n",
       "                             <span style=\"color: #008000; text-decoration-color: #008000\">KALKULUS\\MOTIVASI FIX\\media\\videos\\moti</span>                         \n",
       "                             <span style=\"color: #008000; text-decoration-color: #008000\">vasi_1\\480p15\\partial_movie_files\\motiv</span>                         \n",
       "                             <span style=\"color: #008000; text-decoration-color: #008000\">asi_1\\3930506391_206651017_3801048930.m</span>                         \n",
       "                             <span style=\"color: #008000; text-decoration-color: #008000\">p4'</span>                                                             \n",
       "</pre>\n"
      ],
      "text/plain": [
       "\u001b[2;36m[11/18/21 12:07:59]\u001b[0m\u001b[2;36m \u001b[0m\u001b[32mINFO    \u001b[0m Animation \u001b[32m5\u001b[0m : Partial movie file        \u001b]8;id=429885;file://C:\\Users\\Zirito\\anaconda3\\envs\\manim\\lib\\site-packages\\manim\\scene\\scene_file_writer.py\u001b\\\u001b[2mscene_file_writer.py\u001b[0m\u001b]8;;\u001b\\\u001b[2m:442\u001b[0m\n",
       "                             written in                                                      \n",
       "                             \u001b[32m'C:\\Users\\Zirito\\manim\\PROJEK \u001b[0m                                  \n",
       "                             \u001b[32mKALKULUS\\MOTIVASI FIX\\media\\videos\\moti\u001b[0m                         \n",
       "                             \u001b[32mvasi_1\\480p15\\partial_movie_files\\motiv\u001b[0m                         \n",
       "                             \u001b[32masi_1\\3930506391_206651017_3801048930.m\u001b[0m                         \n",
       "                             \u001b[32mp4'\u001b[0m                                                             \n"
      ]
     },
     "metadata": {},
     "output_type": "display_data"
    },
    {
     "data": {
      "text/html": [
       "<pre style=\"white-space:pre;overflow-x:auto;line-height:normal;font-family:Menlo,'DejaVu Sans Mono',consolas,'Courier New',monospace\"><span style=\"color: #7fbfbf; text-decoration-color: #7fbfbf\">[11/18/21 12:08:00] </span><span style=\"color: #008000; text-decoration-color: #008000\">INFO    </span> Animation <span style=\"color: #008000; text-decoration-color: #008000\">6</span> : Partial movie file        <a href=\"file://C:\\Users\\Zirito\\anaconda3\\envs\\manim\\lib\\site-packages\\manim\\scene\\scene_file_writer.py\"><span style=\"color: #7f7f7f; text-decoration-color: #7f7f7f\">scene_file_writer.py</span></a><span style=\"color: #7f7f7f; text-decoration-color: #7f7f7f\">:442</span>\n",
       "                             written in                                                      \n",
       "                             <span style=\"color: #008000; text-decoration-color: #008000\">'C:\\Users\\Zirito\\manim\\PROJEK </span>                                  \n",
       "                             <span style=\"color: #008000; text-decoration-color: #008000\">KALKULUS\\MOTIVASI FIX\\media\\videos\\moti</span>                         \n",
       "                             <span style=\"color: #008000; text-decoration-color: #008000\">vasi_1\\480p15\\partial_movie_files\\motiv</span>                         \n",
       "                             <span style=\"color: #008000; text-decoration-color: #008000\">asi_1\\3930506391_2839631542_1515694575.</span>                         \n",
       "                             <span style=\"color: #008000; text-decoration-color: #008000\">mp4'</span>                                                            \n",
       "</pre>\n"
      ],
      "text/plain": [
       "\u001b[2;36m[11/18/21 12:08:00]\u001b[0m\u001b[2;36m \u001b[0m\u001b[32mINFO    \u001b[0m Animation \u001b[32m6\u001b[0m : Partial movie file        \u001b]8;id=202661;file://C:\\Users\\Zirito\\anaconda3\\envs\\manim\\lib\\site-packages\\manim\\scene\\scene_file_writer.py\u001b\\\u001b[2mscene_file_writer.py\u001b[0m\u001b]8;;\u001b\\\u001b[2m:442\u001b[0m\n",
       "                             written in                                                      \n",
       "                             \u001b[32m'C:\\Users\\Zirito\\manim\\PROJEK \u001b[0m                                  \n",
       "                             \u001b[32mKALKULUS\\MOTIVASI FIX\\media\\videos\\moti\u001b[0m                         \n",
       "                             \u001b[32mvasi_1\\480p15\\partial_movie_files\\motiv\u001b[0m                         \n",
       "                             \u001b[32masi_1\\3930506391_2839631542_1515694575.\u001b[0m                         \n",
       "                             \u001b[32mmp4'\u001b[0m                                                            \n"
      ]
     },
     "metadata": {},
     "output_type": "display_data"
    },
    {
     "name": "stderr",
     "output_type": "stream",
     "text": [
      "                                                                                                                       \r"
     ]
    },
    {
     "data": {
      "text/html": [
       "<pre style=\"white-space:pre;overflow-x:auto;line-height:normal;font-family:Menlo,'DejaVu Sans Mono',consolas,'Courier New',monospace\"><span style=\"color: #7fbfbf; text-decoration-color: #7fbfbf\">[11/18/21 12:08:05] </span><span style=\"color: #008000; text-decoration-color: #008000\">INFO    </span> Animation <span style=\"color: #008000; text-decoration-color: #008000\">7</span> : Partial movie file        <a href=\"file://C:\\Users\\Zirito\\anaconda3\\envs\\manim\\lib\\site-packages\\manim\\scene\\scene_file_writer.py\"><span style=\"color: #7f7f7f; text-decoration-color: #7f7f7f\">scene_file_writer.py</span></a><span style=\"color: #7f7f7f; text-decoration-color: #7f7f7f\">:442</span>\n",
       "                             written in                                                      \n",
       "                             <span style=\"color: #008000; text-decoration-color: #008000\">'C:\\Users\\Zirito\\manim\\PROJEK </span>                                  \n",
       "                             <span style=\"color: #008000; text-decoration-color: #008000\">KALKULUS\\MOTIVASI FIX\\media\\videos\\moti</span>                         \n",
       "                             <span style=\"color: #008000; text-decoration-color: #008000\">vasi_1\\480p15\\partial_movie_files\\motiv</span>                         \n",
       "                             <span style=\"color: #008000; text-decoration-color: #008000\">asi_1\\3930506391_218331772_3639736938.m</span>                         \n",
       "                             <span style=\"color: #008000; text-decoration-color: #008000\">p4'</span>                                                             \n",
       "</pre>\n"
      ],
      "text/plain": [
       "\u001b[2;36m[11/18/21 12:08:05]\u001b[0m\u001b[2;36m \u001b[0m\u001b[32mINFO    \u001b[0m Animation \u001b[32m7\u001b[0m : Partial movie file        \u001b]8;id=897305;file://C:\\Users\\Zirito\\anaconda3\\envs\\manim\\lib\\site-packages\\manim\\scene\\scene_file_writer.py\u001b\\\u001b[2mscene_file_writer.py\u001b[0m\u001b]8;;\u001b\\\u001b[2m:442\u001b[0m\n",
       "                             written in                                                      \n",
       "                             \u001b[32m'C:\\Users\\Zirito\\manim\\PROJEK \u001b[0m                                  \n",
       "                             \u001b[32mKALKULUS\\MOTIVASI FIX\\media\\videos\\moti\u001b[0m                         \n",
       "                             \u001b[32mvasi_1\\480p15\\partial_movie_files\\motiv\u001b[0m                         \n",
       "                             \u001b[32masi_1\\3930506391_218331772_3639736938.m\u001b[0m                         \n",
       "                             \u001b[32mp4'\u001b[0m                                                             \n"
      ]
     },
     "metadata": {},
     "output_type": "display_data"
    },
    {
     "data": {
      "text/html": [
       "<pre style=\"white-space:pre;overflow-x:auto;line-height:normal;font-family:Menlo,'DejaVu Sans Mono',consolas,'Courier New',monospace\"><span style=\"color: #7fbfbf; text-decoration-color: #7fbfbf\">                    </span><span style=\"color: #008000; text-decoration-color: #008000\">INFO    </span> Animation <span style=\"color: #008000; text-decoration-color: #008000\">8</span> : Using cached data <span style=\"font-weight: bold\">(</span>hash :    <a href=\"file://C:\\Users\\Zirito\\anaconda3\\envs\\manim\\lib\\site-packages\\manim\\renderer\\cairo_renderer.py\"><span style=\"color: #7f7f7f; text-decoration-color: #7f7f7f\">cairo_renderer.py</span></a><span style=\"color: #7f7f7f; text-decoration-color: #7f7f7f\">:110</span>\n",
       "                             3930506391_3233087817_1286966015<span style=\"font-weight: bold\">)</span>                               \n",
       "</pre>\n"
      ],
      "text/plain": [
       "\u001b[2;36m                   \u001b[0m\u001b[2;36m \u001b[0m\u001b[32mINFO    \u001b[0m Animation \u001b[32m8\u001b[0m : Using cached data \u001b[1m(\u001b[0mhash :    \u001b]8;id=434822;file://C:\\Users\\Zirito\\anaconda3\\envs\\manim\\lib\\site-packages\\manim\\renderer\\cairo_renderer.py\u001b\\\u001b[2mcairo_renderer.py\u001b[0m\u001b]8;;\u001b\\\u001b[2m:110\u001b[0m\n",
       "                             3930506391_3233087817_1286966015\u001b[1m)\u001b[0m                               \n"
      ]
     },
     "metadata": {},
     "output_type": "display_data"
    },
    {
     "data": {
      "text/html": [
       "<pre style=\"white-space:pre;overflow-x:auto;line-height:normal;font-family:Menlo,'DejaVu Sans Mono',consolas,'Courier New',monospace\"><span style=\"color: #7fbfbf; text-decoration-color: #7fbfbf\">[11/18/21 12:08:06] </span><span style=\"color: #008000; text-decoration-color: #008000\">INFO    </span> Animation <span style=\"color: #008000; text-decoration-color: #008000\">9</span> : Using cached data <span style=\"font-weight: bold\">(</span>hash :    <a href=\"file://C:\\Users\\Zirito\\anaconda3\\envs\\manim\\lib\\site-packages\\manim\\renderer\\cairo_renderer.py\"><span style=\"color: #7f7f7f; text-decoration-color: #7f7f7f\">cairo_renderer.py</span></a><span style=\"color: #7f7f7f; text-decoration-color: #7f7f7f\">:110</span>\n",
       "                             3930506391_76972438_934757680<span style=\"font-weight: bold\">)</span>                                  \n",
       "</pre>\n"
      ],
      "text/plain": [
       "\u001b[2;36m[11/18/21 12:08:06]\u001b[0m\u001b[2;36m \u001b[0m\u001b[32mINFO    \u001b[0m Animation \u001b[32m9\u001b[0m : Using cached data \u001b[1m(\u001b[0mhash :    \u001b]8;id=817336;file://C:\\Users\\Zirito\\anaconda3\\envs\\manim\\lib\\site-packages\\manim\\renderer\\cairo_renderer.py\u001b\\\u001b[2mcairo_renderer.py\u001b[0m\u001b]8;;\u001b\\\u001b[2m:110\u001b[0m\n",
       "                             3930506391_76972438_934757680\u001b[1m)\u001b[0m                                  \n"
      ]
     },
     "metadata": {},
     "output_type": "display_data"
    },
    {
     "name": "stderr",
     "output_type": "stream",
     "text": [
      "                                                                                                                       \r"
     ]
    },
    {
     "data": {
      "text/html": [
       "<pre style=\"white-space:pre;overflow-x:auto;line-height:normal;font-family:Menlo,'DejaVu Sans Mono',consolas,'Courier New',monospace\"><span style=\"color: #7fbfbf; text-decoration-color: #7fbfbf\">                    </span><span style=\"color: #008000; text-decoration-color: #008000\">INFO    </span> Animation <span style=\"color: #008000; text-decoration-color: #008000\">10</span> : Using cached data <span style=\"font-weight: bold\">(</span>hash :   <a href=\"file://C:\\Users\\Zirito\\anaconda3\\envs\\manim\\lib\\site-packages\\manim\\renderer\\cairo_renderer.py\"><span style=\"color: #7f7f7f; text-decoration-color: #7f7f7f\">cairo_renderer.py</span></a><span style=\"color: #7f7f7f; text-decoration-color: #7f7f7f\">:110</span>\n",
       "                             3930506391_3233087817_1851673342<span style=\"font-weight: bold\">)</span>                               \n",
       "</pre>\n"
      ],
      "text/plain": [
       "\u001b[2;36m                   \u001b[0m\u001b[2;36m \u001b[0m\u001b[32mINFO    \u001b[0m Animation \u001b[32m10\u001b[0m : Using cached data \u001b[1m(\u001b[0mhash :   \u001b]8;id=39667;file://C:\\Users\\Zirito\\anaconda3\\envs\\manim\\lib\\site-packages\\manim\\renderer\\cairo_renderer.py\u001b\\\u001b[2mcairo_renderer.py\u001b[0m\u001b]8;;\u001b\\\u001b[2m:110\u001b[0m\n",
       "                             3930506391_3233087817_1851673342\u001b[1m)\u001b[0m                               \n"
      ]
     },
     "metadata": {},
     "output_type": "display_data"
    },
    {
     "data": {
      "text/html": [
       "<pre style=\"white-space:pre;overflow-x:auto;line-height:normal;font-family:Menlo,'DejaVu Sans Mono',consolas,'Courier New',monospace\"><span style=\"color: #7fbfbf; text-decoration-color: #7fbfbf\">[11/18/21 12:08:07] </span><span style=\"color: #008000; text-decoration-color: #008000\">INFO    </span> Animation <span style=\"color: #008000; text-decoration-color: #008000\">11</span> : Using cached data <span style=\"font-weight: bold\">(</span>hash :   <a href=\"file://C:\\Users\\Zirito\\anaconda3\\envs\\manim\\lib\\site-packages\\manim\\renderer\\cairo_renderer.py\"><span style=\"color: #7f7f7f; text-decoration-color: #7f7f7f\">cairo_renderer.py</span></a><span style=\"color: #7f7f7f; text-decoration-color: #7f7f7f\">:110</span>\n",
       "                             3930506391_1474079266_2826533310<span style=\"font-weight: bold\">)</span>                               \n",
       "</pre>\n"
      ],
      "text/plain": [
       "\u001b[2;36m[11/18/21 12:08:07]\u001b[0m\u001b[2;36m \u001b[0m\u001b[32mINFO    \u001b[0m Animation \u001b[32m11\u001b[0m : Using cached data \u001b[1m(\u001b[0mhash :   \u001b]8;id=249916;file://C:\\Users\\Zirito\\anaconda3\\envs\\manim\\lib\\site-packages\\manim\\renderer\\cairo_renderer.py\u001b\\\u001b[2mcairo_renderer.py\u001b[0m\u001b]8;;\u001b\\\u001b[2m:110\u001b[0m\n",
       "                             3930506391_1474079266_2826533310\u001b[1m)\u001b[0m                               \n"
      ]
     },
     "metadata": {},
     "output_type": "display_data"
    },
    {
     "name": "stderr",
     "output_type": "stream",
     "text": [
      "                                                                                                                       \r"
     ]
    },
    {
     "data": {
      "text/html": [
       "<pre style=\"white-space:pre;overflow-x:auto;line-height:normal;font-family:Menlo,'DejaVu Sans Mono',consolas,'Courier New',monospace\"><span style=\"color: #7fbfbf; text-decoration-color: #7fbfbf\">                    </span><span style=\"color: #008000; text-decoration-color: #008000\">INFO    </span> Animation <span style=\"color: #008000; text-decoration-color: #008000\">12</span> : Using cached data <span style=\"font-weight: bold\">(</span>hash :   <a href=\"file://C:\\Users\\Zirito\\anaconda3\\envs\\manim\\lib\\site-packages\\manim\\renderer\\cairo_renderer.py\"><span style=\"color: #7f7f7f; text-decoration-color: #7f7f7f\">cairo_renderer.py</span></a><span style=\"color: #7f7f7f; text-decoration-color: #7f7f7f\">:110</span>\n",
       "                             3930506391_2559461702_1722980384<span style=\"font-weight: bold\">)</span>                               \n",
       "</pre>\n"
      ],
      "text/plain": [
       "\u001b[2;36m                   \u001b[0m\u001b[2;36m \u001b[0m\u001b[32mINFO    \u001b[0m Animation \u001b[32m12\u001b[0m : Using cached data \u001b[1m(\u001b[0mhash :   \u001b]8;id=303651;file://C:\\Users\\Zirito\\anaconda3\\envs\\manim\\lib\\site-packages\\manim\\renderer\\cairo_renderer.py\u001b\\\u001b[2mcairo_renderer.py\u001b[0m\u001b]8;;\u001b\\\u001b[2m:110\u001b[0m\n",
       "                             3930506391_2559461702_1722980384\u001b[1m)\u001b[0m                               \n"
      ]
     },
     "metadata": {},
     "output_type": "display_data"
    },
    {
     "data": {
      "text/html": [
       "<pre style=\"white-space:pre;overflow-x:auto;line-height:normal;font-family:Menlo,'DejaVu Sans Mono',consolas,'Courier New',monospace\"><span style=\"color: #7fbfbf; text-decoration-color: #7fbfbf\">[11/18/21 12:08:08] </span><span style=\"color: #008000; text-decoration-color: #008000\">INFO    </span> Animation <span style=\"color: #008000; text-decoration-color: #008000\">13</span> : Using cached data <span style=\"font-weight: bold\">(</span>hash :   <a href=\"file://C:\\Users\\Zirito\\anaconda3\\envs\\manim\\lib\\site-packages\\manim\\renderer\\cairo_renderer.py\"><span style=\"color: #7f7f7f; text-decoration-color: #7f7f7f\">cairo_renderer.py</span></a><span style=\"color: #7f7f7f; text-decoration-color: #7f7f7f\">:110</span>\n",
       "                             3930506391_3759830271_1887719503<span style=\"font-weight: bold\">)</span>                               \n",
       "</pre>\n"
      ],
      "text/plain": [
       "\u001b[2;36m[11/18/21 12:08:08]\u001b[0m\u001b[2;36m \u001b[0m\u001b[32mINFO    \u001b[0m Animation \u001b[32m13\u001b[0m : Using cached data \u001b[1m(\u001b[0mhash :   \u001b]8;id=846800;file://C:\\Users\\Zirito\\anaconda3\\envs\\manim\\lib\\site-packages\\manim\\renderer\\cairo_renderer.py\u001b\\\u001b[2mcairo_renderer.py\u001b[0m\u001b]8;;\u001b\\\u001b[2m:110\u001b[0m\n",
       "                             3930506391_3759830271_1887719503\u001b[1m)\u001b[0m                               \n"
      ]
     },
     "metadata": {},
     "output_type": "display_data"
    },
    {
     "name": "stderr",
     "output_type": "stream",
     "text": [
      "                                                                                                                       \r"
     ]
    },
    {
     "data": {
      "text/html": [
       "<pre style=\"white-space:pre;overflow-x:auto;line-height:normal;font-family:Menlo,'DejaVu Sans Mono',consolas,'Courier New',monospace\"><span style=\"color: #7fbfbf; text-decoration-color: #7fbfbf\">[11/18/21 12:08:10] </span><span style=\"color: #008000; text-decoration-color: #008000\">INFO    </span> Animation <span style=\"color: #008000; text-decoration-color: #008000\">14</span> : Partial movie file       <a href=\"file://C:\\Users\\Zirito\\anaconda3\\envs\\manim\\lib\\site-packages\\manim\\scene\\scene_file_writer.py\"><span style=\"color: #7f7f7f; text-decoration-color: #7f7f7f\">scene_file_writer.py</span></a><span style=\"color: #7f7f7f; text-decoration-color: #7f7f7f\">:442</span>\n",
       "                             written in                                                      \n",
       "                             <span style=\"color: #008000; text-decoration-color: #008000\">'C:\\Users\\Zirito\\manim\\PROJEK </span>                                  \n",
       "                             <span style=\"color: #008000; text-decoration-color: #008000\">KALKULUS\\MOTIVASI FIX\\media\\videos\\moti</span>                         \n",
       "                             <span style=\"color: #008000; text-decoration-color: #008000\">vasi_1\\480p15\\partial_movie_files\\motiv</span>                         \n",
       "                             <span style=\"color: #008000; text-decoration-color: #008000\">asi_1\\3930506391_910656892_1408838795.m</span>                         \n",
       "                             <span style=\"color: #008000; text-decoration-color: #008000\">p4'</span>                                                             \n",
       "</pre>\n"
      ],
      "text/plain": [
       "\u001b[2;36m[11/18/21 12:08:10]\u001b[0m\u001b[2;36m \u001b[0m\u001b[32mINFO    \u001b[0m Animation \u001b[32m14\u001b[0m : Partial movie file       \u001b]8;id=489561;file://C:\\Users\\Zirito\\anaconda3\\envs\\manim\\lib\\site-packages\\manim\\scene\\scene_file_writer.py\u001b\\\u001b[2mscene_file_writer.py\u001b[0m\u001b]8;;\u001b\\\u001b[2m:442\u001b[0m\n",
       "                             written in                                                      \n",
       "                             \u001b[32m'C:\\Users\\Zirito\\manim\\PROJEK \u001b[0m                                  \n",
       "                             \u001b[32mKALKULUS\\MOTIVASI FIX\\media\\videos\\moti\u001b[0m                         \n",
       "                             \u001b[32mvasi_1\\480p15\\partial_movie_files\\motiv\u001b[0m                         \n",
       "                             \u001b[32masi_1\\3930506391_910656892_1408838795.m\u001b[0m                         \n",
       "                             \u001b[32mp4'\u001b[0m                                                             \n"
      ]
     },
     "metadata": {},
     "output_type": "display_data"
    },
    {
     "data": {
      "text/html": [
       "<pre style=\"white-space:pre;overflow-x:auto;line-height:normal;font-family:Menlo,'DejaVu Sans Mono',consolas,'Courier New',monospace\"><span style=\"color: #7fbfbf; text-decoration-color: #7fbfbf\">[11/18/21 12:08:11] </span><span style=\"color: #008000; text-decoration-color: #008000\">INFO    </span> Animation <span style=\"color: #008000; text-decoration-color: #008000\">15</span> : Using cached data <span style=\"font-weight: bold\">(</span>hash :   <a href=\"file://C:\\Users\\Zirito\\anaconda3\\envs\\manim\\lib\\site-packages\\manim\\renderer\\cairo_renderer.py\"><span style=\"color: #7f7f7f; text-decoration-color: #7f7f7f\">cairo_renderer.py</span></a><span style=\"color: #7f7f7f; text-decoration-color: #7f7f7f\">:110</span>\n",
       "                             3930506391_246106489_1692615454<span style=\"font-weight: bold\">)</span>                                \n",
       "</pre>\n"
      ],
      "text/plain": [
       "\u001b[2;36m[11/18/21 12:08:11]\u001b[0m\u001b[2;36m \u001b[0m\u001b[32mINFO    \u001b[0m Animation \u001b[32m15\u001b[0m : Using cached data \u001b[1m(\u001b[0mhash :   \u001b]8;id=119776;file://C:\\Users\\Zirito\\anaconda3\\envs\\manim\\lib\\site-packages\\manim\\renderer\\cairo_renderer.py\u001b\\\u001b[2mcairo_renderer.py\u001b[0m\u001b]8;;\u001b\\\u001b[2m:110\u001b[0m\n",
       "                             3930506391_246106489_1692615454\u001b[1m)\u001b[0m                                \n"
      ]
     },
     "metadata": {},
     "output_type": "display_data"
    },
    {
     "name": "stderr",
     "output_type": "stream",
     "text": [
      "                                                                                                                       \r"
     ]
    },
    {
     "data": {
      "text/html": [
       "<pre style=\"white-space:pre;overflow-x:auto;line-height:normal;font-family:Menlo,'DejaVu Sans Mono',consolas,'Courier New',monospace\"><span style=\"color: #7fbfbf; text-decoration-color: #7fbfbf\">[11/18/21 12:08:12] </span><span style=\"color: #008000; text-decoration-color: #008000\">INFO    </span> Animation <span style=\"color: #008000; text-decoration-color: #008000\">16</span> : Using cached data <span style=\"font-weight: bold\">(</span>hash :   <a href=\"file://C:\\Users\\Zirito\\anaconda3\\envs\\manim\\lib\\site-packages\\manim\\renderer\\cairo_renderer.py\"><span style=\"color: #7f7f7f; text-decoration-color: #7f7f7f\">cairo_renderer.py</span></a><span style=\"color: #7f7f7f; text-decoration-color: #7f7f7f\">:110</span>\n",
       "                             3930506391_2839631542_1628657558<span style=\"font-weight: bold\">)</span>                               \n",
       "</pre>\n"
      ],
      "text/plain": [
       "\u001b[2;36m[11/18/21 12:08:12]\u001b[0m\u001b[2;36m \u001b[0m\u001b[32mINFO    \u001b[0m Animation \u001b[32m16\u001b[0m : Using cached data \u001b[1m(\u001b[0mhash :   \u001b]8;id=932266;file://C:\\Users\\Zirito\\anaconda3\\envs\\manim\\lib\\site-packages\\manim\\renderer\\cairo_renderer.py\u001b\\\u001b[2mcairo_renderer.py\u001b[0m\u001b]8;;\u001b\\\u001b[2m:110\u001b[0m\n",
       "                             3930506391_2839631542_1628657558\u001b[1m)\u001b[0m                               \n"
      ]
     },
     "metadata": {},
     "output_type": "display_data"
    },
    {
     "data": {
      "text/html": [
       "<pre style=\"white-space:pre;overflow-x:auto;line-height:normal;font-family:Menlo,'DejaVu Sans Mono',consolas,'Courier New',monospace\"><span style=\"color: #7fbfbf; text-decoration-color: #7fbfbf\">[11/18/21 12:08:14] </span><span style=\"color: #008000; text-decoration-color: #008000\">INFO    </span> Animation <span style=\"color: #008000; text-decoration-color: #008000\">17</span> : Using cached data <span style=\"font-weight: bold\">(</span>hash :   <a href=\"file://C:\\Users\\Zirito\\anaconda3\\envs\\manim\\lib\\site-packages\\manim\\renderer\\cairo_renderer.py\"><span style=\"color: #7f7f7f; text-decoration-color: #7f7f7f\">cairo_renderer.py</span></a><span style=\"color: #7f7f7f; text-decoration-color: #7f7f7f\">:110</span>\n",
       "                             3930506391_518066019_3253737092<span style=\"font-weight: bold\">)</span>                                \n",
       "</pre>\n"
      ],
      "text/plain": [
       "\u001b[2;36m[11/18/21 12:08:14]\u001b[0m\u001b[2;36m \u001b[0m\u001b[32mINFO    \u001b[0m Animation \u001b[32m17\u001b[0m : Using cached data \u001b[1m(\u001b[0mhash :   \u001b]8;id=164150;file://C:\\Users\\Zirito\\anaconda3\\envs\\manim\\lib\\site-packages\\manim\\renderer\\cairo_renderer.py\u001b\\\u001b[2mcairo_renderer.py\u001b[0m\u001b]8;;\u001b\\\u001b[2m:110\u001b[0m\n",
       "                             3930506391_518066019_3253737092\u001b[1m)\u001b[0m                                \n"
      ]
     },
     "metadata": {},
     "output_type": "display_data"
    },
    {
     "name": "stderr",
     "output_type": "stream",
     "text": [
      "                                                                                                                       \r"
     ]
    },
    {
     "data": {
      "text/html": [
       "<pre style=\"white-space:pre;overflow-x:auto;line-height:normal;font-family:Menlo,'DejaVu Sans Mono',consolas,'Courier New',monospace\"><span style=\"color: #7fbfbf; text-decoration-color: #7fbfbf\">[11/18/21 12:08:17] </span><span style=\"color: #008000; text-decoration-color: #008000\">INFO    </span> Animation <span style=\"color: #008000; text-decoration-color: #008000\">18</span> : Using cached data <span style=\"font-weight: bold\">(</span>hash :   <a href=\"file://C:\\Users\\Zirito\\anaconda3\\envs\\manim\\lib\\site-packages\\manim\\renderer\\cairo_renderer.py\"><span style=\"color: #7f7f7f; text-decoration-color: #7f7f7f\">cairo_renderer.py</span></a><span style=\"color: #7f7f7f; text-decoration-color: #7f7f7f\">:110</span>\n",
       "                             3930506391_2821878798_2130247730<span style=\"font-weight: bold\">)</span>                               \n",
       "</pre>\n"
      ],
      "text/plain": [
       "\u001b[2;36m[11/18/21 12:08:17]\u001b[0m\u001b[2;36m \u001b[0m\u001b[32mINFO    \u001b[0m Animation \u001b[32m18\u001b[0m : Using cached data \u001b[1m(\u001b[0mhash :   \u001b]8;id=286915;file://C:\\Users\\Zirito\\anaconda3\\envs\\manim\\lib\\site-packages\\manim\\renderer\\cairo_renderer.py\u001b\\\u001b[2mcairo_renderer.py\u001b[0m\u001b]8;;\u001b\\\u001b[2m:110\u001b[0m\n",
       "                             3930506391_2821878798_2130247730\u001b[1m)\u001b[0m                               \n"
      ]
     },
     "metadata": {},
     "output_type": "display_data"
    },
    {
     "data": {
      "text/html": [
       "<pre style=\"white-space:pre;overflow-x:auto;line-height:normal;font-family:Menlo,'DejaVu Sans Mono',consolas,'Courier New',monospace\"><span style=\"color: #7fbfbf; text-decoration-color: #7fbfbf\">[11/18/21 12:08:18] </span><span style=\"color: #008000; text-decoration-color: #008000\">INFO    </span> Animation <span style=\"color: #008000; text-decoration-color: #008000\">19</span> : Using cached data <span style=\"font-weight: bold\">(</span>hash :   <a href=\"file://C:\\Users\\Zirito\\anaconda3\\envs\\manim\\lib\\site-packages\\manim\\renderer\\cairo_renderer.py\"><span style=\"color: #7f7f7f; text-decoration-color: #7f7f7f\">cairo_renderer.py</span></a><span style=\"color: #7f7f7f; text-decoration-color: #7f7f7f\">:110</span>\n",
       "                             1232813034_1164971935_2971382703<span style=\"font-weight: bold\">)</span>                               \n",
       "</pre>\n"
      ],
      "text/plain": [
       "\u001b[2;36m[11/18/21 12:08:18]\u001b[0m\u001b[2;36m \u001b[0m\u001b[32mINFO    \u001b[0m Animation \u001b[32m19\u001b[0m : Using cached data \u001b[1m(\u001b[0mhash :   \u001b]8;id=297570;file://C:\\Users\\Zirito\\anaconda3\\envs\\manim\\lib\\site-packages\\manim\\renderer\\cairo_renderer.py\u001b\\\u001b[2mcairo_renderer.py\u001b[0m\u001b]8;;\u001b\\\u001b[2m:110\u001b[0m\n",
       "                             1232813034_1164971935_2971382703\u001b[1m)\u001b[0m                               \n"
      ]
     },
     "metadata": {},
     "output_type": "display_data"
    },
    {
     "name": "stderr",
     "output_type": "stream",
     "text": [
      "                                                                                                                       \r"
     ]
    },
    {
     "data": {
      "text/html": [
       "<pre style=\"white-space:pre;overflow-x:auto;line-height:normal;font-family:Menlo,'DejaVu Sans Mono',consolas,'Courier New',monospace\"><span style=\"color: #7fbfbf; text-decoration-color: #7fbfbf\">[11/18/21 12:08:19] </span><span style=\"color: #008000; text-decoration-color: #008000\">INFO    </span> Animation <span style=\"color: #008000; text-decoration-color: #008000\">20</span> : Partial movie file       <a href=\"file://C:\\Users\\Zirito\\anaconda3\\envs\\manim\\lib\\site-packages\\manim\\scene\\scene_file_writer.py\"><span style=\"color: #7f7f7f; text-decoration-color: #7f7f7f\">scene_file_writer.py</span></a><span style=\"color: #7f7f7f; text-decoration-color: #7f7f7f\">:442</span>\n",
       "                             written in                                                      \n",
       "                             <span style=\"color: #008000; text-decoration-color: #008000\">'C:\\Users\\Zirito\\manim\\PROJEK </span>                                  \n",
       "                             <span style=\"color: #008000; text-decoration-color: #008000\">KALKULUS\\MOTIVASI FIX\\media\\videos\\moti</span>                         \n",
       "                             <span style=\"color: #008000; text-decoration-color: #008000\">vasi_1\\480p15\\partial_movie_files\\motiv</span>                         \n",
       "                             <span style=\"color: #008000; text-decoration-color: #008000\">asi_1\\2670316912_910656892_1029244095.m</span>                         \n",
       "                             <span style=\"color: #008000; text-decoration-color: #008000\">p4'</span>                                                             \n",
       "</pre>\n"
      ],
      "text/plain": [
       "\u001b[2;36m[11/18/21 12:08:19]\u001b[0m\u001b[2;36m \u001b[0m\u001b[32mINFO    \u001b[0m Animation \u001b[32m20\u001b[0m : Partial movie file       \u001b]8;id=764278;file://C:\\Users\\Zirito\\anaconda3\\envs\\manim\\lib\\site-packages\\manim\\scene\\scene_file_writer.py\u001b\\\u001b[2mscene_file_writer.py\u001b[0m\u001b]8;;\u001b\\\u001b[2m:442\u001b[0m\n",
       "                             written in                                                      \n",
       "                             \u001b[32m'C:\\Users\\Zirito\\manim\\PROJEK \u001b[0m                                  \n",
       "                             \u001b[32mKALKULUS\\MOTIVASI FIX\\media\\videos\\moti\u001b[0m                         \n",
       "                             \u001b[32mvasi_1\\480p15\\partial_movie_files\\motiv\u001b[0m                         \n",
       "                             \u001b[32masi_1\\2670316912_910656892_1029244095.m\u001b[0m                         \n",
       "                             \u001b[32mp4'\u001b[0m                                                             \n"
      ]
     },
     "metadata": {},
     "output_type": "display_data"
    },
    {
     "data": {
      "text/html": [
       "<pre style=\"white-space:pre;overflow-x:auto;line-height:normal;font-family:Menlo,'DejaVu Sans Mono',consolas,'Courier New',monospace\"><span style=\"color: #7fbfbf; text-decoration-color: #7fbfbf\">                    </span><span style=\"color: #008000; text-decoration-color: #008000\">INFO    </span> Animation <span style=\"color: #008000; text-decoration-color: #008000\">21</span> : Using cached data <span style=\"font-weight: bold\">(</span>hash :   <a href=\"file://C:\\Users\\Zirito\\anaconda3\\envs\\manim\\lib\\site-packages\\manim\\renderer\\cairo_renderer.py\"><span style=\"color: #7f7f7f; text-decoration-color: #7f7f7f\">cairo_renderer.py</span></a><span style=\"color: #7f7f7f; text-decoration-color: #7f7f7f\">:110</span>\n",
       "                             2670316912_801167750_2398827832<span style=\"font-weight: bold\">)</span>                                \n",
       "</pre>\n"
      ],
      "text/plain": [
       "\u001b[2;36m                   \u001b[0m\u001b[2;36m \u001b[0m\u001b[32mINFO    \u001b[0m Animation \u001b[32m21\u001b[0m : Using cached data \u001b[1m(\u001b[0mhash :   \u001b]8;id=275449;file://C:\\Users\\Zirito\\anaconda3\\envs\\manim\\lib\\site-packages\\manim\\renderer\\cairo_renderer.py\u001b\\\u001b[2mcairo_renderer.py\u001b[0m\u001b]8;;\u001b\\\u001b[2m:110\u001b[0m\n",
       "                             2670316912_801167750_2398827832\u001b[1m)\u001b[0m                                \n"
      ]
     },
     "metadata": {},
     "output_type": "display_data"
    },
    {
     "name": "stderr",
     "output_type": "stream",
     "text": [
      "                                                                                                                       \r"
     ]
    },
    {
     "data": {
      "text/html": [
       "<pre style=\"white-space:pre;overflow-x:auto;line-height:normal;font-family:Menlo,'DejaVu Sans Mono',consolas,'Courier New',monospace\"><span style=\"color: #7fbfbf; text-decoration-color: #7fbfbf\">[11/18/21 12:08:20] </span><span style=\"color: #008000; text-decoration-color: #008000\">INFO    </span> Animation <span style=\"color: #008000; text-decoration-color: #008000\">22</span> : Partial movie file       <a href=\"file://C:\\Users\\Zirito\\anaconda3\\envs\\manim\\lib\\site-packages\\manim\\scene\\scene_file_writer.py\"><span style=\"color: #7f7f7f; text-decoration-color: #7f7f7f\">scene_file_writer.py</span></a><span style=\"color: #7f7f7f; text-decoration-color: #7f7f7f\">:442</span>\n",
       "                             written in                                                      \n",
       "                             <span style=\"color: #008000; text-decoration-color: #008000\">'C:\\Users\\Zirito\\manim\\PROJEK </span>                                  \n",
       "                             <span style=\"color: #008000; text-decoration-color: #008000\">KALKULUS\\MOTIVASI FIX\\media\\videos\\moti</span>                         \n",
       "                             <span style=\"color: #008000; text-decoration-color: #008000\">vasi_1\\480p15\\partial_movie_files\\motiv</span>                         \n",
       "                             <span style=\"color: #008000; text-decoration-color: #008000\">asi_1\\2670316912_817999182_1164310433.m</span>                         \n",
       "                             <span style=\"color: #008000; text-decoration-color: #008000\">p4'</span>                                                             \n",
       "</pre>\n"
      ],
      "text/plain": [
       "\u001b[2;36m[11/18/21 12:08:20]\u001b[0m\u001b[2;36m \u001b[0m\u001b[32mINFO    \u001b[0m Animation \u001b[32m22\u001b[0m : Partial movie file       \u001b]8;id=443867;file://C:\\Users\\Zirito\\anaconda3\\envs\\manim\\lib\\site-packages\\manim\\scene\\scene_file_writer.py\u001b\\\u001b[2mscene_file_writer.py\u001b[0m\u001b]8;;\u001b\\\u001b[2m:442\u001b[0m\n",
       "                             written in                                                      \n",
       "                             \u001b[32m'C:\\Users\\Zirito\\manim\\PROJEK \u001b[0m                                  \n",
       "                             \u001b[32mKALKULUS\\MOTIVASI FIX\\media\\videos\\moti\u001b[0m                         \n",
       "                             \u001b[32mvasi_1\\480p15\\partial_movie_files\\motiv\u001b[0m                         \n",
       "                             \u001b[32masi_1\\2670316912_817999182_1164310433.m\u001b[0m                         \n",
       "                             \u001b[32mp4'\u001b[0m                                                             \n"
      ]
     },
     "metadata": {},
     "output_type": "display_data"
    },
    {
     "data": {
      "text/html": [
       "<pre style=\"white-space:pre;overflow-x:auto;line-height:normal;font-family:Menlo,'DejaVu Sans Mono',consolas,'Courier New',monospace\"><span style=\"color: #7fbfbf; text-decoration-color: #7fbfbf\">                    </span><span style=\"color: #008000; text-decoration-color: #008000\">INFO    </span> Animation <span style=\"color: #008000; text-decoration-color: #008000\">23</span> : Using cached data <span style=\"font-weight: bold\">(</span>hash :   <a href=\"file://C:\\Users\\Zirito\\anaconda3\\envs\\manim\\lib\\site-packages\\manim\\renderer\\cairo_renderer.py\"><span style=\"color: #7f7f7f; text-decoration-color: #7f7f7f\">cairo_renderer.py</span></a><span style=\"color: #7f7f7f; text-decoration-color: #7f7f7f\">:110</span>\n",
       "                             2670316912_2839631542_2797185518<span style=\"font-weight: bold\">)</span>                               \n",
       "</pre>\n"
      ],
      "text/plain": [
       "\u001b[2;36m                   \u001b[0m\u001b[2;36m \u001b[0m\u001b[32mINFO    \u001b[0m Animation \u001b[32m23\u001b[0m : Using cached data \u001b[1m(\u001b[0mhash :   \u001b]8;id=3362;file://C:\\Users\\Zirito\\anaconda3\\envs\\manim\\lib\\site-packages\\manim\\renderer\\cairo_renderer.py\u001b\\\u001b[2mcairo_renderer.py\u001b[0m\u001b]8;;\u001b\\\u001b[2m:110\u001b[0m\n",
       "                             2670316912_2839631542_2797185518\u001b[1m)\u001b[0m                               \n"
      ]
     },
     "metadata": {},
     "output_type": "display_data"
    },
    {
     "data": {
      "text/html": [
       "<pre style=\"white-space:pre;overflow-x:auto;line-height:normal;font-family:Menlo,'DejaVu Sans Mono',consolas,'Courier New',monospace\"><span style=\"color: #7fbfbf; text-decoration-color: #7fbfbf\">                    </span><span style=\"color: #008000; text-decoration-color: #008000\">INFO    </span> Animation <span style=\"color: #008000; text-decoration-color: #008000\">24</span> : Using cached data <span style=\"font-weight: bold\">(</span>hash :   <a href=\"file://C:\\Users\\Zirito\\anaconda3\\envs\\manim\\lib\\site-packages\\manim\\renderer\\cairo_renderer.py\"><span style=\"color: #7f7f7f; text-decoration-color: #7f7f7f\">cairo_renderer.py</span></a><span style=\"color: #7f7f7f; text-decoration-color: #7f7f7f\">:110</span>\n",
       "                             1969211791_1933207978_1133578421<span style=\"font-weight: bold\">)</span>                               \n",
       "</pre>\n"
      ],
      "text/plain": [
       "\u001b[2;36m                   \u001b[0m\u001b[2;36m \u001b[0m\u001b[32mINFO    \u001b[0m Animation \u001b[32m24\u001b[0m : Using cached data \u001b[1m(\u001b[0mhash :   \u001b]8;id=510629;file://C:\\Users\\Zirito\\anaconda3\\envs\\manim\\lib\\site-packages\\manim\\renderer\\cairo_renderer.py\u001b\\\u001b[2mcairo_renderer.py\u001b[0m\u001b]8;;\u001b\\\u001b[2m:110\u001b[0m\n",
       "                             1969211791_1933207978_1133578421\u001b[1m)\u001b[0m                               \n"
      ]
     },
     "metadata": {},
     "output_type": "display_data"
    },
    {
     "name": "stderr",
     "output_type": "stream",
     "text": [
      "                                                                                                                       \r"
     ]
    },
    {
     "data": {
      "text/html": [
       "<pre style=\"white-space:pre;overflow-x:auto;line-height:normal;font-family:Menlo,'DejaVu Sans Mono',consolas,'Courier New',monospace\"><span style=\"color: #7fbfbf; text-decoration-color: #7fbfbf\">[11/18/21 12:08:22] </span><span style=\"color: #008000; text-decoration-color: #008000\">INFO    </span> Animation <span style=\"color: #008000; text-decoration-color: #008000\">25</span> : Using cached data <span style=\"font-weight: bold\">(</span>hash :   <a href=\"file://C:\\Users\\Zirito\\anaconda3\\envs\\manim\\lib\\site-packages\\manim\\renderer\\cairo_renderer.py\"><span style=\"color: #7f7f7f; text-decoration-color: #7f7f7f\">cairo_renderer.py</span></a><span style=\"color: #7f7f7f; text-decoration-color: #7f7f7f\">:110</span>\n",
       "                             2867803087_1711572613_1173400903<span style=\"font-weight: bold\">)</span>                               \n",
       "</pre>\n"
      ],
      "text/plain": [
       "\u001b[2;36m[11/18/21 12:08:22]\u001b[0m\u001b[2;36m \u001b[0m\u001b[32mINFO    \u001b[0m Animation \u001b[32m25\u001b[0m : Using cached data \u001b[1m(\u001b[0mhash :   \u001b]8;id=239892;file://C:\\Users\\Zirito\\anaconda3\\envs\\manim\\lib\\site-packages\\manim\\renderer\\cairo_renderer.py\u001b\\\u001b[2mcairo_renderer.py\u001b[0m\u001b]8;;\u001b\\\u001b[2m:110\u001b[0m\n",
       "                             2867803087_1711572613_1173400903\u001b[1m)\u001b[0m                               \n"
      ]
     },
     "metadata": {},
     "output_type": "display_data"
    },
    {
     "name": "stderr",
     "output_type": "stream",
     "text": [
      "                                                                                                                       \r"
     ]
    },
    {
     "data": {
      "text/html": [
       "<pre style=\"white-space:pre;overflow-x:auto;line-height:normal;font-family:Menlo,'DejaVu Sans Mono',consolas,'Courier New',monospace\"><span style=\"color: #7fbfbf; text-decoration-color: #7fbfbf\">[11/18/21 12:08:25] </span><span style=\"color: #008000; text-decoration-color: #008000\">INFO    </span> Animation <span style=\"color: #008000; text-decoration-color: #008000\">26</span> : Partial movie file       <a href=\"file://C:\\Users\\Zirito\\anaconda3\\envs\\manim\\lib\\site-packages\\manim\\scene\\scene_file_writer.py\"><span style=\"color: #7f7f7f; text-decoration-color: #7f7f7f\">scene_file_writer.py</span></a><span style=\"color: #7f7f7f; text-decoration-color: #7f7f7f\">:442</span>\n",
       "                             written in                                                      \n",
       "                             <span style=\"color: #008000; text-decoration-color: #008000\">'C:\\Users\\Zirito\\manim\\PROJEK </span>                                  \n",
       "                             <span style=\"color: #008000; text-decoration-color: #008000\">KALKULUS\\MOTIVASI FIX\\media\\videos\\moti</span>                         \n",
       "                             <span style=\"color: #008000; text-decoration-color: #008000\">vasi_1\\480p15\\partial_movie_files\\motiv</span>                         \n",
       "                             <span style=\"color: #008000; text-decoration-color: #008000\">asi_1\\2867803087_3965333167_893172302.m</span>                         \n",
       "                             <span style=\"color: #008000; text-decoration-color: #008000\">p4'</span>                                                             \n",
       "</pre>\n"
      ],
      "text/plain": [
       "\u001b[2;36m[11/18/21 12:08:25]\u001b[0m\u001b[2;36m \u001b[0m\u001b[32mINFO    \u001b[0m Animation \u001b[32m26\u001b[0m : Partial movie file       \u001b]8;id=974130;file://C:\\Users\\Zirito\\anaconda3\\envs\\manim\\lib\\site-packages\\manim\\scene\\scene_file_writer.py\u001b\\\u001b[2mscene_file_writer.py\u001b[0m\u001b]8;;\u001b\\\u001b[2m:442\u001b[0m\n",
       "                             written in                                                      \n",
       "                             \u001b[32m'C:\\Users\\Zirito\\manim\\PROJEK \u001b[0m                                  \n",
       "                             \u001b[32mKALKULUS\\MOTIVASI FIX\\media\\videos\\moti\u001b[0m                         \n",
       "                             \u001b[32mvasi_1\\480p15\\partial_movie_files\\motiv\u001b[0m                         \n",
       "                             \u001b[32masi_1\\2867803087_3965333167_893172302.m\u001b[0m                         \n",
       "                             \u001b[32mp4'\u001b[0m                                                             \n"
      ]
     },
     "metadata": {},
     "output_type": "display_data"
    },
    {
     "data": {
      "text/html": [
       "<pre style=\"white-space:pre;overflow-x:auto;line-height:normal;font-family:Menlo,'DejaVu Sans Mono',consolas,'Courier New',monospace\"><span style=\"color: #7fbfbf; text-decoration-color: #7fbfbf\">                    </span><span style=\"color: #008000; text-decoration-color: #008000\">INFO    </span> Animation <span style=\"color: #008000; text-decoration-color: #008000\">27</span> : Using cached data <span style=\"font-weight: bold\">(</span>hash :   <a href=\"file://C:\\Users\\Zirito\\anaconda3\\envs\\manim\\lib\\site-packages\\manim\\renderer\\cairo_renderer.py\"><span style=\"color: #7f7f7f; text-decoration-color: #7f7f7f\">cairo_renderer.py</span></a><span style=\"color: #7f7f7f; text-decoration-color: #7f7f7f\">:110</span>\n",
       "                             2867803087_453742143_3879580878<span style=\"font-weight: bold\">)</span>                                \n",
       "</pre>\n"
      ],
      "text/plain": [
       "\u001b[2;36m                   \u001b[0m\u001b[2;36m \u001b[0m\u001b[32mINFO    \u001b[0m Animation \u001b[32m27\u001b[0m : Using cached data \u001b[1m(\u001b[0mhash :   \u001b]8;id=126295;file://C:\\Users\\Zirito\\anaconda3\\envs\\manim\\lib\\site-packages\\manim\\renderer\\cairo_renderer.py\u001b\\\u001b[2mcairo_renderer.py\u001b[0m\u001b]8;;\u001b\\\u001b[2m:110\u001b[0m\n",
       "                             2867803087_453742143_3879580878\u001b[1m)\u001b[0m                                \n"
      ]
     },
     "metadata": {},
     "output_type": "display_data"
    },
    {
     "name": "stderr",
     "output_type": "stream",
     "text": [
      "                                                                                                                       \r"
     ]
    },
    {
     "data": {
      "text/html": [
       "<pre style=\"white-space:pre;overflow-x:auto;line-height:normal;font-family:Menlo,'DejaVu Sans Mono',consolas,'Courier New',monospace\"><span style=\"color: #7fbfbf; text-decoration-color: #7fbfbf\">[11/18/21 12:08:26] </span><span style=\"color: #008000; text-decoration-color: #008000\">INFO    </span> Animation <span style=\"color: #008000; text-decoration-color: #008000\">28</span> : Using cached data <span style=\"font-weight: bold\">(</span>hash :   <a href=\"file://C:\\Users\\Zirito\\anaconda3\\envs\\manim\\lib\\site-packages\\manim\\renderer\\cairo_renderer.py\"><span style=\"color: #7f7f7f; text-decoration-color: #7f7f7f\">cairo_renderer.py</span></a><span style=\"color: #7f7f7f; text-decoration-color: #7f7f7f\">:110</span>\n",
       "                             2867803087_1748489580_218231470<span style=\"font-weight: bold\">)</span>                                \n",
       "</pre>\n"
      ],
      "text/plain": [
       "\u001b[2;36m[11/18/21 12:08:26]\u001b[0m\u001b[2;36m \u001b[0m\u001b[32mINFO    \u001b[0m Animation \u001b[32m28\u001b[0m : Using cached data \u001b[1m(\u001b[0mhash :   \u001b]8;id=479825;file://C:\\Users\\Zirito\\anaconda3\\envs\\manim\\lib\\site-packages\\manim\\renderer\\cairo_renderer.py\u001b\\\u001b[2mcairo_renderer.py\u001b[0m\u001b]8;;\u001b\\\u001b[2m:110\u001b[0m\n",
       "                             2867803087_1748489580_218231470\u001b[1m)\u001b[0m                                \n"
      ]
     },
     "metadata": {},
     "output_type": "display_data"
    },
    {
     "data": {
      "text/html": [
       "<pre style=\"white-space:pre;overflow-x:auto;line-height:normal;font-family:Menlo,'DejaVu Sans Mono',consolas,'Courier New',monospace\"><span style=\"color: #7fbfbf; text-decoration-color: #7fbfbf\">[11/18/21 12:08:27] </span><span style=\"color: #008000; text-decoration-color: #008000\">INFO    </span>                                         <a href=\"file://C:\\Users\\Zirito\\anaconda3\\envs\\manim\\lib\\site-packages\\manim\\scene\\scene_file_writer.py\"><span style=\"color: #7f7f7f; text-decoration-color: #7f7f7f\">scene_file_writer.py</span></a><span style=\"color: #7f7f7f; text-decoration-color: #7f7f7f\">:627</span>\n",
       "                             <span style=\"color: #808000; text-decoration-color: #808000; font-weight: bold\">File</span> ready at                                                   \n",
       "                             <span style=\"color: #008000; text-decoration-color: #008000\">'C:\\Users\\Zirito\\manim\\PROJEK </span>                                  \n",
       "                             <span style=\"color: #008000; text-decoration-color: #008000\">KALKULUS\\MOTIVASI FIX\\media\\videos\\moti</span>                         \n",
       "                             <span style=\"color: #008000; text-decoration-color: #008000\">vasi_1\\480p15\\motivasi_1.mp4'</span>                                   \n",
       "                                                                                             \n",
       "</pre>\n"
      ],
      "text/plain": [
       "\u001b[2;36m[11/18/21 12:08:27]\u001b[0m\u001b[2;36m \u001b[0m\u001b[32mINFO    \u001b[0m                                         \u001b]8;id=742499;file://C:\\Users\\Zirito\\anaconda3\\envs\\manim\\lib\\site-packages\\manim\\scene\\scene_file_writer.py\u001b\\\u001b[2mscene_file_writer.py\u001b[0m\u001b]8;;\u001b\\\u001b[2m:627\u001b[0m\n",
       "                             \u001b[1;33mFile\u001b[0m ready at                                                   \n",
       "                             \u001b[32m'C:\\Users\\Zirito\\manim\\PROJEK \u001b[0m                                  \n",
       "                             \u001b[32mKALKULUS\\MOTIVASI FIX\\media\\videos\\moti\u001b[0m                         \n",
       "                             \u001b[32mvasi_1\\480p15\\motivasi_1.mp4'\u001b[0m                                   \n",
       "                                                                                             \n"
      ]
     },
     "metadata": {},
     "output_type": "display_data"
    },
    {
     "data": {
      "text/html": [
       "<pre style=\"white-space:pre;overflow-x:auto;line-height:normal;font-family:Menlo,'DejaVu Sans Mono',consolas,'Courier New',monospace\"><span style=\"color: #7fbfbf; text-decoration-color: #7fbfbf\">                    </span><span style=\"color: #008000; text-decoration-color: #008000\">INFO    </span> The partial movie directory is full <span style=\"font-weight: bold\">(</span>&gt;  <a href=\"file://C:\\Users\\Zirito\\anaconda3\\envs\\manim\\lib\\site-packages\\manim\\scene\\scene_file_writer.py\"><span style=\"color: #7f7f7f; text-decoration-color: #7f7f7f\">scene_file_writer.py</span></a><span style=\"color: #7f7f7f; text-decoration-color: #7f7f7f\">:605</span>\n",
       "                             <span style=\"color: #008000; text-decoration-color: #008000\">100</span> files<span style=\"font-weight: bold\">)</span>. Therefore, manim has                                \n",
       "                             removed the <span style=\"color: #008000; text-decoration-color: #008000\">8</span> oldest <span style=\"color: #800080; text-decoration-color: #800080; font-weight: bold\">file</span><span style=\"font-weight: bold\">(</span>s<span style=\"font-weight: bold\">)</span>. You can                           \n",
       "                             change this behaviour by changing                               \n",
       "                             max_files_cached in config.                                     \n",
       "</pre>\n"
      ],
      "text/plain": [
       "\u001b[2;36m                   \u001b[0m\u001b[2;36m \u001b[0m\u001b[32mINFO    \u001b[0m The partial movie directory is full \u001b[1m(\u001b[0m>  \u001b]8;id=382100;file://C:\\Users\\Zirito\\anaconda3\\envs\\manim\\lib\\site-packages\\manim\\scene\\scene_file_writer.py\u001b\\\u001b[2mscene_file_writer.py\u001b[0m\u001b]8;;\u001b\\\u001b[2m:605\u001b[0m\n",
       "                             \u001b[32m100\u001b[0m files\u001b[1m)\u001b[0m. Therefore, manim has                                \n",
       "                             removed the \u001b[32m8\u001b[0m oldest \u001b[1;35mfile\u001b[0m\u001b[1m(\u001b[0ms\u001b[1m)\u001b[0m. You can                           \n",
       "                             change this behaviour by changing                               \n",
       "                             max_files_cached in config.                                     \n"
      ]
     },
     "metadata": {},
     "output_type": "display_data"
    },
    {
     "data": {
      "text/html": [
       "<pre style=\"white-space:pre;overflow-x:auto;line-height:normal;font-family:Menlo,'DejaVu Sans Mono',consolas,'Courier New',monospace\"><span style=\"color: #7fbfbf; text-decoration-color: #7fbfbf\">                    </span><span style=\"color: #008000; text-decoration-color: #008000\">INFO    </span> <span style=\"color: #808000; text-decoration-color: #808000; font-weight: bold\">Rendered</span> motivasi_1                                 <a href=\"file://C:\\Users\\Zirito\\anaconda3\\envs\\manim\\lib\\site-packages\\manim\\scene\\scene.py\"><span style=\"color: #7f7f7f; text-decoration-color: #7f7f7f\">scene.py</span></a><span style=\"color: #7f7f7f; text-decoration-color: #7f7f7f\">:231</span>\n",
       "                             <span style=\"color: #808000; text-decoration-color: #808000; font-weight: bold\">Played</span> <span style=\"color: #008000; text-decoration-color: #008000\">29</span> <span style=\"color: #808000; text-decoration-color: #808000; font-weight: bold\">animations</span>                                            \n",
       "</pre>\n"
      ],
      "text/plain": [
       "\u001b[2;36m                   \u001b[0m\u001b[2;36m \u001b[0m\u001b[32mINFO    \u001b[0m \u001b[1;33mRendered\u001b[0m motivasi_1                                 \u001b]8;id=511128;file://C:\\Users\\Zirito\\anaconda3\\envs\\manim\\lib\\site-packages\\manim\\scene\\scene.py\u001b\\\u001b[2mscene.py\u001b[0m\u001b]8;;\u001b\\\u001b[2m:231\u001b[0m\n",
       "                             \u001b[1;33mPlayed\u001b[0m \u001b[32m29\u001b[0m \u001b[1;33manimations\u001b[0m                                            \n"
      ]
     },
     "metadata": {},
     "output_type": "display_data"
    },
    {
     "data": {
      "text/html": [
       "<pre style=\"white-space:pre;overflow-x:auto;line-height:normal;font-family:Menlo,'DejaVu Sans Mono',consolas,'Courier New',monospace\"><span style=\"color: #7fbfbf; text-decoration-color: #7fbfbf\">                    </span><span style=\"color: #008000; text-decoration-color: #008000\">INFO    </span> Previewed <span style=\"color: #808000; text-decoration-color: #808000; font-weight: bold\">File</span> at: <span style=\"color: #008000; text-decoration-color: #008000\">'C:\\Users\\Zirito\\manim\\PROJEK</span> <a href=\"file://C:\\Users\\Zirito\\anaconda3\\envs\\manim\\lib\\site-packages\\manim\\utils\\file_ops.py\"><span style=\"color: #7f7f7f; text-decoration-color: #7f7f7f\">file_ops.py</span></a><span style=\"color: #7f7f7f; text-decoration-color: #7f7f7f\">:193</span>\n",
       "                             <span style=\"color: #008000; text-decoration-color: #008000\">KALKULUS\\MOTIVASI FIX\\media\\videos\\motivasi_1\\48</span>                \n",
       "                             <span style=\"color: #008000; text-decoration-color: #008000\">0p15\\motivasi_1.mp4'</span>                                            \n",
       "</pre>\n"
      ],
      "text/plain": [
       "\u001b[2;36m                   \u001b[0m\u001b[2;36m \u001b[0m\u001b[32mINFO    \u001b[0m Previewed \u001b[1;33mFile\u001b[0m at: \u001b[32m'C:\\Users\\Zirito\\manim\\PROJEK\u001b[0m \u001b]8;id=955392;file://C:\\Users\\Zirito\\anaconda3\\envs\\manim\\lib\\site-packages\\manim\\utils\\file_ops.py\u001b\\\u001b[2mfile_ops.py\u001b[0m\u001b]8;;\u001b\\\u001b[2m:193\u001b[0m\n",
       "                             \u001b[32mKALKULUS\\MOTIVASI FIX\\media\\videos\\motivasi_1\\48\u001b[0m                \n",
       "                             \u001b[32m0p15\\motivasi_1.mp4'\u001b[0m                                            \n"
      ]
     },
     "metadata": {},
     "output_type": "display_data"
    },
    {
     "data": {
      "text/html": [
       "<video src=\"media\\jupyter\\motivasi_1@2021-11-18@12-08-27.mp4\" controls autoplay loop style=\"max-width: 25vw;\"  >\n",
       "      Your browser does not support the <code>video</code> element.\n",
       "    </video>"
      ],
      "text/plain": [
       "<IPython.core.display.Video object>"
      ]
     },
     "metadata": {},
     "output_type": "display_data"
    }
   ],
   "source": [
    "manim motivasi_1.py motivasi_1 -p -ql"
   ]
  },
  {
   "cell_type": "code",
   "execution_count": null,
   "id": "e567bc29",
   "metadata": {},
   "outputs": [],
   "source": []
  }
 ],
 "metadata": {
  "kernelspec": {
   "display_name": "Python 3 (ipykernel)",
   "language": "python",
   "name": "python3"
  },
  "language_info": {
   "codemirror_mode": {
    "name": "ipython",
    "version": 3
   },
   "file_extension": ".py",
   "mimetype": "text/x-python",
   "name": "python",
   "nbconvert_exporter": "python",
   "pygments_lexer": "ipython3",
   "version": "3.8.12"
  }
 },
 "nbformat": 4,
 "nbformat_minor": 5
}
